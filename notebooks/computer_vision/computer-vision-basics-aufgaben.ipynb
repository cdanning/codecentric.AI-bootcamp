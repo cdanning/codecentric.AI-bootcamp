{
 "cells": [
  {
   "cell_type": "markdown",
   "metadata": {},
   "source": [
    "# codecentric.AI Bootcamp\n",
    "## Aufgaben: Computer Vision Basics"
   ]
  },
  {
   "cell_type": "code",
   "execution_count": null,
   "metadata": {},
   "outputs": [],
   "source": [
    "%matplotlib inline\n",
    "\n",
    "import cv2\n",
    "import numpy as np\n",
    "from matplotlib.pyplot import imshow\n",
    "from PIL import Image"
   ]
  },
  {
   "cell_type": "markdown",
   "metadata": {},
   "source": [
    "# Aufgabe 1:\n",
    "\n",
    "Vervollständige das Tic Tac Toe Spielfeld aus dem vorherigen Notebook:\n",
    "\n",
    "- zeichne 2 horizontale und 2 vertikale Linien\n",
    "- zeichne ins mittlere Feld ein rotes X\n",
    "- zeichne ins Feld links oben ein grünes O\n",
    "\n",
    "Nutze dafür die OpenCV-Funktionen `cv2.line()` und `cv2.circle`."
   ]
  },
  {
   "cell_type": "code",
   "execution_count": null,
   "metadata": {},
   "outputs": [],
   "source": [
    "width, height = 640, 480\n",
    "color = (255, 255, 255)  # (255, 255, 255) entspricht weiss\n",
    "\n",
    "# erzeuge eine schwarze leinwand mit 640 x 480px x 3 Farbkäle\n",
    "# np.zeros(h,w,3) erzeugt einen 3 diminsionalen Numpy Array mit 8-Bit Integern (0-255) gefüllt mit Nullen\n",
    "canvas = np.zeros( (height, width, 3) , dtype=np.uint8)\n",
    "\n",
    "# zeichne eine Linie auf die Leinwand von links nach rechts\n",
    "canvas = cv2.line(canvas, (0, height//3), (width, height//3), color, thickness=3)\n",
    "\n",
    "## DEIN CODE\n",
    "\n",
    "imshow(canvas)"
   ]
  },
  {
   "cell_type": "markdown",
   "metadata": {},
   "source": [
    "# Aufgabe 2:\n",
    "\n",
    "Mit Hilfe des vorherigen Notebooks:\n",
    "\n",
    "- lade ein Bild von Dir (oder ein Bild aus dem Internet) in deine Jupyter Notebook Umgebung\n",
    "  - lustige Bilder zum experimentieren findest du z.B.: hier: https://knowyourmeme.com/memes/facebomb/photos ;)\n",
    "- kopiere dazu die Datei(en) in den \"data\" Ordner, damit sie im Docker Container sichtbar sind\n",
    "  - dieser Pfad ist in den Docker Container gemountet\n",
    "  - innerhalb des docker Containers ist der Pfad dann unter /data/ ereichbar\n",
    "- Versuche nun ähnlich wie bei unserem Augen-Beispiel in dem Bild ein Gesicht bzw. Gesichter zu finden\n",
    "\n",
    "Dazu musst du einen anderen Cascade Classifier verwenden (z.B. haarcascade_frontalface_default.xml). Ausserdem musst du darauf achten, dass das Gesicht möglichst gerade und frontal in die Kamera schaut. Evtl. musst duch auch mit den Parametern für scaleFactor und minNeighbors experimentieren, bis du ein gutes Ergebnis bekommst.\n",
    "\n",
    "Hinweis:\n",
    "\n",
    "Die Haar Cascade Classifier sind zwar sehr schnell - aber nicht besonders genau. Es ist zu erwarten, dass dein Detektor evtl. nicht gut funktioniert. In späteren Kapiteln lernen wir Methoden kennen, die zuverlässigere Ergebnisse liefern ...\n"
   ]
  },
  {
   "cell_type": "code",
   "execution_count": null,
   "metadata": {},
   "outputs": [],
   "source": [
    "# wenn man ein ! voran stellt führt Jupyter einen shell Befehl aus. Hier also ein ls -al im Docker Container für den /data/ Pfad\n",
    "# das ist sehr praktisch - so kann man zum Beispiel auch einfach mit !wget Dateien aus dem Internet in den Container laden.\n",
    "!ls -al /data/"
   ]
  },
  {
   "cell_type": "code",
   "execution_count": null,
   "metadata": {},
   "outputs": [],
   "source": [
    "cascade = cv2.CascadeClassifier(...) \n",
    "face_orig = cv2.imread(...)\n",
    "\n",
    "## DEIN CODE"
   ]
  },
  {
   "cell_type": "markdown",
   "metadata": {},
   "source": [
    "Super, du hast die Grundlagen zu Computer Vision erfolgreich abgeschlossen :-)! \n",
    "\n",
    "Im nächsten Kapitel lernst du die Grundlagen zu neuronalen Netzen und Deep Learning. Mit diesen Algorithmen lassen sich Objekte in Bildern noch wesentlich genauer erkennen."
   ]
  }
 ],
 "metadata": {
  "kernelspec": {
   "display_name": "Python 3",
   "language": "python",
   "name": "python3"
  },
  "language_info": {
   "codemirror_mode": {
    "name": "ipython",
    "version": 3
   },
   "file_extension": ".py",
   "mimetype": "text/x-python",
   "name": "python",
   "nbconvert_exporter": "python",
   "pygments_lexer": "ipython3",
   "version": "3.6.6"
  }
 },
 "nbformat": 4,
 "nbformat_minor": 2
}
