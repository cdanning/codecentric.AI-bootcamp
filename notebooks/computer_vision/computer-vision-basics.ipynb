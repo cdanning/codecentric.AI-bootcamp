{
 "cells": [
  {
   "cell_type": "markdown",
   "metadata": {},
   "source": [
    "# codecentric.AI Bootcamp\n",
    "## Praxis: Computer Vision Basics\n",
    "\n",
    "Willkommen bei der Lektion zu Computer Vision Basics.\n",
    "\n",
    "Zuerst schauen wir uns ein paar Basis Befehle an, um Bilder zu laden und zu speichern. \n",
    "\n",
    "Um das Erklärvideo zu diesem Notebook zu laden, führe folgende Zelle aus:"
   ]
  },
  {
   "cell_type": "code",
   "execution_count": null,
   "metadata": {},
   "outputs": [],
   "source": [
    "# lade Video\n",
    "from IPython.display import IFrame    \n",
    "IFrame('https://www.youtube.com/embed/DRDJqNZXYo4', width=850, height=650)\n"
   ]
  },
  {
   "cell_type": "markdown",
   "metadata": {},
   "source": [
    "Um zur Erinnerung die Slides aus dem vorigen Video zu laden, führe die folgende Zelle aus:"
   ]
  },
  {
   "cell_type": "code",
   "execution_count": null,
   "metadata": {},
   "outputs": [],
   "source": [
    "# lade Slides\n",
    "from IPython.display import IFrame    \n",
    "IFrame('https://codecentric.slides.com/omoser/computer-vision-basics/', width=850, height=650)"
   ]
  },
  {
   "cell_type": "markdown",
   "metadata": {},
   "source": [
    "## Bilder laden\n",
    "\n",
    "Lade das Bild unter \"resources/test-bild.png\" und zeige es im Notebook an."
   ]
  },
  {
   "cell_type": "code",
   "execution_count": null,
   "metadata": {},
   "outputs": [],
   "source": [
    "%matplotlib inline\n",
    "\n",
    "import cv2\n",
    "import numpy as np\n",
    "from matplotlib.pyplot import imshow\n",
    "from PIL import Image\n"
   ]
  },
  {
   "cell_type": "code",
   "execution_count": null,
   "metadata": {},
   "outputs": [],
   "source": [
    "pil_im = Image.open('resources/test-bild.png', 'r')\n",
    "imshow(np.asarray(pil_im))"
   ]
  },
  {
   "cell_type": "markdown",
   "metadata": {},
   "source": [
    "### mit OpenCV laden\n",
    "\n",
    "Wir laden das gleiche Bild - diesmal mit OpenCV. \n",
    "Man sieht, dass die Farben unterschiedlich dargestellt werden.\n",
    "\n",
    "In OpenCV ist das default Farbschema BGR (und nicht RGB) - also Blau Grün Rot."
   ]
  },
  {
   "cell_type": "code",
   "execution_count": null,
   "metadata": {},
   "outputs": [],
   "source": [
    "img = cv2.imread(\"./resources/test-bild.png\")"
   ]
  },
  {
   "cell_type": "code",
   "execution_count": null,
   "metadata": {},
   "outputs": [],
   "source": [
    "imshow(img)"
   ]
  },
  {
   "cell_type": "markdown",
   "metadata": {},
   "source": [
    "Jetzt verändert wir das geladene Bild. Wir überschrieben den Bereich von x, y = (50, 50) bis x2, y2 = (250, 250)"
   ]
  },
  {
   "cell_type": "code",
   "execution_count": null,
   "metadata": {},
   "outputs": [],
   "source": [
    "img[50:250, 50:250, :] = (0, 0, 255)"
   ]
  },
  {
   "cell_type": "code",
   "execution_count": null,
   "metadata": {},
   "outputs": [],
   "source": [
    "imshow(img)"
   ]
  },
  {
   "cell_type": "markdown",
   "metadata": {},
   "source": [
    "Jetzt malen wir einen weißen Kreis in die Mitte des Bildes."
   ]
  },
  {
   "cell_type": "code",
   "execution_count": null,
   "metadata": {},
   "outputs": [],
   "source": [
    "height, width = img.shape[:2]\n",
    "img = cv2.circle(img, (width//2, height//2), 300, (255, 255, 255), thickness=-1)"
   ]
  },
  {
   "cell_type": "code",
   "execution_count": null,
   "metadata": {},
   "outputs": [],
   "source": [
    "imshow(img)"
   ]
  },
  {
   "cell_type": "markdown",
   "metadata": {},
   "source": [
    "## Bild abspeichern\n",
    "\n",
    "... und zur Überprüfung wieder laden und anzeigen."
   ]
  },
  {
   "cell_type": "code",
   "execution_count": null,
   "metadata": {},
   "outputs": [],
   "source": [
    "cv2.imwrite(\"/tmp/bild.png\", img)"
   ]
  },
  {
   "cell_type": "code",
   "execution_count": null,
   "metadata": {},
   "outputs": [],
   "source": [
    "test_bild = cv2.imread(\"/tmp/bild.png\")\n",
    "imshow(test_bild)"
   ]
  },
  {
   "cell_type": "markdown",
   "metadata": {},
   "source": [
    "## Ein Bild \"malen\"\n",
    "\n",
    "Wir malen ein Tic Tac Toe Spiel..."
   ]
  },
  {
   "cell_type": "code",
   "execution_count": null,
   "metadata": {},
   "outputs": [],
   "source": [
    "width, height = 640, 480\n",
    "color = (255, 255, 255)  # (255, 255, 255) entspricht weiss\n",
    "\n",
    "# erzeuge eine schwarze leinwand mit 640 x 480px x 3 Farbkäle\n",
    "# np.zeros(h,w,3) erzeugt einen 3 diminsionalen Numpy Array mit 8-Bit Integern (0-255) gefüllt mit Nullen\n",
    "canvas = np.zeros( (height, width, 3) , dtype=np.uint8)\n",
    "\n",
    "# zeichne eine Linie auf die Leinwand von links nach rechts\n",
    "canvas = cv2.line(canvas, (0, height//3), (width, height//3), color, thickness=3)"
   ]
  },
  {
   "cell_type": "code",
   "execution_count": null,
   "metadata": {},
   "outputs": [],
   "source": [
    "imshow(canvas)"
   ]
  },
  {
   "cell_type": "code",
   "execution_count": null,
   "metadata": {},
   "outputs": [],
   "source": [
    "# zeichne Linie von oben nach unten\n",
    "canvas = cv2.line(canvas, (width//3, 0), (width//3, height), color, thickness=3)\n",
    "imshow(canvas)"
   ]
  },
  {
   "cell_type": "markdown",
   "metadata": {},
   "source": [
    "# Einen Detector verwenden\n",
    "\n",
    "Jetzt nutzen wir einen \"standard\" Detektor aus der OpenCV Library um Augen in einem Gesicht zu finden.\n",
    "\n",
    "Die Datei haarcascade_eye.xml wird mit OpenCV mitgeliefert und enthält den \"Detector\", um Augen in einem Bild zu finden:"
   ]
  },
  {
   "cell_type": "code",
   "execution_count": null,
   "metadata": {},
   "outputs": [],
   "source": [
    "cascade = cv2.CascadeClassifier('/usr/local/lib/python3.6/site-packages/cv2/data/haarcascade_eye.xml') \n",
    "face_orig = cv2.imread(\"./resources/frau.png\")"
   ]
  },
  {
   "cell_type": "code",
   "execution_count": null,
   "metadata": {},
   "outputs": [],
   "source": [
    "# die Methode detectMultiScale scannt mehrfach das Bild mit einem Sliding Window und variert dabei \n",
    "# die Größe um den Faktor \"scaleFactor\"\n",
    "# der Parameter \"minNeighbors\" sagt wieviele Detektions mind. in einer Region vorhanden sein müssen\n",
    "# damit es als Detektion gilt (je mehr desto \"sicherer\" falschen Detections)\n",
    "\n",
    "eyes = cascade.detectMultiScale(face_orig, 1.05, 5)\n",
    "\n",
    "if len(eyes) > 0:\n",
    "    print(\"Augen gefunden: {0}\".format(eyes))\n",
    "    for x, y, w, h in eyes:\n",
    "        # wenn Augen gefunden wurden, zeichnen wir ein Rechteck an diese Stelle\n",
    "        cv2.rectangle(face_orig, (x, y), (x+w, y+h), (255, 0, 0), 3)"
   ]
  },
  {
   "cell_type": "code",
   "execution_count": null,
   "metadata": {},
   "outputs": [],
   "source": [
    "# um das Bild größer anzeigen zu können konfigurieren wir die \"figure size\" von matplotlib\n",
    "from matplotlib.pyplot import figure\n",
    "figure(num=None, figsize=(16, 12))\n",
    "\n",
    "# jetzt konvertieren wir das Bild in den richtigen Farbraum und zeigen es an \n",
    "face_rgb = cv2.cvtColor(face_orig, cv2.COLOR_BGR2RGB)\n",
    "imshow(face_rgb)"
   ]
  },
  {
   "cell_type": "code",
   "execution_count": null,
   "metadata": {},
   "outputs": [],
   "source": []
  }
 ],
 "metadata": {
  "kernelspec": {
   "display_name": "Python 3",
   "language": "python",
   "name": "python3"
  },
  "language_info": {
   "codemirror_mode": {
    "name": "ipython",
    "version": 3
   },
   "file_extension": ".py",
   "mimetype": "text/x-python",
   "name": "python",
   "nbconvert_exporter": "python",
   "pygments_lexer": "ipython3",
   "version": "3.6.6"
  }
 },
 "nbformat": 4,
 "nbformat_minor": 2
}
