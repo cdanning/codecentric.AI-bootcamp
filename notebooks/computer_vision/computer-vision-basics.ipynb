{
 "cells": [
  {
   "cell_type": "markdown",
   "metadata": {},
   "source": [
    "# codecentric.AI Bootcamp\n",
    "## Praxis: Computer Vision Basics\n",
    "\n",
    "Willkommen bei der Lektion zu Computer Vision Basics.\n",
    "\n",
    "In diesem Notebook lernen wir\n",
    "- Bilder zu laden,\n",
    "- Bilder abzuspeichern,\n",
    "- Grundlegende Formen in Bildern zu zeichnen,\n",
    "- und Augen in Bildern zu erkennen.\n",
    "\n",
    "Um das Erklärvideo zu diesem Notebook zu laden, führe folgende Zelle aus oder öffne das Video in einem neuen Tab ( https://www.youtube.com/embed/DRDJqNZXYo4 ):"
   ]
  },
  {
   "cell_type": "code",
   "execution_count": null,
   "metadata": {},
   "outputs": [],
   "source": [
    "# lade Video\n",
    "from IPython.display import IFrame    \n",
    "IFrame('https://www.youtube.com/embed/DRDJqNZXYo4', width=850, height=650)"
   ]
  },
  {
   "cell_type": "markdown",
   "metadata": {},
   "source": [
    "Um die Slides aus dem vorigen Video zu laden, führe die folgende Zelle aus:"
   ]
  },
  {
   "cell_type": "code",
   "execution_count": null,
   "metadata": {
    "scrolled": true
   },
   "outputs": [],
   "source": [
    "# lade Slides\n",
    "from IPython.display import IFrame    \n",
    "IFrame('https://codecentric.slides.com/omoser/computer-vision-basics/', width=850, height=650)"
   ]
  },
  {
   "cell_type": "markdown",
   "metadata": {},
   "source": [
    "Zu Beginn schauen wir uns nun ein paar grundlegende Befehle an, um Bilder zu laden und zu speichern. "
   ]
  },
  {
   "cell_type": "markdown",
   "metadata": {},
   "source": [
    "## Bilder laden\n",
    "\n",
    "Laden des Bilds unter \"resources/test-bild.png\" und Darstellung im Jupyter Notebook."
   ]
  },
  {
   "cell_type": "code",
   "execution_count": null,
   "metadata": {},
   "outputs": [],
   "source": [
    "%matplotlib inline\n",
    "\n",
    "import cv2\n",
    "import numpy as np\n",
    "from matplotlib.pyplot import imshow\n",
    "from PIL import Image"
   ]
  },
  {
   "cell_type": "code",
   "execution_count": null,
   "metadata": {},
   "outputs": [],
   "source": [
    "pil_im = Image.open('resources/test-bild.png', 'r')\n",
    "imshow(np.asarray(pil_im))"
   ]
  },
  {
   "cell_type": "markdown",
   "metadata": {},
   "source": [
    "### Bilder mit OpenCV laden\n",
    "\n",
    "Nun laden wir das gleiche Bild - diesmal aber mit OpenCV. \n",
    "Man sieht, dass die Farben unterschiedlich dargestellt werden.\n",
    "\n",
    "In OpenCV ist das standardmäßig eingestellte Farbschema BGR (und nicht RGB) - also Blau Grün Rot."
   ]
  },
  {
   "cell_type": "code",
   "execution_count": null,
   "metadata": {},
   "outputs": [],
   "source": [
    "img = cv2.imread(\"./resources/test-bild.png\")"
   ]
  },
  {
   "cell_type": "code",
   "execution_count": null,
   "metadata": {},
   "outputs": [],
   "source": [
    "imshow(img)"
   ]
  },
  {
   "cell_type": "markdown",
   "metadata": {},
   "source": [
    "Jetzt verändern wir das geladene Bild. Wir überschreiben den Bereich von den Koordinaten x, y = (50, 50) bis x2, y2 = (250, 250) mit einem blauen Rechteck. Die Farbe ergibt sich aus Rot=0, Grün=0, Blau=255."
   ]
  },
  {
   "cell_type": "code",
   "execution_count": null,
   "metadata": {},
   "outputs": [],
   "source": [
    "img[50:250, 50:250, :] = (0, 0, 255)"
   ]
  },
  {
   "cell_type": "code",
   "execution_count": null,
   "metadata": {},
   "outputs": [],
   "source": [
    "imshow(img)"
   ]
  },
  {
   "cell_type": "markdown",
   "metadata": {},
   "source": [
    "Mit der Funktion `cv2.circle()` können wir einen weißen Kreis zeichnen. Wir zeichnen ihn im Folgenden in die Mitte des Bildes."
   ]
  },
  {
   "cell_type": "code",
   "execution_count": null,
   "metadata": {},
   "outputs": [],
   "source": [
    "height, width = img.shape[:2]\n",
    "img = cv2.circle(img, (width//2, height//2), 300, (255, 255, 255), thickness=-1)"
   ]
  },
  {
   "cell_type": "code",
   "execution_count": null,
   "metadata": {},
   "outputs": [],
   "source": [
    "imshow(img)"
   ]
  },
  {
   "cell_type": "markdown",
   "metadata": {},
   "source": [
    "## Bilder abspeichern"
   ]
  },
  {
   "cell_type": "code",
   "execution_count": null,
   "metadata": {},
   "outputs": [],
   "source": [
    "cv2.imwrite(\"/tmp/bild.png\", img)"
   ]
  },
  {
   "cell_type": "markdown",
   "metadata": {},
   "source": [
    "Zur Überprüfung der erfolgreichen Speicherung laden und zeigen wir das Bild nun wieder an."
   ]
  },
  {
   "cell_type": "code",
   "execution_count": null,
   "metadata": {},
   "outputs": [],
   "source": [
    "test_bild = cv2.imread(\"/tmp/bild.png\")\n",
    "imshow(test_bild)"
   ]
  },
  {
   "cell_type": "markdown",
   "metadata": {},
   "source": [
    "## Bilder zeichnen\n",
    "\n",
    "Nun zeichnen wir das Raster eines Tic Tac Toe Spiels..."
   ]
  },
  {
   "cell_type": "code",
   "execution_count": null,
   "metadata": {},
   "outputs": [],
   "source": [
    "width, height = 640, 480\n",
    "color = (255, 255, 255)  # (255, 255, 255) entspricht weiss\n",
    "\n",
    "# Erzeugen einer schwarze Leinwand mit 640 x 480px x 3 Farbkanälen\n",
    "# np.zeros(h,w,3) erzeugt einen 3 dimensionalen Numpy Array mit 8-Bit Integern (0-255) mit Nullen gefüllt\n",
    "canvas = np.zeros( (height, width, 3) , dtype=np.uint8)\n",
    "\n",
    "# Zeichnen einer Linie auf die Leinwand - von links nach rechts\n",
    "canvas = cv2.line(canvas, (0, height//3), (width, height//3), color, thickness=3)"
   ]
  },
  {
   "cell_type": "code",
   "execution_count": null,
   "metadata": {},
   "outputs": [],
   "source": [
    "imshow(canvas)"
   ]
  },
  {
   "cell_type": "code",
   "execution_count": null,
   "metadata": {},
   "outputs": [],
   "source": [
    "# Zeichnen einer Linie von oben nach unten\n",
    "canvas = cv2.line(canvas, (width//3, 0), (width//3, height), color, thickness=3)\n",
    "imshow(canvas)"
   ]
  },
  {
   "cell_type": "markdown",
   "metadata": {},
   "source": [
    "## Objekte in einem Bild mit einem Detektor erkennen\n",
    "\n",
    "Nun nutzen wir einen Standard-Detektor aus der OpenCV-Bibliothek, um Augen in einem Gesicht zu finden.\n",
    "\n",
    "Die Datei `haarcascade_eye.xml` wird mit OpenCV mitgeliefert und enthält einen \"Detektor\", um Augen in einem Bild zu erkennen und zu lokalisieren:"
   ]
  },
  {
   "cell_type": "code",
   "execution_count": null,
   "metadata": {},
   "outputs": [],
   "source": [
    "cascade = cv2.CascadeClassifier('/usr/local/lib/python3.6/site-packages/cv2/data/haarcascade_eye.xml') \n",
    "face_orig = cv2.imread(\"./resources/frau.png\")"
   ]
  },
  {
   "cell_type": "markdown",
   "metadata": {},
   "source": [
    "Die Methode `detectMultiScale` scannt mehrfach das Bild mit einem gleitenden Fenster ab und variert dabei die Größe des Fensters um den Faktor `scaleFactor`.\n",
    "\n",
    "Mit dem Parameter `minNeighbors` kann eingestellt werden, wie viele Detektionen mind. in einer Region vorhanden sein müssen, damit es tatsächlich als Detektion bewertet wird - je mehr, desto wahrscheinlicher handelt es sich um falsche Detektionen."
   ]
  },
  {
   "cell_type": "code",
   "execution_count": null,
   "metadata": {},
   "outputs": [],
   "source": [
    "eyes = cascade.detectMultiScale(face_orig, 1.05, 5)\n",
    "\n",
    "if len(eyes) > 0:\n",
    "    print(\"Augen gefunden: {0}\".format(eyes))\n",
    "    for x, y, w, h in eyes:\n",
    "        # wenn Augen gefunden wurden, zeichnen wir ein Rechteck an diese Stelle\n",
    "        cv2.rectangle(face_orig, (x, y), (x+w, y+h), (255, 0, 0), 3)"
   ]
  },
  {
   "cell_type": "markdown",
   "metadata": {},
   "source": [
    "Um das Bild größer darstellen zu können, können wir die `figure size` von matplotlib einstellen. Anschließend konvertieren wir das Bild in den \"richtigen\" Farbraum und zeigen es an. "
   ]
  },
  {
   "cell_type": "code",
   "execution_count": null,
   "metadata": {},
   "outputs": [],
   "source": [
    "from matplotlib.pyplot import figure\n",
    "figure(num=None, figsize=(16, 12))\n",
    "\n",
    "# RGB-Konvertierung und Darstellung des Bilds\n",
    "face_rgb = cv2.cvtColor(face_orig, cv2.COLOR_BGR2RGB)\n",
    "imshow(face_rgb)"
   ]
  }
 ],
 "metadata": {
  "kernelspec": {
   "display_name": "Python 3",
   "language": "python",
   "name": "python3"
  },
  "language_info": {
   "codemirror_mode": {
    "name": "ipython",
    "version": 3
   },
   "file_extension": ".py",
   "mimetype": "text/x-python",
   "name": "python",
   "nbconvert_exporter": "python",
   "pygments_lexer": "ipython3",
   "version": "3.6.6"
  }
 },
 "nbformat": 4,
 "nbformat_minor": 2
}
