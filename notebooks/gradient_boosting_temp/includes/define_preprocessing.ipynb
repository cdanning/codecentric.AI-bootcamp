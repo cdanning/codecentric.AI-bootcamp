{
 "cells": [
  {
   "cell_type": "code",
   "execution_count": null,
   "metadata": {},
   "outputs": [],
   "source": [
    "PREPROCESSED_CACHE_FILE = \"speech_analysis_cache.pickle\"\n",
    "PREPROCESSED_CACHE_PATH = os.path.join(DATA_FOLDER, PREPROCESSED_CACHE_FILE)\n",
    "\n",
    "def load_cached_or_preprocess(data):\n",
    "    if os.path.isfile(PREPROCESSED_CACHE_PATH):\n",
    "        return pd.read_pickle(PREPROCESSED_CACHE_PATH)\n",
    "    else:\n",
    "        preprocessed = df.speech.map(preprocess)\n",
    "        \n",
    "        df[\"tokens\"] = preprocessed.apply(lambda x: x[0])\n",
    "        df[\"lemmata\"] = preprocessed.apply(lambda x: x[1])\n",
    "        \n",
    "        df.to_pickle(PREPROCESSED_CACHE_PATH)\n",
    "        return df"
   ]
  }
 ],
 "metadata": {
  "kernelspec": {
   "display_name": "Python 3",
   "language": "python",
   "name": "python3"
  },
  "language_info": {
   "codemirror_mode": {
    "name": "ipython",
    "version": 3
   },
   "file_extension": ".py",
   "mimetype": "text/x-python",
   "name": "python",
   "nbconvert_exporter": "python",
   "pygments_lexer": "ipython3",
   "version": "3.6.7"
  }
 },
 "nbformat": 4,
 "nbformat_minor": 2
}
