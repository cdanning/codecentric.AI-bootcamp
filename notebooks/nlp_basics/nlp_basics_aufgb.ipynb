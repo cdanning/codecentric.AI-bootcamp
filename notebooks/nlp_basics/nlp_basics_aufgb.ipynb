{
 "cells": [
  {
   "cell_type": "markdown",
   "metadata": {
    "ein.tags": "worksheet-0",
    "slideshow": {
     "slide_type": "-"
    }
   },
   "source": [
    "# codecentric.AI Bootcamp - NLP"
   ]
  },
  {
   "cell_type": "markdown",
   "metadata": {
    "ein.tags": "worksheet-0",
    "slideshow": {
     "slide_type": "-"
    }
   },
   "source": [
    "*Hallo und herzlich willkommen zum codecentric.AI bootcamp!*\n",
    "\n",
    "Im Tutorial haben wir bereits eine Anwendung von NLP vorgestellt. Nun wollen wir Dich in einem\n",
    "praktischen Teil dazu einladen, selbst ein paar typische NLP-Techniken auszuprobieren und zu implementieren. Dabei erfährst Du,\n",
    "\n",
    "1. wie elegant sich N-Gramme in Python extrahieren lassen,\n",
    "2. wieviel Stopp-Wörter Politiker verwenden,\n",
    "3. wie man in wenigen Zeilen \"Wer fällt aus der Reihe?\" programmiert,\n",
    "4. was sich hinter dem tf-idf-Maß verbirgt und wie man scikit-learn-Transformer verwendet.\n",
    "\n",
    "Damit es gleich losgehen kann, benötigen wir die folgenden Bibliotheken.\n",
    "\n",
    "*Viel Spaß!*"
   ]
  },
  {
   "cell_type": "code",
   "execution_count": 26,
   "metadata": {
    "autoscroll": false,
    "collapsed": false,
    "ein.hycell": false,
    "ein.tags": "worksheet-0",
    "slideshow": {
     "slide_type": "-"
    }
   },
   "outputs": [],
   "source": [
    "import os\n",
    "import numpy as np\n",
    "import pandas as pd\n",
    "import gensim\n",
    "\n",
    "import matplotlib.pyplot as plt\n",
    "import seaborn as sns\n",
    "%matplotlib inline\n",
    "%config InlineBackend.figure_format = 'svg'\n",
    "sns.set()"
   ]
  },
  {
   "cell_type": "markdown",
   "metadata": {
    "ein.tags": "worksheet-0",
    "slideshow": {
     "slide_type": "-"
    }
   },
   "source": [
    "## Aufgabe 1: Von einzelnen Wörtern zu Wortgruppen"
   ]
  },
  {
   "cell_type": "markdown",
   "metadata": {
    "ein.tags": "worksheet-0",
    "slideshow": {
     "slide_type": "-"
    }
   },
   "source": [
    "Als erste Möglichkeit, einen Text zu analysieren, haben wir uns dessen *einzelne Wörter* beziehungsweise dessen bag of words angeschaut. Oft ist es hilfreich, zusätzlich *Wortgruppen* anzuschauen, etwa alle auftretenden Wortpaare. Für den Beispielsatz\n",
    "\n",
    "> \"Fischers Fritz fischt frische Fische\"\n",
    "\n",
    "wären das also\n",
    "\n",
    "> \"Fischers Fritz\", \"Fritz fischt\", \"fischt frische\", \"frische Fische\".\n",
    "\n",
    "Allgemein bezeichnet man als [N-Gramm](https://de.wikipedia.org/wiki/N-Gramm) ein Tupel von N aufeinander folgenden Token. Ist N=2 wie im Beispiel, so spricht man von _Bigrammen_."
   ]
  },
  {
   "cell_type": "markdown",
   "metadata": {
    "ein.tags": "worksheet-0",
    "slideshow": {
     "slide_type": "-"
    }
   },
   "source": [
    "### (a)  Bigramme extrahieren"
   ]
  },
  {
   "cell_type": "markdown",
   "metadata": {
    "ein.tags": "worksheet-0",
    "slideshow": {
     "slide_type": "-"
    }
   },
   "source": [
    "Schreibe eine Funktion `bigrams`, die eine Liste `words` von Wörtern als Eingabe nimmt und die Menge aller auftretenden Bigramme zurückgibt. Tipp: Verwende `zip`!"
   ]
  },
  {
   "cell_type": "code",
   "execution_count": null,
   "metadata": {
    "autoscroll": false,
    "collapsed": false,
    "ein.hycell": false,
    "ein.tags": "worksheet-0",
    "slideshow": {
     "slide_type": "-"
    }
   },
   "outputs": [],
   "source": [
    "def bigrams(words):\n",
    "    return set(zip(words[:-1], words[1:]))"
   ]
  },
  {
   "cell_type": "code",
   "execution_count": null,
   "metadata": {
    "autoscroll": false,
    "collapsed": false,
    "ein.hycell": false,
    "ein.tags": "worksheet-0",
    "slideshow": {
     "slide_type": "-"
    }
   },
   "outputs": [],
   "source": [
    "WORDS = [\"Fischers\", \"Fritz\", \"fischt\", \"frische\", \"Fische\"]\n",
    "bigrams(WORDS)"
   ]
  },
  {
   "cell_type": "markdown",
   "metadata": {
    "ein.tags": "worksheet-0",
    "slideshow": {
     "slide_type": "-"
    }
   },
   "source": [
    "### (b) N-Gramme extrahieren"
   ]
  },
  {
   "cell_type": "markdown",
   "metadata": {
    "ein.tags": "worksheet-0",
    "slideshow": {
     "slide_type": "-"
    }
   },
   "source": [
    "Schreibe nun eine Funktion `ngrams`, die eine Liste `words` von Wörtern und eine Zahl `n` erwartet und die Menge aller n-Gramme zurückgibt. Tipp: mit `zip(*iters)` kann man `zip` auf eine ganze Liste `iters` von `Iterable`s anwenden. "
   ]
  },
  {
   "cell_type": "code",
   "execution_count": null,
   "metadata": {
    "autoscroll": false,
    "collapsed": false,
    "ein.hycell": false,
    "ein.tags": "worksheet-0",
    "slideshow": {
     "slide_type": "-"
    }
   },
   "outputs": [],
   "source": [
    "def ngrams(words, n):\n",
    "    l = len(words) - n + 1\n",
    "    return set(zip(*[words[i:l + i] for i in range(0,n)]))"
   ]
  },
  {
   "cell_type": "code",
   "execution_count": null,
   "metadata": {
    "autoscroll": false,
    "collapsed": false,
    "ein.hycell": false,
    "ein.tags": "worksheet-0",
    "slideshow": {
     "slide_type": "-"
    }
   },
   "outputs": [],
   "source": [
    "ngrams(WORDS,3)"
   ]
  },
  {
   "cell_type": "markdown",
   "metadata": {
    "ein.tags": "worksheet-0",
    "slideshow": {
     "slide_type": "-"
    }
   },
   "source": [
    "## Aufgabe 2: Wer verwendet die meisten Stopp-Wörter?"
   ]
  },
  {
   "cell_type": "markdown",
   "metadata": {
    "ein.tags": "worksheet-0",
    "slideshow": {
     "slide_type": "-"
    }
   },
   "source": [
    "Ein üblicher Arbeitsschritt bei NLP ist die Entfernung sogenannter [Stopp-Wörter](https://de.wikipedia.org/wiki/Stoppwort), die häufig auftreten, aber für den Anwendungsfall keine wesentliche Informationen beinhalten. Wir testen, wieviel Stopp-Wörter in den Reden auftauchen, die wir im Tutorial klassifiziert hatten. Dazu lesen wir die Reden nochmal ein:"
   ]
  },
  {
   "cell_type": "code",
   "execution_count": null,
   "metadata": {
    "autoscroll": false,
    "collapsed": false,
    "ein.hycell": false,
    "ein.tags": "worksheet-0",
    "slideshow": {
     "slide_type": "-"
    }
   },
   "outputs": [],
   "source": [
    "DATA_PATH = \"data\"\n",
    "DATASET = \"Bundesregierung.xml\"\n",
    "ANALYSIS_FILE = DATASET.replace(\".xml\", \".pickle\")\n",
    "ANALYSIS_PATH = os.path.join(DATA_PATH, ANALYSIS_FILE)\n",
    "\n",
    "df = pd.read_pickle(ANALYSIS_PATH)"
   ]
  },
  {
   "cell_type": "markdown",
   "metadata": {
    "ein.tags": "worksheet-0",
    "slideshow": {
     "slide_type": "-"
    }
   },
   "source": [
    "### (a) Stopp-Wörter filtern "
   ]
  },
  {
   "cell_type": "markdown",
   "metadata": {
    "ein.tags": "worksheet-0",
    "slideshow": {
     "slide_type": "-"
    }
   },
   "source": [
    "Eine Liste von 231 Stopp-Wörtern ist in [NLTK](https://www.nltk.org/) enthalten. Wir haben diese Stopp-Wörter zeilenweise in der Datei `data/stopwords_nltk.txt` abgespeichert. Schreibe\n",
    "\n",
    "- eine Funktion `read_stopwords`, die die Liste der Stopp-Wörter einliest und als Menge zurückgibt,\n",
    "- eine Funktion  `filter_words`, die aus einer Liste `words` alle Wörter ausfiltert, die in `stopwords` enthalten sind, und die bereinigte Liste zurückgibt. \n",
    "\n",
    "Tips:\n",
    "\n",
    "- Öffne die Datei der Stopwörter mit der Option `encoding=\"utf-8\"`.\n",
    "- Benutze gegebenenfalls die Methode [rstrip](https://docs.python.org/3/library/stdtypes.html), um Zeilenumbrüche von eingelesenen Strings zu entfernen.\n",
    "- `filter_words` sollte ein Einzeiler sein."
   ]
  },
  {
   "cell_type": "code",
   "execution_count": null,
   "metadata": {
    "autoscroll": false,
    "collapsed": false,
    "ein.hycell": false,
    "ein.tags": "worksheet-0",
    "slideshow": {
     "slide_type": "-"
    }
   },
   "outputs": [],
   "source": [
    "STOPWORDS_FILE = \"stopwords_nltk.txt\"\n",
    "STOPWORDS_PATH = os.path.join(DATA_PATH, STOPWORDS_FILE)\n",
    "\n",
    "def read_stopwords(filename = STOPWORDS_PATH):\n",
    "    with open(filename, mode=\"r\", encoding=\"utf-8\") as file:\n",
    "        words = set([word.rstrip(\"\\n\") for word in file])\n",
    "    return words\n",
    "\n",
    "def filter_words(words, stopwords):\n",
    "    return [w for w in words if w not in stopwords]"
   ]
  },
  {
   "cell_type": "markdown",
   "metadata": {
    "ein.tags": "worksheet-0",
    "slideshow": {
     "slide_type": "-"
    }
   },
   "source": [
    "Teste Deine Funktionen wie folgt:"
   ]
  },
  {
   "cell_type": "code",
   "execution_count": null,
   "metadata": {
    "autoscroll": false,
    "collapsed": false,
    "ein.hycell": false,
    "ein.tags": "worksheet-0",
    "slideshow": {
     "slide_type": "-"
    }
   },
   "outputs": [],
   "source": [
    "EXAMPLE = [\"Das\", \"ist\", \"ein\", \"ganz\", \"und\", \"gar\", \"normaler\", \"Satz\", \"mit\", \"vielen\", \"Wörtern\"]\n",
    "stopwords = read_stopwords()\n",
    "filter_words(EXAMPLE, stopwords)"
   ]
  },
  {
   "cell_type": "markdown",
   "metadata": {
    "ein.tags": "worksheet-0",
    "slideshow": {
     "slide_type": "-"
    }
   },
   "source": [
    "### (b) Anwendung auf die Reden"
   ]
  },
  {
   "cell_type": "markdown",
   "metadata": {
    "ein.tags": "worksheet-0",
    "slideshow": {
     "slide_type": "-"
    }
   },
   "source": [
    "Füge nun dem pandas-DataFrame `df` eine Spalte `filtered_tokens` hinzu, die für jede Rede die Liste der Token enthält, aus denen die Stopp-Wörter entfernt wurden.\n"
   ]
  },
  {
   "cell_type": "code",
   "execution_count": null,
   "metadata": {
    "autoscroll": false,
    "collapsed": false,
    "ein.hycell": false,
    "ein.tags": "worksheet-0",
    "slideshow": {
     "slide_type": "-"
    }
   },
   "outputs": [],
   "source": [
    "df[\"filtered_tokens\"] = df[\"tokens\"].map(lambda t: filter_words(t, stopwords))\n",
    "df.head()"
   ]
  },
  {
   "cell_type": "markdown",
   "metadata": {
    "ein.tags": "worksheet-0",
    "slideshow": {
     "slide_type": "-"
    }
   },
   "source": [
    "Füge als Nächstes `df` eine Spalte `stop_percentage` hinzu, die für jede Rede angibt, wieviel Prozent der Rede Stopp-Wörter waren."
   ]
  },
  {
   "cell_type": "code",
   "execution_count": null,
   "metadata": {
    "autoscroll": false,
    "collapsed": false,
    "ein.hycell": false,
    "ein.tags": "worksheet-0",
    "slideshow": {
     "slide_type": "-"
    }
   },
   "outputs": [],
   "source": [
    "df[\"stop_percentage\"] = (1- df[\"filtered_tokens\"].map(len) / df[\"tokens\"].map(len)) * 100 \n",
    "df.head()"
   ]
  },
  {
   "cell_type": "markdown",
   "metadata": {
    "ein.tags": "worksheet-0",
    "slideshow": {
     "slide_type": "-"
    }
   },
   "source": [
    "### (d) Stopp-Wort-Anteile visualisieren"
   ]
  },
  {
   "cell_type": "markdown",
   "metadata": {
    "ein.tags": "worksheet-0",
    "slideshow": {
     "slide_type": "-"
    }
   },
   "source": [
    "Plotte abschließend den prozentualen Anteil an Stopp-Wörtern in den Redern nach Politikern gruppiert in einem geeigneten. Wodurch fallen Kanzler auf?\n",
    "\n",
    "Tipp: Verwende [kategorielle Plot-Funktionen](https://seaborn.pydata.org/tutorial/categorical.html) von seaborn oder schau im Tutorial nach."
   ]
  },
  {
   "cell_type": "code",
   "execution_count": 25,
   "metadata": {
    "autoscroll": false,
    "collapsed": false,
    "ein.hycell": false,
    "ein.tags": "worksheet-0",
    "slideshow": {
     "slide_type": "-"
    }
   },
   "outputs": [
    {
     "data": {
      "image/png": "[encoded data removed]",
      "text/plain": [
       "<Figure size 432x288 with 1 Axes>"
      ]
     },
     "metadata": {},
     "output_type": "display_data"
    }
   ],
   "source": [
    "_ = sns.boxenplot(y=\"person\", x=\"stop_percentage\", data=df)"
   ]
  },
  {
   "cell_type": "markdown",
   "metadata": {
    "ein.tags": "worksheet-0",
    "slideshow": {
     "slide_type": "-"
    }
   },
   "source": [
    "## Aufgabe 3: Wer fällt aus der Reihe?"
   ]
  },
  {
   "cell_type": "markdown",
   "metadata": {
    "ein.tags": "worksheet-0",
    "slideshow": {
     "slide_type": "-"
    }
   },
   "source": [
    "Word embeddings kann man nicht nur für ernsthaftes NLP verwenden, sondern auch, um Spaß zu haben. Im Tutorial hatten wir schon ein kleines Tabu-Spiel programmiert. Nun wollen wir in wenigen Zeilen eine Funktion `find_the_odd` schreiben, die aus einer Liste von Wörtern den Ausreißer herausfindet &mdash; das Wort, das aus der Reihe fällt. Zum Beispiel also\n",
    "\n",
    "> Fruehling, Sommer, Abend, Herbst\n",
    "> => Abend\n",
    "\n",
    "\n",
    "Dazu benötigen wir wieder die Wortvektoren aus der [Arbeit](https://devmount.github.io/GermanWordEmbeddings/) von [Andreas Müller](https://github.com/devmount)."
   ]
  },
  {
   "cell_type": "code",
   "execution_count": null,
   "metadata": {
    "autoscroll": false,
    "collapsed": false,
    "ein.hycell": false,
    "ein.tags": "worksheet-0",
    "slideshow": {
     "slide_type": "-"
    }
   },
   "outputs": [],
   "source": [
    "WV_PATH = \"data/german.model\"\n",
    "\n",
    "w2v = gensim.models.KeyedVectors.load_word2vec_format(WV_PATH, binary=True)"
   ]
  },
  {
   "cell_type": "markdown",
   "metadata": {
    "ein.tags": "worksheet-0",
    "slideshow": {
     "slide_type": "-"
    }
   },
   "source": [
    "### (a) Ähnlichkeitsmatrix berechnen"
   ]
  },
  {
   "cell_type": "markdown",
   "metadata": {
    "ein.tags": "worksheet-0",
    "slideshow": {
     "slide_type": "-"
    }
   },
   "source": [
    "Die Wortvektoren sind nun in als gensim-`KeyedVectors`-Objekt `w2v` verfügbar. Die Methode `similarity` berechnet zu gegebenen Wörtern nun deren [Cosinus-Ähnlichkeit](https://de.wikipedia.org/wiki/Kosinus-%C3%84hnlichkeit): 0 heißt keine Ähnlichkeit, 1 heißt Übereinstimmung."
   ]
  },
  {
   "cell_type": "code",
   "execution_count": null,
   "metadata": {
    "autoscroll": false,
    "collapsed": false,
    "ein.hycell": false,
    "ein.tags": "worksheet-0",
    "slideshow": {
     "slide_type": "-"
    }
   },
   "outputs": [],
   "source": [
    "w2v.similarity(\"Mensch\", \"Maschine\")"
   ]
  },
  {
   "cell_type": "markdown",
   "metadata": {
    "ein.tags": "worksheet-0",
    "slideshow": {
     "slide_type": "-"
    }
   },
   "source": [
    "Schreibe nun eine Funktion `similarity_matrix`, die eine Liste `words` von Wörtern als Eingabe nimmt und ein 2-dimensionales numpy-Array zurückliefert, dessen Eintrag an der Stelle `[i,j]` die Cosinus-Ähnlichkeit zwischen den Wörtern `words[i]` und `words[j]` ist. "
   ]
  },
  {
   "cell_type": "code",
   "execution_count": null,
   "metadata": {
    "autoscroll": false,
    "collapsed": false,
    "ein.hycell": false,
    "ein.tags": "worksheet-0",
    "slideshow": {
     "slide_type": "-"
    }
   },
   "outputs": [],
   "source": [
    "def similarity_matrix(words):\n",
    "    mat = np.zeros((len(words), len(words)))                   \n",
    "    for (i,v) in enumerate(words):\n",
    "        for (j,w) in enumerate(words):\n",
    "            mat[i,j] = w2v.similarity(v,w)\n",
    "    return mat"
   ]
  },
  {
   "cell_type": "markdown",
   "metadata": {
    "ein.tags": "worksheet-0",
    "slideshow": {
     "slide_type": "-"
    }
   },
   "source": [
    "Mit Hilfe der numpy-Funktion [asarray](https://docs.scipy.org/doc/numpy/reference/generated/numpy.asarray.html) und List-Komprehensionen geht das in zwei Zeilen:"
   ]
  },
  {
   "cell_type": "code",
   "execution_count": null,
   "metadata": {
    "autoscroll": false,
    "collapsed": false,
    "ein.hycell": false,
    "ein.tags": "worksheet-0",
    "slideshow": {
     "slide_type": "-"
    }
   },
   "outputs": [],
   "source": [
    "def similarity_matrix(words):\n",
    "    sims = [[[w2v.similarity(w1, w2)] for w1 in words] for w2 in words]\n",
    "    return np.asarray(sims)"
   ]
  },
  {
   "cell_type": "markdown",
   "metadata": {
    "ein.tags": "worksheet-0",
    "slideshow": {
     "slide_type": "-"
    }
   },
   "source": [
    "### (b) Ausreißer finden "
   ]
  },
  {
   "cell_type": "markdown",
   "metadata": {
    "ein.tags": "worksheet-0",
    "slideshow": {
     "slide_type": "-"
    }
   },
   "source": [
    "Um den Ausreißer in einer Liste `words` von Wörtern zu finden, können wir nun die Matrix `similarity_matrix(words)` nehmen und die Einträge jeder Zeile aufsummieren: die Zeile mit der kleinsten Summe entspricht dem Ausreißer. Schreibe eine Funktion `find_the_odd`, welche dies umsetzt. Hilfreich sind dabei die numpy-Funktionen [np.sum](https://docs.scipy.org/doc/numpy/reference/generated/numpy.sum.html) und [np.argmin](https://docs.scipy.org/doc/numpy/reference/generated/numpy.argmin.html)."
   ]
  },
  {
   "cell_type": "code",
   "execution_count": null,
   "metadata": {
    "autoscroll": false,
    "collapsed": false,
    "ein.hycell": false,
    "ein.tags": "worksheet-0",
    "slideshow": {
     "slide_type": "-"
    }
   },
   "outputs": [],
   "source": [
    "def find_the_odd(words):\n",
    "    return words[np.argmin(np.sum(similarity_matrix(words), axis=0))]"
   ]
  },
  {
   "cell_type": "markdown",
   "metadata": {
    "ein.tags": "worksheet-0",
    "slideshow": {
     "slide_type": "-"
    }
   },
   "source": [
    "### (c) Probier es aus! "
   ]
  },
  {
   "cell_type": "markdown",
   "metadata": {
    "ein.tags": "worksheet-0",
    "slideshow": {
     "slide_type": "-"
    }
   },
   "source": [
    "Teste nun Deine Funktion an folgenden Beispielen und denk Dir selber welche aus! Beachte dabei, dass alle Wörter groß geschrieben und die Umlaute `ä`, `ö`, `ü` sowie `ß` als `ae`, `oe`, `ue` beziehungsweise `ss`umgeschrieben werden müssen. "
   ]
  },
  {
   "cell_type": "code",
   "execution_count": null,
   "metadata": {
    "autoscroll": false,
    "collapsed": false,
    "ein.hycell": false,
    "ein.tags": "worksheet-0",
    "slideshow": {
     "slide_type": "-"
    }
   },
   "outputs": [],
   "source": [
    "ODDS = [[\"Fruehling\", \"Sommer\", \"Abend\", \"Herbst\"],\n",
    "        [\"Fruehstueck\", \"Oma\", \"Abendbrot\", \"Mittagessen\"],\n",
    "        [\"Rot\", \"Gruen\", \"Blau\", \"Maler\"],\n",
    "        [\"Hund\", \"Mensch\", \"Hase\", \"Katze\"],\n",
    "        [\"Tochter\", \"Mutter\", \"Grossmutter\", \"Cousine\"]\n",
    "    ]\n",
    "\n",
    "for odd_set in ODDS:\n",
    "    print(\", \".join(odd_set), \" => \", find_the_odd(odd_set))"
   ]
  },
  {
   "cell_type": "markdown",
   "metadata": {
    "ein.tags": "worksheet-0",
    "slideshow": {
     "slide_type": "-"
    }
   },
   "source": [
    "## Aufgabe 4"
   ]
  },
  {
   "cell_type": "markdown",
   "metadata": {
    "ein.tags": "worksheet-0",
    "slideshow": {
     "slide_type": "-"
    }
   },
   "source": [
    "### Intro tf-idf\n",
    "Im Tutorial haben wir bereits *bag of words* und *count* kennengelernt, zwei statistische Darstellungen der aus den Reden gewonnenen Features.\n",
    "Hier lernen wir weitere wichtige Darstellungen kennen:\n",
    "- Die *Vorkommenshäufigkeit*, welche im Englischen *term frequency* (*tf*) genannt wird, misst die \"Wichtigkeit\" eines Terms im enthaltenden Dokument.\n",
    "Bemerke jedoch, dass es häufige aber \"unwichtige\" Terme wie z.B. die Artikel _der_, _die_ und _das_ gibt.\n",
    "Um solche Effekte zu kontrollieren wird ein weiteres Maß verwendet.\n",
    "- Die *inverse Dokumentvorkommenshäufigkeit*, englisch *inverse document frequency* (*idf*), misst die Spezifischheit eines Terms in der gesamten zugrunde liegenden Dokumentmenge:\n",
    "Je häufiger, desto \"unwichtiger\".\n",
    "\n",
    "Beide werden kombiniert, siehe Wikipedia-Artikel zu [tf-idf](https://de.wikipedia.org/wiki/Tf-idf-Ma%C3%9F).\n",
    "Zusammen gilt ein Term einer Rede also als wichtig, wenn er in der Rede oft behandelt wird und gleichzeitig kein sonst üblicher Begriff ist."
   ]
  },
  {
   "cell_type": "markdown",
   "metadata": {
    "ein.tags": "worksheet-0",
    "slideshow": {
     "slide_type": "-"
    }
   },
   "source": [
    "### Aufwärmen\n",
    "\n",
    "In der Übung berechnen wir tf-idf-Werte für die Lemma-Features der Reden.\n",
    "Unser Ziel ist also eine Matrix `tfidf` der Dimension `numSpeeches x numLemmata`, welche für jedes Lemma jeder Rede den tf-idf-Wert in der entsprechenden Zelle speichert.\n",
    "Dafür greifen wir auf eine fertige tf-idf-Implementierung aus der [scikit-learn](https://scikit-learn.org/stable/)-Bibliothek zurück.\n",
    "Bei der Vervollständigung des folgenden Codes kann ggf. die Doku helfen."
   ]
  },
  {
   "cell_type": "code",
   "execution_count": null,
   "metadata": {
    "autoscroll": false,
    "collapsed": false,
    "ein.hycell": false,
    "ein.tags": "worksheet-0",
    "slideshow": {
     "slide_type": "-"
    }
   },
   "outputs": [],
   "source": [
    "from sklearn.feature_extraction.text import TfidfVectorizer\n",
    "#from sklearn.____ import TfidfVectorizer\n",
    "\n",
    "# Vorbereitung der Daten\n",
    "all_lemmas = list(set.union(*list(map(set, df.lemmata))))\n",
    "concatenated_lemma_lists = df.lemmata.apply(lambda lemma_list: str.join(\" \", lemma_list))\n",
    "\n",
    "vectorizer = TfidfVectorizer(vocabulary = all_lemmas)\n",
    "tfidf = vectorizer.fit_transform(concatenated_lemma_lists)\n",
    "#tfidf = TfidfVectorizer().fit_transform(____)\n",
    "\n",
    "assert all_lemmas == vectorizer.get_feature_names() # korrekte Verwendung des Vokabulars\n",
    "assert (len(df.lemmata), len(all_lemmas)) == tfidf.shape # korrekte Matrixdimensionen"
   ]
  },
  {
   "cell_type": "markdown",
   "metadata": {
    "ein.tags": "worksheet-0",
    "slideshow": {
     "slide_type": "-"
    }
   },
   "source": [
    "Jetzt können wir uns die wichtigsten Terme einer beliebigen Rede anschauen."
   ]
  },
  {
   "cell_type": "code",
   "execution_count": null,
   "metadata": {
    "autoscroll": false,
    "collapsed": false,
    "ein.hycell": false,
    "ein.tags": "worksheet-0",
    "slideshow": {
     "slide_type": "-"
    }
   },
   "outputs": [],
   "source": [
    "REDE = 10\n",
    "termsAndTfidfs = list(zip(df.lemmata[REDE], tfidf.toarray()[REDE]))\n",
    "termsAndTfidfs.sort(reverse = True, key = lambda termAndTfidf: termAndTfidf[1])\n",
    "termsAndTfidfs[:25]"
   ]
  },
  {
   "cell_type": "markdown",
   "metadata": {
    "ein.tags": "worksheet-0",
    "slideshow": {
     "slide_type": "-"
    }
   },
   "source": [
    "### Trainieren\n",
    "\n",
    "Nun möchten wir mit den gewonnenen tf-idf-Daten einen Bayesschen Klassifizierer trainieren.\n",
    "Die wesentlichen Schritte sind wie immer:\n",
    "1. Zerlegung in Trainings- und Testdaten.\n",
    "2. Das eigentliche Training.\n",
    "3. Testdaten verwenden, um die Qualität des Trainings zu beurteilen."
   ]
  },
  {
   "cell_type": "code",
   "execution_count": null,
   "metadata": {
    "autoscroll": false,
    "collapsed": false,
    "ein.hycell": false,
    "ein.tags": "worksheet-0",
    "slideshow": {
     "slide_type": "-"
    }
   },
   "outputs": [],
   "source": [
    "import numpy as np\n",
    "import seaborn as sns\n",
    "from sklearn.model_selection import train_test_split\n",
    "from sklearn.metrics import confusion_matrix\n",
    "from sklearn.naive_bayes import MultinomialNB\n",
    "\n",
    "# 1.\n",
    "# Zur Erinnerung: Die Namen der Redner*Innen sind in df[\"@person\"] gespeichert\n",
    "trainSpeeches, testSpeeches, trainSpeakers, testSpeakers = train_test_split(tfidf, df[\"@person\"], test_size = 0.3, random_state = 42)\n",
    "#trainSpeeches, testSpeeches, trainSpeakers, testSpeakers = ____(____, ____, test_size = 0.3, random_state = 42)\n",
    "\n",
    "# 2.\n",
    "classifier = MultinomialNB()\n",
    "classifier.fit(trainSpeeches, trainSpeakers)\n",
    "#classifier.____(____, ____)\n",
    "\n",
    "# 3.\n",
    "predictedSpeakers = classifier.predict(testSpeeches)\n",
    "#predictedSpeakers = classifier.____(____)\n",
    "accuracy = np.mean(testSpeakers == predictedSpeakers)\n",
    "speakers = np.unique(testSpeakers)\n",
    "speakers = df[\"@person\"].groupby(lambda )\n",
    "confusionMatrix = confusion_matrix(testSpeakers, predictedSpeakers, labels=speakers)\n",
    "speakers"
   ]
  },
  {
   "cell_type": "markdown",
   "metadata": {
    "ein.tags": "worksheet-0",
    "slideshow": {
     "slide_type": "-"
    }
   },
   "source": [
    "### Ergebnisse bewerten\n",
    "\n",
    "Es stellt sich heraus, dass keine zufriedenstellende Qualität erreicht wird.\n",
    "Die Accuracy ist schlecht.\n",
    "Im Plot der Confusion-Matrix zeigt sich, dass viele Reden fälschlicherweise Bernd Neumann und Monika Grütters zugeordnet wurden, viele Reden Angela Merkels wurden Gerhard Schröder zugeordnet."
   ]
  },
  {
   "cell_type": "code",
   "execution_count": null,
   "metadata": {
    "autoscroll": false,
    "collapsed": false,
    "ein.hycell": false,
    "ein.tags": "worksheet-0",
    "slideshow": {
     "slide_type": "-"
    }
   },
   "outputs": [],
   "source": [
    "print(\"Accuracy:\", accuracy)\n",
    "sns.heatmap(confusionMatrix, xticklabels=speakers, yticklabels=speakers)"
   ]
  },
  {
   "cell_type": "markdown",
   "metadata": {
    "ein.tags": "worksheet-0",
    "slideshow": {
     "slide_type": "-"
    }
   },
   "source": [
    "Ist dieses Ergebnis belastbar?\n",
    "Nein, denn bei der erreichten Qualität kann es sich natürlich um einen Ausreißer handeln.\n",
    "Schließlich haben wir die Trainingsdaten zufällig gewählt und eine gute Wahl ist nicht garantiert.\n",
    "\n",
    "Überzeuge Dich in einer freien Übung davon, dass auch für andere Trainingssets keine ausreichende Qualität erzielt wird."
   ]
  },
  {
   "cell_type": "code",
   "execution_count": null,
   "metadata": {
    "autoscroll": false,
    "collapsed": false,
    "ein.hycell": false,
    "ein.tags": "worksheet-0",
    "slideshow": {
     "slide_type": "-"
    }
   },
   "outputs": [],
   "source": [
    "# freie Übung\n",
    "# teste den classifier für viele verschiedene Zerlegungen und analysiere die Ergebnisse (z.B. durch Mittelung der Accuracys)"
   ]
  }
 ],
 "metadata": {
  "kernelspec": {
   "display_name": "Python 3",
   "name": "python3"
  },
  "language_info": {
   "codemirror_mode": {
    "name": "ipython",
    "version": 3
   },
   "file_extension": ".py",
   "mimetype": "text/x-python",
   "name": "python",
   "nbconvert_exporter": "python",
   "pygments_lexer": "ipython3",
   "version": "3.6.6"
  },
  "name": "nlp_basics-aufgaben.ipynb",
  "toc": {
   "base_numbering": 1,
   "nav_menu": {
    "height": "130.533px",
    "width": "250px"
   },
   "number_sections": true,
   "sideBar": true,
   "skip_h1_title": false,
   "title_cell": "Table of Contents",
   "title_sidebar": "Contents",
   "toc_cell": false,
   "toc_position": null,
   "toc_section_display": true,
   "toc_window_display": false
  },
  "varInspector": {
   "cols": {
    "lenName": 16,
    "lenType": 16,
    "lenVar": 40
   },
   "kernels_config": {
    "python": {
     "delete_cmd_postfix": "",
     "delete_cmd_prefix": "del ",
     "library": "var_list.py",
     "varRefreshCmd": "print(var_dic_list())"
    },
    "r": {
     "delete_cmd_postfix": ") ",
     "delete_cmd_prefix": "rm(",
     "library": "var_list.r",
     "varRefreshCmd": "cat(var_dic_list()) "
    }
   },
   "types_to_exclude": [
    "module",
    "function",
    "builtin_function_or_method",
    "instance",
    "_Feature"
   ],
   "window_display": true
  }
 },
 "nbformat": 4,
 "nbformat_minor": 2
}
