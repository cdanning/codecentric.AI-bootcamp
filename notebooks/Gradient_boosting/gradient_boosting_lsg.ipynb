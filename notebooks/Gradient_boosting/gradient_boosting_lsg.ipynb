{
 "cells": [
  {
   "cell_type": "markdown",
   "metadata": {},
   "source": [
    "# codecentric.AI Bootcamp - Gradient Boosting & XGBoost\n",
    "\n",
    "## Aufgaben + Lösungen\n",
    "\n",
    "Hier findet ihr die Lösungen zu den Gradient Boosting & XGBoost.\n",
    "\n",
    "Die folgenden Pakete werden geladen:"
   ]
  },
  {
   "cell_type": "code",
   "execution_count": 21,
   "metadata": {},
   "outputs": [],
   "source": [
    "import numpy as np\n",
    "import pandas as pd\n",
    "import matplotlib.pyplot as plt\n",
    "%matplotlib inline"
   ]
  },
  {
   "cell_type": "markdown",
   "metadata": {},
   "source": [
    "### Datensätze aus Scikit-learn\n",
    "\n",
    "Für die nachfolgenden Übungsaufgaben wollen wir zwei Datensätze verwenden, einen für Klassifikationsmodelle und einen anderen für Regressionsmodelle.\n",
    "\n",
    "- `iris`\n",
    "- `boston`"
   ]
  },
  {
   "cell_type": "code",
   "execution_count": 22,
   "metadata": {},
   "outputs": [],
   "source": [
    "# Irisdaten für Klassifikation\n",
    "from sklearn.datasets import load_iris\n",
    "\n",
    "# Boston Hauspreise für Regression\n",
    "from sklearn.datasets import load_boston"
   ]
  },
  {
   "cell_type": "code",
   "execution_count": 23,
   "metadata": {},
   "outputs": [],
   "source": [
    "features_iris, target_iris = load_iris(return_X_y=True)"
   ]
  },
  {
   "cell_type": "code",
   "execution_count": 24,
   "metadata": {},
   "outputs": [],
   "source": [
    "features_boston, target_boston = load_boston(return_X_y=True)"
   ]
  },
  {
   "cell_type": "markdown",
   "metadata": {},
   "source": [
    "### Daten mit Scikit-learn in Trainings- und Testsets aufteilen\n",
    "\n",
    "Nun wollen wir die beiden Datensätze, die wir geladen haben, in Trainings- und Testsets aufteilen."
   ]
  },
  {
   "cell_type": "code",
   "execution_count": 25,
   "metadata": {},
   "outputs": [],
   "source": [
    "from sklearn.model_selection import train_test_split\n",
    "\n",
    "X_train_iris, X_test_iris, y_train_iris, y_test_iris = train_test_split(features_iris, \n",
    "                                                                        target_iris,\n",
    "                                                                        test_size = 0.2,\n",
    "                                                                        random_state = 42,\n",
    "                                                                        stratify = target_iris)"
   ]
  },
  {
   "cell_type": "code",
   "execution_count": 26,
   "metadata": {},
   "outputs": [],
   "source": [
    "X_train_boston, X_test_boston, y_train_boston, y_test_boston = train_test_split(features_boston, \n",
    "                                                                                target_boston,\n",
    "                                                                                test_size = 0.2,\n",
    "                                                                                random_state = 42)"
   ]
  },
  {
   "cell_type": "markdown",
   "metadata": {},
   "source": [
    "### Aufgabe 1: Klassifikation mit Gradient Boosting in Scikit-learn\n",
    "\n",
    "Nun sind unsere `iris` Daten bereit für das Trainieren von Modellen.\n",
    "\n",
    "- Importiere den Gradient Boosting Klassifikationsalgorithmus.\n",
    "- Definiere den Gradient Boosting Algorithmus mit den folgenden Hyperparametern: 100 Bäume mit maximaler Tiefe von 3, maximaler Anzahl in Betracht zu ziehender Instanzen pro Split von 3 und Lernrate von 0.1.\n",
    "- Trainiere das so definierte Modell auf den `iris` Trainingsdaten."
   ]
  },
  {
   "cell_type": "code",
   "execution_count": 27,
   "metadata": {},
   "outputs": [
    {
     "data": {
      "text/plain": [
       "GradientBoostingClassifier(criterion='friedman_mse', init=None,\n",
       "              learning_rate=0.1, loss='deviance', max_depth=3,\n",
       "              max_features=None, max_leaf_nodes=None,\n",
       "              min_impurity_decrease=0.0, min_impurity_split=None,\n",
       "              min_samples_leaf=3, min_samples_split=3,\n",
       "              min_weight_fraction_leaf=0.0, n_estimators=100,\n",
       "              n_iter_no_change=None, presort='auto', random_state=42,\n",
       "              subsample=1.0, tol=0.0001, validation_fraction=0.1,\n",
       "              verbose=0, warm_start=False)"
      ]
     },
     "execution_count": 27,
     "metadata": {},
     "output_type": "execute_result"
    }
   ],
   "source": [
    "from sklearn.ensemble import GradientBoostingClassifier\n",
    "\n",
    "gbm_class = GradientBoostingClassifier(\n",
    "    learning_rate=0.1,\n",
    "    loss = \"deviance\",\n",
    "    n_estimators = 100,\n",
    "    min_samples_split = 3,\n",
    "    min_samples_leaf = 3,\n",
    "    max_depth = 3,\n",
    "    random_state = 42\n",
    ")\n",
    "gbm_class.fit(X_train_iris, y_train_iris)"
   ]
  },
  {
   "cell_type": "markdown",
   "metadata": {},
   "source": [
    "- Importiere die Funktion zur Erstellung von Kreuzmatrizen aus Scikit-learn.\n",
    "- Nutze das Gradient Boosting Klassifikationsmodell um Vorhersagen auf den Testdaten zu machen.\n",
    "- Vergleiche die vorhergesagten Klassen mit den tatsächlichen Klassen des Testsets, indem du die Kreuzmatrix ausgeben lässt."
   ]
  },
  {
   "cell_type": "code",
   "execution_count": 28,
   "metadata": {},
   "outputs": [
    {
     "data": {
      "text/plain": [
       "array([[10,  0,  0],\n",
       "       [ 0,  9,  1],\n",
       "       [ 0,  2,  8]])"
      ]
     },
     "execution_count": 28,
     "metadata": {},
     "output_type": "execute_result"
    }
   ],
   "source": [
    "from sklearn.metrics import confusion_matrix\n",
    "\n",
    "y_pred_gbm_class = gbm_class.predict(X_test_iris)\n",
    "confusion_matrix(y_test_iris, y_pred_gbm_class, labels=np.unique(y_test_iris))"
   ]
  },
  {
   "cell_type": "markdown",
   "metadata": {},
   "source": [
    "### Aufgabe 2: Regression mit Gradient Boosting in Scikit-learn\n",
    "\n",
    "Auch unsere `boston` Daten sind bereit für das Trainieren von Modellen.\n",
    "\n",
    "- Importiere den Gradient Boosting Regressionsalgorithmus.\n",
    "- Definiere den Gradient Boosting Algorithmus mit den folgenden Hyperparametern: Least Squares Loss, 100 Bäume mit maximaler Tiefe von 3, maximaler Anzahl in Betracht zu ziehender Instanzen pro Split von 3 und Lernrate von 0.1.\n",
    "- Trainiere das so definierte Modell auf den `boston` Trainingsdaten."
   ]
  },
  {
   "cell_type": "code",
   "execution_count": 29,
   "metadata": {},
   "outputs": [
    {
     "data": {
      "text/plain": [
       "GradientBoostingRegressor(alpha=0.9, criterion='friedman_mse', init=None,\n",
       "             learning_rate=0.1, loss='ls', max_depth=3, max_features=None,\n",
       "             max_leaf_nodes=None, min_impurity_decrease=0.0,\n",
       "             min_impurity_split=None, min_samples_leaf=3,\n",
       "             min_samples_split=3, min_weight_fraction_leaf=0.0,\n",
       "             n_estimators=100, n_iter_no_change=None, presort='auto',\n",
       "             random_state=42, subsample=1.0, tol=0.0001,\n",
       "             validation_fraction=0.1, verbose=0, warm_start=False)"
      ]
     },
     "execution_count": 29,
     "metadata": {},
     "output_type": "execute_result"
    }
   ],
   "source": [
    "from sklearn.ensemble import GradientBoostingRegressor\n",
    "\n",
    "gbm_reg = GradientBoostingRegressor(\n",
    "    learning_rate=0.1,\n",
    "    loss = \"ls\",\n",
    "    n_estimators = 100,\n",
    "    min_samples_split = 3,\n",
    "    min_samples_leaf = 3,\n",
    "    max_depth = 3,\n",
    "    random_state = 42\n",
    ")\n",
    "gbm_reg.fit(X_train_boston, y_train_boston)"
   ]
  },
  {
   "cell_type": "markdown",
   "metadata": {},
   "source": [
    "- Nutze das Gradient Boosting Regressionsmodell um Vorhersagen auf den Testdaten zu machen."
   ]
  },
  {
   "cell_type": "code",
   "execution_count": 30,
   "metadata": {},
   "outputs": [],
   "source": [
    "y_pred_gbm_reg = gbm_reg.predict(X_test_boston)"
   ]
  },
  {
   "cell_type": "markdown",
   "metadata": {},
   "source": [
    "- Importiere die Funktion für den mittleren absoluten Fehler aus Scikit-learn.\n",
    "- Berechne den mittleren absoluten Fehler für die Vorhersagen der Testdaten."
   ]
  },
  {
   "cell_type": "code",
   "execution_count": 31,
   "metadata": {},
   "outputs": [
    {
     "data": {
      "text/plain": [
       "1.9204267228009915"
      ]
     },
     "execution_count": 31,
     "metadata": {},
     "output_type": "execute_result"
    }
   ],
   "source": [
    "from sklearn.metrics import mean_absolute_error\n",
    "\n",
    "mean_absolute_error(y_test_boston, y_pred_gbm_reg)"
   ]
  },
  {
   "cell_type": "markdown",
   "metadata": {},
   "source": [
    "### Datenvorbereitung für H2O\n",
    "\n",
    "Mit Scikit-learn hast du erfolgreich Klassifikations- und Regressionsmodelle mit Random Forest trainiert. Jetzt wollen wir uns angucken, wie das Ganze mit h2o funktioniert."
   ]
  },
  {
   "cell_type": "code",
   "execution_count": 32,
   "metadata": {},
   "outputs": [
    {
     "name": "stdout",
     "output_type": "stream",
     "text": [
      "Checking whether there is an H2O instance running at http://localhost:54321. connected.\n"
     ]
    },
    {
     "data": {
      "text/html": [
       "<div style=\"overflow:auto\"><table style=\"width:50%\"><tr><td>H2O cluster uptime:</td>\n",
       "<td>30 mins 16 secs</td></tr>\n",
       "<tr><td>H2O cluster timezone:</td>\n",
       "<td>Etc/UTC</td></tr>\n",
       "<tr><td>H2O data parsing timezone:</td>\n",
       "<td>UTC</td></tr>\n",
       "<tr><td>H2O cluster version:</td>\n",
       "<td>3.22.0.2</td></tr>\n",
       "<tr><td>H2O cluster version age:</td>\n",
       "<td>5 days </td></tr>\n",
       "<tr><td>H2O cluster name:</td>\n",
       "<td>H2O_from_python_unknownUser_v3xqg4</td></tr>\n",
       "<tr><td>H2O cluster total nodes:</td>\n",
       "<td>1</td></tr>\n",
       "<tr><td>H2O cluster free memory:</td>\n",
       "<td>275.8 Mb</td></tr>\n",
       "<tr><td>H2O cluster total cores:</td>\n",
       "<td>4</td></tr>\n",
       "<tr><td>H2O cluster allowed cores:</td>\n",
       "<td>4</td></tr>\n",
       "<tr><td>H2O cluster status:</td>\n",
       "<td>locked, healthy</td></tr>\n",
       "<tr><td>H2O connection url:</td>\n",
       "<td>http://localhost:54321</td></tr>\n",
       "<tr><td>H2O connection proxy:</td>\n",
       "<td>None</td></tr>\n",
       "<tr><td>H2O internal security:</td>\n",
       "<td>False</td></tr>\n",
       "<tr><td>H2O API Extensions:</td>\n",
       "<td>XGBoost, Algos, AutoML, Core V3, Core V4</td></tr>\n",
       "<tr><td>Python version:</td>\n",
       "<td>3.6.7 final</td></tr></table></div>"
      ],
      "text/plain": [
       "--------------------------  ----------------------------------------\n",
       "H2O cluster uptime:         30 mins 16 secs\n",
       "H2O cluster timezone:       Etc/UTC\n",
       "H2O data parsing timezone:  UTC\n",
       "H2O cluster version:        3.22.0.2\n",
       "H2O cluster version age:    5 days\n",
       "H2O cluster name:           H2O_from_python_unknownUser_v3xqg4\n",
       "H2O cluster total nodes:    1\n",
       "H2O cluster free memory:    275.8 Mb\n",
       "H2O cluster total cores:    4\n",
       "H2O cluster allowed cores:  4\n",
       "H2O cluster status:         locked, healthy\n",
       "H2O connection url:         http://localhost:54321\n",
       "H2O connection proxy:\n",
       "H2O internal security:      False\n",
       "H2O API Extensions:         XGBoost, Algos, AutoML, Core V3, Core V4\n",
       "Python version:             3.6.7 final\n",
       "--------------------------  ----------------------------------------"
      ]
     },
     "metadata": {},
     "output_type": "display_data"
    }
   ],
   "source": [
    "import h2o\n",
    "h2o.init(nthreads = -1)"
   ]
  },
  {
   "cell_type": "code",
   "execution_count": 37,
   "metadata": {},
   "outputs": [
    {
     "data": {
      "text/html": [
       "<div>\n",
       "<style scoped>\n",
       "    .dataframe tbody tr th:only-of-type {\n",
       "        vertical-align: middle;\n",
       "    }\n",
       "\n",
       "    .dataframe tbody tr th {\n",
       "        vertical-align: top;\n",
       "    }\n",
       "\n",
       "    .dataframe thead th {\n",
       "        text-align: right;\n",
       "    }\n",
       "</style>\n",
       "<table border=\"1\" class=\"dataframe\">\n",
       "  <thead>\n",
       "    <tr style=\"text-align: right;\">\n",
       "      <th></th>\n",
       "      <th>class</th>\n",
       "      <th>sepal length (cm)</th>\n",
       "      <th>sepal width (cm)</th>\n",
       "      <th>petal length (cm)</th>\n",
       "      <th>petal width (cm)</th>\n",
       "    </tr>\n",
       "  </thead>\n",
       "  <tbody>\n",
       "    <tr>\n",
       "      <th>0</th>\n",
       "      <td>0</td>\n",
       "      <td>5.1</td>\n",
       "      <td>3.5</td>\n",
       "      <td>1.4</td>\n",
       "      <td>0.2</td>\n",
       "    </tr>\n",
       "    <tr>\n",
       "      <th>1</th>\n",
       "      <td>0</td>\n",
       "      <td>4.9</td>\n",
       "      <td>3.0</td>\n",
       "      <td>1.4</td>\n",
       "      <td>0.2</td>\n",
       "    </tr>\n",
       "    <tr>\n",
       "      <th>2</th>\n",
       "      <td>0</td>\n",
       "      <td>4.7</td>\n",
       "      <td>3.2</td>\n",
       "      <td>1.3</td>\n",
       "      <td>0.2</td>\n",
       "    </tr>\n",
       "    <tr>\n",
       "      <th>3</th>\n",
       "      <td>0</td>\n",
       "      <td>4.6</td>\n",
       "      <td>3.1</td>\n",
       "      <td>1.5</td>\n",
       "      <td>0.2</td>\n",
       "    </tr>\n",
       "    <tr>\n",
       "      <th>4</th>\n",
       "      <td>0</td>\n",
       "      <td>5.0</td>\n",
       "      <td>3.6</td>\n",
       "      <td>1.4</td>\n",
       "      <td>0.2</td>\n",
       "    </tr>\n",
       "  </tbody>\n",
       "</table>\n",
       "</div>"
      ],
      "text/plain": [
       "   class  sepal length (cm)  sepal width (cm)  petal length (cm)  \\\n",
       "0      0                5.1               3.5                1.4   \n",
       "1      0                4.9               3.0                1.4   \n",
       "2      0                4.7               3.2                1.3   \n",
       "3      0                4.6               3.1                1.5   \n",
       "4      0                5.0               3.6                1.4   \n",
       "\n",
       "   petal width (cm)  \n",
       "0               0.2  \n",
       "1               0.2  \n",
       "2               0.2  \n",
       "3               0.2  \n",
       "4               0.2  "
      ]
     },
     "execution_count": 37,
     "metadata": {},
     "output_type": "execute_result"
    }
   ],
   "source": [
    "data_iris = load_iris()\n",
    "df_iris = pd.DataFrame(data_iris.data, columns=data_iris.feature_names)\n",
    "target_iris = pd.DataFrame({'class':data_iris.target})\n",
    "\n",
    "df_c_iris = pd.concat([target_iris, df_iris], axis=1)\n",
    "df_c_iris.head()"
   ]
  },
  {
   "cell_type": "code",
   "execution_count": 38,
   "metadata": {},
   "outputs": [
    {
     "data": {
      "text/html": [
       "<div>\n",
       "<style scoped>\n",
       "    .dataframe tbody tr th:only-of-type {\n",
       "        vertical-align: middle;\n",
       "    }\n",
       "\n",
       "    .dataframe tbody tr th {\n",
       "        vertical-align: top;\n",
       "    }\n",
       "\n",
       "    .dataframe thead th {\n",
       "        text-align: right;\n",
       "    }\n",
       "</style>\n",
       "<table border=\"1\" class=\"dataframe\">\n",
       "  <thead>\n",
       "    <tr style=\"text-align: right;\">\n",
       "      <th></th>\n",
       "      <th>target</th>\n",
       "      <th>CRIM</th>\n",
       "      <th>ZN</th>\n",
       "      <th>INDUS</th>\n",
       "      <th>CHAS</th>\n",
       "      <th>NOX</th>\n",
       "      <th>RM</th>\n",
       "      <th>AGE</th>\n",
       "      <th>DIS</th>\n",
       "      <th>RAD</th>\n",
       "      <th>TAX</th>\n",
       "      <th>PTRATIO</th>\n",
       "      <th>B</th>\n",
       "      <th>LSTAT</th>\n",
       "    </tr>\n",
       "  </thead>\n",
       "  <tbody>\n",
       "    <tr>\n",
       "      <th>0</th>\n",
       "      <td>24.0</td>\n",
       "      <td>0.00632</td>\n",
       "      <td>18.0</td>\n",
       "      <td>2.31</td>\n",
       "      <td>0.0</td>\n",
       "      <td>0.538</td>\n",
       "      <td>6.575</td>\n",
       "      <td>65.2</td>\n",
       "      <td>4.0900</td>\n",
       "      <td>1.0</td>\n",
       "      <td>296.0</td>\n",
       "      <td>15.3</td>\n",
       "      <td>396.90</td>\n",
       "      <td>4.98</td>\n",
       "    </tr>\n",
       "    <tr>\n",
       "      <th>1</th>\n",
       "      <td>21.6</td>\n",
       "      <td>0.02731</td>\n",
       "      <td>0.0</td>\n",
       "      <td>7.07</td>\n",
       "      <td>0.0</td>\n",
       "      <td>0.469</td>\n",
       "      <td>6.421</td>\n",
       "      <td>78.9</td>\n",
       "      <td>4.9671</td>\n",
       "      <td>2.0</td>\n",
       "      <td>242.0</td>\n",
       "      <td>17.8</td>\n",
       "      <td>396.90</td>\n",
       "      <td>9.14</td>\n",
       "    </tr>\n",
       "    <tr>\n",
       "      <th>2</th>\n",
       "      <td>34.7</td>\n",
       "      <td>0.02729</td>\n",
       "      <td>0.0</td>\n",
       "      <td>7.07</td>\n",
       "      <td>0.0</td>\n",
       "      <td>0.469</td>\n",
       "      <td>7.185</td>\n",
       "      <td>61.1</td>\n",
       "      <td>4.9671</td>\n",
       "      <td>2.0</td>\n",
       "      <td>242.0</td>\n",
       "      <td>17.8</td>\n",
       "      <td>392.83</td>\n",
       "      <td>4.03</td>\n",
       "    </tr>\n",
       "    <tr>\n",
       "      <th>3</th>\n",
       "      <td>33.4</td>\n",
       "      <td>0.03237</td>\n",
       "      <td>0.0</td>\n",
       "      <td>2.18</td>\n",
       "      <td>0.0</td>\n",
       "      <td>0.458</td>\n",
       "      <td>6.998</td>\n",
       "      <td>45.8</td>\n",
       "      <td>6.0622</td>\n",
       "      <td>3.0</td>\n",
       "      <td>222.0</td>\n",
       "      <td>18.7</td>\n",
       "      <td>394.63</td>\n",
       "      <td>2.94</td>\n",
       "    </tr>\n",
       "    <tr>\n",
       "      <th>4</th>\n",
       "      <td>36.2</td>\n",
       "      <td>0.06905</td>\n",
       "      <td>0.0</td>\n",
       "      <td>2.18</td>\n",
       "      <td>0.0</td>\n",
       "      <td>0.458</td>\n",
       "      <td>7.147</td>\n",
       "      <td>54.2</td>\n",
       "      <td>6.0622</td>\n",
       "      <td>3.0</td>\n",
       "      <td>222.0</td>\n",
       "      <td>18.7</td>\n",
       "      <td>396.90</td>\n",
       "      <td>5.33</td>\n",
       "    </tr>\n",
       "  </tbody>\n",
       "</table>\n",
       "</div>"
      ],
      "text/plain": [
       "   target     CRIM    ZN  INDUS  CHAS    NOX     RM   AGE     DIS  RAD    TAX  \\\n",
       "0    24.0  0.00632  18.0   2.31   0.0  0.538  6.575  65.2  4.0900  1.0  296.0   \n",
       "1    21.6  0.02731   0.0   7.07   0.0  0.469  6.421  78.9  4.9671  2.0  242.0   \n",
       "2    34.7  0.02729   0.0   7.07   0.0  0.469  7.185  61.1  4.9671  2.0  242.0   \n",
       "3    33.4  0.03237   0.0   2.18   0.0  0.458  6.998  45.8  6.0622  3.0  222.0   \n",
       "4    36.2  0.06905   0.0   2.18   0.0  0.458  7.147  54.2  6.0622  3.0  222.0   \n",
       "\n",
       "   PTRATIO       B  LSTAT  \n",
       "0     15.3  396.90   4.98  \n",
       "1     17.8  396.90   9.14  \n",
       "2     17.8  392.83   4.03  \n",
       "3     18.7  394.63   2.94  \n",
       "4     18.7  396.90   5.33  "
      ]
     },
     "execution_count": 38,
     "metadata": {},
     "output_type": "execute_result"
    }
   ],
   "source": [
    "data_boston = load_boston()\n",
    "df_boston = pd.DataFrame(data_boston.data, columns=data_boston.feature_names)\n",
    "target_boston = pd.DataFrame({'target':data_boston.target})\n",
    "\n",
    "df_c_boston = pd.concat([target_boston, df_boston], axis=1)\n",
    "df_c_boston.head()"
   ]
  },
  {
   "cell_type": "code",
   "execution_count": 39,
   "metadata": {},
   "outputs": [
    {
     "name": "stdout",
     "output_type": "stream",
     "text": [
      "Parse progress: |█████████████████████████████████████████████████████████| 100%\n"
     ]
    }
   ],
   "source": [
    "hf_iris = h2o.H2OFrame(df_c_iris)\n",
    "hf_iris[0] = hf_iris[0].asfactor()  "
   ]
  },
  {
   "cell_type": "code",
   "execution_count": 40,
   "metadata": {},
   "outputs": [],
   "source": [
    "train_iris, valid_iris, test_iris = hf_iris.split_frame([0.7, 0.15], seed=42)"
   ]
  },
  {
   "cell_type": "code",
   "execution_count": 41,
   "metadata": {},
   "outputs": [
    {
     "data": {
      "text/plain": [
       "['sepal length (cm)',\n",
       " 'sepal width (cm)',\n",
       " 'petal length (cm)',\n",
       " 'petal width (cm)']"
      ]
     },
     "execution_count": 41,
     "metadata": {},
     "output_type": "execute_result"
    }
   ],
   "source": [
    "hf_X_iris = hf_iris.col_names[1:len(hf_iris.col_names)]\n",
    "hf_X_iris"
   ]
  },
  {
   "cell_type": "code",
   "execution_count": 42,
   "metadata": {},
   "outputs": [
    {
     "data": {
      "text/plain": [
       "'class'"
      ]
     },
     "execution_count": 42,
     "metadata": {},
     "output_type": "execute_result"
    }
   ],
   "source": [
    "hf_y_iris = hf_iris.col_names[0]\n",
    "hf_y_iris"
   ]
  },
  {
   "cell_type": "markdown",
   "metadata": {},
   "source": [
    "### Aufgabe 3: Gradient Boosting mit H2O\n",
    "\n",
    "- Definiere die Gradient Boosting Funktion aus `h2o` mit den folgenden [Hyperparametern](http://docs.h2o.ai/h2o/latest-stable/h2o-py/docs/modeling.html#h2ogradientboostingestimator): 300 Bäumen, maximaler Baumtiefe von 3 und Lernrate von 0.1."
   ]
  },
  {
   "cell_type": "code",
   "execution_count": 43,
   "metadata": {},
   "outputs": [],
   "source": [
    "from h2o.estimators.gbm import H2OGradientBoostingEstimator\n",
    "\n",
    "gbm_h2o_class = H2OGradientBoostingEstimator(\n",
    "    ntrees = 300,\n",
    "    learn_rate = 0.1,\n",
    "    max_depth = 3,\n",
    "    min_rows = 3,\n",
    "    seed = 42\n",
    ")"
   ]
  },
  {
   "cell_type": "markdown",
   "metadata": {},
   "source": [
    "- Trainiere den Random Forest Algorithmus mit den `iris` Trainings- und Validierungsdaten."
   ]
  },
  {
   "cell_type": "code",
   "execution_count": 44,
   "metadata": {},
   "outputs": [
    {
     "name": "stdout",
     "output_type": "stream",
     "text": [
      "gbm Model Build progress: |███████████████████████████████████████████████| 100%\n"
     ]
    }
   ],
   "source": [
    "gbm_h2o_class.train(x = hf_X_iris, \n",
    "                    y = hf_y_iris, \n",
    "                    training_frame = train_iris, \n",
    "                    validation_frame = valid_iris)"
   ]
  },
  {
   "cell_type": "markdown",
   "metadata": {},
   "source": [
    "- Berechne die Modell-Performance auf den Testdaten."
   ]
  },
  {
   "cell_type": "code",
   "execution_count": 45,
   "metadata": {},
   "outputs": [
    {
     "name": "stdout",
     "output_type": "stream",
     "text": [
      "\n",
      "ModelMetricsMultinomial: gbm\n",
      "** Reported on test data. **\n",
      "\n",
      "MSE: 0.09523761190259161\n",
      "RMSE: 0.3086059168301729\n",
      "LogLoss: 1.2486390302290151\n",
      "Mean Per-Class Error: 0.13333333333333333\n",
      "Confusion Matrix: Row labels: Actual class; Column labels: Predicted class\n",
      "\n"
     ]
    },
    {
     "data": {
      "text/html": [
       "<div style=\"overflow:auto\"><table style=\"width:50%\"><tr><td><b>0</b></td>\n",
       "<td><b>1</b></td>\n",
       "<td><b>2</b></td>\n",
       "<td><b>Error</b></td>\n",
       "<td><b>Rate</b></td></tr>\n",
       "<tr><td>8.0</td>\n",
       "<td>0.0</td>\n",
       "<td>0.0</td>\n",
       "<td>0.0</td>\n",
       "<td>0 / 8</td></tr>\n",
       "<tr><td>0.0</td>\n",
       "<td>8.0</td>\n",
       "<td>0.0</td>\n",
       "<td>0.0</td>\n",
       "<td>0 / 8</td></tr>\n",
       "<tr><td>0.0</td>\n",
       "<td>2.0</td>\n",
       "<td>3.0</td>\n",
       "<td>0.4</td>\n",
       "<td>2 / 5</td></tr>\n",
       "<tr><td>8.0</td>\n",
       "<td>10.0</td>\n",
       "<td>3.0</td>\n",
       "<td>0.0952381</td>\n",
       "<td>2 / 21</td></tr></table></div>"
      ],
      "text/plain": [
       "0    1    2    Error      Rate\n",
       "---  ---  ---  ---------  ------\n",
       "8    0    0    0          0 / 8\n",
       "0    8    0    0          0 / 8\n",
       "0    2    3    0.4        2 / 5\n",
       "8    10   3    0.0952381  2 / 21"
      ]
     },
     "metadata": {},
     "output_type": "display_data"
    },
    {
     "name": "stdout",
     "output_type": "stream",
     "text": [
      "Top-3 Hit Ratios: \n"
     ]
    },
    {
     "data": {
      "text/html": [
       "<div style=\"overflow:auto\"><table style=\"width:50%\"><tr><td><b>k</b></td>\n",
       "<td><b>hit_ratio</b></td></tr>\n",
       "<tr><td>1</td>\n",
       "<td>0.9047619</td></tr>\n",
       "<tr><td>2</td>\n",
       "<td>1.0</td></tr>\n",
       "<tr><td>3</td>\n",
       "<td>1.0</td></tr></table></div>"
      ],
      "text/plain": [
       "k    hit_ratio\n",
       "---  -----------\n",
       "1    0.904762\n",
       "2    1\n",
       "3    1"
      ]
     },
     "metadata": {},
     "output_type": "display_data"
    },
    {
     "name": "stdout",
     "output_type": "stream",
     "text": [
      "\n"
     ]
    }
   ],
   "source": [
    "performance_class = gbm_h2o_class.model_performance(test_data=test_iris)\n",
    "print(performance_class)"
   ]
  },
  {
   "cell_type": "markdown",
   "metadata": {},
   "source": [
    "### Gradient Boosting Regression mit H2O"
   ]
  },
  {
   "cell_type": "code",
   "execution_count": 46,
   "metadata": {},
   "outputs": [
    {
     "name": "stdout",
     "output_type": "stream",
     "text": [
      "Parse progress: |█████████████████████████████████████████████████████████| 100%\n"
     ]
    }
   ],
   "source": [
    "hf_boston = h2o.H2OFrame(df_c_boston)\n",
    "train_boston, test_boston = hf_boston.split_frame([0.7], seed=42)"
   ]
  },
  {
   "cell_type": "code",
   "execution_count": 47,
   "metadata": {},
   "outputs": [
    {
     "data": {
      "text/plain": [
       "['CRIM',\n",
       " 'ZN',\n",
       " 'INDUS',\n",
       " 'CHAS',\n",
       " 'NOX',\n",
       " 'RM',\n",
       " 'AGE',\n",
       " 'DIS',\n",
       " 'RAD',\n",
       " 'TAX',\n",
       " 'PTRATIO',\n",
       " 'B',\n",
       " 'LSTAT']"
      ]
     },
     "execution_count": 47,
     "metadata": {},
     "output_type": "execute_result"
    }
   ],
   "source": [
    "hf_X_boston = hf_boston.col_names[1:len(hf_boston.col_names)]\n",
    "hf_X_boston"
   ]
  },
  {
   "cell_type": "code",
   "execution_count": 48,
   "metadata": {},
   "outputs": [
    {
     "data": {
      "text/plain": [
       "'target'"
      ]
     },
     "execution_count": 48,
     "metadata": {},
     "output_type": "execute_result"
    }
   ],
   "source": [
    "hf_y_boston = hf_boston.col_names[0]\n",
    "hf_y_boston"
   ]
  },
  {
   "cell_type": "markdown",
   "metadata": {},
   "source": [
    "### Aufgabe 4:\n",
    "\n",
    "- Definiere die Gradient Boosting Funktion aus `h2o` mit den folgenden [Hyperparametern](http://docs.h2o.ai/h2o/latest-stable/h2o-py/docs/modeling.html#h2ogradientboostingestimator): 300 Bäumen, maximaler Baumtiefe von 3 und Lernrate von 0.1."
   ]
  },
  {
   "cell_type": "code",
   "execution_count": 50,
   "metadata": {},
   "outputs": [],
   "source": [
    "gbm_h2o_reg = H2OGradientBoostingEstimator(\n",
    "    ntrees = 300,\n",
    "    learn_rate = 0.1,\n",
    "    max_depth = 3,\n",
    "    min_rows = 3,\n",
    "    seed = 42\n",
    ")"
   ]
  },
  {
   "cell_type": "markdown",
   "metadata": {},
   "source": [
    "- Trainiere den Gradient Boosting Algorithmus mit den `boston` Trainingsdaten."
   ]
  },
  {
   "cell_type": "code",
   "execution_count": 51,
   "metadata": {},
   "outputs": [
    {
     "name": "stdout",
     "output_type": "stream",
     "text": [
      "gbm Model Build progress: |███████████████████████████████████████████████| 100%\n"
     ]
    }
   ],
   "source": [
    "gbm_h2o_reg.train(x = hf_X_boston, \n",
    "             y = hf_y_boston, \n",
    "             training_frame = train_boston)"
   ]
  },
  {
   "cell_type": "markdown",
   "metadata": {},
   "source": [
    "- Berechne die Modell-Performance auf den Testdaten."
   ]
  },
  {
   "cell_type": "code",
   "execution_count": 52,
   "metadata": {},
   "outputs": [
    {
     "name": "stdout",
     "output_type": "stream",
     "text": [
      "\n",
      "ModelMetricsRegression: gbm\n",
      "** Reported on test data. **\n",
      "\n",
      "MSE: 9.539117429326987\n",
      "RMSE: 3.088546167588723\n",
      "MAE: 2.1725234880849564\n",
      "RMSLE: 0.17285744301560663\n",
      "Mean Residual Deviance: 9.539117429326987\n",
      "\n"
     ]
    }
   ],
   "source": [
    "performance_reg = gbm_h2o_reg.model_performance(test_data=test_boston)\n",
    "print(performance_reg)"
   ]
  },
  {
   "cell_type": "markdown",
   "metadata": {},
   "source": [
    "- Lasse dir Werte für die Antwortvariable für alle Testdaten vorhersagen. "
   ]
  },
  {
   "cell_type": "code",
   "execution_count": 53,
   "metadata": {},
   "outputs": [
    {
     "name": "stdout",
     "output_type": "stream",
     "text": [
      "gbm prediction progress: |████████████████████████████████████████████████| 100%\n"
     ]
    },
    {
     "data": {
      "text/html": [
       "<table>\n",
       "<thead>\n",
       "<tr><th style=\"text-align: right;\">  predict</th></tr>\n",
       "</thead>\n",
       "<tbody>\n",
       "<tr><td style=\"text-align: right;\">  21.8397</td></tr>\n",
       "<tr><td style=\"text-align: right;\">  21.8943</td></tr>\n",
       "<tr><td style=\"text-align: right;\">  21.3659</td></tr>\n",
       "<tr><td style=\"text-align: right;\">  20.4696</td></tr>\n",
       "<tr><td style=\"text-align: right;\">  18.7836</td></tr>\n",
       "<tr><td style=\"text-align: right;\">  17.1348</td></tr>\n",
       "<tr><td style=\"text-align: right;\">  13.7743</td></tr>\n",
       "<tr><td style=\"text-align: right;\">  15.4483</td></tr>\n",
       "<tr><td style=\"text-align: right;\">  14.7144</td></tr>\n",
       "<tr><td style=\"text-align: right;\">  19.4906</td></tr>\n",
       "</tbody>\n",
       "</table>"
      ]
     },
     "metadata": {},
     "output_type": "display_data"
    },
    {
     "data": {
      "text/plain": []
     },
     "execution_count": 53,
     "metadata": {},
     "output_type": "execute_result"
    }
   ],
   "source": [
    "pred_test_boston = gbm_h2o_reg.predict(test_boston)\n",
    "pred_test_boston"
   ]
  },
  {
   "cell_type": "markdown",
   "metadata": {},
   "source": [
    "Diese vorhergesagten Werte können wir zum Beispiel gegen die tatsächlichen Werte plotten:"
   ]
  },
  {
   "cell_type": "code",
   "execution_count": 54,
   "metadata": {},
   "outputs": [
    {
     "data": {
      "text/plain": [
       "<matplotlib.collections.PathCollection at 0x7efea6314208>"
      ]
     },
     "execution_count": 54,
     "metadata": {},
     "output_type": "execute_result"
    },
    {
     "data": {
      "image/png": "[encoded data removed]",
      "text/plain": [
       "<Figure size 432x288 with 1 Axes>"
      ]
     },
     "metadata": {
      "needs_background": "light"
     },
     "output_type": "display_data"
    }
   ],
   "source": [
    "plt.scatter(test_boston.as_data_frame().target, pred_test_boston.as_data_frame().predict)"
   ]
  },
  {
   "cell_type": "markdown",
   "metadata": {},
   "source": [
    "In der Abbildung oben sehen wir auf der x-Achse die tatsächlichen Hauspreise, auf der y-Achse sehen wir die vorhersagten Preise. So können wir vergleichen, wie nahe unsere Vorhersage an der Wirklichkeit dran sind. Im perfekten Szenario, währen alle Werte gleich und die Punkte würden auf einer Geraden x=y liegen."
   ]
  },
  {
   "cell_type": "markdown",
   "metadata": {},
   "source": [
    "### Aufgabe 5: XGBoost mit Scikit-learn\n",
    "\n",
    "- Importiere das xgboost-Paket.\n",
    "- Definiere den XGBoost Classifier."
   ]
  },
  {
   "cell_type": "code",
   "execution_count": 56,
   "metadata": {},
   "outputs": [],
   "source": [
    "import xgboost as xgb\n",
    "xgboost = xgb.XGBClassifier()"
   ]
  },
  {
   "cell_type": "markdown",
   "metadata": {},
   "source": [
    "- Trainiere den XGBoost Classifier auf den Boston Daten."
   ]
  },
  {
   "cell_type": "code",
   "execution_count": 57,
   "metadata": {},
   "outputs": [
    {
     "data": {
      "text/plain": [
       "XGBClassifier(base_score=0.5, booster='gbtree', colsample_bylevel=1,\n",
       "       colsample_bytree=1, gamma=0, learning_rate=0.1, max_delta_step=0,\n",
       "       max_depth=3, min_child_weight=1, missing=None, n_estimators=100,\n",
       "       n_jobs=1, nthread=None, objective='multi:softprob', random_state=0,\n",
       "       reg_alpha=0, reg_lambda=1, scale_pos_weight=1, seed=None,\n",
       "       silent=True, subsample=1)"
      ]
     },
     "execution_count": 57,
     "metadata": {},
     "output_type": "execute_result"
    }
   ],
   "source": [
    "xgboost.fit(X_train_boston, y_train_boston)"
   ]
  },
  {
   "cell_type": "markdown",
   "metadata": {},
   "source": [
    "- Und nutze das Modell für Vorhersagen auf den Testdaten."
   ]
  },
  {
   "cell_type": "code",
   "execution_count": 60,
   "metadata": {},
   "outputs": [
    {
     "data": {
      "text/plain": [
       "array([22. , 32. , 15.2, 21.7, 14.9, 19.8, 20.3, 17.8, 21.4, 23.2, 18.7,\n",
       "       16.5,  8.8, 21.7, 20.4, 16.1, 20.5,  7.2, 50. , 17.8, 24.7, 32. ,\n",
       "       21. , 22. , 21.9, 19.1, 19.8, 14.1, 21.7, 20. , 19.5, 23.1, 10.2,\n",
       "       21.9, 19.1, 15.6, 28.7, 18.9, 21.2, 23.7, 17.5, 33.4, 50. , 20.1,\n",
       "       22. , 11.9, 16.2, 23.1, 19.1, 21. , 16.5, 31.6, 21. , 19.8, 50. ,\n",
       "       20.6, 14.3, 27.9, 22.2, 20.5, 24.4, 34.9, 22.6, 19.9, 18.6, 19.3,\n",
       "       17.8, 22.9, 34.9, 14.1, 24.7, 25. , 14.6, 18.2, 21.7,  7.2, 21.2,\n",
       "       50. ,  7.2, 13.3, 19.4, 15. , 22. , 11.8, 20. , 30.1, 14.3, 24.6,\n",
       "       20.6, 18.4, 21.7,  8.8, 19.2, 17.5, 23.3, 18.4, 25. ,  7.2,  8.4,\n",
       "       13.3, 20.1, 18.6])"
      ]
     },
     "execution_count": 60,
     "metadata": {},
     "output_type": "execute_result"
    }
   ],
   "source": [
    "xgb_pred_test_boston = xgboost.predict(X_test_boston)\n",
    "xgb_pred_test_boston"
   ]
  },
  {
   "cell_type": "markdown",
   "metadata": {},
   "source": [
    "### Aufgabe 6: XGBoost mit dem xgboost-Paket\n",
    "\n",
    "- Wandle die Trainings- und Testdaten des Boston-Datensatzes in DMatrizen um."
   ]
  },
  {
   "cell_type": "code",
   "execution_count": 61,
   "metadata": {},
   "outputs": [],
   "source": [
    "data_dmatrix = xgb.DMatrix(data=X_train_boston,label=y_train_boston)\n",
    "test_dmatrix = xgb.DMatrix(data=X_test_boston,label=y_test_boston)"
   ]
  },
  {
   "cell_type": "markdown",
   "metadata": {},
   "source": [
    "Definiere die folgenden [Hyperparameter](https://xgboost.readthedocs.io/en/latest/parameter.html#general-parameters):\n",
    "\n",
    "- Maximale Baumtiefe von 3\n",
    "- Lernrate von 0.1\n",
    "- 80% Samplingrate für Instanzen"
   ]
  },
  {
   "cell_type": "code",
   "execution_count": null,
   "metadata": {},
   "outputs": [],
   "source": [
    "params = {'max_depth':3, \n",
    "          'learning_rate':0.1, \n",
    "          'subsample':0.8,\n",
    "          'silent':1}"
   ]
  },
  {
   "cell_type": "markdown",
   "metadata": {},
   "source": [
    "- Definiere eine Watchliste mit Trainings- und Testdaten."
   ]
  },
  {
   "cell_type": "code",
   "execution_count": null,
   "metadata": {},
   "outputs": [],
   "source": [
    "watchlist = [(data_dmatrix, 'train'), (test_dmatrix, 'test')]"
   ]
  },
  {
   "cell_type": "markdown",
   "metadata": {},
   "source": [
    "- Trainiere das Modell mit 50 Boostingrunden."
   ]
  },
  {
   "cell_type": "code",
   "execution_count": 62,
   "metadata": {},
   "outputs": [
    {
     "name": "stdout",
     "output_type": "stream",
     "text": [
      "[0]\ttrain-rmse:21.8733\ttest-rmse:20.5688\n",
      "[1]\ttrain-rmse:19.8086\ttest-rmse:18.6594\n",
      "[2]\ttrain-rmse:17.951\ttest-rmse:16.943\n",
      "[3]\ttrain-rmse:16.2754\ttest-rmse:15.3925\n",
      "[4]\ttrain-rmse:14.7717\ttest-rmse:14.0048\n",
      "[5]\ttrain-rmse:13.409\ttest-rmse:12.7556\n",
      "[6]\ttrain-rmse:12.1828\ttest-rmse:11.6087\n",
      "[7]\ttrain-rmse:11.0755\ttest-rmse:10.5755\n",
      "[8]\ttrain-rmse:10.0822\ttest-rmse:9.66118\n",
      "[9]\ttrain-rmse:9.18422\ttest-rmse:8.89161\n",
      "[10]\ttrain-rmse:8.37385\ttest-rmse:8.16607\n",
      "[11]\ttrain-rmse:7.64368\ttest-rmse:7.52407\n",
      "[12]\ttrain-rmse:6.98843\ttest-rmse:6.90959\n",
      "[13]\ttrain-rmse:6.39663\ttest-rmse:6.41436\n",
      "[14]\ttrain-rmse:5.86526\ttest-rmse:5.94683\n",
      "[15]\ttrain-rmse:5.38669\ttest-rmse:5.5066\n",
      "[16]\ttrain-rmse:4.95672\ttest-rmse:5.16946\n",
      "[17]\ttrain-rmse:4.56457\ttest-rmse:4.87243\n",
      "[18]\ttrain-rmse:4.2161\ttest-rmse:4.60703\n",
      "[19]\ttrain-rmse:3.90018\ttest-rmse:4.35445\n",
      "[20]\ttrain-rmse:3.61885\ttest-rmse:4.14858\n",
      "[21]\ttrain-rmse:3.36318\ttest-rmse:3.94338\n",
      "[22]\ttrain-rmse:3.13688\ttest-rmse:3.81865\n",
      "[23]\ttrain-rmse:2.92756\ttest-rmse:3.69144\n",
      "[24]\ttrain-rmse:2.74773\ttest-rmse:3.59948\n",
      "[25]\ttrain-rmse:2.59125\ttest-rmse:3.50611\n",
      "[26]\ttrain-rmse:2.44811\ttest-rmse:3.41097\n",
      "[27]\ttrain-rmse:2.30738\ttest-rmse:3.31955\n",
      "[28]\ttrain-rmse:2.19252\ttest-rmse:3.2468\n",
      "[29]\ttrain-rmse:2.09357\ttest-rmse:3.18955\n",
      "[30]\ttrain-rmse:2.00119\ttest-rmse:3.13402\n",
      "[31]\ttrain-rmse:1.92378\ttest-rmse:3.09691\n",
      "[32]\ttrain-rmse:1.85656\ttest-rmse:3.06214\n",
      "[33]\ttrain-rmse:1.7896\ttest-rmse:3.02807\n",
      "[34]\ttrain-rmse:1.72135\ttest-rmse:3.00564\n",
      "[35]\ttrain-rmse:1.66842\ttest-rmse:2.98933\n",
      "[36]\ttrain-rmse:1.6182\ttest-rmse:2.95242\n",
      "[37]\ttrain-rmse:1.57739\ttest-rmse:2.92198\n",
      "[38]\ttrain-rmse:1.5258\ttest-rmse:2.89946\n",
      "[39]\ttrain-rmse:1.49223\ttest-rmse:2.86454\n",
      "[40]\ttrain-rmse:1.45179\ttest-rmse:2.84608\n",
      "[41]\ttrain-rmse:1.41916\ttest-rmse:2.82091\n",
      "[42]\ttrain-rmse:1.38489\ttest-rmse:2.79801\n",
      "[43]\ttrain-rmse:1.36369\ttest-rmse:2.78074\n",
      "[44]\ttrain-rmse:1.34133\ttest-rmse:2.76753\n",
      "[45]\ttrain-rmse:1.32099\ttest-rmse:2.75466\n",
      "[46]\ttrain-rmse:1.29516\ttest-rmse:2.73895\n",
      "[47]\ttrain-rmse:1.27121\ttest-rmse:2.72181\n",
      "[48]\ttrain-rmse:1.2479\ttest-rmse:2.71733\n",
      "[49]\ttrain-rmse:1.22606\ttest-rmse:2.69865\n"
     ]
    }
   ],
   "source": [
    "bst = xgb.train(dtrain=data_dmatrix, \n",
    "                params=params, \n",
    "                num_boost_round=50,\n",
    "                evals=watchlist)"
   ]
  },
  {
   "cell_type": "markdown",
   "metadata": {},
   "source": [
    "- Evaluiere das Modell."
   ]
  },
  {
   "cell_type": "code",
   "execution_count": 64,
   "metadata": {},
   "outputs": [
    {
     "data": {
      "text/plain": [
       "'[0]\\teval-rmse:2.698654'"
      ]
     },
     "execution_count": 64,
     "metadata": {},
     "output_type": "execute_result"
    }
   ],
   "source": [
    "bst.eval(test_dmatrix)"
   ]
  },
  {
   "cell_type": "markdown",
   "metadata": {},
   "source": [
    "- Mache Vorhersagen auf den Testdaten"
   ]
  },
  {
   "cell_type": "code",
   "execution_count": 65,
   "metadata": {},
   "outputs": [
    {
     "data": {
      "text/plain": [
       "array([23.90171 , 30.411238, 16.834118, 23.38023 , 17.29689 , 21.493326,\n",
       "       18.720419, 13.772954, 20.493969, 20.703573, 20.256588, 18.81347 ,\n",
       "        7.733352, 21.336367, 20.606207, 27.111767, 19.47995 ,  9.29282 ,\n",
       "       44.5126  , 15.970613, 24.715736, 24.26977 , 14.45585 , 21.706587,\n",
       "       15.635336, 16.05212 , 20.77195 , 13.443232, 19.179731, 21.434221,\n",
       "       19.223763, 23.243666, 19.717188, 19.464516, 15.497664, 16.490412,\n",
       "       31.524961, 19.65163 , 20.778967, 23.61874 , 16.048752, 28.983168,\n",
       "       44.423817, 19.327625, 22.429167, 14.852316, 15.858551, 23.525114,\n",
       "       18.388355, 26.799345, 21.242558, 34.64128 , 16.749884, 25.099176,\n",
       "       46.03076 , 21.283257, 16.194118, 31.848465, 21.828997, 17.86287 ,\n",
       "       25.072317, 33.715466, 26.232979, 17.56951 , 26.431408, 16.186668,\n",
       "       13.714041, 23.125172, 27.828123, 14.231892, 21.310644, 26.60504 ,\n",
       "       10.115174, 21.748236, 21.437536,  6.962781, 20.67494 , 46.437576,\n",
       "       11.985963, 13.574832, 21.571209, 12.155664, 19.5281  ,  9.330179,\n",
       "       20.639584, 26.981558, 15.523216, 23.764637, 23.904472, 17.052261,\n",
       "       21.765236,  8.307076, 18.319157, 19.53805 , 22.655659, 18.337526,\n",
       "       38.779995, 11.749514, 12.279395, 15.66615 , 19.838087, 23.420145],\n",
       "      dtype=float32)"
      ]
     },
     "execution_count": 65,
     "metadata": {},
     "output_type": "execute_result"
    }
   ],
   "source": [
    "preds_xgb = bst.predict(test_dmatrix)\n",
    "preds_xgb"
   ]
  },
  {
   "cell_type": "markdown",
   "metadata": {},
   "source": [
    "- Implementiere XGBoost mit 3x Kreuzvalidierung."
   ]
  },
  {
   "cell_type": "code",
   "execution_count": 63,
   "metadata": {},
   "outputs": [],
   "source": [
    "bst_cv = xgb.cv(dtrain=data_dmatrix, \n",
    "                params=params, \n",
    "                nfold=3,\n",
    "                num_boost_round=50,\n",
    "                early_stopping_rounds=10,\n",
    "                metrics=\"rmse\", \n",
    "                as_pandas=True, \n",
    "                seed=42)"
   ]
  },
  {
   "cell_type": "markdown",
   "metadata": {},
   "source": [
    "### Aufgabe 7: XGBoost mit H2O\n",
    "\n",
    "- Lade die XGBoost Funktion aus H2O."
   ]
  },
  {
   "cell_type": "code",
   "execution_count": 68,
   "metadata": {},
   "outputs": [],
   "source": [
    "from h2o.estimators import H2OXGBoostEstimator"
   ]
  },
  {
   "cell_type": "markdown",
   "metadata": {},
   "source": [
    "Definiere das XGBoost-Modell mit den folgenden [Hyperparametern](http://docs.h2o.ai/h2o/latest-stable/h2o-docs/data-science/xgboost.html):\n",
    "\n",
    "- Maximaler Baumtiefe von 2\n",
    "- 5x Kreuzvalidierung\n",
    "- 100 Bäume"
   ]
  },
  {
   "cell_type": "code",
   "execution_count": 72,
   "metadata": {},
   "outputs": [],
   "source": [
    "xgb_h2o = H2OXGBoostEstimator(\n",
    "    max_depth = 2,\n",
    "    nfolds = 5,\n",
    "    ntrees = 100,\n",
    "    seed = 42\n",
    ")"
   ]
  },
  {
   "cell_type": "markdown",
   "metadata": {},
   "source": [
    "- Trainiere das Modell auf den Boston-Daten."
   ]
  },
  {
   "cell_type": "code",
   "execution_count": 73,
   "metadata": {},
   "outputs": [
    {
     "name": "stdout",
     "output_type": "stream",
     "text": [
      "xgboost Model Build progress: |███████████████████████████████████████████| 100%\n"
     ]
    }
   ],
   "source": [
    "xgb_h2o.train(x = hf_X_boston, \n",
    "         y = hf_y_boston, \n",
    "         training_frame = train_boston)"
   ]
  },
  {
   "cell_type": "markdown",
   "metadata": {},
   "source": [
    "- Berechne die Performance auf den Testdaten."
   ]
  },
  {
   "cell_type": "code",
   "execution_count": 74,
   "metadata": {},
   "outputs": [
    {
     "name": "stdout",
     "output_type": "stream",
     "text": [
      "\n",
      "ModelMetricsRegression: xgboost\n",
      "** Reported on test data. **\n",
      "\n",
      "MSE: 10.466619508068176\n",
      "RMSE: 3.235215527297706\n",
      "MAE: 2.2929738767587455\n",
      "RMSLE: 0.17629763103099452\n",
      "Mean Residual Deviance: 10.466619508068176\n",
      "\n"
     ]
    }
   ],
   "source": [
    "performance_xgb = xgb_h2o.model_performance(test_data=test_boston)\n",
    "print(performance_xgb)"
   ]
  }
 ],
 "metadata": {
  "kernelspec": {
   "display_name": "Python 3",
   "language": "python",
   "name": "python3"
  },
  "language_info": {
   "codemirror_mode": {
    "name": "ipython",
    "version": 3
   },
   "file_extension": ".py",
   "mimetype": "text/x-python",
   "name": "python",
   "nbconvert_exporter": "python",
   "pygments_lexer": "ipython3",
   "version": "3.6.7"
  }
 },
 "nbformat": 4,
 "nbformat_minor": 2
}
