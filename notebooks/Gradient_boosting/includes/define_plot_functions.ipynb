{
 "cells": [
  {
   "cell_type": "code",
   "execution_count": null,
   "metadata": {},
   "outputs": [],
   "source": [
    "import graphviz\n",
    "import sklearn\n",
    "from sklearn.metrics import confusion_matrix\n",
    "import matplotlib.pyplot as plt\n",
    "from IPython.display import display\n",
    "import numpy as np\n",
    "import pandas as pd\n",
    "#import seaborn as sns\n",
    "%matplotlib inline\n",
    "\n",
    "def display_confusion_matrix(matrix,\n",
    "                          classes,\n",
    "                          title=\"\"):\n",
    "    matrix_normalized = matrix.astype('float') / matrix.sum(axis=1)[:, np.newaxis]\n",
    "\n",
    "    plt.figure()\n",
    "    plt.title(title)\n",
    "    plt.imshow(matrix, cmap=plt.cm.Oranges)\n",
    "    plt.colorbar()\n",
    "    tick_marks = np.arange(len(classes))\n",
    "    plt.xticks(tick_marks, classes, rotation=90)\n",
    "    plt.yticks(tick_marks, classes)\n",
    "    plt.ylabel('Person')\n",
    "    plt.xlabel('vorhergesagte Person')\n",
    "    \n",
    "    thresh = matrix.max() / 2.0\n",
    "    for i, j in itertools.product(range(matrix.shape[0]), range(matrix.shape[1])):\n",
    "        plt.text(j, i,\n",
    "                 str(matrix[i,j]) + \" (\" + format(matrix_normalized[i, j] * 100, \".1f\") + \"%)\",\n",
    "                 horizontalalignment=\"center\",\n",
    "                 color=\"white\" if matrix[i, j] > thresh else \"black\")\n",
    "\n",
    "    plt.show()\n",
    "    \n",
    "def display_decision_tree(decision_tree_classifier):\n",
    "    dot_data = sklearn.tree.export_graphviz(decision_tree_classifier,\n",
    "                                            out_file=None,\n",
    "                                            feature_names=lemmata,\n",
    "                                            class_names=categories.unique(),\n",
    "                                            filled=True,\n",
    "                                            proportion=True,\n",
    "                                            rounded=True,\n",
    "                                            impurity=False) \n",
    "    graph = graphviz.Source(dot_data) \n",
    "    display(graph)\n",
    "    \n",
    "def display_mean_accuracy(accuracies):\n",
    "    display(np.mean(accuracies))\n",
    "    \n",
    "def display_mean_confusion_matrix(confusion_matrices, classes):\n",
    "    summed = np.sum(confusion_matrices, axis=0)\n",
    "    summed = np.divide(summed, len(confusion_matrices))\n",
    "    display_confusion_matrix(summed, classes)\n"
   ]
  }
 ],
 "metadata": {
  "kernelspec": {
   "display_name": "Python 3",
   "language": "python",
   "name": "python3"
  },
  "language_info": {
   "codemirror_mode": {
    "name": "ipython",
    "version": 3
   },
   "file_extension": ".py",
   "mimetype": "text/x-python",
   "name": "python",
   "nbconvert_exporter": "python",
   "pygments_lexer": "ipython3",
   "version": "3.6.7"
  },
  "name": "nlp_basics.ipynb",
  "toc": {
   "base_numbering": 1,
   "nav_menu": {
    "height": "399.533px",
    "width": "431px"
   },
   "number_sections": true,
   "sideBar": true,
   "skip_h1_title": false,
   "title_cell": "Table of Contents",
   "title_sidebar": "Contents",
   "toc_cell": false,
   "toc_position": null,
   "toc_section_display": true,
   "toc_window_display": true
  },
  "varInspector": {
   "cols": {
    "lenName": 16,
    "lenType": 16,
    "lenVar": 40
   },
   "kernels_config": {
    "python": {
     "delete_cmd_postfix": "",
     "delete_cmd_prefix": "del ",
     "library": "var_list.py",
     "varRefreshCmd": "print(var_dic_list())"
    },
    "r": {
     "delete_cmd_postfix": ") ",
     "delete_cmd_prefix": "rm(",
     "library": "var_list.r",
     "varRefreshCmd": "cat(var_dic_list()) "
    }
   },
   "types_to_exclude": [
    "module",
    "function",
    "builtin_function_or_method",
    "instance",
    "_Feature"
   ],
   "window_display": true
  }
 },
 "nbformat": 4,
 "nbformat_minor": 2
}
