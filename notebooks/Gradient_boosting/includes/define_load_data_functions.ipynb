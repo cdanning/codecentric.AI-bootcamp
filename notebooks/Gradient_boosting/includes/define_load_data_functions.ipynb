{
 "cells": [
  {
   "cell_type": "code",
   "execution_count": null,
   "metadata": {},
   "outputs": [],
   "source": [
    "import os\n",
    "import pandas as pd\n",
    "import urllib\n",
    "import zipfile\n",
    "import xmltodict"
   ]
  },
  {
   "cell_type": "code",
   "execution_count": null,
   "metadata": {},
   "outputs": [],
   "source": [
    "REMOTE_PATH = \"http://adrien.barbaresi.eu/corpora/speeches/\"\n",
    "REMOTE_FILE = \"German-political-speeches-2018-release.zip\"\n",
    "REMOTE_URL = REMOTE_PATH + REMOTE_FILE\n",
    "\n",
    "DATA_FOLDER = \"data\"\n",
    "DATASET = \"Bundesregierung.xml\""
   ]
  },
  {
   "cell_type": "code",
   "execution_count": 1,
   "metadata": {},
   "outputs": [],
   "source": [
    "def createFolder(directory):\n",
    "    try:\n",
    "        if not os.path.exists(directory):\n",
    "            os.makedirs(directory)\n",
    "    except OSError:\n",
    "        print ('Error: Creating directory. ' + directory)\n",
    "\n",
    "def download_and_extract_data():\n",
    "    createFolder(DATA_FOLDER)\n",
    "    zip_path = os.path.join(DATA_FOLDER, REMOTE_FILE)\n",
    "    urllib.request.urlretrieve(REMOTE_URL, zip_path)\n",
    "    with zipfile.ZipFile(zip_path) as file:\n",
    "        file.extract(DATASET, path = DATA_FOLDER)\n",
    "\n",
    "def load_cached_speeches_or_download():\n",
    "    zip_path = os.path.join(DATA_FOLDER, REMOTE_FILE)\n",
    "    if not os.path.isfile(zip_path):\n",
    "        download_and_extract_data()\n",
    "    file = os.path.join(DATA_FOLDER, DATASET) \n",
    "    with open(file, mode=\"rb\") as file:\n",
    "        xml_document = xmltodict.parse(file)\n",
    "        text_nodes = xml_document['collection']['text']\n",
    "        persons = [t['@person'] for t in text_nodes]\n",
    "        speeches = [t['rohtext'] for t in text_nodes]\n",
    "        return pd.DataFrame({'person' : persons, 'speech' : speeches})"
   ]
  }
 ],
 "metadata": {
  "kernelspec": {
   "display_name": "Python 3",
   "language": "python",
   "name": "python3"
  },
  "language_info": {
   "codemirror_mode": {
    "name": "ipython",
    "version": 3
   },
   "file_extension": ".py",
   "mimetype": "text/x-python",
   "name": "python",
   "nbconvert_exporter": "python",
   "pygments_lexer": "ipython3",
   "version": "3.6.7"
  }
 },
 "nbformat": 4,
 "nbformat_minor": 2
}
