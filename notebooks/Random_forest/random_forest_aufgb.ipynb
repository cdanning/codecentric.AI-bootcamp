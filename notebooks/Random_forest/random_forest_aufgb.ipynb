{
 "cells": [
  {
   "cell_type": "markdown",
   "metadata": {},
   "source": [
    "# codecentric.AI Bootcamp - Random Forests\n",
    "\n",
    "## Aufgaben\n",
    "\n",
    "Hier findet ihr eine Reihe von Übungsaufgaben zu Random Forests.\n",
    "\n",
    "Folge den Aufgaben und ergänze die ___ in den Code-Abschnitten.\n",
    "\n",
    "Die folgenden Pakete werden geladen:"
   ]
  },
  {
   "cell_type": "code",
   "execution_count": null,
   "metadata": {},
   "outputs": [],
   "source": [
    "import numpy as np\n",
    "import pandas as pd\n",
    "import matplotlib.pyplot as plt\n",
    "%matplotlib inline"
   ]
  },
  {
   "cell_type": "markdown",
   "metadata": {},
   "source": [
    "### Aufgabe 1: Datensätze aus Scikit-learn laden\n",
    "\n",
    "Für die nachfolgenden Übungsaufgaben wollen wir zwei Datensätze verwenden, einen für Klassifikationsmodelle und einen anderen für Regressionsmodelle.\n",
    "\n",
    "- Importiere die Funktion zum Laden des `iris` Datensatzes.\n",
    "- Importiere die Funktion zum Laden des `boston` Datensatzes."
   ]
  },
  {
   "cell_type": "code",
   "execution_count": null,
   "metadata": {},
   "outputs": [],
   "source": [
    "# Irisdaten für Klassifikation\n",
    "from sklearn.___ import ___\n",
    "\n",
    "# Boston Hauspreise für Regression\n",
    "from sklearn.___ import ___"
   ]
  },
  {
   "cell_type": "markdown",
   "metadata": {},
   "source": [
    "- Lade den `iris` Datensatz ohne weitere Argumente anzugeben und gucke dir die Beschreibung an."
   ]
  },
  {
   "cell_type": "code",
   "execution_count": null,
   "metadata": {},
   "outputs": [],
   "source": [
    "data_iris = ___\n",
    "print(___)"
   ]
  },
  {
   "cell_type": "markdown",
   "metadata": {},
   "source": [
    "- Lade den `iris` Datensatz so, dass du zwei einzelne Objekte zurück bekommst: einen für die Featurewerte und einen für die Antwortvariable."
   ]
  },
  {
   "cell_type": "code",
   "execution_count": null,
   "metadata": {},
   "outputs": [],
   "source": [
    "features_iris, target_iris = ___"
   ]
  },
  {
   "cell_type": "markdown",
   "metadata": {},
   "source": [
    "- Lade den `boston` Datensatz ohne weitere Argumente anzugeben und gucke dir die Beschreibung an."
   ]
  },
  {
   "cell_type": "code",
   "execution_count": null,
   "metadata": {},
   "outputs": [],
   "source": [
    "data_boston = ___\n",
    "print(___)"
   ]
  },
  {
   "cell_type": "markdown",
   "metadata": {},
   "source": [
    "- Lade den `boston` Datensatz so, dass du zwei einzelne Objekte zurück bekommst: einen für die Featurewerte und einen für die Antwortvariable."
   ]
  },
  {
   "cell_type": "code",
   "execution_count": null,
   "metadata": {},
   "outputs": [],
   "source": [
    "features_boston, target_boston = ___"
   ]
  },
  {
   "cell_type": "markdown",
   "metadata": {},
   "source": [
    "### Aufgabe 2: Daten mit Scikit-learn in Trainings- und Testsets aufteilen\n",
    "\n",
    "Nun wollen wir die beiden Datensätze, die wir geladen haben, in Trainings- und Testsets aufteilen.\n",
    "\n",
    "- Importiere die entsprechene Funktion für das Aufteilen der Datensätze aus Scikit-learn.\n",
    "\n",
    "- Teile die Feature und Targets des `iris` Datensatzes in zwei Sets ein: 80% der Daten sollen in das Trainingsset, 20% in das Testset. \n",
    "- Stratifiziere die Aufteilung anhand der Antwortvariablen."
   ]
  },
  {
   "cell_type": "code",
   "execution_count": null,
   "metadata": {},
   "outputs": [],
   "source": [
    "from sklearn.___ import ___\n",
    "\n",
    "X_train_iris, X_test_iris, y_train_iris, y_test_iris = ___(___, \n",
    "                                                           ___,\n",
    "                                                           ___,\n",
    "                                                           ___,\n",
    "                                                           random_state = 42)"
   ]
  },
  {
   "cell_type": "markdown",
   "metadata": {},
   "source": [
    "- Teile die Feature und Targets des `boston` Datensatzes in zwei Sets ein: 80% der Daten sollen in das Trainingsset, 20% in das Testset."
   ]
  },
  {
   "cell_type": "code",
   "execution_count": null,
   "metadata": {},
   "outputs": [],
   "source": [
    "X_train_boston, X_test_boston, y_train_boston, y_test_boston = ___(___, \n",
    "                                                                   ___,\n",
    "                                                                   ___,\n",
    "                                                                   random_state = 42)"
   ]
  },
  {
   "cell_type": "markdown",
   "metadata": {},
   "source": [
    "### Aufgabe 3: Klassifikation mit Random Forests in Scikit-learn\n",
    "\n",
    "Nun sind unsere `iris` Daten bereit für das Trainieren von Modellen.\n",
    "\n",
    "- Importiere den Random Forest Klassifikationsalgorithmus.\n",
    "- Definiere den Random Forest Algorithmus mit den folgenden Hyperparametern: 200 Bäume mit maximaler Tiefe von 3. maximaler Anzahl in Betracht zu ziehender Feature von 3 und aktiviere Out-Of-Bag Sampling.\n",
    "- Trainiere das so definierte Modell auf den `iris` Trainingsdaten."
   ]
  },
  {
   "cell_type": "code",
   "execution_count": null,
   "metadata": {},
   "outputs": [],
   "source": [
    "from sklearn.___ import ___\n",
    "\n",
    "rf_model_class = ___(___, \n",
    "                     ___,\n",
    "                     ___,\n",
    "                     ___,\n",
    "                     random_state = 42)\n",
    "___(___, ___)"
   ]
  },
  {
   "cell_type": "markdown",
   "metadata": {},
   "source": [
    "- Importiere die Funktion zur Erstellung von Kreuzmatrizen aus Scikit-learn.\n",
    "- Nutze das Random Forest Klassifikationsmodell um Vorhersagen auf den Testdaten zu machen.\n",
    "- Vergleiche die vorhergesagten Klassen mit den tatsächlichen Klassen des Testsets, indem du die Kreuzmatrix ausgeben lässt."
   ]
  },
  {
   "cell_type": "code",
   "execution_count": null,
   "metadata": {},
   "outputs": [],
   "source": [
    "from sklearn.___ import ___\n",
    "\n",
    "y_pred_rf_class = ___(___)\n",
    "\n",
    "___(___, ___, labels=np.unique(___))"
   ]
  },
  {
   "cell_type": "markdown",
   "metadata": {},
   "source": [
    "### Aufgabe 4: Regression mit Random Forests in Scikit-learn\n",
    "\n",
    "Auch unsere `boston` Daten sind bereit für das Trainieren von Modellen.\n",
    "\n",
    "- Importiere den Random Forest Regressionsalgorithmus.\n",
    "- Definiere den Random Forest Algorithmus mit den folgenden Hyperparametern: 200 Bäume mit maximaler Tiefe von 3. maximaler Anzahl in Betracht zu ziehender Feature von 3 und aktiviere Out-Of-Bag Sampling.\n",
    "- Trainiere das so definierte Modell auf den `boston` Trainingsdaten."
   ]
  },
  {
   "cell_type": "code",
   "execution_count": null,
   "metadata": {},
   "outputs": [],
   "source": [
    "from sklearn.___ import ___\n",
    "\n",
    "rf_model_reg = ___(___, \n",
    "                   ___,\n",
    "                   ___,\n",
    "                   ___,\n",
    "                   random_state = 42)\n",
    "___(___, ___)"
   ]
  },
  {
   "cell_type": "markdown",
   "metadata": {},
   "source": [
    "- Nutze das Random Forest Regressionsmodell um Vorhersagen auf den Testdaten zu machen."
   ]
  },
  {
   "cell_type": "code",
   "execution_count": null,
   "metadata": {},
   "outputs": [],
   "source": [
    "y_pred_rf_reg = ___(___)"
   ]
  },
  {
   "cell_type": "markdown",
   "metadata": {},
   "source": [
    "- Importiere die Funktion für den mittleren absoluten Fehler aus Scikit-learn.\n",
    "- Berechne den mittleren absoluten Fehler für die Vorhersagen der Testdaten."
   ]
  },
  {
   "cell_type": "code",
   "execution_count": null,
   "metadata": {},
   "outputs": [],
   "source": [
    "from sklearn.___ import ___\n",
    "\n",
    "___(___, ___)"
   ]
  },
  {
   "cell_type": "markdown",
   "metadata": {},
   "source": [
    "### Aufgabe 5: Datenvorbereitung für h2o\n",
    "\n",
    "Mit Scikit-learn hast du erfolgreich Klassifikations- und Regressionsmodelle mit Random Forest trainiert. Jetzt wollen wir uns angucken, wie das Ganze mit h2o funktioniert.\n",
    "\n",
    "- Importiere die Random Forest Funktion aus h2o."
   ]
  },
  {
   "cell_type": "code",
   "execution_count": null,
   "metadata": {},
   "outputs": [],
   "source": [
    "import h2o\n",
    "h2o.init(nthreads = -1)\n",
    "\n",
    "from h2o.___ import ___"
   ]
  },
  {
   "cell_type": "markdown",
   "metadata": {},
   "source": [
    "- Bereite den `iris` Datensatz vor indem du ein pandas DataFrame aus Featuren und Antwortvariablen generierst."
   ]
  },
  {
   "cell_type": "code",
   "execution_count": null,
   "metadata": {},
   "outputs": [],
   "source": [
    "df_iris = pd.DataFrame(___, columns=___)\n",
    "target_iris = pd.DataFrame({'class':___})\n",
    "\n",
    "df_c_iris = pd.concat([___, ___], axis=1)\n",
    "df_c_iris.head()"
   ]
  },
  {
   "cell_type": "markdown",
   "metadata": {},
   "source": [
    "- Bereite auch den `boston` Datensatz vor indem du ebenfalls ein pandas DataFrame aus Featuren und Antwortvariablen generierst."
   ]
  },
  {
   "cell_type": "code",
   "execution_count": null,
   "metadata": {},
   "outputs": [],
   "source": [
    "df_boston = pd.DataFrame(___, columns=___)\n",
    "target_boston = pd.DataFrame({'target':___})\n",
    "\n",
    "df_c_boston = pd.concat([___, ___], axis=1)\n",
    "df_c_boston.head()"
   ]
  },
  {
   "cell_type": "markdown",
   "metadata": {},
   "source": [
    "### Aufgabe 6: Random Forest Klassifikation mit h2o\n",
    "\n",
    "- Konvertiere das so erstellte pandas DataFrame für die `iris` Daten in ein h2o Frame.\n",
    "- Wandle die Antwortvariable in kategorische Variablen um."
   ]
  },
  {
   "cell_type": "code",
   "execution_count": null,
   "metadata": {},
   "outputs": [],
   "source": [
    "hf_iris = ___(___)\n",
    "___ = ___  "
   ]
  },
  {
   "cell_type": "markdown",
   "metadata": {},
   "source": [
    "- Teile die Daten in 3 Sets auf: 70% für Training, 15% für Validierung und 15% fürs Testen."
   ]
  },
  {
   "cell_type": "code",
   "execution_count": null,
   "metadata": {},
   "outputs": [],
   "source": [
    "train_iris, valid_iris, test_iris = ___([___, ___], seed=42)"
   ]
  },
  {
   "cell_type": "markdown",
   "metadata": {},
   "source": [
    "- Definiere einen Vektor mit Spaltennamen aller Feature."
   ]
  },
  {
   "cell_type": "code",
   "execution_count": null,
   "metadata": {},
   "outputs": [],
   "source": [
    "hf_X_iris = ___\n",
    "hf_X_iris"
   ]
  },
  {
   "cell_type": "markdown",
   "metadata": {},
   "source": [
    "- Definiere einen Vektor mit dem Namen der Antwortvariablen."
   ]
  },
  {
   "cell_type": "code",
   "execution_count": null,
   "metadata": {},
   "outputs": [],
   "source": [
    "hf_y_iris = ___\n",
    "hf_y_iris"
   ]
  },
  {
   "cell_type": "markdown",
   "metadata": {},
   "source": [
    "- Definiere die Random Forest Funktion aus h2o mit den folgenden Hyperparametern: 300 Bäumen, maximaler Baumtiefe von 3 und maximaler Laufzeit von 60 Sekunden."
   ]
  },
  {
   "cell_type": "code",
   "execution_count": null,
   "metadata": {},
   "outputs": [],
   "source": [
    "rf_class = ___(\n",
    "    ___,\n",
    "    ___,\n",
    "    ___,\n",
    "    seed = 42\n",
    ")"
   ]
  },
  {
   "cell_type": "markdown",
   "metadata": {},
   "source": [
    "- Trainiere den Random Forest Algorithmus mit den `iris` Trainings- und Validierungsdaten."
   ]
  },
  {
   "cell_type": "code",
   "execution_count": null,
   "metadata": {},
   "outputs": [],
   "source": [
    "___(x = ___, \n",
    "    y = ___, \n",
    "    ___, \n",
    "    ___)"
   ]
  },
  {
   "cell_type": "markdown",
   "metadata": {},
   "source": [
    "- Berechne die Modell-Performance auf den Testdaten."
   ]
  },
  {
   "cell_type": "code",
   "execution_count": null,
   "metadata": {},
   "outputs": [],
   "source": [
    "performance_class = ___(___)\n",
    "print(performance_class)"
   ]
  },
  {
   "cell_type": "markdown",
   "metadata": {},
   "source": [
    "### Aufgabe 7: Random Forest Regression mit h2o\n",
    "\n",
    "- Konvertiere das oben erstellte pandas DataFrame für die `boston` Daten in ein h2o Frame.\n",
    "- Teile die Daten in zwei Sets auf: 70% für Training, 15% fürs Testen."
   ]
  },
  {
   "cell_type": "code",
   "execution_count": null,
   "metadata": {},
   "outputs": [],
   "source": [
    "hf_boston = ___(___)\n",
    "train_boston, test_boston = ___(___, seed=42)"
   ]
  },
  {
   "cell_type": "markdown",
   "metadata": {},
   "source": [
    "- Definiere einen Vektor mit Spaltennamen aller Feature."
   ]
  },
  {
   "cell_type": "code",
   "execution_count": null,
   "metadata": {},
   "outputs": [],
   "source": [
    "hf_X_boston = ___\n",
    "hf_X_boston"
   ]
  },
  {
   "cell_type": "markdown",
   "metadata": {},
   "source": [
    "- Definiere einen Vektor mit dem Namen der Antwortvariablen."
   ]
  },
  {
   "cell_type": "code",
   "execution_count": null,
   "metadata": {},
   "outputs": [],
   "source": [
    "hf_y_boston = ___\n",
    "hf_y_boston"
   ]
  },
  {
   "cell_type": "markdown",
   "metadata": {},
   "source": [
    "- Definiere die Random Forest Funktion aus h2o mit den folgenden Hyperparametern: 300 Bäumen, maximaler Baumtiefe von 3, 5-facher Kreuzvalidierung und stoppe das Training wenn die Wurzel des mittleren Quadratfehlers 3x hintereinander nicht mindestens um 0.0001 besser wird."
   ]
  },
  {
   "cell_type": "code",
   "execution_count": null,
   "metadata": {},
   "outputs": [],
   "source": [
    "rf_reg = ___(\n",
    "    ___,\n",
    "    ___,\n",
    "    ___,\n",
    "    ___,\n",
    "    ___,\n",
    "    ___,\n",
    "    seed = 42\n",
    ")"
   ]
  },
  {
   "cell_type": "markdown",
   "metadata": {},
   "source": [
    "- Trainiere den Random Forest Algorithmus mit den `boston` Trainingsdaten."
   ]
  },
  {
   "cell_type": "code",
   "execution_count": null,
   "metadata": {},
   "outputs": [],
   "source": [
    "___(x = ___, \n",
    "    y = ___, \n",
    "    ___)"
   ]
  },
  {
   "cell_type": "markdown",
   "metadata": {},
   "source": [
    "- Berechne die Modell-Performance auf den Testdaten."
   ]
  },
  {
   "cell_type": "code",
   "execution_count": null,
   "metadata": {},
   "outputs": [],
   "source": [
    "performance_reg = ___(___)\n",
    "print(performance_reg)"
   ]
  },
  {
   "cell_type": "markdown",
   "metadata": {},
   "source": [
    "- Lasse dir Werte für die Antwortvariable für alle Testdaten vorhersagen. "
   ]
  },
  {
   "cell_type": "code",
   "execution_count": null,
   "metadata": {},
   "outputs": [],
   "source": [
    "pred_test_boston = ___(___)\n",
    "pred_test_boston"
   ]
  },
  {
   "cell_type": "markdown",
   "metadata": {},
   "source": [
    "Diese vorhergesagten Werte können wir zum Beispiel gegen die tatsächlichen Werte plotten:"
   ]
  },
  {
   "cell_type": "code",
   "execution_count": null,
   "metadata": {},
   "outputs": [],
   "source": [
    "plt.scatter(test_boston.as_data_frame().target, pred_test_boston.as_data_frame().predict)"
   ]
  }
 ],
 "metadata": {
  "kernelspec": {
   "display_name": "Python 3",
   "language": "python",
   "name": "python3"
  },
  "language_info": {
   "codemirror_mode": {
    "name": "ipython",
    "version": 3
   },
   "file_extension": ".py",
   "mimetype": "text/x-python",
   "name": "python",
   "nbconvert_exporter": "python",
   "pygments_lexer": "ipython3",
   "version": "3.6.7"
  }
 },
 "nbformat": 4,
 "nbformat_minor": 2
}
