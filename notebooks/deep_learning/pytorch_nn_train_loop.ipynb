{
 "cells": [
  {
   "cell_type": "markdown",
   "metadata": {},
   "source": [
    "# Wie lernt ein Neuronales Netz\n",
    "\n",
    "https://bootcamp.codecentric.ai/\n",
    "\n",
    "In diesem Notebook trainieren wir einen Classifier auf dem MNIST Datenatz. Viele finden diesen Datensatz inzwischen langweilige und \"zu einfach\" - aber für dieses Notebook ist er genau richtig. Wir brauchen ein kleines einfaches Dataset, um zeigen zu können, was die Basic-Steps zum Trainieren eines neuronalen Netzes sind. Würden wir einen schwierigen Datensatz verwenden, würden unsere vereinfachten Steps wahrscheinlich gar nicht mehr funktionieren.\n",
    "\n",
    "Uns kommt es in diesem Notebook vor allem darauf an, wie der Trainingsloop aussieht. Während man in der fastai Library einfach nur `learn.fit()` aufrufen muss, werden wir hier (einen einfachen) Trainsingsloop selbst implementieren, um zu verstehen, was unter der Haube passiert.\n",
    "\n",
    "Falls du dir die Slides aus dem Video noch einmal ansehen möchtest: https://codecentric.slides.com/omoser/neuronale-netze-und-deep-learning/#/25"
   ]
  },
  {
   "cell_type": "markdown",
   "metadata": {},
   "source": [
    "### Beispiel mit PyTorch"
   ]
  },
  {
   "cell_type": "markdown",
   "metadata": {},
   "source": [
    "Zunächst benötigte Libraries und Settings:"
   ]
  },
  {
   "cell_type": "code",
   "execution_count": 49,
   "metadata": {},
   "outputs": [],
   "source": [
    "# Bilder innerhalb des Notebooks anzeigen\n",
    "%matplotlib inline \n",
    "\n",
    "import torch\n",
    "import torchvision\n",
    "from torchvision import transforms\n",
    "from matplotlib import pyplot\n"
   ]
  },
  {
   "cell_type": "markdown",
   "metadata": {},
   "source": [
    "## Daten laden / vorbereiten"
   ]
  },
  {
   "cell_type": "code",
   "execution_count": 2,
   "metadata": {},
   "outputs": [],
   "source": [
    "DATA_PATH = '/data/'"
   ]
  },
  {
   "cell_type": "markdown",
   "metadata": {},
   "source": [
    "Wir verwenden die PyTorch Boardmittel und definieren:\n",
    "\n",
    "- eine Reihe von Transformations (diese werden beim Laden der Daten durchgeführt, z.B. Data Augmentation oder Normalisierung)\n",
    "- ein Trainings-Set \n",
    "- einen Loader für das Trainings-Set\n",
    "\n",
    "(Wir definieren zunächst nur ein Trainings-Set ohne Validation-Set)"
   ]
  },
  {
   "cell_type": "code",
   "execution_count": 11,
   "metadata": {},
   "outputs": [],
   "source": [
    "# Batch Size\n",
    "bs = 128  \n",
    "\n",
    "tfms = transforms.Compose([\n",
    "       transforms.ToTensor(), \n",
    "       transforms.Lambda(lambda x: x.flatten())\n",
    "]) \n",
    "\n",
    "train_set = torchvision.datasets.MNIST(DATA_PATH, download=True, \n",
    "                                       train=True, transform=tfms)\n",
    "\n",
    "train_loader = torch.utils.data.DataLoader(train_set, batch_size=bs, \n",
    "                                           shuffle=True)"
   ]
  },
  {
   "cell_type": "markdown",
   "metadata": {},
   "source": [
    "Wir schauen uns an welche Klassen im Dataset vorhanden sind:"
   ]
  },
  {
   "cell_type": "code",
   "execution_count": 12,
   "metadata": {},
   "outputs": [
    {
     "data": {
      "text/plain": [
       "['0 - zero',\n",
       " '1 - one',\n",
       " '2 - two',\n",
       " '3 - three',\n",
       " '4 - four',\n",
       " '5 - five',\n",
       " '6 - six',\n",
       " '7 - seven',\n",
       " '8 - eight',\n",
       " '9 - nine']"
      ]
     },
     "execution_count": 12,
     "metadata": {},
     "output_type": "execute_result"
    }
   ],
   "source": [
    "classes = train_set.classes\n",
    "classes"
   ]
  },
  {
   "cell_type": "markdown",
   "metadata": {},
   "source": [
    "Und nun lassen wir uns ein paar Beispiele anzeigen, damit wir wissen mit welchen Daten wir es zu tun haben:"
   ]
  },
  {
   "cell_type": "code",
   "execution_count": 17,
   "metadata": {},
   "outputs": [],
   "source": [
    "def show_data_sample(data_loader, n=10, figsize=(20,10)):\n",
    "    # configure plot output\n",
    "    figure = pyplot.figure(figsize=figsize) \n",
    "\n",
    "    batch = iter(data_loader).next()\n",
    "    images, labels = batch\n",
    "\n",
    "    for i, img in enumerate(images):\n",
    "        figure.add_subplot(n//5 + 1, 5, i+1)\n",
    "        pyplot.axis('off')\n",
    "        pyplot.title(classes[labels[i]])\n",
    "        pyplot.imshow(img.view(-1, 28))\n",
    "        if i == n-1: \n",
    "            break\n"
   ]
  },
  {
   "cell_type": "code",
   "execution_count": 18,
   "metadata": {},
   "outputs": [
    {
     "data": {
      "image/png": "[encoded data removed]",
      "text/plain": [
       "<Figure size 1440x720 with 10 Axes>"
      ]
     },
     "metadata": {
      "needs_background": "light"
     },
     "output_type": "display_data"
    }
   ],
   "source": [
    "show_data_sample(train_loader, 10)"
   ]
  },
  {
   "cell_type": "markdown",
   "metadata": {},
   "source": [
    "Wie groß ist unser Trainings-Set?!"
   ]
  },
  {
   "cell_type": "code",
   "execution_count": 19,
   "metadata": {},
   "outputs": [
    {
     "name": "stdout",
     "output_type": "stream",
     "text": [
      "Training Set 60000\n"
     ]
    }
   ],
   "source": [
    "print(\"Training Set\", len(train_set))"
   ]
  },
  {
   "cell_type": "markdown",
   "metadata": {},
   "source": [
    "## (simples) Model definieren\n",
    "\n",
    "Wir definieren nun ein ähnliches neuronales Netz wie in \"Was sind neuronale Netze\" (https://codecentric.slides.com/omoser/neuronale-netze-und-deep-learning#/8).\n",
    "\n",
    "Allerdings verwenden wir diesmal eine etwas andere Schreib-/Herangehensweise. In PyTorch werden neuronale Netze von torch.nn.Module abgeleitet. Im Konstruktor defininiert man welche Schichten man verwendet und die die Methode `def forward(self, x)` wird bei einem forward-pass des Modells aufgerufen. x ist dabei der Input also z.B. die Trainings-Daten.\n",
    "\n",
    "Wieder haben wir eine Input Schicht von 28 x 28 = 784 Pixeln und eine Output-Schicht von 10 Klassen (\"One Hot Encoded Vector\" für Ziffern 0-9). "
   ]
  },
  {
   "cell_type": "code",
   "execution_count": 20,
   "metadata": {},
   "outputs": [],
   "source": [
    "class SuperSimpleNet(torch.nn.Module):\n",
    "    def __init__(self):\n",
    "        super(SuperSimpleNet, self).__init__()\n",
    "        self.layer = torch.nn.Sequential(\n",
    "            torch.nn.Linear(28 * 28, 20), # 28x28 ist die Input Size\n",
    "            torch.nn.ReLU(), \n",
    "            torch.nn.Linear(20, 10) # 10 ist die Output Size\n",
    "        )\n",
    "        \n",
    "    def forward(self, x):\n",
    "        out = self.layer(x)\n",
    "        return out.sigmoid()\n",
    "        "
   ]
  },
  {
   "cell_type": "code",
   "execution_count": 21,
   "metadata": {},
   "outputs": [
    {
     "data": {
      "text/plain": [
       "SuperSimpleNet(\n",
       "  (layer): Sequential(\n",
       "    (0): Linear(in_features=784, out_features=20, bias=True)\n",
       "    (1): ReLU()\n",
       "    (2): Linear(in_features=20, out_features=10, bias=True)\n",
       "  )\n",
       ")"
      ]
     },
     "execution_count": 21,
     "metadata": {},
     "output_type": "execute_result"
    }
   ],
   "source": [
    "model = SuperSimpleNet()\n",
    "model"
   ]
  },
  {
   "cell_type": "markdown",
   "metadata": {},
   "source": [
    "Jetzt definieren wir unsere Loss-Funktion. Da wir eine Klassifikation in mehrere Klassen machen wollen, verwenden wir wieder die bestehende `torch.nn.CrossEntropyLoss()`"
   ]
  },
  {
   "cell_type": "code",
   "execution_count": 22,
   "metadata": {},
   "outputs": [],
   "source": [
    "loss_func = torch.nn.CrossEntropyLoss()"
   ]
  },
  {
   "cell_type": "markdown",
   "metadata": {},
   "source": [
    "Und nun definieren wir noch eine Funktion, um die Accuracy beim Training zu messen:"
   ]
  },
  {
   "cell_type": "code",
   "execution_count": 23,
   "metadata": {},
   "outputs": [],
   "source": [
    "def accuracy(output, labels):\n",
    "    # output ist ein tenor.size(10). Die Stelle bedeutet die hier die vorhergesagte Zahl \n",
    "    # Beispiel: output = [0, 0, 0.1, 0.9, ...] Die Stelle mit der größten Zahl (=torch.argmax) ist 4 - das heisst die Vorhersage wäre hier 4\n",
    "    predictions = torch.argmax(output, dim=1)\n",
    "\n",
    "    # jetzt schauen wir wo die Vorhersage stimmt (pred=label) und bilden den Durschnitt über den aktuellen Batch\n",
    "    return (predictions == labels).float().mean()"
   ]
  },
  {
   "cell_type": "markdown",
   "metadata": {},
   "source": [
    "Und jetzt implementieren wir einen (simplen) Trainings-Loop.\n",
    "\n",
    "- wir definieren eine (statische) Learning Rate\n",
    "- eine Epoche ist ein kompletter Durchlauf durchs Trainings-Set\n",
    "- das Trainings-Set wird in Batches unterteilt \n",
    "- dann wird Vorhersage und Fehler bestimmt\n",
    "- mit Backpropagation und SGD werden Paramater optimiert\n",
    "\n",
    "Dies ist die \"einfachst mögliche\" Form von einem Trainings-Loop. Ein \"modernes\" großes/tiefes neuronales wird man damit nicht trainiert bekommen. \n",
    "\n",
    "Dazu benötigt man ein paar weitere \"Tricks\". Diese \"Tricks\" beeinflussen zum Beipiel dynamisch die Größe der Learning Rate. \n",
    "\n",
    "*Im Prinzip ist es aber das, was passiert, damit ein neuronales Netz lernt.*"
   ]
  },
  {
   "cell_type": "code",
   "execution_count": 47,
   "metadata": {},
   "outputs": [],
   "source": [
    "lr = 0.01\n",
    "\n",
    "def fit(epochs=1):\n",
    "    for epoch in range(epochs):\n",
    "\n",
    "        print(\"Epoch: \", epoch)\n",
    "        \n",
    "        # der Train Loader gibt teilt die gesamten Daten in Batches auf\n",
    "        for i, batch in enumerate(train_loader):\n",
    "\n",
    "            # ein Batch besteht aus Trainingsdaten und labels\n",
    "            x_train, label = batch\n",
    "            \n",
    "            # wir setzen alle Gradients auf 0 (sonst verfälschen/beeinflussen diese die vorige Trainings-Runde)\n",
    "            model.zero_grad()\n",
    "            \n",
    "            # wir verwenden unser Modell und machen eine Vorhersage mit den Traingsdaten dieses Batches\n",
    "            pred = model(x_train)\n",
    "            # wir ermitteln den Fehler mit der Loss Funktion (Vergleich Vorhersage mit Label)\n",
    "            loss = loss_func(pred, label)\n",
    "\n",
    "            # anhand des Fehlers machen wir eine Backpropagation\n",
    "            # das PyTorch Framework errechnet die Gradients, die wir verwenden können\n",
    "            # um unsere Parameter in \"die richtige Richtung\" anzupassen\n",
    "            loss.backward()\n",
    "            \n",
    "            with torch.no_grad():\n",
    "                # für alle Parameter im Modell (in unserem Fall 2 Weight-Matrizen)\n",
    "                for param in model.parameters():\n",
    "                    # optimiere die Parameter in die Richting des Gradients mit der Schrittweite \"learning-rate\"\n",
    "                    param -= param.grad.data * lr\n",
    "        \n",
    "        # gib Loss und Accuracy vom letzten Batch aus\n",
    "        print(\"Loss: \", loss.item(), \"Accuracy: \", accuracy(pred, label).item())\n",
    "\n",
    "        "
   ]
  },
  {
   "cell_type": "markdown",
   "metadata": {},
   "source": [
    "Jetzt rufen wir unseren eigenen Trainings-Loop auf und trainieren für 10 Epochen (= wir arbeiten 10 x die gesamten Traingsdaten durch):"
   ]
  },
  {
   "cell_type": "code",
   "execution_count": 25,
   "metadata": {},
   "outputs": [
    {
     "name": "stdout",
     "output_type": "stream",
     "text": [
      "Epoch:  0\n",
      "Loss:  2.233034133911133 Accuracy:  0.25\n",
      "Epoch:  1\n",
      "Loss:  2.1582396030426025 Accuracy:  0.5833333134651184\n",
      "Epoch:  2\n",
      "Loss:  2.061486005783081 Accuracy:  0.6979166865348816\n",
      "Epoch:  3\n",
      "Loss:  1.9634884595870972 Accuracy:  0.7395833134651184\n",
      "Epoch:  4\n",
      "Loss:  1.896990418434143 Accuracy:  0.7916666865348816\n",
      "Epoch:  5\n",
      "Loss:  1.8455305099487305 Accuracy:  0.8020833134651184\n",
      "Epoch:  6\n",
      "Loss:  1.8075557947158813 Accuracy:  0.8020833134651184\n",
      "Epoch:  7\n",
      "Loss:  1.7659879922866821 Accuracy:  0.8229166865348816\n",
      "Epoch:  8\n",
      "Loss:  1.7675213813781738 Accuracy:  0.8229166865348816\n",
      "Epoch:  9\n",
      "Loss:  1.751010537147522 Accuracy:  0.8333333134651184\n"
     ]
    }
   ],
   "source": [
    "fit(10)"
   ]
  },
  {
   "cell_type": "markdown",
   "metadata": {},
   "source": [
    "Wir sehen, dass das neuronale Netz etwas \"lernt\". Der Loss wird tendenziell geringer und die Accuracy steigt. \n",
    "\n",
    "Während die Accuracy anfangs unter 0.5 lag (d.h. nur jede 2. Vorhersage ist richtig), geht die Accuracy nach 10 Epochen in Richtung 0.8 (d.h. 8 von 10 Vorhersagen sind richtig).\n",
    "\n",
    "An dieser Stelle betrachten wir allerdings nur die Trainingsdaten (ohne Validation-Set). Wir merken also nicht wenn ein \"Overfitting\" passiert. \n",
    "\n"
   ]
  },
  {
   "cell_type": "markdown",
   "metadata": {},
   "source": [
    "### Zwischen-Fazit\n",
    "\n",
    "Unsere selbst geschriebene fit() Funktion zeigt, wie ein neuronales Netz im Prinzip lernt. Wie schon angedeutet ist dies aber für komplexere Netze nicht ausreichend, damit ein neuronales Netz (in annehmbarer) Zeit zuverlässig lernen kann.\n",
    "\n",
    "Wie wir im Beipiel mit dem \"fruits Classifier\" und fast.ai schon gesehen haben, musste man dort nur `learn.fit()` aufrufen. In diesem fastai-Trainings-Loop waren bereits viele Best-Practices implementiert. \n",
    "\n",
    "Wir schauen uns jetzt noch kurz an, wie man einen Trainings-Loop für komplexere Anwendungen mit PyTorch Boardmitteln implementieren könnte:"
   ]
  },
  {
   "cell_type": "code",
   "execution_count": 26,
   "metadata": {},
   "outputs": [],
   "source": [
    "import torch.optim as optim"
   ]
  },
  {
   "cell_type": "code",
   "execution_count": 27,
   "metadata": {},
   "outputs": [],
   "source": [
    "# wir nehmen hier Adam als Optimizer, es gibt aber auch SGD und viele mehr\n",
    "optimizer = optim.Adam(model.parameters(), lr=lr)"
   ]
  },
  {
   "cell_type": "code",
   "execution_count": 28,
   "metadata": {},
   "outputs": [],
   "source": [
    "def fit_better(n=1):\n",
    "    for epoch in range(n):  \n",
    "        for i, data in enumerate(train_loader):\n",
    "            x_train, labels = data\n",
    "            optimizer.zero_grad()\n",
    "\n",
    "            # forward + backward + optimize\n",
    "            pred = model(x_train)\n",
    "            loss = loss_func(pred, labels)\n",
    "            loss.backward()\n",
    "            \n",
    "            # im Prinzip ist bis hierhin alles wie vorher - die Anpassungen der Parameter ist aber im Schritt optimizer.step() zusammengefasst\n",
    "            # hier passieren unter der Haube jetzt etwas smartere Anpassungen als in unserem einfachen Beispiel\n",
    "            optimizer.step()\n",
    "        print(\"Loss: \", loss.item(), \"Accuracy: \", accuracy(pred, labels).item())\n",
    "        \n"
   ]
  },
  {
   "cell_type": "code",
   "execution_count": 29,
   "metadata": {},
   "outputs": [
    {
     "name": "stdout",
     "output_type": "stream",
     "text": [
      "Loss:  1.5133062601089478 Accuracy:  0.9479166865348816\n"
     ]
    }
   ],
   "source": [
    "fit_better()"
   ]
  },
  {
   "cell_type": "markdown",
   "metadata": {},
   "source": [
    "# Aufgaben\n",
    "\n",
    "In unserem eigenen Trainings-Loop verwenden wir derzeit nur ein Trainings-Set (aber kein Validation-Set). So können wir nicht bemerken, ob unser Netz \"overfittet\".\n",
    "\n",
    "1. Passe den Trainingsloop so an, dass zusätzlich zum train_loss auch ein validation_loss bestimmt wird. Du kannst dafür entweder das Trainingsset aufsplitten in ein Train/Vaild-Set oder du kannst in diesem Beispiel die MNIST Test-Daten dafür verwenden:"
   ]
  },
  {
   "cell_type": "code",
   "execution_count": 52,
   "metadata": {},
   "outputs": [],
   "source": [
    "valid_set = torchvision.datasets.MNIST(DATA_PATH, download=True, \n",
    "                                       train=False, transform=tfms)\n",
    "\n",
    "valid_loader = torch.utils.data.DataLoader(valid_set, batch_size=bs, \n",
    "                                           shuffle=True)\n",
    "\n",
    "# Tipp, so kannst du einen Batch Validierungs-Daten laden: \n",
    "# valid_batch = iter(valid_loader).next()\n",
    "# x_valid, labels_valid = valid_batch"
   ]
  },
  {
   "cell_type": "markdown",
   "metadata": {},
   "source": [
    "2. Visualisiere beide loss Kurven in einem Plot"
   ]
  },
  {
   "cell_type": "code",
   "execution_count": 50,
   "metadata": {},
   "outputs": [
    {
     "data": {
      "text/plain": [
       "[<matplotlib.lines.Line2D at 0x7f4e32756748>,\n",
       " <matplotlib.lines.Line2D at 0x7f4e327566a0>]"
      ]
     },
     "execution_count": 50,
     "metadata": {},
     "output_type": "execute_result"
    },
    {
     "data": {
      "image/png": "[encoded data removed]",
      "text/plain": [
       "<Figure size 432x288 with 1 Axes>"
      ]
     },
     "metadata": {
      "needs_background": "light"
     },
     "output_type": "display_data"
    }
   ],
   "source": [
    "# Tipp, so könntest du Daten sammlen / visualisieren:\n",
    "data = [1, 5, 11]\n",
    "data2 = [2, 8, 10]\n",
    "epochs = [1, 2, 3]\n",
    "pyplot.plot(epochs, data, data2)"
   ]
  },
  {
   "cell_type": "markdown",
   "metadata": {},
   "source": [
    "3. In dem Trainings-Loop wird der Loss und die Accuracy für den letzten Batch berechnet/ausgegeben. Ändere die Logik so, dass die Metriken jeweils für die Epoche berechnet werden."
   ]
  },
  {
   "cell_type": "code",
   "execution_count": 51,
   "metadata": {},
   "outputs": [],
   "source": [
    "# Tipp, Sammle alle Werte und Bilde dann den Durschnitt für eine Epoche"
   ]
  },
  {
   "cell_type": "code",
   "execution_count": null,
   "metadata": {},
   "outputs": [],
   "source": []
  }
 ],
 "metadata": {
  "kernelspec": {
   "display_name": "Python 3",
   "language": "python",
   "name": "python3"
  },
  "language_info": {
   "codemirror_mode": {
    "name": "ipython",
    "version": 3
   },
   "file_extension": ".py",
   "mimetype": "text/x-python",
   "name": "python",
   "nbconvert_exporter": "python",
   "pygments_lexer": "ipython3",
   "version": "3.6.8"
  }
 },
 "nbformat": 4,
 "nbformat_minor": 2
}
