{
 "cells": [
  {
   "cell_type": "markdown",
   "metadata": {},
   "source": [
    "# Grundlagen Neuronale Netze - einfache Operationen\n",
    "\n",
    "https://bootcamp.codecentric.ai\n",
    "\n",
    "In diesem Notebook wollen wir das einfache Beispiel aus dem Video nachvollziehen. \n",
    "\n",
    "Wir:\n",
    "- definieren einen Input Tensor (aus einem 28x28 Pixel Bild von MNIST)\n",
    "- wir normalisieren die Werte des Bildes\n",
    "- wir definieren Matrizen mit Gewichten, die wir lernen wollen\n",
    "- wir kombinieren Matrix Multiplikationen und Aktivierungsfunktionen, um aus einem Input mit 784 Pixeln einen Output mit 10 Werten zu erhalten\n",
    "- wir definieren ein Label\n",
    "- (wir optimieren die Gewichte, damit sie zum Label passen - kleiner Vorausblick auf kommende Videos)\n",
    "\n",
    "Das folgende neuronale Netz ist keine besonders sinnvolle Architektur. Auch das Training mit nur einem Bild macht natürlich wenig Sinn. Es geht darum zu verstehen, welche Rechenoperationen \"unter der Haube\" eines neuronalen Netzes stattfinden. **Daher ist das ganze (hier) noch stark vereinfacht.**\n",
    "\n",
    "Hier noch einmal das Bild, was wir versuchen in Code nachzuvollziehen:"
   ]
  },
  {
   "cell_type": "markdown",
   "metadata": {},
   "source": [
    "![simple nn](simple_nn.png)"
   ]
  },
  {
   "cell_type": "markdown",
   "metadata": {},
   "source": [
    "Zu diesem Notebook gibt es noch ein **begleitendes Video**, das die einzelnen Abschnitte erklärt.\n",
    "\n",
    "Du findest das Video hier: \n",
    "\n",
    "https://youtu.be/26fGbPYjSNY \n"
   ]
  },
  {
   "cell_type": "markdown",
   "metadata": {},
   "source": [
    "### Beispiel mit PyTorch\n",
    "\n",
    "Zunächst ein paar benötigte Imports:"
   ]
  },
  {
   "cell_type": "code",
   "execution_count": 1,
   "metadata": {},
   "outputs": [],
   "source": [
    "%matplotlib inline\n",
    "\n",
    "import torch\n",
    "import torchvision\n",
    "import math\n",
    "\n",
    "from torchvision import transforms\n",
    "from matplotlib import pyplot"
   ]
  },
  {
   "cell_type": "markdown",
   "metadata": {},
   "source": [
    "Folgender Tensor ist die interne Darstellung eines Bildes.\n",
    "\n",
    "Es ist ein 28x28 Pixel Matrix mit Zahlenwerten von 0-255. \n",
    "\n",
    "(0 = schwarz, 255 = weiss, dazwischen Graustufen)"
   ]
  },
  {
   "cell_type": "code",
   "execution_count": 2,
   "metadata": {},
   "outputs": [],
   "source": [
    "img = torch.tensor(\n",
    "       [[  0,   0,   0,   0,   0,   0,   0,   0,   0,   0,   0,   0,   0,   0,\n",
    "           0,   0,   0,   0,   0,   0,   0,   0,   0,   0,   0,   0,   0,   0],\n",
    "        [  0,   0,   0,   0,   0,   0,   0,   0,   0,   0,   0,   0,   0,   0,\n",
    "           0,   0,   0,   0,   0,   0,   0,   0,   0,   0,   0,   0,   0,   0],\n",
    "        [  0,   0,   0,   0,   0,   0,   0,   0,   0,   0,   0,   0,   0,   0,\n",
    "           0,   0,   0,   0,   0,   0,   0,   0,   0,   0,   0,   0,   0,   0],\n",
    "        [  0,   0,   0,   0,   0,   0,   0,   0,   0,   0,   0,   0,   0,   0,\n",
    "           0,   0,   0,   0,   0,   0,   0,   0,   0,   0,   0,   0,   0,   0],\n",
    "        [  0,   0,   0,   0,   0,   0,   0,   0,   0,   0,   0,   0,   0,   0,\n",
    "           0,   0,   0,   0,   0,   0,   0,   0,   0,   0,   0,   0,   0,   0],\n",
    "        [  0,   0,   0,   0,   0,   0,   0,   0,   0,   0,   0,   0,   3,  18,\n",
    "          18,  18, 126, 136, 175,  26, 166, 255, 247, 127,   0,   0,   0,   0],\n",
    "        [  0,   0,   0,   0,   0,   0,   0,   0,  30,  36,  94, 154, 170, 253,\n",
    "         253, 253, 253, 253, 225, 172, 253, 242, 195,  64,   0,   0,   0,   0],\n",
    "        [  0,   0,   0,   0,   0,   0,   0,  49, 238, 253, 253, 253, 253, 253,\n",
    "         253, 253, 253, 251,  93,  82,  82,  56,  39,   0,   0,   0,   0,   0],\n",
    "        [  0,   0,   0,   0,   0,   0,   0,  18, 219, 253, 253, 253, 253, 253,\n",
    "         198, 182, 247, 241,   0,   0,   0,   0,   0,   0,   0,   0,   0,   0],\n",
    "        [  0,   0,   0,   0,   0,   0,   0,   0,  80, 156, 107, 253, 253, 205,\n",
    "          11,   0,  43, 154,   0,   0,   0,   0,   0,   0,   0,   0,   0,   0],\n",
    "        [  0,   0,   0,   0,   0,   0,   0,   0,   0,  14,   1, 154, 253,  90,\n",
    "           0,   0,   0,   0,   0,   0,   0,   0,   0,   0,   0,   0,   0,   0],\n",
    "        [  0,   0,   0,   0,   0,   0,   0,   0,   0,   0,   0, 139, 253, 190,\n",
    "           2,   0,   0,   0,   0,   0,   0,   0,   0,   0,   0,   0,   0,   0],\n",
    "        [  0,   0,   0,   0,   0,   0,   0,   0,   0,   0,   0,  11, 190, 253,\n",
    "          70,   0,   0,   0,   0,   0,   0,   0,   0,   0,   0,   0,   0,   0],\n",
    "        [  0,   0,   0,   0,   0,   0,   0,   0,   0,   0,   0,   0,  35, 241,\n",
    "         225, 160, 108,   1,   0,   0,   0,   0,   0,   0,   0,   0,   0,   0],\n",
    "        [  0,   0,   0,   0,   0,   0,   0,   0,   0,   0,   0,   0,   0,  81,\n",
    "         240, 253, 253, 119,  25,   0,   0,   0,   0,   0,   0,   0,   0,   0],\n",
    "        [  0,   0,   0,   0,   0,   0,   0,   0,   0,   0,   0,   0,   0,   0,\n",
    "          45, 186, 253, 253, 150,  27,   0,   0,   0,   0,   0,   0,   0,   0],\n",
    "        [  0,   0,   0,   0,   0,   0,   0,   0,   0,   0,   0,   0,   0,   0,\n",
    "           0,  16,  93, 252, 253, 187,   0,   0,   0,   0,   0,   0,   0,   0],\n",
    "        [  0,   0,   0,   0,   0,   0,   0,   0,   0,   0,   0,   0,   0,   0,\n",
    "           0,   0,   0, 249, 253, 249,  64,   0,   0,   0,   0,   0,   0,   0],\n",
    "        [  0,   0,   0,   0,   0,   0,   0,   0,   0,   0,   0,   0,   0,   0,\n",
    "          46, 130, 183, 253, 253, 207,   2,   0,   0,   0,   0,   0,   0,   0],\n",
    "        [  0,   0,   0,   0,   0,   0,   0,   0,   0,   0,   0,   0,  39, 148,\n",
    "         229, 253, 253, 253, 250, 182,   0,   0,   0,   0,   0,   0,   0,   0],\n",
    "        [  0,   0,   0,   0,   0,   0,   0,   0,   0,   0,  24, 114, 221, 253,\n",
    "         253, 253, 253, 201,  78,   0,   0,   0,   0,   0,   0,   0,   0,   0],\n",
    "        [  0,   0,   0,   0,   0,   0,   0,   0,  23,  66, 213, 253, 253, 253,\n",
    "         253, 198,  81,   2,   0,   0,   0,   0,   0,   0,   0,   0,   0,   0],\n",
    "        [  0,   0,   0,   0,   0,   0,  18, 171, 219, 253, 253, 253, 253, 195,\n",
    "          80,   9,   0,   0,   0,   0,   0,   0,   0,   0,   0,   0,   0,   0],\n",
    "        [  0,   0,   0,   0,  55, 172, 226, 253, 253, 253, 253, 244, 133,  11,\n",
    "           0,   0,   0,   0,   0,   0,   0,   0,   0,   0,   0,   0,   0,   0],\n",
    "        [  0,   0,   0,   0, 136, 253, 253, 253, 212, 135, 132,  16,   0,   0,\n",
    "           0,   0,   0,   0,   0,   0,   0,   0,   0,   0,   0,   0,   0,   0],\n",
    "        [  0,   0,   0,   0,   0,   0,   0,   0,   0,   0,   0,   0,   0,   0,\n",
    "           0,   0,   0,   0,   0,   0,   0,   0,   0,   0,   0,   0,   0,   0],\n",
    "        [  0,   0,   0,   0,   0,   0,   0,   0,   0,   0,   0,   0,   0,   0,\n",
    "           0,   0,   0,   0,   0,   0,   0,   0,   0,   0,   0,   0,   0,   0],\n",
    "        [  0,   0,   0,   0,   0,   0,   0,   0,   0,   0,   0,   0,   0,   0,\n",
    "           0,   0,   0,   0,   0,   0,   0,   0,   0,   0,   0,   0,   0,   0]],\n",
    "       dtype=torch.float)"
   ]
  },
  {
   "cell_type": "markdown",
   "metadata": {},
   "source": [
    "So kann man sich die Dimensionen des Tensors anschauen:"
   ]
  },
  {
   "cell_type": "code",
   "execution_count": 3,
   "metadata": {},
   "outputs": [
    {
     "data": {
      "text/plain": [
       "torch.Size([28, 28])"
      ]
     },
     "execution_count": 3,
     "metadata": {},
     "output_type": "execute_result"
    }
   ],
   "source": [
    "img.size()"
   ]
  },
  {
   "cell_type": "markdown",
   "metadata": {},
   "source": [
    "Und so sieht es aus, wenn man die Zahlen als Bild interpretiert (eine Zahl 5 aus dem MNIST Datensatz):"
   ]
  },
  {
   "cell_type": "code",
   "execution_count": 4,
   "metadata": {},
   "outputs": [
    {
     "data": {
      "text/plain": [
       "<matplotlib.image.AxesImage at 0x7f039fd28470>"
      ]
     },
     "execution_count": 4,
     "metadata": {},
     "output_type": "execute_result"
    },
    {
     "data": {
      "image/png": "[encoded data removed]",
      "text/plain": [
       "<Figure size 432x288 with 1 Axes>"
      ]
     },
     "metadata": {
      "needs_background": "light"
     },
     "output_type": "display_data"
    }
   ],
   "source": [
    "pyplot.imshow(img, cmap=\"gray\")"
   ]
  },
  {
   "cell_type": "markdown",
   "metadata": {},
   "source": [
    "Jetzt klopfen wir den Tensor flach. Aus einer 28 x 28 Matrix wird ein Vektor mit 784 \"Input Pixeln\". Das sind die gleichen Zahlenwerte - nur nicht mehr in 28 Reihen sondern alle in einer Reihe aneinander gehängt."
   ]
  },
  {
   "cell_type": "code",
   "execution_count": 5,
   "metadata": {},
   "outputs": [],
   "source": [
    "input_tensor = img.flatten()"
   ]
  },
  {
   "cell_type": "code",
   "execution_count": 6,
   "metadata": {},
   "outputs": [
    {
     "data": {
      "text/plain": [
       "torch.Size([784])"
      ]
     },
     "execution_count": 6,
     "metadata": {},
     "output_type": "execute_result"
    }
   ],
   "source": [
    "input_tensor.size()"
   ]
  },
  {
   "cell_type": "markdown",
   "metadata": {},
   "source": [
    "Jetzt schauen wir uns mal den Wert an Stelle 180 an:"
   ]
  },
  {
   "cell_type": "code",
   "execution_count": 8,
   "metadata": {},
   "outputs": [
    {
     "data": {
      "text/plain": [
       "tensor(170.)"
      ]
     },
     "execution_count": 8,
     "metadata": {},
     "output_type": "execute_result"
    }
   ],
   "source": [
    "input_tensor[180]"
   ]
  },
  {
   "cell_type": "markdown",
   "metadata": {},
   "source": [
    "Der Wert beträgt 170 ...\n",
    "\n",
    "... nun schauen wir an was der größte Wert in dem Vektor ist:"
   ]
  },
  {
   "cell_type": "code",
   "execution_count": 9,
   "metadata": {},
   "outputs": [
    {
     "data": {
      "text/plain": [
       "tensor(255.)"
      ]
     },
     "execution_count": 9,
     "metadata": {},
     "output_type": "execute_result"
    }
   ],
   "source": [
    "max(input_tensor)"
   ]
  },
  {
   "cell_type": "markdown",
   "metadata": {},
   "source": [
    "Wie zu erwarten war, ist es 255 (weiß - sicher sind einige Pixel in dem Bild weiß - größere Zahlen kann es bei einem solchen Bild nicht geben).\n",
    "\n",
    "Jetzt machen wir eine einfache \"Normalisierung\" und teilen alle Werte des Vektors durch 255.\n",
    "\n",
    "Damit ändern wir den Zahlenbereich im Vektor von 0-255 auf 0-1. Mit diesem Schritt kann man Probleme beim Training verringern - vor allem bei tieferen neuronalen Netzen wird das sehr wichtig."
   ]
  },
  {
   "cell_type": "code",
   "execution_count": 10,
   "metadata": {},
   "outputs": [],
   "source": [
    "normalized_input_tensor = input_tensor / 255"
   ]
  },
  {
   "cell_type": "markdown",
   "metadata": {},
   "source": [
    "Der Wert an der Stelle 180 (den wir vorher schon angesehen haben) ist jetzt 0.6667\n",
    "\n",
    "Die Zahlen stehen aber noch im gleichen Verhältnis 0,66 ist 2/3 von 1 sowie 170 2/3 von 255 ist."
   ]
  },
  {
   "cell_type": "code",
   "execution_count": 11,
   "metadata": {},
   "outputs": [
    {
     "data": {
      "text/plain": [
       "tensor(0.6667)"
      ]
     },
     "execution_count": 11,
     "metadata": {},
     "output_type": "execute_result"
    }
   ],
   "source": [
    "normalized_input_tensor[180]"
   ]
  },
  {
   "cell_type": "code",
   "execution_count": 12,
   "metadata": {},
   "outputs": [
    {
     "data": {
      "text/plain": [
       "tensor(1.)"
      ]
     },
     "execution_count": 12,
     "metadata": {},
     "output_type": "execute_result"
    }
   ],
   "source": [
    "max(normalized_input_tensor)"
   ]
  },
  {
   "cell_type": "markdown",
   "metadata": {},
   "source": [
    "Wie zu erwarten ist die größte Zahl im Vektor jetzt 1\n",
    "\n",
    "Jetzt initialisieren wir unsere erste Weight Matrix mit Parametern, die gelernt werden können. Anders als im Video wählen wir nicht 784x3 sondern 784x20 - im Video wurde nur eine kleinere Zahl gewählt, damit es auf eine Folie passt und übersichtlicher aussieht. \n",
    "\n",
    "Die Zahlen sind zunächst (kleine) Zufallszahlen. (was requires_grad bedeutet überspringen wir an dieser Stelle - dazu kommen wir später)\n",
    "\n",
    "Wir teilen die Zufallszahlen durch die Wurzel aus der Größe der Input Schicht - wir tun dies, um die Weights auf einen \"sinnvollen\" Werte-Bereich zu initialisieren. Wenn wir das nicht tun, kann es sein, dass die Weights zu groß sind und unser neuronales Netz nicht lernt. Wenn man später als \"Practitioner\" libraries wie fast.ai verwendet muss man sich i.d.R. um solche Details nicht mehr sorgen - man sollte jedoch mal gesehen haben welche kleinen Änderungen wichtig sind und welche Auswirkungen sie haben."
   ]
  },
  {
   "cell_type": "code",
   "execution_count": 13,
   "metadata": {},
   "outputs": [
    {
     "data": {
      "text/plain": [
       "tensor([[ 0.0709,  0.0491, -0.0113,  ..., -0.1134, -0.0484,  0.0423],\n",
       "        [ 0.0275, -0.0163,  0.0449,  ..., -0.0510, -0.0339,  0.0039],\n",
       "        [ 0.0048, -0.0214,  0.0149,  ...,  0.0238,  0.0479,  0.0172],\n",
       "        ...,\n",
       "        [ 0.0183,  0.0142, -0.0364,  ...,  0.0249,  0.0103, -0.0155],\n",
       "        [ 0.0376,  0.0095, -0.0259,  ..., -0.0292,  0.0300,  0.0145],\n",
       "        [-0.0711,  0.0098,  0.0280,  ..., -0.0305,  0.0248,  0.0266]],\n",
       "       requires_grad=True)"
      ]
     },
     "execution_count": 13,
     "metadata": {},
     "output_type": "execute_result"
    }
   ],
   "source": [
    "weights_tensor = torch.randn((784, 20)) / math.sqrt(784)\n",
    "weights_tensor.requires_grad_()"
   ]
  },
  {
   "cell_type": "code",
   "execution_count": 14,
   "metadata": {},
   "outputs": [
    {
     "data": {
      "text/plain": [
       "torch.Size([784, 20])"
      ]
     },
     "execution_count": 14,
     "metadata": {},
     "output_type": "execute_result"
    }
   ],
   "source": [
    "weights_tensor.size()"
   ]
  },
  {
   "cell_type": "markdown",
   "metadata": {},
   "source": [
    "Jetzt berechnen wir wie im Video zuvor einige \"Activations\". Dazu machen wir eine Matrix-Multiplikation mit dem Input @ weights"
   ]
  },
  {
   "cell_type": "code",
   "execution_count": 15,
   "metadata": {},
   "outputs": [],
   "source": [
    "first_activation = normalized_input_tensor @ weights_tensor"
   ]
  },
  {
   "cell_type": "code",
   "execution_count": 16,
   "metadata": {},
   "outputs": [
    {
     "data": {
      "text/plain": [
       "tensor([ 0.4648, -0.2565, -0.2170, -0.0207, -0.0053, -0.2155,  0.2570,  0.8265,\n",
       "        -0.2769,  0.0166, -0.2813, -0.1770,  0.6283, -0.3816, -0.5381, -0.2982,\n",
       "         0.1364,  0.0474,  0.0845,  0.8909], grad_fn=<SqueezeBackward3>)"
      ]
     },
     "execution_count": 16,
     "metadata": {},
     "output_type": "execute_result"
    }
   ],
   "source": [
    "first_activation"
   ]
  },
  {
   "cell_type": "markdown",
   "metadata": {},
   "source": [
    "Das ist das Ergebnis unserer ersten Matrix-Multiplikation.\n",
    "\n",
    "Anders als im Video Beispiel hat diese jetzt auch wieder eine Size von 20, da wir ja eine größere Weight Matrix gewählt haben."
   ]
  },
  {
   "cell_type": "code",
   "execution_count": 17,
   "metadata": {},
   "outputs": [
    {
     "data": {
      "text/plain": [
       "torch.Size([20])"
      ]
     },
     "execution_count": 17,
     "metadata": {},
     "output_type": "execute_result"
    }
   ],
   "source": [
    "first_activation.size()"
   ]
  },
  {
   "cell_type": "markdown",
   "metadata": {},
   "source": [
    "Jetzt kommt die Aktivierungs-Funktion, um auch nichtlineare Zusammenhänge lernen zu können. \n",
    "Im Prinzip setzt diese alle negativen Activations aus dem vorigen Schritt auf 0."
   ]
  },
  {
   "cell_type": "code",
   "execution_count": 18,
   "metadata": {},
   "outputs": [],
   "source": [
    "second_activation = first_activation.relu()"
   ]
  },
  {
   "cell_type": "code",
   "execution_count": 19,
   "metadata": {},
   "outputs": [
    {
     "data": {
      "text/plain": [
       "tensor([0.4648, 0.0000, 0.0000, 0.0000, 0.0000, 0.0000, 0.2570, 0.8265, 0.0000,\n",
       "        0.0166, 0.0000, 0.0000, 0.6283, 0.0000, 0.0000, 0.0000, 0.1364, 0.0474,\n",
       "        0.0845, 0.8909], grad_fn=<ReluBackward0>)"
      ]
     },
     "execution_count": 19,
     "metadata": {},
     "output_type": "execute_result"
    }
   ],
   "source": [
    "second_activation"
   ]
  },
  {
   "cell_type": "markdown",
   "metadata": {},
   "source": [
    "Jetzt initialisieren wir die zweite Weight Matrix (wie im Video Beispiel). Hier müssen wir jetzt auch wieder die Size von 3 auf 20 anpassen, damit die Matrix-Multiplikationen zusammen passen. Nach wie vor wollen wir aber eine Output Größe von 10 haben (in unserem Beispiel wollen wir ja Zahlen von 0-9) vorhersagen."
   ]
  },
  {
   "cell_type": "code",
   "execution_count": 20,
   "metadata": {},
   "outputs": [
    {
     "data": {
      "text/plain": [
       "tensor([[-0.3217, -0.1658, -0.1002, -0.0118,  0.1398,  0.0364, -0.4123, -0.4690,\n",
       "         -0.0251,  0.2049],\n",
       "        [-0.1033, -0.1347, -0.1785,  0.1315, -0.0859,  0.0683,  0.2472, -0.2014,\n",
       "          0.0275, -0.1777],\n",
       "        [ 0.1271, -0.0505,  0.2591,  0.2185, -0.1271, -0.0588,  0.0744,  0.1203,\n",
       "         -0.1962,  0.2719],\n",
       "        [-0.0966,  0.0549,  0.0156, -0.2347,  0.2272, -0.0769,  0.2181, -0.0015,\n",
       "          0.3081,  0.0506],\n",
       "        [-0.0295, -0.0644, -0.1373, -0.4730,  0.4357,  0.6219, -0.2074,  0.1209,\n",
       "         -0.0301, -0.0933],\n",
       "        [ 0.2122,  0.1681,  0.0666,  0.2682, -0.2153, -0.0441, -0.1573,  0.3228,\n",
       "         -0.0706, -0.1233],\n",
       "        [ 0.2377, -0.0466,  0.1569,  0.1227, -0.1186, -0.1644,  0.0051, -0.2367,\n",
       "         -0.1927, -0.2800],\n",
       "        [ 0.0195,  0.5450,  0.2424, -0.1660,  0.0398,  0.1289,  0.0326,  0.0711,\n",
       "          0.2537, -0.1346],\n",
       "        [ 0.1447, -0.3694, -0.4861,  0.1395, -0.1010,  0.2717, -0.4100, -0.2371,\n",
       "         -0.2125, -0.3049],\n",
       "        [-0.1234, -0.0783,  0.0548,  0.2372, -0.1732, -0.3446, -0.1513,  0.3203,\n",
       "          0.1945, -0.4684],\n",
       "        [ 0.1703, -0.0776, -0.3876,  0.1482, -0.1498, -0.0226, -0.1076,  0.1837,\n",
       "          0.3148,  0.0971],\n",
       "        [ 0.0426,  0.0849,  0.4068,  0.1590, -0.0160,  0.1641, -0.1920,  0.1740,\n",
       "          0.1802, -0.1496],\n",
       "        [ 0.4141, -0.0503,  0.0870, -0.1143, -0.1764,  0.2739,  0.0615,  0.0816,\n",
       "          0.0068,  0.1801],\n",
       "        [-0.1925,  0.2593, -0.1595,  0.0304,  0.3676,  0.0274, -0.2690,  0.2074,\n",
       "          0.0767,  0.0966],\n",
       "        [ 0.0356,  0.0798, -0.0847,  0.4734, -0.3009, -0.0776, -0.2825, -0.0098,\n",
       "          0.0870, -0.1692],\n",
       "        [-0.0322, -0.1606,  0.1263, -0.1227, -0.1426,  0.0549, -0.2455,  0.0673,\n",
       "         -0.1719, -0.0550],\n",
       "        [ 0.0902, -0.1599, -0.2140,  0.0820, -0.3894, -0.1015,  0.0223,  0.4411,\n",
       "          0.0700,  0.0087],\n",
       "        [-0.0388,  0.0430, -0.4232, -0.0025,  0.3661, -0.0845, -0.0180, -0.3336,\n",
       "          0.2531, -0.4339],\n",
       "        [ 0.3438,  0.1336,  0.0951, -0.0619,  0.2687,  0.0290, -0.0470, -0.3158,\n",
       "         -0.2922, -0.1497],\n",
       "        [ 0.1292, -0.3907, -0.1291, -0.6043, -0.1656, -0.2958, -0.3104, -0.1495,\n",
       "         -0.0518,  0.0024]], requires_grad=True)"
      ]
     },
     "execution_count": 20,
     "metadata": {},
     "output_type": "execute_result"
    }
   ],
   "source": [
    "more_weights_tensor = torch.randn((20, 10)) / math.sqrt(20)\n",
    "more_weights_tensor.requires_grad_()"
   ]
  },
  {
   "cell_type": "markdown",
   "metadata": {},
   "source": [
    "... eine weitere Matrix-Multiplikation ..."
   ]
  },
  {
   "cell_type": "code",
   "execution_count": 21,
   "metadata": {},
   "outputs": [],
   "source": [
    "output = second_activation @ more_weights_tensor"
   ]
  },
  {
   "cell_type": "code",
   "execution_count": 22,
   "metadata": {},
   "outputs": [
    {
     "data": {
      "text/plain": [
       "tensor([ 0.3404, -0.0280,  0.0935, -0.7115, -0.2068, -0.0314, -0.4057, -0.2790,\n",
       "         0.1067, -0.0124], grad_fn=<SqueezeBackward3>)"
      ]
     },
     "execution_count": 22,
     "metadata": {},
     "output_type": "execute_result"
    }
   ],
   "source": [
    "output"
   ]
  },
  {
   "cell_type": "code",
   "execution_count": 23,
   "metadata": {},
   "outputs": [
    {
     "data": {
      "text/plain": [
       "torch.Size([10])"
      ]
     },
     "execution_count": 23,
     "metadata": {},
     "output_type": "execute_result"
    }
   ],
   "source": [
    "output.size()"
   ]
  },
  {
   "cell_type": "markdown",
   "metadata": {},
   "source": [
    "Und das ist jetzt erstmal unser Output. Der Vektor hat die richtige Dimension. Die Zahlen darin sind bis hierhin erstmal **völlig bedeutungslos**.\n",
    "\n",
    "Wir haben einmal das Modell mit Zufallszahlen durchgerechnet und geschaut, was am Ende raus kommt -> Zufallszahlen."
   ]
  },
  {
   "cell_type": "markdown",
   "metadata": {},
   "source": [
    "### Label definieren\n",
    "\n",
    "An dieser Stelle definieren wir jetzt ein Label. Das Label ist das was wir vom neuronalen Netz erwarten. \n",
    "\n",
    "Wenn ich vorne ein Bild einer 5 rein gebe, dann soll folgendes herauskommen:"
   ]
  },
  {
   "cell_type": "code",
   "execution_count": 24,
   "metadata": {},
   "outputs": [],
   "source": [
    "label = torch.tensor([0, 0, 0, 0, 0, 1, 0, 0, 0, 0], dtype=torch.float)"
   ]
  },
  {
   "cell_type": "markdown",
   "metadata": {},
   "source": [
    "Diese verbreitete Form eines Labels nennt man auch \"one-hot encoded vector\". Es ist Vektor der verschiedene Klassen abbilden kann - der Eintrag an der Stelle 0 ist die Wahrscheinlichkeit für eine 0. Der Wert an der Stelle 5 ist die Wahrscheinlichkeit für eine 5 etc. (Es könnte aber auch etwas völlig anderes bedeuten - z.B. Stelle 0 = Katze, Stelle 3 = Hund etc.)\n",
    "\n",
    "Da wir ja ein Bild einer 5 betrachten, soll also das label[5] = 1 und alles andere 0 sein."
   ]
  },
  {
   "cell_type": "markdown",
   "metadata": {},
   "source": [
    "Jetzt fügen wir dem Output noch eine weitere Aktivierungs-Funktion hinzu und haben unsere \"prediction\" - also unsere Vorhersage. Diese bringt die Zahlen Werte in einen Bereich von 0-1 (warum ist an dieser Stelle nicht relevant - wir tun es einfach :) )"
   ]
  },
  {
   "cell_type": "code",
   "execution_count": 25,
   "metadata": {},
   "outputs": [],
   "source": [
    "prediction = output.sigmoid()"
   ]
  },
  {
   "cell_type": "markdown",
   "metadata": {},
   "source": [
    "Hier jetzt die aktuelle Vorhersage des Modells (gerundet, dass man es besser lesen kann):"
   ]
  },
  {
   "cell_type": "code",
   "execution_count": 26,
   "metadata": {},
   "outputs": [
    {
     "data": {
      "text/plain": [
       "tensor([1., 0., 1., 0., 0., 0., 0., 0., 1., 0.], grad_fn=<RoundBackward>)"
      ]
     },
     "execution_count": 26,
     "metadata": {},
     "output_type": "execute_result"
    }
   ],
   "source": [
    "prediction.round()"
   ]
  },
  {
   "cell_type": "markdown",
   "metadata": {},
   "source": [
    "### Loss Funktion\n",
    "\n",
    "Unsere Loss Funktion soll uns den Fehler zwischen unserer prediction und dem label berechnen. Wir verwenden eine bestehende pytorch Funktion. (Warum genau diese, ist an dieser Stelle auch noch nicht relevant. Diese Loss Funktion eignet sich eben besonders gut für Klassifikations-Probleme.)"
   ]
  },
  {
   "cell_type": "code",
   "execution_count": 27,
   "metadata": {},
   "outputs": [],
   "source": [
    "loss_func = torch.nn.functional.binary_cross_entropy"
   ]
  },
  {
   "cell_type": "markdown",
   "metadata": {},
   "source": [
    "Nun berechnen wir einmal beispielhaft den aktuellen Loss, also den Fehler oder den \"Abstand\" zwischen unserer prediction und dem label. "
   ]
  },
  {
   "cell_type": "code",
   "execution_count": 28,
   "metadata": {},
   "outputs": [
    {
     "data": {
      "text/plain": [
       "tensor(0.6510, grad_fn=<BinaryCrossEntropyBackward>)"
      ]
     },
     "execution_count": 28,
     "metadata": {},
     "output_type": "execute_result"
    }
   ],
   "source": [
    "loss_func(prediction, label)"
   ]
  },
  {
   "cell_type": "markdown",
   "metadata": {},
   "source": [
    "Das ist unser loss - was sagt uns das? Erstmal noch gar nichts (auch hier sind wir immer bei völlig aussagslosen Zufallszahlen.)"
   ]
  },
  {
   "cell_type": "markdown",
   "metadata": {},
   "source": [
    "Jetzt machen wir eine \"manuelle Vorhersage\". Wir definieren einfach eine prediction wie sie uns gefällt. Sind bei dieser prediction mehr Einsen und Nullen an der richtigen Stelle sollte der folgende Loss kleiner weren - ansonsten größer:"
   ]
  },
  {
   "cell_type": "code",
   "execution_count": 29,
   "metadata": {},
   "outputs": [],
   "source": [
    "manual_prediction = torch.tensor([0, 0, 0, 0, 0, 1, 0, 1, 1, 0], dtype=torch.float)"
   ]
  },
  {
   "cell_type": "code",
   "execution_count": 30,
   "metadata": {},
   "outputs": [
    {
     "data": {
      "text/plain": [
       "tensor(5.5262)"
      ]
     },
     "execution_count": 30,
     "metadata": {},
     "output_type": "execute_result"
    }
   ],
   "source": [
    "loss_func(manual_prediction, label)"
   ]
  },
  {
   "cell_type": "markdown",
   "metadata": {},
   "source": [
    "Was passiert wenn alle Zahlen richtig vorhergesagt werden? Wenn unsere prediction gleich dem label ist?"
   ]
  },
  {
   "cell_type": "code",
   "execution_count": 31,
   "metadata": {},
   "outputs": [
    {
     "data": {
      "text/plain": [
       "tensor(0.)"
      ]
     },
     "execution_count": 31,
     "metadata": {},
     "output_type": "execute_result"
    }
   ],
   "source": [
    "loss_func(label, label)"
   ]
  },
  {
   "cell_type": "markdown",
   "metadata": {},
   "source": [
    "... je ähnlicher Prediction und Label werden, desto mehr geht der Loss gegen 0. Wenn Prediction = Label ist, ist der Loss 0."
   ]
  },
  {
   "cell_type": "markdown",
   "metadata": {},
   "source": [
    "# Modell optimieren\n",
    "\n",
    "(Kleiner Vorausblick)\n",
    "\n",
    "Jetzt optimieren wir in ein paar Schritten unsere weight so, dass die prediction möglichst nah an das label heran kommt. Das ist das (vereinfachte) Prinzip, wie neuronale Netze lernen. Wir werden es in einem folgenden Video noch genauer betrachten.\n",
    "\n",
    "Daher gehe ich einfach die Schritte durch, ohne diese detailliert zu erklären.\n",
    "\n",
    "Zunächst berechnen wir den Loss als Tensor."
   ]
  },
  {
   "cell_type": "code",
   "execution_count": 32,
   "metadata": {},
   "outputs": [
    {
     "data": {
      "text/plain": [
       "tensor(0.6510, grad_fn=<BinaryCrossEntropyBackward>)"
      ]
     },
     "execution_count": 32,
     "metadata": {},
     "output_type": "execute_result"
    }
   ],
   "source": [
    "loss = loss_func(prediction, label)\n",
    "loss"
   ]
  },
  {
   "cell_type": "markdown",
   "metadata": {},
   "source": [
    "Wir fordern pytorch dazu auf eine \"Backpropagation\" zu machen und die Gradienten für die weight Matrizen zu ermitteln."
   ]
  },
  {
   "cell_type": "code",
   "execution_count": 33,
   "metadata": {},
   "outputs": [],
   "source": [
    "loss.backward()"
   ]
  },
  {
   "cell_type": "code",
   "execution_count": 34,
   "metadata": {},
   "outputs": [
    {
     "data": {
      "text/plain": [
       "tensor([[ 0.0272,  0.0229,  0.0243,  0.0153,  0.0208, -0.0236,  0.0186,  0.0200,\n",
       "          0.0245,  0.0231],\n",
       "        [ 0.0000,  0.0000,  0.0000,  0.0000,  0.0000, -0.0000,  0.0000,  0.0000,\n",
       "          0.0000,  0.0000],\n",
       "        [ 0.0000,  0.0000,  0.0000,  0.0000,  0.0000, -0.0000,  0.0000,  0.0000,\n",
       "          0.0000,  0.0000],\n",
       "        [ 0.0000,  0.0000,  0.0000,  0.0000,  0.0000, -0.0000,  0.0000,  0.0000,\n",
       "          0.0000,  0.0000],\n",
       "        [ 0.0000,  0.0000,  0.0000,  0.0000,  0.0000, -0.0000,  0.0000,  0.0000,\n",
       "          0.0000,  0.0000],\n",
       "        [ 0.0000,  0.0000,  0.0000,  0.0000,  0.0000, -0.0000,  0.0000,  0.0000,\n",
       "          0.0000,  0.0000],\n",
       "        [ 0.0150,  0.0127,  0.0135,  0.0085,  0.0115, -0.0131,  0.0103,  0.0111,\n",
       "          0.0135,  0.0128],\n",
       "        [ 0.0483,  0.0407,  0.0433,  0.0272,  0.0371, -0.0420,  0.0331,  0.0356,\n",
       "          0.0435,  0.0411],\n",
       "        [ 0.0000,  0.0000,  0.0000,  0.0000,  0.0000, -0.0000,  0.0000,  0.0000,\n",
       "          0.0000,  0.0000],\n",
       "        [ 0.0010,  0.0008,  0.0009,  0.0005,  0.0007, -0.0008,  0.0007,  0.0007,\n",
       "          0.0009,  0.0008],\n",
       "        [ 0.0000,  0.0000,  0.0000,  0.0000,  0.0000, -0.0000,  0.0000,  0.0000,\n",
       "          0.0000,  0.0000],\n",
       "        [ 0.0000,  0.0000,  0.0000,  0.0000,  0.0000, -0.0000,  0.0000,  0.0000,\n",
       "          0.0000,  0.0000],\n",
       "        [ 0.0367,  0.0310,  0.0329,  0.0207,  0.0282, -0.0319,  0.0251,  0.0271,\n",
       "          0.0331,  0.0312],\n",
       "        [ 0.0000,  0.0000,  0.0000,  0.0000,  0.0000, -0.0000,  0.0000,  0.0000,\n",
       "          0.0000,  0.0000],\n",
       "        [ 0.0000,  0.0000,  0.0000,  0.0000,  0.0000, -0.0000,  0.0000,  0.0000,\n",
       "          0.0000,  0.0000],\n",
       "        [ 0.0000,  0.0000,  0.0000,  0.0000,  0.0000, -0.0000,  0.0000,  0.0000,\n",
       "          0.0000,  0.0000],\n",
       "        [ 0.0080,  0.0067,  0.0071,  0.0045,  0.0061, -0.0069,  0.0055,  0.0059,\n",
       "          0.0072,  0.0068],\n",
       "        [ 0.0028,  0.0023,  0.0025,  0.0016,  0.0021, -0.0024,  0.0019,  0.0020,\n",
       "          0.0025,  0.0024],\n",
       "        [ 0.0049,  0.0042,  0.0044,  0.0028,  0.0038, -0.0043,  0.0034,  0.0036,\n",
       "          0.0045,  0.0042],\n",
       "        [ 0.0521,  0.0439,  0.0466,  0.0293,  0.0400, -0.0452,  0.0356,  0.0384,\n",
       "          0.0469,  0.0443]])"
      ]
     },
     "execution_count": 34,
     "metadata": {},
     "output_type": "execute_result"
    }
   ],
   "source": [
    "more_weights_tensor.grad.data"
   ]
  },
  {
   "cell_type": "markdown",
   "metadata": {},
   "source": [
    "### Model definieren\n",
    "\n",
    "Hier definieren wir einfach nochmal die gleichen Berechnungen wir zuvor - nur in einer Funktion, so dass wir sie in einer Schleife immer wieder aufrufen können."
   ]
  },
  {
   "cell_type": "code",
   "execution_count": 36,
   "metadata": {},
   "outputs": [],
   "source": [
    "def model(x):\n",
    "    return ( ((x @ weights_tensor).relu()) @ more_weights_tensor).sigmoid()"
   ]
  },
  {
   "cell_type": "code",
   "execution_count": 37,
   "metadata": {},
   "outputs": [
    {
     "data": {
      "text/plain": [
       "tensor([0.5843, 0.4930, 0.5233, 0.3293, 0.4485, 0.4921, 0.3999, 0.4307, 0.5266,\n",
       "        0.4969], grad_fn=<SigmoidBackward>)"
      ]
     },
     "execution_count": 37,
     "metadata": {},
     "output_type": "execute_result"
    }
   ],
   "source": [
    "model(normalized_input_tensor)"
   ]
  },
  {
   "cell_type": "markdown",
   "metadata": {},
   "source": [
    "Wir machen eine prediction mit dem aktuellen Modell für unseren input Tensor (das Bild der 5):"
   ]
  },
  {
   "cell_type": "code",
   "execution_count": 38,
   "metadata": {},
   "outputs": [
    {
     "data": {
      "text/plain": [
       "tensor([0.5843, 0.4930, 0.5233, 0.3293, 0.4485, 0.4921, 0.3999, 0.4307, 0.5266,\n",
       "        0.4969], grad_fn=<SigmoidBackward>)"
      ]
     },
     "execution_count": 38,
     "metadata": {},
     "output_type": "execute_result"
    }
   ],
   "source": [
    "new_pred = model(normalized_input_tensor)\n",
    "new_pred"
   ]
  },
  {
   "cell_type": "markdown",
   "metadata": {},
   "source": [
    "... ermitteln den loss (als den Fehler zwischen Vorhersage und label) und machen eine backpropagation"
   ]
  },
  {
   "cell_type": "code",
   "execution_count": 39,
   "metadata": {},
   "outputs": [],
   "source": [
    "loss = loss_func(new_pred, label)\n",
    "loss.backward()"
   ]
  },
  {
   "cell_type": "markdown",
   "metadata": {},
   "source": [
    "Jetzt verwenden wir die Gradienten, um die Weights ein kleines bisschen in die richtige Richtung zu optimieren:"
   ]
  },
  {
   "cell_type": "code",
   "execution_count": 40,
   "metadata": {},
   "outputs": [],
   "source": [
    "lr = 0.1\n",
    "with torch.no_grad():\n",
    "    weights_tensor -= weights_tensor.grad * lr\n",
    "    more_weights_tensor -= more_weights_tensor.grad * lr\n",
    "    weights_tensor.grad.zero_()\n",
    "    more_weights_tensor.grad.zero_()"
   ]
  },
  {
   "cell_type": "code",
   "execution_count": 41,
   "metadata": {},
   "outputs": [
    {
     "data": {
      "text/plain": [
       "tensor(0.5218, grad_fn=<BinaryCrossEntropyBackward>)"
      ]
     },
     "execution_count": 41,
     "metadata": {},
     "output_type": "execute_result"
    }
   ],
   "source": [
    "new_pred = model(normalized_input_tensor)\n",
    "loss_func(new_pred, label)"
   ]
  },
  {
   "cell_type": "markdown",
   "metadata": {},
   "source": [
    "... und wir sehen, dass unser Fehler tatsächlich etwas kleiner geworden ist."
   ]
  },
  {
   "cell_type": "markdown",
   "metadata": {},
   "source": [
    "## iterative Optimierung\n",
    "\n",
    "Wenn wir diese einfachen Optimierungsschritte jetzt ganz oft aufrufen, dann werden die Gewichte immer mehr so angepasst, dass sich die prediction immer mehr dem label annähert (der loss kleiner wird):"
   ]
  },
  {
   "cell_type": "code",
   "execution_count": 42,
   "metadata": {},
   "outputs": [
    {
     "name": "stdout",
     "output_type": "stream",
     "text": [
      "Loss:  0.521828830242157\n",
      "Loss:  0.0037695704959332943\n",
      "Loss:  0.0015075983246788383\n",
      "Loss:  0.0009094176930375397\n",
      "Loss:  0.0006413256051018834\n",
      "Loss:  0.0004911682335659862\n",
      "Loss:  0.00039589041261933744\n",
      "Loss:  0.0003304002166260034\n",
      "Loss:  0.000282724155113101\n",
      "Loss:  0.00024658729671500623\n"
     ]
    }
   ],
   "source": [
    "lr = 0.1\n",
    "for i in range(1000):\n",
    "    new_pred = model(normalized_input_tensor)\n",
    "    loss = loss_func(new_pred, label)\n",
    "    loss.backward()\n",
    "\n",
    "    with torch.no_grad():\n",
    "        weights_tensor -= weights_tensor.grad * lr\n",
    "        more_weights_tensor -= more_weights_tensor.grad * lr\n",
    "        weights_tensor.grad.zero_()\n",
    "        more_weights_tensor.grad.zero_()\n",
    "\n",
    "    if (i % 100 == 0): print(\"Loss: \", loss_func(new_pred, label).item())"
   ]
  },
  {
   "cell_type": "markdown",
   "metadata": {},
   "source": [
    "Nach der Optimierung sieht unser Vorhersage nun so aus: "
   ]
  },
  {
   "cell_type": "code",
   "execution_count": 43,
   "metadata": {},
   "outputs": [
    {
     "data": {
      "text/plain": [
       "tensor([2.5867e-04, 1.7404e-04, 2.3282e-04, 1.8259e-04, 2.6744e-04, 9.9972e-01,\n",
       "        1.1997e-04, 1.3128e-04, 2.6778e-04, 2.6336e-04],\n",
       "       grad_fn=<SigmoidBackward>)"
      ]
     },
     "execution_count": 43,
     "metadata": {},
     "output_type": "execute_result"
    }
   ],
   "source": [
    "model(normalized_input_tensor)"
   ]
  },
  {
   "cell_type": "markdown",
   "metadata": {},
   "source": [
    "Mit dieser Schreibweise ist auf einen ersten Blick erstmal nicht viel anzufangen. Schauen wir uns an welche Zahl am größten ist:"
   ]
  },
  {
   "cell_type": "code",
   "execution_count": 44,
   "metadata": {},
   "outputs": [
    {
     "data": {
      "text/plain": [
       "tensor(5)"
      ]
     },
     "execution_count": 44,
     "metadata": {},
     "output_type": "execute_result"
    }
   ],
   "source": [
    "model(normalized_input_tensor).argmax()"
   ]
  },
  {
   "cell_type": "markdown",
   "metadata": {},
   "source": [
    "Die Zahl an der Stelle 5 ist die Größte. Also die 5, die wir vorhersagen wollen.\n",
    "\n",
    "Runden wir die Zahlen auf und ab:"
   ]
  },
  {
   "cell_type": "code",
   "execution_count": 45,
   "metadata": {},
   "outputs": [
    {
     "data": {
      "text/plain": [
       "tensor([0., 0., 0., 0., 0., 1., 0., 0., 0., 0.], grad_fn=<RoundBackward>)"
      ]
     },
     "execution_count": 45,
     "metadata": {},
     "output_type": "execute_result"
    }
   ],
   "source": [
    "model(normalized_input_tensor).round()"
   ]
  },
  {
   "cell_type": "markdown",
   "metadata": {},
   "source": [
    "...sieht man deutlich besser, dass wir die Gewichte so optimiert haben, dass die prediction für die Pixel-Werte einer 5 zu dem gleichen Output Vector führen wir unser Label, das wir definiert haben."
   ]
  },
  {
   "cell_type": "markdown",
   "metadata": {},
   "source": [
    "# Fazit\n",
    "\n",
    "Was wir hier gemacht haben, war ein vereinfachtes Beispiel dafür, welche Rechenoperationen in einem neuronalen Netz stattfinden. Wir haben nur mit einem Bild \"trainiert\" und die Gewichte auf dieses Bild \"overfittet\". Auch die Architektur dieses Netzes ist nicht unbedingt \"eine Standard-Architektur\" (- man muss solche Architekturen auch nicht unbedingt selbst erfinden können).  \n",
    "\n",
    "ABER: Das was wir hier gesehen haben sind die Building Blocks von neuronalen Netzen. Das passiert unter der Haube. Matrix-Multiplikationen, Aktivierungsfunktionen, Ermittlung des Loss/Fehlers und Optimierungs-Schritte, um die Weights anzupassen - mehr nicht. Für moderne Deep Learning Verfahren und \"richtiges Training\" mit großen Datenmengen sind noch ein paar mehr Dinge nötig. Wir wollen ja nicht eine 5 \"auswändig lernen\" sondern generalisieren - trotzdem behalte dieses einfache Beispiel im Hinterkopf.\n"
   ]
  },
  {
   "cell_type": "markdown",
   "metadata": {},
   "source": [
    "# Aufgaben"
   ]
  },
  {
   "cell_type": "markdown",
   "metadata": {},
   "source": [
    "1. Verändere die Dimensionen der ersten weight Matrix auf 784x3 wie ursprünglich im Video Beispiel und versuche erneut das neuronale Netz zu optimieren.\n",
    "2. Wie groß ist nun der Tensor mit den Aktivierungen nach der relu Funktion?\n",
    "3. Was kann an dieser Stelle mit hoher Wahrscheinlichkeit passieren? Warum führt das dazu, dass das neuronale Netz nicht optimiert werden kann?\n",
    "4. Ersetze bei der Initilisierung der weight-Matrizen das `/ math.sqrt(n)` durch `* 10`. Versuche erneut das neuronale Netz zu optimieren. Was passiert?"
   ]
  },
  {
   "cell_type": "markdown",
   "metadata": {},
   "source": [
    "### Credits\n",
    "\n",
    "Das Notebook ist inspiriert von folgendem Artikel von Jeremy Howard: https://pytorch.org/tutorials/beginner/nn_tutorial.html\n",
    "\n"
   ]
  }
 ],
 "metadata": {
  "kernelspec": {
   "display_name": "Python 3",
   "language": "python",
   "name": "python3"
  },
  "language_info": {
   "codemirror_mode": {
    "name": "ipython",
    "version": 3
   },
   "file_extension": ".py",
   "mimetype": "text/x-python",
   "name": "python",
   "nbconvert_exporter": "python",
   "pygments_lexer": "ipython3",
   "version": "3.6.8"
  }
 },
 "nbformat": 4,
 "nbformat_minor": 2
}
