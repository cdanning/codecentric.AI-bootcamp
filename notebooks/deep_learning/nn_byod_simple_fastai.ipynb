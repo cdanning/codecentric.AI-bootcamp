{
 "cells": [
  {
   "cell_type": "markdown",
   "metadata": {},
   "source": [
    "# Simple Image Classifier - Bring Your Own Data\n",
    "\n",
    "## Neuronale Netze auf https://bootcamp.codecentric.ai\n",
    "\n",
    "Jetzt wird es Zeit, mit einem eigenen Dataset zu experimentieren.\n",
    "\n",
    "Hinweis: Wenn du auf einem Rechner trainierst, wo keine gut GPU verfügbar ist, kann dies sehr lange dauern. Evtl. möchtest du in dem Fall das Kapitel zu \"Training in der Cloud\" vorziehen und das Experiment dort durchführen.\n",
    "\n",
    "\n",
    "\n",
    "Imports und Settings"
   ]
  },
  {
   "cell_type": "code",
   "execution_count": null,
   "metadata": {},
   "outputs": [],
   "source": [
    "from fastai.basics import *\n",
    "from fastai.vision import *"
   ]
  },
  {
   "cell_type": "markdown",
   "metadata": {},
   "source": [
    "### Ordner festlegen, wo Daten liegen \n",
    "\n",
    "Überlege dir, welche Bilder du klassifizieren möchtest. \n",
    "Wenn du dich zum Beispiel für Vogel vs. Turnschuh entscheidest, lege eine Ordnerstruktur an - z.B.:\n",
    "\n",
    "- /data/byod/train/\n",
    " - vogel/bild1.jpg\n",
    " - vogel/bild2.jpg\n",
    " - vogel/...\n",
    " - turnschuh/bild1.jpg\n",
    " - turnschuh/...\n",
    " \n",
    "Die Namen der Ordner sind wichtig - das sind deine Label. Die Namen der Bilder sind egal (es müssen auch nicht nur jpg sein).\n",
    "\n",
    "Die Bilder werden anhand der Ordner \"gelabelt\".\n",
    "\n",
    "Wieviele Bilder braucht man dafür? Fang doch einfach mal mit 10-20 Bildern pro Kategorie an und probiere es aus ... Vllt. findest du auch eine Möglichkeit \"automatisiert\" mehrere Bilder herunter zu laden. \n",
    "\n",
    "Oft ist es ein großer Aufwand erstmal genügend Daten in der entsprechenden Qualität zu bekommen."
   ]
  },
  {
   "cell_type": "code",
   "execution_count": null,
   "metadata": {},
   "outputs": [],
   "source": [
    "DATA = \"/data/byod/\"\n",
    "TRAIN = DATA + \"train/\""
   ]
  },
  {
   "cell_type": "markdown",
   "metadata": {},
   "source": [
    "Der folgende Befehl macht:\n",
    "\n",
    "* Daten aus Ordner laden (bzw. einen Loader definieren)\n",
    "* Labels aus Ordner Namen zuordnen (alle Bilder im Ordner Kiwi sind Kiwis)\n",
    "* Split Train/Valid (20 %)\n",
    "* Bilder verkleinern (wenn du nur auf CPU trainierst wähle eine kleine Size, sonst dauert das Training sehr lang)\n",
    "* (und einiges mehr)"
   ]
  },
  {
   "cell_type": "code",
   "execution_count": null,
   "metadata": {},
   "outputs": [],
   "source": [
    "data = ImageDataBunch.from_folder(TRAIN, valid_pct=0.2, size=200, bs=20)"
   ]
  },
  {
   "cell_type": "markdown",
   "metadata": {},
   "source": [
    "Wie sehen unsere Daten aus? Einfach mal ein paar Beispiele der Trainigsdaten anzeigen:"
   ]
  },
  {
   "cell_type": "code",
   "execution_count": null,
   "metadata": {},
   "outputs": [],
   "source": [
    "data.show_batch(rows=3, figsize=(6, 6))"
   ]
  },
  {
   "cell_type": "markdown",
   "metadata": {},
   "source": [
    "Der folgende Befehl macht:\n",
    "\n",
    "* Erzeuge ein CNN\n",
    "* mit einer Standard Architektur (vortrainiertes ResNet)\n",
    "* Architektur wird automatisch auf neue Daten angepasst (Bildgrößen, Klassen, etc.)\n",
    "* gebe im Trainingsloop die Metrik \"Accuracy\" aus\n",
    "* unter der Haube werden viele Standard-Werte gesetzt (welcher Optimizer, Hyperparameter, Best Practices, ...)"
   ]
  },
  {
   "cell_type": "code",
   "execution_count": null,
   "metadata": {},
   "outputs": [],
   "source": [
    "learn = cnn_learner(data, models.resnet18, metrics=accuracy)"
   ]
  },
  {
   "cell_type": "markdown",
   "metadata": {},
   "source": [
    "### Start Training"
   ]
  },
  {
   "cell_type": "code",
   "execution_count": null,
   "metadata": {},
   "outputs": [],
   "source": [
    "learn.fit(1)"
   ]
  },
  {
   "cell_type": "markdown",
   "metadata": {},
   "source": [
    "### Jetzt mit dem trainierten Modell eine Vorhersage machen\n",
    "\n",
    "Wenn du ein paar Bilder testen möchtest, dann lege unter /data/byod/ einen test Ordner an und kopiere ein paar Bilder hinein (Bilder, die nicht beim Training verwendet wurden). Hierbei musst du keine Unterordner anlegen (das Modell soll ja vorhersagen, welche Klasse es ist)\n",
    "\n",
    "Jetzt nehmen wir ein random Bild aus dem Test Ordner:"
   ]
  },
  {
   "cell_type": "code",
   "execution_count": null,
   "metadata": {},
   "outputs": [],
   "source": [
    "TEST = DATA + \"test/\"\n",
    "TEST_IMAGES = os.listdir(TEST)\n",
    "TEST_IMAGES"
   ]
  },
  {
   "cell_type": "code",
   "execution_count": null,
   "metadata": {},
   "outputs": [],
   "source": [
    "test_img = open_image(TEST + random.choice(TEST_IMAGES))\n",
    "test_img"
   ]
  },
  {
   "cell_type": "markdown",
   "metadata": {},
   "source": [
    "und machen eine prediction mit dem Modell:"
   ]
  },
  {
   "cell_type": "code",
   "execution_count": null,
   "metadata": {},
   "outputs": [],
   "source": [
    "learn.predict(test_img)"
   ]
  },
  {
   "cell_type": "markdown",
   "metadata": {},
   "source": [
    "## Credits\n",
    "\n",
    "Für die Übung verwenden wir die fast.ai Library - siehe http://fast.ai"
   ]
  },
  {
   "cell_type": "code",
   "execution_count": null,
   "metadata": {},
   "outputs": [],
   "source": []
  }
 ],
 "metadata": {
  "kernelspec": {
   "display_name": "Python 3",
   "language": "python",
   "name": "python3"
  },
  "language_info": {
   "codemirror_mode": {
    "name": "ipython",
    "version": 3
   },
   "file_extension": ".py",
   "mimetype": "text/x-python",
   "name": "python",
   "nbconvert_exporter": "python",
   "pygments_lexer": "ipython3",
   "version": "3.6.8"
  }
 },
 "nbformat": 4,
 "nbformat_minor": 2
}
