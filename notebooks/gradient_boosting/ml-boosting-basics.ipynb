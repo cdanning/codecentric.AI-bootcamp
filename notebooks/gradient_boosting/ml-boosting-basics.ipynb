{
 "cells": [
  {
   "cell_type": "markdown",
   "metadata": {},
   "source": [
    "# Boosting für Machine Learning\n",
    "\n",
    "Wir beschäftigen uns mit den grundlegenden Varianten des sogenannten _Boostings_.\n",
    "Dabei legen wir unser Augenmerk auf Boosting für die Klassifikation.\n",
    "Insbesondere klassifizieren wir Reden von deutschen Politikern, d.h. aus einem gegebenen Redetext ermitteln wir wer diese Rede hielt.\n",
    "(Diese Problemstellung ist auch Thema im Abschnitt [Natural Language Processing](https://www.youtube.com/watch?v=GmLsb-o7hvM) dieses [Bootcamps](https://www.codecentric.de/kuenstliche-intelligenz/).)\n",
    "\n",
    "Boosting dreht sich um die folgende Frage.\n",
    "\n",
    "_Angenommen für unser Problem steht ein schlechter Klassifikator K zur Verfügung._\n",
    "_Wie können wir aus K einen guten Klassifikator K' erzeugen?_\n",
    "\n",
    "Unter einem schlechten Klassifikator verstehen wir einen Klassifikator mit schlechter Vorhersagekraft, d.h. er macht viele falsche Vorhersagen.\n",
    "(Die Theorie erlaubt sogar so viele Fehler, dass die Kraft nur wenig besser als zufälliges Raten ist!)\n",
    "Der gute Klassifikator K' wird keine abgewandelte Form von K sein, sondern K' besteht aus mehreren geschickt kombinierten Instanzen von K.\n",
    "Daher bezeichnet man K' auch als _Ensemble_.\n",
    "\n",
    "Ensembles lassen sich aus unterschiedlichen Typen von Klassifikatoren zusammenstellen.\n",
    "Hier beschränken wir uns auf den Fall, dass K ein einfacher [Entscheidungsbaum](https://en.wikipedia.org/wiki/Decision_tree_learning) ist.\n",
    "Eine Vorhersage des Ensembles K' ergibt sich aus den individuellen Vorhersagen der beteiligten Entscheidungsbäume.\n",
    "\n",
    "Im Rest des Artikels stellen wir verschiedene Boosting-Ansätze je kurz in allgemeiner Form vor, orientieren jedoch nähere Erläuterungen an der Implementierung mit Entscheidungsbäumen.\n",
    "Bemerke, dass wir kein Tuning der Implementierung durchführen, sondern uns vielmehr darauf konzentrieren, die Unterschiede der Verfahren zu beleuchten."
   ]
  },
  {
   "cell_type": "markdown",
   "metadata": {},
   "source": [
    "## Daten laden\n",
    "\n",
    "Werfen wir zuerst einen Blick auf die Daten.\n",
    "Wir verwenden den von Barbaresi und Adrien bereitgestellten Datensatz [1], der unter http://purl.org/corpus/german-speeches ist.\n",
    "\n",
    "[1] Barbaresi, Adrien (2018). \"A corpus of German political speeches from the 21st century\", Proceedings of the Eleventh International Conference on Language Resources and Evaluation (LREC 2018), European Language Resources Association (ELRA), pp. 792–797.\n",
    "\n",
    "Vorab ein Einblick in wenige zufällig ausgewählte Reden.\n",
    "(Hier wie auch unten lagern wir Code aus, welcher nicht zu unserem Lernziel beiträgt, und binden ihn per `%run` ein.\n",
    "Hier sorgen wir dafür, dass der Datendatz nur einmal aus dem Netz gezogen werden muss.)\n",
    "Die Variable `df` ist ein `DataFrame` aus der [Pandas](https://pandas.pydata.org/)-Bibliothek;\n",
    "Im Wesentlichen werden in `df` tabellarische Daten gespeichert."
   ]
  },
  {
   "cell_type": "code",
   "execution_count": 1,
   "metadata": {},
   "outputs": [
    {
     "data": {
      "text/html": [
       "<div>\n",
       "<style scoped>\n",
       "    .dataframe tbody tr th:only-of-type {\n",
       "        vertical-align: middle;\n",
       "    }\n",
       "\n",
       "    .dataframe tbody tr th {\n",
       "        vertical-align: top;\n",
       "    }\n",
       "\n",
       "    .dataframe thead th {\n",
       "        text-align: right;\n",
       "    }\n",
       "</style>\n",
       "<table border=\"1\" class=\"dataframe\">\n",
       "  <thead>\n",
       "    <tr style=\"text-align: right;\">\n",
       "      <th></th>\n",
       "      <th>person</th>\n",
       "      <th>speech</th>\n",
       "    </tr>\n",
       "  </thead>\n",
       "  <tbody>\n",
       "    <tr>\n",
       "      <th>1164</th>\n",
       "      <td>Angela Merkel</td>\n",
       "      <td>Wer feiert eigentlich nicht gerne Geburtstag –...</td>\n",
       "    </tr>\n",
       "    <tr>\n",
       "      <th>2338</th>\n",
       "      <td>Monika Grütters</td>\n",
       "      <td>\"Die gemeinsame Welt verstehen, so wie sie dem...</td>\n",
       "    </tr>\n",
       "    <tr>\n",
       "      <th>1356</th>\n",
       "      <td>Angela Merkel</td>\n",
       "      <td>Sie haben für Ihren diesjährigen Unternehmerta...</td>\n",
       "    </tr>\n",
       "    <tr>\n",
       "      <th>824</th>\n",
       "      <td>Christina Weiss</td>\n",
       "      <td>Als vor zwölf Jahren bekannt wurde, dass die m...</td>\n",
       "    </tr>\n",
       "    <tr>\n",
       "      <th>1432</th>\n",
       "      <td>Thomas de Maizière</td>\n",
       "      <td>Sperrfrist: Redebeginn\\n\\nmeine sehr verehrten...</td>\n",
       "    </tr>\n",
       "  </tbody>\n",
       "</table>\n",
       "</div>"
      ],
      "text/plain": [
       "                  person                                             speech\n",
       "1164       Angela Merkel  Wer feiert eigentlich nicht gerne Geburtstag –...\n",
       "2338     Monika Grütters  \"Die gemeinsame Welt verstehen, so wie sie dem...\n",
       "1356       Angela Merkel  Sie haben für Ihren diesjährigen Unternehmerta...\n",
       "824      Christina Weiss  Als vor zwölf Jahren bekannt wurde, dass die m...\n",
       "1432  Thomas de Maizière  Sperrfrist: Redebeginn\\n\\nmeine sehr verehrten..."
      ]
     },
     "metadata": {},
     "output_type": "display_data"
    }
   ],
   "source": [
    "%run includes/define_load_data_functions.ipynb\n",
    "\n",
    "df = load_cached_speeches_or_download() # das Laden kann ein wenig dauern, also nicht wundern, wenn es nicht direkt weiter geht\n",
    "\n",
    "display(df.sample(n=5)) # `sample` wählt eine zufällige Teilmenge aus"
   ]
  },
  {
   "cell_type": "markdown",
   "metadata": {},
   "source": [
    "Wir betrachten die Spalte `person` und stellen fest, dass Angela Merkel mit der weitaus stärksten Anzahl von Reden vertreten ist."
   ]
  },
  {
   "cell_type": "code",
   "execution_count": 2,
   "metadata": {
    "autoscroll": false,
    "ein.hycell": false,
    "ein.tags": "worksheet-0",
    "slideshow": {
     "slide_type": "-"
    }
   },
   "outputs": [
    {
     "data": {
      "text/plain": [
       "Angela Merkel              1125\n",
       "Gerhard Schröder            418\n",
       "Bernd Neumann               323\n",
       "Monika Grütters             245\n",
       "Christina Weiss             203\n",
       "k.A.                         88\n",
       "Michael Naumann              61\n",
       "Julian Nida-Rümelin          47\n",
       "Thomas de Maizière           43\n",
       "Hans Martin Bury             42\n",
       "Joschka Fischer              31\n",
       "Rolf Schwanitz               24\n",
       "Frank-Walter Steinmeier       7\n",
       "Andere                        4\n",
       "Jullian Nida-Rümelin          1\n",
       "Name: person, dtype: int64"
      ]
     },
     "metadata": {},
     "output_type": "display_data"
    }
   ],
   "source": [
    "speech_counts = df.person.value_counts()\n",
    "\n",
    "display(speech_counts)"
   ]
  },
  {
   "cell_type": "markdown",
   "metadata": {},
   "source": [
    "Um im restlichen Notebook auf ausgewogenen Daten zu arbeiten, beschränken wir uns auf die binäre Klassifikation und unterscheiden nur zwischen zwei Klassen von Personen, nämlich _Angela Merkel_ und _Andere_.\n",
    "Dazu vernachlässigen wir zuerst alle Personen, die mit nur wenigen Reden vertreten sind."
   ]
  },
  {
   "cell_type": "code",
   "execution_count": 3,
   "metadata": {},
   "outputs": [
    {
     "data": {
      "text/plain": [
       "Angela Merkel       1125\n",
       "Gerhard Schröder     418\n",
       "Bernd Neumann        323\n",
       "Monika Grütters      245\n",
       "Christina Weiss      203\n",
       "Name: person, dtype: int64"
      ]
     },
     "metadata": {},
     "output_type": "display_data"
    }
   ],
   "source": [
    "MIN_NUM_SPEECHES = 100\n",
    "belowThreshold = lambda name: speech_counts[name] < MIN_NUM_SPEECHES\n",
    "\n",
    "dropped = filter(belowThreshold, df.person.tolist())\n",
    "df.drop(df[df.person.isin(dropped)].index, inplace=True)\n",
    "\n",
    "display(df.person.value_counts())"
   ]
  },
  {
   "cell_type": "markdown",
   "metadata": {},
   "source": [
    "Abschließend fassen wir alle Personen außer Angela Merkel zur Klasse _Andere_ zusammen."
   ]
  },
  {
   "cell_type": "code",
   "execution_count": 4,
   "metadata": {},
   "outputs": [
    {
     "data": {
      "text/plain": [
       "Andere           1189\n",
       "Angela Merkel    1125\n",
       "Name: person, dtype: int64"
      ]
     },
     "metadata": {},
     "output_type": "display_data"
    }
   ],
   "source": [
    "df.loc[df['person'] != \"Angela Merkel\", ['person']] = 'Andere'\n",
    "\n",
    "display(df.person.value_counts())"
   ]
  },
  {
   "cell_type": "markdown",
   "metadata": {},
   "source": [
    "## Daten vorverarbeiten\n",
    "\n",
    "Es folgt die Vorverarbeitung der Reden mit Hilfe der Natural-Language-Processing-Bibliothek [spaCy](https://spacy.io/).\n",
    "Wir zerlegen jede Rede in ihre (durch Whitespace getrennten) Bestandteile, die sogenannten _Tokens_.\n",
    "Im selben Zuge entfernen wir Tokens mit geringer Information, wie z.B. Interpunktion und Stoppwörter (\"und\", \"der\", \"die\", \"das\", ...).\n",
    "Außerdem überführen wir jedes Token in seine Grundform, das sogenannte _Lemma_ (z.B. \"angekündigt\" -> \"ankündigen\")."
   ]
  },
  {
   "cell_type": "markdown",
   "metadata": {},
   "source": [
    "Zuerst initialisieren wir spaCy.\n",
    "Dafür laden wir das Modell `de_core_news_sm` für die deutsche Sprache, markieren Stopwörter und deaktivieren nicht benötigte Teile der Verarbeitungspipeline.\n",
    "In der Pipeline verbleiben die Schritte zur Tokenisierung und Lemmatisierung.\n",
    "\n",
    "Das Laden des nächsten Blockes kann ein wenig dauern, also nicht wundern, wenn es nicht direkt weiter geht."
   ]
  },
  {
   "cell_type": "code",
   "execution_count": 5,
   "metadata": {},
   "outputs": [],
   "source": [
    "import spacy\n",
    "\n",
    "nlp = spacy.load(\"de_core_news_sm\")\n",
    "\n",
    "for stopword in nlp.Defaults.stop_words:\n",
    "    # berücksichtige die wichtigsten Varianten von Groß-/Kleinschreibung\n",
    "    for w in (stopword.lower(), stopword.lower().capitalize(), stopword.upper()):\n",
    "        lex = nlp.vocab[w]\n",
    "        lex.is_stop = True\n",
    "        \n",
    "_ = nlp.disable_pipes(\"tagger\", \"parser\", \"ner\")"
   ]
  },
  {
   "cell_type": "markdown",
   "metadata": {},
   "source": [
    "Nach der Verarbeitung einer Rede durch spaCy filtern wir Stopwörter und verwerfen Bestandteile, die nur aus einem Zeichen bestehen (insbesondere Interpunktion).\n",
    "Schließĺich extrahieren wir Tokens und Lemmata."
   ]
  },
  {
   "cell_type": "code",
   "execution_count": 6,
   "metadata": {},
   "outputs": [],
   "source": [
    "def dropSingleCharacters(words):\n",
    "    return list(filter(lambda word: len(word.text.strip()) > 1, words))\n",
    "\n",
    "def preprocess(speech):\n",
    "    document = nlp(speech)\n",
    "    \n",
    "    words = [word for word in document if not word.is_stop]\n",
    "    words = dropSingleCharacters(words)\n",
    "    \n",
    "    tokens = [word.text for word in words]\n",
    "    lemmata = [word.lemma_ for word in words]\n",
    "    return (tokens, lemmata)"
   ]
  },
  {
   "cell_type": "markdown",
   "metadata": {},
   "source": [
    "Jetzt können wir die Reden vorverarbeiten.\n",
    "(Wieder sorgen wir dafür, dass diese Arbeit nur einmal durchgeführt und dann in einem Cache abgelegt wird.)\n",
    "Die Folgen von Tokens und Lemmata werden dabei dem DataFrame `df` hinzugefügt, aus dem wir wieder ein paar Zeilen betrachten."
   ]
  },
  {
   "cell_type": "code",
   "execution_count": 7,
   "metadata": {
    "autoscroll": false,
    "ein.hycell": false,
    "ein.tags": "worksheet-0",
    "slideshow": {
     "slide_type": "-"
    }
   },
   "outputs": [
    {
     "data": {
      "text/html": [
       "<div>\n",
       "<style scoped>\n",
       "    .dataframe tbody tr th:only-of-type {\n",
       "        vertical-align: middle;\n",
       "    }\n",
       "\n",
       "    .dataframe tbody tr th {\n",
       "        vertical-align: top;\n",
       "    }\n",
       "\n",
       "    .dataframe thead th {\n",
       "        text-align: right;\n",
       "    }\n",
       "</style>\n",
       "<table border=\"1\" class=\"dataframe\">\n",
       "  <thead>\n",
       "    <tr style=\"text-align: right;\">\n",
       "      <th></th>\n",
       "      <th>person</th>\n",
       "      <th>speech</th>\n",
       "      <th>tokens</th>\n",
       "      <th>lemmata</th>\n",
       "    </tr>\n",
       "  </thead>\n",
       "  <tbody>\n",
       "    <tr>\n",
       "      <th>0</th>\n",
       "      <td>Andere</td>\n",
       "      <td>es ist angekündigt worden, man sollte im Beruf...</td>\n",
       "      <td>[angekündigt, Beruf, Schauspieler, Politiker, ...</td>\n",
       "      <td>[ankündigen, berufen, schauspielern, Politiker...</td>\n",
       "    </tr>\n",
       "    <tr>\n",
       "      <th>2</th>\n",
       "      <td>Andere</td>\n",
       "      <td>Frage (Peter Hahne): Bevor wir uns über den Au...</td>\n",
       "      <td>[Frage, Peter, Hahne, Bevor, Aufbau, Ost, Arbe...</td>\n",
       "      <td>[Frage, Peter, Hahn, bevor, Aufbau, Ost, Arbei...</td>\n",
       "    </tr>\n",
       "    <tr>\n",
       "      <th>3</th>\n",
       "      <td>Andere</td>\n",
       "      <td>Einen Satz von Ihnen, Herr Dr. Bernotat, habe ...</td>\n",
       "      <td>[Satz, Herr, Dr., Bernotat, aufgeschrieben, Ar...</td>\n",
       "      <td>[Satz, Herr, Dr., Bernotat, aufschreiben, Argu...</td>\n",
       "    </tr>\n",
       "    <tr>\n",
       "      <th>4</th>\n",
       "      <td>Andere</td>\n",
       "      <td>diese Jahresversammlung der Hochschulrektorenk...</td>\n",
       "      <td>[Jahresversammlung, Hochschulrektorenkonferenz...</td>\n",
       "      <td>[Jahresversammlung, Hochschulrektorenkonferenz...</td>\n",
       "    </tr>\n",
       "    <tr>\n",
       "      <th>5</th>\n",
       "      <td>Andere</td>\n",
       "      <td>ich habe nie einen Hehl daraus gemacht, dass i...</td>\n",
       "      <td>[Hehl, Stadt, komme, Amtszeit, Gast, gefühlt, ...</td>\n",
       "      <td>[Hehl, Stadt, kommen, Amtszeit, gasen, fühlen,...</td>\n",
       "    </tr>\n",
       "  </tbody>\n",
       "</table>\n",
       "</div>"
      ],
      "text/plain": [
       "   person                                             speech  \\\n",
       "0  Andere  es ist angekündigt worden, man sollte im Beruf...   \n",
       "2  Andere  Frage (Peter Hahne): Bevor wir uns über den Au...   \n",
       "3  Andere  Einen Satz von Ihnen, Herr Dr. Bernotat, habe ...   \n",
       "4  Andere  diese Jahresversammlung der Hochschulrektorenk...   \n",
       "5  Andere  ich habe nie einen Hehl daraus gemacht, dass i...   \n",
       "\n",
       "                                              tokens  \\\n",
       "0  [angekündigt, Beruf, Schauspieler, Politiker, ...   \n",
       "2  [Frage, Peter, Hahne, Bevor, Aufbau, Ost, Arbe...   \n",
       "3  [Satz, Herr, Dr., Bernotat, aufgeschrieben, Ar...   \n",
       "4  [Jahresversammlung, Hochschulrektorenkonferenz...   \n",
       "5  [Hehl, Stadt, komme, Amtszeit, Gast, gefühlt, ...   \n",
       "\n",
       "                                             lemmata  \n",
       "0  [ankündigen, berufen, schauspielern, Politiker...  \n",
       "2  [Frage, Peter, Hahn, bevor, Aufbau, Ost, Arbei...  \n",
       "3  [Satz, Herr, Dr., Bernotat, aufschreiben, Argu...  \n",
       "4  [Jahresversammlung, Hochschulrektorenkonferenz...  \n",
       "5  [Hehl, Stadt, kommen, Amtszeit, gasen, fühlen,...  "
      ]
     },
     "metadata": {},
     "output_type": "display_data"
    }
   ],
   "source": [
    "%run includes/define_preprocessing.ipynb\n",
    "\n",
    "df = load_cached_or_preprocess(df.speech)\n",
    "\n",
    "display(df.head())"
   ]
  },
  {
   "cell_type": "markdown",
   "metadata": {},
   "source": [
    "Für jede Rede R überführen wir nun die Folge von Lemmata von R in das \"Histogramm\" der Lemmahäufigkeiten von R.\n",
    "Bemerke, dass wir dabei die Reihenfolge der Worte vergessen.\n",
    "(Man nennt solch eine vereinfachte Darstellung einer Wortfolge auch _bag of words_, um das Abhandensein von zeitlicher Information zu betonen.)\n",
    "\n",
    "Für die Berechnung der Lemmahäufigkeiten bilden wir zunächst einen Gesamtindex aller in allen Reden vorkommenden Lemmata.\n",
    "Dann schauen wir uns ein paar Lemmata und die gewonnene Darstellung einer Rede im Detail an."
   ]
  },
  {
   "cell_type": "code",
   "execution_count": 8,
   "metadata": {
    "autoscroll": false,
    "ein.hycell": false,
    "ein.tags": "worksheet-0",
    "slideshow": {
     "slide_type": "-"
    }
   },
   "outputs": [
    {
     "data": {
      "text/plain": [
       "['Blutproben',\n",
       " 'Schulterzucken',\n",
       " 'Kulturwandel',\n",
       " 'Energiesicherheit',\n",
       " 'Ludus',\n",
       " 'Infektionsrisiken',\n",
       " 'Ventures',\n",
       " 'kuwaitischen',\n",
       " 'Kommunismus',\n",
       " 'Mittelstädt']"
      ]
     },
     "metadata": {},
     "output_type": "display_data"
    },
    {
     "data": {
      "text/plain": [
       "person                                                     Andere\n",
       "speech          Wenn es um die Geschichte und um Erinnerung ge...\n",
       "tokens          [Geschichte, Erinnerung, Zahlen, guten, Ruf, Z...\n",
       "lemmata         [Geschichte, Erinnerung, Zahl, gut, rufen, Zah...\n",
       "lemma_counts    {80677: 3, 56766: 5, 29896: 4, 97787: 1, 11979...\n",
       "Name: 15, dtype: object"
      ]
     },
     "metadata": {},
     "output_type": "display_data"
    }
   ],
   "source": [
    "from collections import Counter\n",
    "\n",
    "def compute_index(feature_vectors):\n",
    "    sets = [set(vector) for vector in feature_vectors]\n",
    "    union = set.union(*sets)\n",
    "    idx_2_feature = [feature for (index, feature) in enumerate(union)]\n",
    "    feature_2_idx = {feature:index for (index, feature) in enumerate(union)}\n",
    "    return (idx_2_feature, feature_2_idx)\n",
    "\n",
    "def count(feature_vectors, index):\n",
    "    return feature_vectors.apply(lambda vector: {index[feature]:count for (feature, count) in Counter(vector).items()})\n",
    "\n",
    "(lemmata, lemma_index) = compute_index(df[\"lemmata\"])\n",
    "df[\"lemma_counts\"] = count(df[\"lemmata\"], lemma_index)\n",
    "\n",
    "display(lemmata[0:10])\n",
    "display(df.iloc[11]) # In lemma_counts ist jedes Lemma durch eine Nummer repräsentiert."
   ]
  },
  {
   "cell_type": "markdown",
   "metadata": {},
   "source": [
    "(Bemerke, dass einige der gewonnenen Lemmata nicht \"perfekt\" sind.\n",
    "Sie enthalten etwa Bindestriche oder liegen in gebeugter Form vor.\n",
    "Hier wird die Unschärfe der Sprache und ihrer Verarbeitung sichtbar.\n",
    "Insbesondere geschieht Lemmatisierung in spaCy nicht durch Anwendung eines Regelwerks, sondern mit Hilfe von neuronalen Netzen, die natürlich nicht in allen Fällen korrekte Ergebnisse erzielen.)"
   ]
  },
  {
   "cell_type": "markdown",
   "metadata": {},
   "source": [
    "## Training\n",
    "\n",
    "Bis hier haben wir aus den Reden die für das Modell-Training benötigten statistischen Informationen, die Lemmahäufigkeiten, extrahiert.\n",
    "Zum Start des Trainings fehlt nun nur noch die Konvertierung in das benötigte Eingabedatenformat für die ML-Bibliothek [scikit-learn](https://scikit-learn.org/stable/), mit der wir in diesem Notebook arbeiten.\n",
    "\n",
    "Die eingegebenen Trainingdaten bestehen aus einer Sammlung von sogenannten _Labels_ (eins pro Rede) und sogenannten _Featurevektoren_ (ebenfalls einer pro Rede).\n",
    "In unserem Fall gibt das Label einer Rede R an, welche Person die Rede R hielt (_Angela Merkel_ oder _Andere_).\n",
    "Der Feature-Vektor von R kodiert das Histogramm der Lemmahäufigkeiten von R (haben wir oben bereits berechnet).\n",
    "\n",
    "Für die Eingabe in die Algorithmen von scikit-learn werden alle Labels (kodiert als Nullen und Einsen) in einem Vektor zusammengefasst."
   ]
  },
  {
   "cell_type": "code",
   "execution_count": 9,
   "metadata": {},
   "outputs": [
    {
     "data": {
      "text/plain": [
       "0     0\n",
       "2     0\n",
       "3     0\n",
       "4     0\n",
       "5     0\n",
       "9     0\n",
       "10    0\n",
       "11    0\n",
       "12    0\n",
       "13    0\n",
       "dtype: int8"
      ]
     },
     "metadata": {},
     "output_type": "display_data"
    }
   ],
   "source": [
    "categories = df[\"person\"].astype(\"category\")\n",
    "labels = categories.cat.codes\n",
    "\n",
    "display(labels[0:10]) # zeige die ersten zehn Labels"
   ]
  },
  {
   "cell_type": "markdown",
   "metadata": {},
   "source": [
    "Analog werden alle Featurevektoren zu einer Matrix zusammengefasst (in gleicher Reihenfolge zum Labelvektor).\n",
    "Natürlich müssen alle Featurevektoren der Matrix die gleiche Länge haben;\n",
    "Die Funktion `dict_to_sparse` erledigt die nötige Konvertierung."
   ]
  },
  {
   "cell_type": "code",
   "execution_count": 10,
   "metadata": {},
   "outputs": [],
   "source": [
    "import scipy.sparse as sparse\n",
    "import itertools\n",
    "\n",
    "def dict_to_sparse(lemma_counts, vocabulary_size):\n",
    "    idx_and_count = [(idx, counts[idx]) for counts in lemma_counts for idx in counts]\n",
    "    idx, count = zip(*idx_and_count)\n",
    "    \n",
    "    num_lemmata = [len(counts) for counts in lemma_counts]\n",
    "    \n",
    "    row_pointers = list(itertools.accumulate([0] + num_lemmata))\n",
    "    return sparse.csr_matrix((count, idx, row_pointers), shape=(len(lemma_counts), vocabulary_size))\n",
    "\n",
    "feature_matrix = dict_to_sparse(df[\"lemma_counts\"], len(lemma_index))"
   ]
  },
  {
   "cell_type": "markdown",
   "metadata": {},
   "source": [
    "(Insbesondere gibt `dict_to_sparse` eine sogenannte _dünn besetzte Matrix_ aus, in der Einträge mit Wert Null nicht explizit gespeichert werden.\n",
    "Warum?\n",
    "In einer gegebenen Rede erscheinen bei Weitem nicht alle möglichen Lemmata, folglich enthält jeder Featurevektor viele Nullen.\n",
    "Daher ist auch die Matrix \"voller\" Nullen.\n",
    "Also sparen wir bei Verzicht auf eine explizite Darstellung viel Speicherplatz.\n",
    "Im Wesentlichen werden in einer Implementierung Blöcke aus Nullen nicht gespeichert und die jeweils nächsten \"Eins-Zellen\" verzeigert.)\n",
    "\n",
    "<img src=\"images/sparseMatrix.jpg\" width=\"50%\">\n"
   ]
  },
  {
   "cell_type": "markdown",
   "metadata": {},
   "source": [
    "### Der schwache Klassifizierer\n",
    "\n",
    "Möge das Training beginnen.\n",
    "Wir erinnern uns, dass wir Ensembles von schwachen Klassifizierern erstellen möchten.\n",
    "Als schwachen Klassifizierer wählen wir einen sogenannten _Decision Stump_, d.h. einen Entscheidungsbaum der Tiefe 1."
   ]
  },
  {
   "cell_type": "code",
   "execution_count": 11,
   "metadata": {},
   "outputs": [],
   "source": [
    "from sklearn.tree import DecisionTreeClassifier\n",
    "\n",
    "DECISION_TREE_DEPTH=1\n",
    "\n",
    "# die Generatorfunktion benötigen wir für später\n",
    "def generate_decision_stump():\n",
    "    return DecisionTreeClassifier(max_depth=DECISION_TREE_DEPTH)"
   ]
  },
  {
   "cell_type": "markdown",
   "metadata": {},
   "source": [
    "Zum Warmwerden trainieren wir zunächst einen einzelnen Stump.\n",
    "Damit wir die Performance verlässich evaluieren können, führen wir das Experiment nicht nur einmal durch, sondern wiederholen es und mitteln die Ergebnisse.\n",
    "Dafür verwenden wir die folgenden Hilfsfunktionen, welche wir nach Vorstellung des Codes näher erläutern."
   ]
  },
  {
   "cell_type": "code",
   "execution_count": 12,
   "metadata": {},
   "outputs": [],
   "source": [
    "from sklearn.model_selection import train_test_split\n",
    "from sklearn.metrics import confusion_matrix\n",
    "import numpy as np\n",
    "import pandas as pd\n",
    "\n",
    "# implementiert das eigentliche Training\n",
    "def train_and_test(classifier, data, labels, test_size):\n",
    "    train_data, test_data, train_labels, test_labels = train_test_split(\n",
    "        data, \n",
    "        labels,\n",
    "        test_size=test_size,\n",
    "        stratify=labels)\n",
    "    \n",
    "    # training\n",
    "    classifier.fit(train_data, train_labels)\n",
    "    \n",
    "    # test\n",
    "    predictions = classifier.predict(test_data)\n",
    "    \n",
    "    accuracy = np.mean(predictions == test_labels)\n",
    "    confusion = confusion_matrix(test_labels, predictions)\n",
    "    \n",
    "    return (accuracy, confusion)\n",
    "\n",
    "# wiederholt und sammelt Klassifikatoren und ihre Ergebnisse\n",
    "def train_and_test_repeated(classifier_generator, data, labels, test_size, repetitions):\n",
    "    classifiers = []\n",
    "    accuracies = []\n",
    "    confusion_matrices = []\n",
    "    \n",
    "    for i in range(repetitions):\n",
    "        display(\"Wiederholung \" + str(i))\n",
    "        \n",
    "        # hier geschieht das eigentliche Training\n",
    "        classifier = classifier_generator()\n",
    "        (accuracy, confusion) = train_and_test(classifier, data, labels, test_size)\n",
    "        \n",
    "        classifiers.append(classifier)\n",
    "        accuracies.append(accuracy)\n",
    "        confusion_matrices.append(confusion)\n",
    "\n",
    "    return (classifiers, accuracies, confusion_matrices)"
   ]
  },
  {
   "cell_type": "markdown",
   "metadata": {},
   "source": [
    "In `train_and_test_with` zerlegen wir die Eingabedaten in Trainingdaten und Testdaten, und zwar in einem frei wählbaren Verhältnis (üblich ist zum Beispiel das Verhältnis \"train/test = 70/30\").\n",
    "Nur die Trainingsdaten werden für das tatsächliche Training verwendet.\n",
    "Mit Hilfe der Testdaten wird die Performance des fertig trainierten Stumps evaluiert.\n",
    "\n",
    "Die _Accuracy_ zeigt uns wie viele Testdatensätze korrekt klassifiziert wurden.\n",
    "Die sogenannte _Confusion Matrix_ schlüsselt die korrekten und falschen Klassifizierungen auf (in der i-ten Zeile und j-ten Spalte steht wie viele Reden von \"i\" als Reden von \"j\" klassifiziert wurden)."
   ]
  },
  {
   "cell_type": "markdown",
   "metadata": {},
   "source": [
    "#### Los geht's\n",
    "\n",
    "Für das Training des einzelnen Decision Stumps wählen wir eine Zerlegung von 70/30 und führen 20 Wiederholungen durch.\n",
    "Wir sehen, dass im Mittel nicht einmal 80% der Testreden korrekt klassifiziert werden, wobei mehr Reden von Angela Merkel falsch klassifiziert werden (deutlich über 30%) als Reden von anderen (ca. 10%)."
   ]
  },
  {
   "cell_type": "code",
   "execution_count": 13,
   "metadata": {},
   "outputs": [
    {
     "data": {
      "text/plain": [
       "'Wiederholung 0'"
      ]
     },
     "metadata": {},
     "output_type": "display_data"
    },
    {
     "data": {
      "text/plain": [
       "'Wiederholung 1'"
      ]
     },
     "metadata": {},
     "output_type": "display_data"
    },
    {
     "data": {
      "text/plain": [
       "'Wiederholung 2'"
      ]
     },
     "metadata": {},
     "output_type": "display_data"
    },
    {
     "data": {
      "text/plain": [
       "'Wiederholung 3'"
      ]
     },
     "metadata": {},
     "output_type": "display_data"
    },
    {
     "data": {
      "text/plain": [
       "'Wiederholung 4'"
      ]
     },
     "metadata": {},
     "output_type": "display_data"
    },
    {
     "data": {
      "text/plain": [
       "'Wiederholung 5'"
      ]
     },
     "metadata": {},
     "output_type": "display_data"
    },
    {
     "data": {
      "text/plain": [
       "'Wiederholung 6'"
      ]
     },
     "metadata": {},
     "output_type": "display_data"
    },
    {
     "data": {
      "text/plain": [
       "'Wiederholung 7'"
      ]
     },
     "metadata": {},
     "output_type": "display_data"
    },
    {
     "data": {
      "text/plain": [
       "'Wiederholung 8'"
      ]
     },
     "metadata": {},
     "output_type": "display_data"
    },
    {
     "data": {
      "text/plain": [
       "'Wiederholung 9'"
      ]
     },
     "metadata": {},
     "output_type": "display_data"
    },
    {
     "data": {
      "text/plain": [
       "'Wiederholung 10'"
      ]
     },
     "metadata": {},
     "output_type": "display_data"
    },
    {
     "data": {
      "text/plain": [
       "'Wiederholung 11'"
      ]
     },
     "metadata": {},
     "output_type": "display_data"
    },
    {
     "data": {
      "text/plain": [
       "'Wiederholung 12'"
      ]
     },
     "metadata": {},
     "output_type": "display_data"
    },
    {
     "data": {
      "text/plain": [
       "'Wiederholung 13'"
      ]
     },
     "metadata": {},
     "output_type": "display_data"
    },
    {
     "data": {
      "text/plain": [
       "'Wiederholung 14'"
      ]
     },
     "metadata": {},
     "output_type": "display_data"
    },
    {
     "data": {
      "text/plain": [
       "'Wiederholung 15'"
      ]
     },
     "metadata": {},
     "output_type": "display_data"
    },
    {
     "data": {
      "text/plain": [
       "'Wiederholung 16'"
      ]
     },
     "metadata": {},
     "output_type": "display_data"
    },
    {
     "data": {
      "text/plain": [
       "'Wiederholung 17'"
      ]
     },
     "metadata": {},
     "output_type": "display_data"
    },
    {
     "data": {
      "text/plain": [
       "'Wiederholung 18'"
      ]
     },
     "metadata": {},
     "output_type": "display_data"
    },
    {
     "data": {
      "text/plain": [
       "'Wiederholung 19'"
      ]
     },
     "metadata": {},
     "output_type": "display_data"
    },
    {
     "data": {
      "text/plain": [
       "0.7676978417266186"
      ]
     },
     "metadata": {},
     "output_type": "display_data"
    },
    {
     "data": {
      "image/png": "[encoded data removed]",
      "text/plain": [
       "<Figure size 432x288 with 2 Axes>"
      ]
     },
     "metadata": {
      "needs_background": "light"
     },
     "output_type": "display_data"
    }
   ],
   "source": [
    "%run includes/define_plot_functions.ipynb\n",
    "\n",
    "TRAIN_TEST_RATIO = 0.3\n",
    "REPETITIONS = 20\n",
    "\n",
    "(classifiers, accuracies, confusion_matrices) = train_and_test_repeated(\n",
    "    classifier_generator=generate_decision_stump, \n",
    "    data=feature_matrix,\n",
    "    labels=labels,\n",
    "    test_size=TRAIN_TEST_RATIO,\n",
    "    repetitions=REPETITIONS)\n",
    "\n",
    "display_mean_accuracy(accuracies)\n",
    "display_mean_confusion_matrix(confusion_matrices, classes=categories.unique())"
   ]
  },
  {
   "cell_type": "markdown",
   "metadata": {},
   "source": [
    "Wir werfen einen Blick in die Blackbox und betrachten einen der trainierten Decision Stumps genauer.\n",
    "Interessant ist insbesondere die erste Zeile des Wurzelknotens.\n",
    "Die Häufigkeit genau eines Lemmas bestimmt welchem der beiden Blätter eine gegebene Rede zugeordnet wird.\n",
    "Jedes Blatt klassifiziert alle ihm zugeordneten Reden mit der gleichen Person, wie die jeweils letzte Zeile zeigt.\n",
    "\n",
    "(Der Wert _samples_ zeigt wie viele Reden dem jeweiligen Knoten zugeordnet werden.\n",
    "Für die einem Knoten zugeordneten Reden nennt der Wert _value_ die berechnete Redner-Verteilung:\n",
    "Die beiden Werte für _Andere_ bzw. _Angela Merkel_ summieren sich zu Eins.)"
   ]
  },
  {
   "cell_type": "code",
   "execution_count": 14,
   "metadata": {},
   "outputs": [
    {
     "data": {
      "image/svg+xml": [
       "<?xml version=\"1.0\" encoding=\"UTF-8\" standalone=\"no\"?>\n",
       "<!DOCTYPE svg PUBLIC \"-//W3C//DTD SVG 1.1//EN\"\n",
       " \"http://www.w3.org/Graphics/SVG/1.1/DTD/svg11.dtd\">\n",
       "<!-- Generated by graphviz version 2.38.0 (20140413.2041)\n",
       " -->\n",
       "<!-- Title: Tree Pages: 1 -->\n",
       "<svg width=\"378pt\" height=\"165pt\"\n",
       " viewBox=\"0.00 0.00 378.00 165.00\" xmlns=\"http://www.w3.org/2000/svg\" xmlns:xlink=\"http://www.w3.org/1999/xlink\">\n",
       "<g id=\"graph0\" class=\"graph\" transform=\"scale(1 1) rotate(0) translate(4 161)\">\n",
       "<title>Tree</title>\n",
       "<polygon fill=\"white\" stroke=\"none\" points=\"-4,4 -4,-161 374,-161 374,4 -4,4\"/>\n",
       "<!-- 0 -->\n",
       "<g id=\"node1\" class=\"node\"><title>0</title>\n",
       "<path fill=\"#e58139\" fill-opacity=\"0.054902\" stroke=\"black\" d=\"M261,-157C261,-157 109,-157 109,-157 103,-157 97,-151 97,-145 97,-145 97,-101 97,-101 97,-95 103,-89 109,-89 109,-89 261,-89 261,-89 267,-89 273,-95 273,-101 273,-101 273,-145 273,-145 273,-151 267,-157 261,-157\"/>\n",
       "<text text-anchor=\"middle\" x=\"185\" y=\"-141.8\" font-family=\"Helvetica,sans-Serif\" font-size=\"14.00\">Herzliche &lt;= 0.5</text>\n",
       "<text text-anchor=\"middle\" x=\"185\" y=\"-126.8\" font-family=\"Helvetica,sans-Serif\" font-size=\"14.00\">samples = 100.0%</text>\n",
       "<text text-anchor=\"middle\" x=\"185\" y=\"-111.8\" font-family=\"Helvetica,sans-Serif\" font-size=\"14.00\">value = [0.514, 0.486]</text>\n",
       "<text text-anchor=\"middle\" x=\"185\" y=\"-96.8\" font-family=\"Helvetica,sans-Serif\" font-size=\"14.00\">class = Andere</text>\n",
       "</g>\n",
       "<!-- 1 -->\n",
       "<g id=\"node2\" class=\"node\"><title>1</title>\n",
       "<path fill=\"#e58139\" fill-opacity=\"0.619608\" stroke=\"black\" d=\"M164,-53C164,-53 12,-53 12,-53 6,-53 1.42109e-14,-47 1.42109e-14,-41 1.42109e-14,-41 1.42109e-14,-12 1.42109e-14,-12 1.42109e-14,-6 6,-0 12,-0 12,-0 164,-0 164,-0 170,-0 176,-6 176,-12 176,-12 176,-41 176,-41 176,-47 170,-53 164,-53\"/>\n",
       "<text text-anchor=\"middle\" x=\"88\" y=\"-37.8\" font-family=\"Helvetica,sans-Serif\" font-size=\"14.00\">samples = 64.1%</text>\n",
       "<text text-anchor=\"middle\" x=\"88\" y=\"-22.8\" font-family=\"Helvetica,sans-Serif\" font-size=\"14.00\">value = [0.725, 0.275]</text>\n",
       "<text text-anchor=\"middle\" x=\"88\" y=\"-7.8\" font-family=\"Helvetica,sans-Serif\" font-size=\"14.00\">class = Andere</text>\n",
       "</g>\n",
       "<!-- 0&#45;&gt;1 -->\n",
       "<g id=\"edge1\" class=\"edge\"><title>0&#45;&gt;1</title>\n",
       "<path fill=\"none\" stroke=\"black\" d=\"M151.074,-88.9485C141.59,-79.709 131.287,-69.671 121.809,-60.4381\"/>\n",
       "<polygon fill=\"black\" stroke=\"black\" points=\"124.023,-57.7079 114.418,-53.2367 119.138,-62.7219 124.023,-57.7079\"/>\n",
       "<text text-anchor=\"middle\" x=\"114.744\" y=\"-74.5346\" font-family=\"Helvetica,sans-Serif\" font-size=\"14.00\">True</text>\n",
       "</g>\n",
       "<!-- 2 -->\n",
       "<g id=\"node3\" class=\"node\"><title>2</title>\n",
       "<path fill=\"#399de5\" fill-opacity=\"0.839216\" stroke=\"black\" d=\"M358,-53C358,-53 206,-53 206,-53 200,-53 194,-47 194,-41 194,-41 194,-12 194,-12 194,-6 200,-0 206,-0 206,-0 358,-0 358,-0 364,-0 370,-6 370,-12 370,-12 370,-41 370,-41 370,-47 364,-53 358,-53\"/>\n",
       "<text text-anchor=\"middle\" x=\"282\" y=\"-37.8\" font-family=\"Helvetica,sans-Serif\" font-size=\"14.00\">samples = 35.9%</text>\n",
       "<text text-anchor=\"middle\" x=\"282\" y=\"-22.8\" font-family=\"Helvetica,sans-Serif\" font-size=\"14.00\">value = [0.137, 0.863]</text>\n",
       "<text text-anchor=\"middle\" x=\"282\" y=\"-7.8\" font-family=\"Helvetica,sans-Serif\" font-size=\"14.00\">class = Angela Merkel</text>\n",
       "</g>\n",
       "<!-- 0&#45;&gt;2 -->\n",
       "<g id=\"edge2\" class=\"edge\"><title>0&#45;&gt;2</title>\n",
       "<path fill=\"none\" stroke=\"black\" d=\"M218.926,-88.9485C228.41,-79.709 238.713,-69.671 248.191,-60.4381\"/>\n",
       "<polygon fill=\"black\" stroke=\"black\" points=\"250.862,-62.7219 255.582,-53.2367 245.977,-57.7079 250.862,-62.7219\"/>\n",
       "<text text-anchor=\"middle\" x=\"255.256\" y=\"-74.5346\" font-family=\"Helvetica,sans-Serif\" font-size=\"14.00\">False</text>\n",
       "</g>\n",
       "</g>\n",
       "</svg>\n"
      ],
      "text/plain": [
       "<graphviz.files.Source at 0x7ff34bed4da0>"
      ]
     },
     "metadata": {},
     "output_type": "display_data"
    }
   ],
   "source": [
    "display_decision_tree(classifiers[0])"
   ]
  },
  {
   "cell_type": "markdown",
   "metadata": {},
   "source": [
    "Beachte, dass dieser Stump eine Schnittebene durch einen n-dimensionalen Raum darstellt, wobei n die Anzahl der Lemmata ist."
   ]
  },
  {
   "cell_type": "code",
   "execution_count": 15,
   "metadata": {},
   "outputs": [
    {
     "data": {
      "text/plain": [
       "98139"
      ]
     },
     "metadata": {},
     "output_type": "display_data"
    }
   ],
   "source": [
    "n = len(lemma_index)\n",
    "display(n)"
   ]
  },
  {
   "cell_type": "markdown",
   "metadata": {},
   "source": [
    "Eine eingängigere Visualisierung, beispielsweise in einer Fläche, ist also schwierig möglich. :-)"
   ]
  },
  {
   "cell_type": "markdown",
   "metadata": {},
   "source": [
    "### Bagging\n",
    "Bisher haben wir mehrere Stumps unabhängig voneinander trainiert und anschließend ihre mittlere Performance betrachtet.\n",
    "Diese Idee verfolgt auch das sogenannte _Bagging_ (kurz für _bootstrap aggregating_).\n",
    "Bagging erstellt ein Ensemble von unabhängigen Stumps, wendet die Mittelung jedoch schon früher an, nämlich zur Klassifizierung einer Rede.\n",
    "\n",
    "Da die Berechnungen der individuellen Stumps nicht voneinander abhängen, können wir mit Hilfe von allen zur Verfügung stehenden CPUs parallelisieren.\n",
    "\n",
    "<img src=\"images/baggingTrain.jpg\" width=\"50%\">\n",
    "\n",
    "Wenn die Person für Rede R vorhergesagt werden soll, kombiniert das Bagging-Ensemble die Berechnungen der individuellen Stumps zu einer einzigen Vorhersage.\n",
    "Dabei wird nicht einfach nur unter den individuellen Vorhersagen abgestimmt, sondern bereits die individuellen Vorhersagewahrscheinlichkeiten beider Personen für R gemittelt und dieses Mittel zur finalen Vorhersage verwendet.\n",
    "\n",
    "<img src=\"images/baggingPredict.jpg\" width=\"50%\">\n",
    "\n",
    "Da die Berechnungen aller Decision Stumps eines Baggings unabhängig voneinander sind, können wir mit Hilfe aller zur Verfügung stehenden CPUs parallelisieren."
   ]
  },
  {
   "cell_type": "code",
   "execution_count": 16,
   "metadata": {},
   "outputs": [
    {
     "data": {
      "text/plain": [
       "'Wiederholung 0'"
      ]
     },
     "metadata": {},
     "output_type": "display_data"
    },
    {
     "data": {
      "text/plain": [
       "'Wiederholung 1'"
      ]
     },
     "metadata": {},
     "output_type": "display_data"
    },
    {
     "data": {
      "text/plain": [
       "'Wiederholung 2'"
      ]
     },
     "metadata": {},
     "output_type": "display_data"
    },
    {
     "data": {
      "text/plain": [
       "'Wiederholung 3'"
      ]
     },
     "metadata": {},
     "output_type": "display_data"
    },
    {
     "data": {
      "text/plain": [
       "'Wiederholung 4'"
      ]
     },
     "metadata": {},
     "output_type": "display_data"
    },
    {
     "data": {
      "text/plain": [
       "'Wiederholung 5'"
      ]
     },
     "metadata": {},
     "output_type": "display_data"
    },
    {
     "data": {
      "text/plain": [
       "'Wiederholung 6'"
      ]
     },
     "metadata": {},
     "output_type": "display_data"
    },
    {
     "data": {
      "text/plain": [
       "'Wiederholung 7'"
      ]
     },
     "metadata": {},
     "output_type": "display_data"
    },
    {
     "data": {
      "text/plain": [
       "'Wiederholung 8'"
      ]
     },
     "metadata": {},
     "output_type": "display_data"
    },
    {
     "data": {
      "text/plain": [
       "'Wiederholung 9'"
      ]
     },
     "metadata": {},
     "output_type": "display_data"
    },
    {
     "data": {
      "text/plain": [
       "'Wiederholung 10'"
      ]
     },
     "metadata": {},
     "output_type": "display_data"
    },
    {
     "data": {
      "text/plain": [
       "'Wiederholung 11'"
      ]
     },
     "metadata": {},
     "output_type": "display_data"
    },
    {
     "data": {
      "text/plain": [
       "'Wiederholung 12'"
      ]
     },
     "metadata": {},
     "output_type": "display_data"
    },
    {
     "data": {
      "text/plain": [
       "'Wiederholung 13'"
      ]
     },
     "metadata": {},
     "output_type": "display_data"
    },
    {
     "data": {
      "text/plain": [
       "'Wiederholung 14'"
      ]
     },
     "metadata": {},
     "output_type": "display_data"
    },
    {
     "data": {
      "text/plain": [
       "'Wiederholung 15'"
      ]
     },
     "metadata": {},
     "output_type": "display_data"
    },
    {
     "data": {
      "text/plain": [
       "'Wiederholung 16'"
      ]
     },
     "metadata": {},
     "output_type": "display_data"
    },
    {
     "data": {
      "text/plain": [
       "'Wiederholung 17'"
      ]
     },
     "metadata": {},
     "output_type": "display_data"
    },
    {
     "data": {
      "text/plain": [
       "'Wiederholung 18'"
      ]
     },
     "metadata": {},
     "output_type": "display_data"
    },
    {
     "data": {
      "text/plain": [
       "'Wiederholung 19'"
      ]
     },
     "metadata": {},
     "output_type": "display_data"
    },
    {
     "data": {
      "text/plain": [
       "0.7810071942446044"
      ]
     },
     "metadata": {},
     "output_type": "display_data"
    },
    {
     "data": {
      "image/png": "[encoded data removed]",
      "text/plain": [
       "<Figure size 432x288 with 2 Axes>"
      ]
     },
     "metadata": {
      "needs_background": "light"
     },
     "output_type": "display_data"
    }
   ],
   "source": [
    "from sklearn.ensemble import BaggingClassifier\n",
    "\n",
    "NUM_BASE_ESTIMATORS = 20\n",
    "ALL_CORES = -1\n",
    "\n",
    "def generate_bagging_classifier():\n",
    "    return BaggingClassifier(base_estimator=generate_decision_stump(),\n",
    "                             n_estimators=NUM_BASE_ESTIMATORS,\n",
    "                             n_jobs=ALL_CORES)\n",
    "\n",
    "(classifiers, accuracies, confusion_matrices) = train_and_test_repeated(\n",
    "    classifier_generator=generate_bagging_classifier, \n",
    "    data=feature_matrix,\n",
    "    labels=labels,\n",
    "    test_size=TRAIN_TEST_RATIO,\n",
    "    repetitions=REPETITIONS)\n",
    "\n",
    "display_mean_accuracy(accuracies)\n",
    "display_mean_confusion_matrix(confusion_matrices, classes=categories.unique())"
   ]
  },
  {
   "cell_type": "markdown",
   "metadata": {},
   "source": [
    "Bemerke, dass wir keine Verbesserung der Performance gegenüber unserem Experiment aus dem vorangehenden Abschnitt erwarten können.\n",
    "Der Grund ist, dass jeder einzelne Bagging-Klassifizierer im Wesentlichen unsere Mittelung des vorherigen Abschnitts nachstellt.\n",
    "Die Wiederholung des Baggings und die anschließende Mittelung über die Performances verändert die einzelnen Ergebnisse nicht entscheidend."
   ]
  },
  {
   "cell_type": "markdown",
   "metadata": {},
   "source": [
    "# Boosting\n",
    "\n",
    "Die Performance des schwachen Decision Stumps und des naiven Baggings können wir sicherlich verbessern.\n",
    "Erfreulich wird sein, mit welch einfachen Mitteln das gelingt!\n",
    "\n",
    "## AdaBoost\n",
    "\n",
    "[AdaBoost](https://en.wikipedia.org/wiki/AdaBoost) erstellt ebenfalls ein Ensemble von schwachen Klassifizierern.\n",
    "Die Klassifizierer sind im Gegensatz zum Bagging aber nicht unabhängig voneinander.\n",
    "Erstellt wird nämlich eine _Folge_ von Klassifizierern, wobei sich die Performance eines Klassifizierers auf das Training des nächsten auswirkt.\n",
    "Ziel ist es, Schwächen des Klassifizierers zu identifizieren, diese Schwächen in folgenden Trainings zu kompensieren und schließlich stark aus dem gesamten Trainingsplan hervorzugehen.\n",
    "\n",
    "Wie trainiert AdaBoost in unserem Anwendungsfall?\n",
    "Für jeden fertig trainierten Stump T werden alle falsch klassifizierten Reden identifiziert.\n",
    "Diese Reden stellen offenbar \"schwierige\" Eingaben für T dar - sonst würde T sie ja der korrekten Person zuordnen.\n",
    "Solch schwierige Reden werden mit erhöhter Wahrscheinlichkeit ausgewählt, wenn eine zufällige Trainingsmenge für den nächsten Stump gezogen wird.\n",
    "Das nächste Training ist also mit einer \"schwierigeren\" Eingabe konfrontiert, welche mehr Informationen über schwer einzuordnende Reden enthält.\n",
    "(Tatsächlich wird in der Implementierung die Auswahlwahrscheinlichkeit _korrekt_ von T klassifizierter Reden _verringert_.\n",
    "Der Verringerungsfaktor ergibt sich aus dem _Fehler von S_, der Wahrscheinlichkeit eine zufällig gemäß aktueller Verteilung gezogene Rede falsch zu klassifizieren, welcher oft mit &epsilon;<sub>S</sub> bezeichnet wird.)\n",
    "\n",
    "<img src=\"images/adaboostTrain.jpg\" width=\"50%\">\n",
    "\n",
    "Wie klassifiziert AdaBoost?\n",
    "Jeder Stump des Ensembles beeinflusst die Gesamtvorhersage mit unterschiedlichem Gewicht.\n",
    "Das Gewicht für Stump T ergibt sich aus dem Fehler &epsilon;<sub>S</sub>:\n",
    "Je kleiner der Fehler, umso größer ist der Einfluss von S.\n",
    "Wie beim Bagging wird nicht bloß unter allen beteiligten Stumps abgestimmt, sondern die individuellen Vorhersagewahrscheinlichkeiten gemittelt.\n",
    "\n",
    "<img src=\"images/adaboostPredict.jpg\" width=\"50%\">\n",
    "\n",
    "Das Ergebnis unseres Experiments:\n",
    "Im Schnitt erreicht ein AdaBoost-Klassifier eine Genauigkeit von über 90% (mit Bagging erreichten wir nur unter 80%).\n",
    "Die Anteile der Fehlklassifizierungen fielen in den einstelligen Prozentbereich."
   ]
  },
  {
   "cell_type": "code",
   "execution_count": 17,
   "metadata": {},
   "outputs": [
    {
     "data": {
      "text/plain": [
       "'Wiederholung 0'"
      ]
     },
     "metadata": {},
     "output_type": "display_data"
    },
    {
     "data": {
      "text/plain": [
       "'Wiederholung 1'"
      ]
     },
     "metadata": {},
     "output_type": "display_data"
    },
    {
     "data": {
      "text/plain": [
       "'Wiederholung 2'"
      ]
     },
     "metadata": {},
     "output_type": "display_data"
    },
    {
     "data": {
      "text/plain": [
       "'Wiederholung 3'"
      ]
     },
     "metadata": {},
     "output_type": "display_data"
    },
    {
     "data": {
      "text/plain": [
       "'Wiederholung 4'"
      ]
     },
     "metadata": {},
     "output_type": "display_data"
    },
    {
     "data": {
      "text/plain": [
       "'Wiederholung 5'"
      ]
     },
     "metadata": {},
     "output_type": "display_data"
    },
    {
     "data": {
      "text/plain": [
       "'Wiederholung 6'"
      ]
     },
     "metadata": {},
     "output_type": "display_data"
    },
    {
     "data": {
      "text/plain": [
       "'Wiederholung 7'"
      ]
     },
     "metadata": {},
     "output_type": "display_data"
    },
    {
     "data": {
      "text/plain": [
       "'Wiederholung 8'"
      ]
     },
     "metadata": {},
     "output_type": "display_data"
    },
    {
     "data": {
      "text/plain": [
       "'Wiederholung 9'"
      ]
     },
     "metadata": {},
     "output_type": "display_data"
    },
    {
     "data": {
      "text/plain": [
       "'Wiederholung 10'"
      ]
     },
     "metadata": {},
     "output_type": "display_data"
    },
    {
     "data": {
      "text/plain": [
       "'Wiederholung 11'"
      ]
     },
     "metadata": {},
     "output_type": "display_data"
    },
    {
     "data": {
      "text/plain": [
       "'Wiederholung 12'"
      ]
     },
     "metadata": {},
     "output_type": "display_data"
    },
    {
     "data": {
      "text/plain": [
       "'Wiederholung 13'"
      ]
     },
     "metadata": {},
     "output_type": "display_data"
    },
    {
     "data": {
      "text/plain": [
       "'Wiederholung 14'"
      ]
     },
     "metadata": {},
     "output_type": "display_data"
    },
    {
     "data": {
      "text/plain": [
       "'Wiederholung 15'"
      ]
     },
     "metadata": {},
     "output_type": "display_data"
    },
    {
     "data": {
      "text/plain": [
       "'Wiederholung 16'"
      ]
     },
     "metadata": {},
     "output_type": "display_data"
    },
    {
     "data": {
      "text/plain": [
       "'Wiederholung 17'"
      ]
     },
     "metadata": {},
     "output_type": "display_data"
    },
    {
     "data": {
      "text/plain": [
       "'Wiederholung 18'"
      ]
     },
     "metadata": {},
     "output_type": "display_data"
    },
    {
     "data": {
      "text/plain": [
       "'Wiederholung 19'"
      ]
     },
     "metadata": {},
     "output_type": "display_data"
    },
    {
     "data": {
      "text/plain": [
       "0.9298561151079137"
      ]
     },
     "metadata": {},
     "output_type": "display_data"
    },
    {
     "data": {
      "image/png": "[encoded data removed]",
      "text/plain": [
       "<Figure size 432x288 with 2 Axes>"
      ]
     },
     "metadata": {
      "needs_background": "light"
     },
     "output_type": "display_data"
    }
   ],
   "source": [
    "from sklearn.ensemble import AdaBoostClassifier\n",
    "\n",
    "# keine parallele Berechnung der Sequenz möglich\n",
    "def generate_adaboost_classifier():\n",
    "    return AdaBoostClassifier(base_estimator=generate_decision_stump(),\n",
    "                              n_estimators=NUM_BASE_ESTIMATORS)\n",
    "\n",
    "(classifiers, accuracies, confusion_matrices) = train_and_test_repeated(\n",
    "    classifier_generator=generate_adaboost_classifier, \n",
    "    data=feature_matrix,\n",
    "    labels=labels,\n",
    "    test_size=TRAIN_TEST_RATIO,\n",
    "    repetitions=REPETITIONS)\n",
    "\n",
    "display_mean_accuracy(accuracies)\n",
    "display_mean_confusion_matrix(confusion_matrices, classes=categories.unique())"
   ]
  },
  {
   "cell_type": "markdown",
   "metadata": {},
   "source": [
    "## Gradient Boosting\n",
    "\n",
    "Gradient Boosting ist ein weiterer Ensemble-Ansatz.\n",
    "Wie für AdaBoost wird die initiale Trainingsmenge zufällig erstellt und für sie ein Klassifizierer trainiert.\n",
    "Anders als bei AdaBoost werden jedoch keine weiteren Klassifizierer traininert.\n",
    "Stattdessen wird der Fehler des initialen Klassifizierers in den folgenden Schritten _numerisch_ ausgeglichen, indem eine Folge von Regressionsbäumen (Stumps) berechnet wird.\n",
    "(Gradient Boosting ist keine Verallgemeinerung von AdaBoost.)\n",
    "\n",
    "Wie also trainiert Gradient Boosting den nächsten Stump T der Folge?\n",
    "Das Ziel ist die Korrektur der Fehlklassifizierungen des gesamten bisher erstellten \"aktuellen\" Teil-Ensembles E, d.h. der Abweichungen zwischen den aktuellen Vorhersagen von E und den tatsächlichen RednerInnen.\n",
    "Die Gesamtheit aller aktuellen Abweichungen wird mit einer sogenannten _Loss-Funktion L_ bewertet.\n",
    "Der Loss ist gleich Null, wenn alle Reden korrekt klassifiziert werden, und größer als Null sonst.\n",
    "Die Funktion L wird differenzierbar gewählt, daher können wir die Steigung von L in jedem Punkt berechnen - inklusive der Richtung des steilsten Abstiegs!\n",
    "(Z.B. ist der mittlere quadratische Fehler über alle Reden differenzierbar.)\n",
    "Uns interessiert die Richtung des steilsten Abstiegs von L aus dem Punkt des aktuellen Ensembles E.\n",
    "Verändern wir die Vorhersage von E in diese Richtung, so können wir den Loss verringern und folglich eine verlässlichere Vorhersage erhalten.\n",
    "\n",
    "Wie weit \"gehen\" wir in diese Richtung?\n",
    "Die Schrittweite s sollten wir so optimieren, dass wir am niedrigsten Punkt landen.\n",
    "Achtung:\n",
    "In der Richtung des steilsten Abstiegs liegt im Allgemeinen _nicht_ der Nullpunkt von L und es geht auch nicht ausschließlich \"bergab\".\n",
    "Daher ist s nicht beliebig wählbar.\n",
    "\n",
    "Dieser Abstieg gemäß Gradienten ist namensgebend für das Verfahren.\n",
    "Im folgenden Bild sehen wir die Höhenlinien von L, den initialen Klassifikator, die Folge der korrigierenden Regressions-Stumps und wie die Vorhersagen schrittweise so angepasst werden, dass der Loss L kleiner wird (Erinnerung: Im Nullpunkt von L werden alle Reden korrekt klassifiziert).\n",
    "\n",
    "<img src=\"images/gradientboostingTrain.jpg\" width=\"50%\">\n",
    "\n",
    "Bisher haben wir ausschließlich die ideale Theorie betrachtet.\n",
    "Die Praxis legt uns jedoch einige Restriktionen auf.\n",
    "In der tatsächlichen Implementierung können wir nämlich aus dem gemachten Schritt \"bergab\", genauer aus dem resultierenden Punkt, nicht einfach einen Stump T erzeugen, der diesen Schritt nachbildet.\n",
    "Daher wird in der Tat gar kein solcher \"numerischer\" Schritt vollzogen, sondern der nächste Stump T auf dem Gradienten von L im Punkt E trainiert (dieser Gradient wir auch Pseudo-Residual genannt).\n",
    "Danach können wir T zum bisherigen Ensemble \"einfach addieren\".\n",
    "\n",
    "Bemerke, dass zur Vermeidung von Overfitting die Komplexität des nächsten Stumps T im Allgemeinen beschränkt ist - z.B. indem die Anzahl der Knoten nicht beliebig groß sein darf.\n",
    "Daher kann nicht jede Rede der Trainingsmenge explizit berücksichtigt werden und T bildet den beabsichtigten Schritt \"bergab\" nicht exakt nach.\n",
    "So kann sich z.B. eine Abweichung von der beabsichtigten Richtung ergeben.\n",
    "\n",
    "Folglich führt auch eine für den aktuellen Gradienten optimierte Schrittweite s nicht unbedingt zu einem optimalen Stump S.\n",
    "Daher wird s gar nicht optimiert, sondern verringert sich für jeden neuen Stump nach einem fest vorgegebenen Schema (im folgenden Beispiel haben wir die sogenannte _Learning Rate_ auf 0.6 gesetzt).\n",
    "\n",
    "Schließlich erhalten wir das nächste Teil-Ensemble \" E' = E + sT \" und wiederholen mit E'.\n",
    "Die Vorhersage des finalen Ensembles besteht also im Wesentlichen aus einer gewichteten Summe über alle Stumps.\n",
    "\n",
    "<img src=\"images/gradientboostingPredict.jpg\" width=\"50%\">\n",
    "\n",
    "Abschließend sei bemerkt, dass alternativ zum gewohnten Training des ersten (Klassifikations-)Stumps der Folge dieser auch zufällig oder gar beliebig gewählt werden kann, denn der Ansatz der schrittweisen Fehlerkorrektur funktioniert auch in diesen Fällen.\n",
    "\n",
    "Mit Gradient Boosting können wir die Genauigkeit weiter auf ca. 94% heben, wofür wir allerdings ein größeres Ensemble als bisher benötigen."
   ]
  },
  {
   "cell_type": "code",
   "execution_count": 18,
   "metadata": {},
   "outputs": [
    {
     "data": {
      "text/plain": [
       "'Wiederholung 0'"
      ]
     },
     "metadata": {},
     "output_type": "display_data"
    },
    {
     "data": {
      "text/plain": [
       "'Wiederholung 1'"
      ]
     },
     "metadata": {},
     "output_type": "display_data"
    },
    {
     "data": {
      "text/plain": [
       "'Wiederholung 2'"
      ]
     },
     "metadata": {},
     "output_type": "display_data"
    },
    {
     "data": {
      "text/plain": [
       "'Wiederholung 3'"
      ]
     },
     "metadata": {},
     "output_type": "display_data"
    },
    {
     "data": {
      "text/plain": [
       "'Wiederholung 4'"
      ]
     },
     "metadata": {},
     "output_type": "display_data"
    },
    {
     "data": {
      "text/plain": [
       "'Wiederholung 5'"
      ]
     },
     "metadata": {},
     "output_type": "display_data"
    },
    {
     "data": {
      "text/plain": [
       "'Wiederholung 6'"
      ]
     },
     "metadata": {},
     "output_type": "display_data"
    },
    {
     "data": {
      "text/plain": [
       "'Wiederholung 7'"
      ]
     },
     "metadata": {},
     "output_type": "display_data"
    },
    {
     "data": {
      "text/plain": [
       "'Wiederholung 8'"
      ]
     },
     "metadata": {},
     "output_type": "display_data"
    },
    {
     "data": {
      "text/plain": [
       "'Wiederholung 9'"
      ]
     },
     "metadata": {},
     "output_type": "display_data"
    },
    {
     "data": {
      "text/plain": [
       "'Wiederholung 10'"
      ]
     },
     "metadata": {},
     "output_type": "display_data"
    },
    {
     "data": {
      "text/plain": [
       "'Wiederholung 11'"
      ]
     },
     "metadata": {},
     "output_type": "display_data"
    },
    {
     "data": {
      "text/plain": [
       "'Wiederholung 12'"
      ]
     },
     "metadata": {},
     "output_type": "display_data"
    },
    {
     "data": {
      "text/plain": [
       "'Wiederholung 13'"
      ]
     },
     "metadata": {},
     "output_type": "display_data"
    },
    {
     "data": {
      "text/plain": [
       "'Wiederholung 14'"
      ]
     },
     "metadata": {},
     "output_type": "display_data"
    },
    {
     "data": {
      "text/plain": [
       "'Wiederholung 15'"
      ]
     },
     "metadata": {},
     "output_type": "display_data"
    },
    {
     "data": {
      "text/plain": [
       "'Wiederholung 16'"
      ]
     },
     "metadata": {},
     "output_type": "display_data"
    },
    {
     "data": {
      "text/plain": [
       "'Wiederholung 17'"
      ]
     },
     "metadata": {},
     "output_type": "display_data"
    },
    {
     "data": {
      "text/plain": [
       "'Wiederholung 18'"
      ]
     },
     "metadata": {},
     "output_type": "display_data"
    },
    {
     "data": {
      "text/plain": [
       "'Wiederholung 19'"
      ]
     },
     "metadata": {},
     "output_type": "display_data"
    },
    {
     "data": {
      "text/plain": [
       "0.9405035971223021"
      ]
     },
     "metadata": {},
     "output_type": "display_data"
    },
    {
     "data": {
      "image/png": "[encoded data removed]",
      "text/plain": [
       "<Figure size 432x288 with 2 Axes>"
      ]
     },
     "metadata": {
      "needs_background": "light"
     },
     "output_type": "display_data"
    }
   ],
   "source": [
    "from sklearn.ensemble import GradientBoostingClassifier\n",
    "\n",
    "STEP_SIZE=0.6\n",
    "\n",
    "# Ein GradientBoostingClassifier verwendet standardmäßig Entscheidungsbäume.\n",
    "# Wir müssen noch die Höhe\n",
    "def generate_gradient_boosting_classifier():\n",
    "    return GradientBoostingClassifier(max_depth=DECISION_TREE_DEPTH,\n",
    "                                      n_estimators=NUM_BASE_ESTIMATORS*2,\n",
    "                                      learning_rate=STEP_SIZE)\n",
    "\n",
    "(classifiers, accuracies, confusion_matrices) = train_and_test_repeated(\n",
    "    classifier_generator=generate_gradient_boosting_classifier, \n",
    "    data=feature_matrix,\n",
    "    labels=labels,\n",
    "    test_size=TRAIN_TEST_RATIO,\n",
    "    repetitions=REPETITIONS)\n",
    "\n",
    "display_mean_accuracy(accuracies)\n",
    "display_mean_confusion_matrix(confusion_matrices, classes=categories.unique())"
   ]
  },
  {
   "cell_type": "markdown",
   "metadata": {},
   "source": [
    "## XGBoost\n",
    "\n",
    "XGBoost stellt im Wesentlichen eine Verbesserung von herkömmlichem Gradient Boosting dar.\n",
    "Beispielsweise erlaubt die Verwendung von Gradienten zweiter Ordnung eine bessere Bestimmung der Abstiegsrichtung und -weite.\n",
    "Weiterhin werden Methoden zur besseren Vermeidung von Overfitting implementiert.\n",
    "Zudem arbeitet XGBoost deutlich schneller und parallelisiert die Berechnung von sehr großen Entscheidungsbäumen.\n",
    "Für einen detaillierteren Einstieg in XGBoost siehe das [codecentric.AI-Video](https://www.youtube.com/watch?v=xXZeVKP74ao) zum Thema."
   ]
  }
 ],
 "metadata": {
  "kernelspec": {
   "display_name": "Python 3",
   "language": "python",
   "name": "python3"
  },
  "language_info": {
   "codemirror_mode": {
    "name": "ipython",
    "version": 3
   },
   "file_extension": ".py",
   "mimetype": "text/x-python",
   "name": "python",
   "nbconvert_exporter": "python",
   "pygments_lexer": "ipython3",
   "version": "3.6.7"
  },
  "name": "nlp_basics.ipynb",
  "toc": {
   "base_numbering": 1,
   "nav_menu": {
    "height": "399.533px",
    "width": "431px"
   },
   "number_sections": true,
   "sideBar": true,
   "skip_h1_title": false,
   "title_cell": "Table of Contents",
   "title_sidebar": "Contents",
   "toc_cell": false,
   "toc_position": null,
   "toc_section_display": true,
   "toc_window_display": true
  },
  "varInspector": {
   "cols": {
    "lenName": 16,
    "lenType": 16,
    "lenVar": 40
   },
   "kernels_config": {
    "python": {
     "delete_cmd_postfix": "",
     "delete_cmd_prefix": "del ",
     "library": "var_list.py",
     "varRefreshCmd": "print(var_dic_list())"
    },
    "r": {
     "delete_cmd_postfix": ") ",
     "delete_cmd_prefix": "rm(",
     "library": "var_list.r",
     "varRefreshCmd": "cat(var_dic_list()) "
    }
   },
   "types_to_exclude": [
    "module",
    "function",
    "builtin_function_or_method",
    "instance",
    "_Feature"
   ],
   "window_display": true
  }
 },
 "nbformat": 4,
 "nbformat_minor": 2
}
