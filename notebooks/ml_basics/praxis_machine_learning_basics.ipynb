{
 "cells": [
  {
   "cell_type": "markdown",
   "metadata": {},
   "source": [
    "# codecentric.AI Bootcamp\n",
    "## Praxis: Machine Learning Basics\n",
    "\n",
    "Willkommen bei der Lektion zu Machine Learning Basics.\n",
    "\n",
    "Um das Erklärvideo zu diesem Notebook zu laden, führe folgende Zelle aus:\n"
   ]
  },
  {
   "cell_type": "code",
   "execution_count": 1,
   "metadata": {},
   "outputs": [
    {
     "data": {
      "text/html": [
       "\n",
       "        <iframe\n",
       "            width=\"850\"\n",
       "            height=\"650\"\n",
       "            src=\"https://www.youtube.com/embed/xxx\"\n",
       "            frameborder=\"0\"\n",
       "            allowfullscreen\n",
       "        ></iframe>\n",
       "        "
      ],
      "text/plain": [
       "<IPython.lib.display.IFrame at 0x7f07a052b2e8>"
      ]
     },
     "execution_count": 1,
     "metadata": {},
     "output_type": "execute_result"
    }
   ],
   "source": [
    "# lade Video\n",
    "from IPython.display import IFrame    \n",
    "IFrame('https://www.youtube.com/embed/xxx', width=850, height=650)"
   ]
  },
  {
   "cell_type": "markdown",
   "metadata": {},
   "source": [
    "# Setup\n",
    "\n",
    "Wir beginnen sehr einfach, um auch die Leute abzuholen, die nicht viel Python Erfahrung haben. \n",
    "Wenn Dir das Kapitel zu einfach erscheint - keine Sorge, im folgenden Kurs wird der Code noch anspruchsvoller ;)\n",
    "\n",
    "Zunächst importieren wir wieder die benötigten Libraries.\n",
    "\n",
    "- numpy für effiziente Verarbeitung von multidimensionalen Arrays\n",
    "- matplotlib um Daten zu Visualisieren"
   ]
  },
  {
   "cell_type": "code",
   "execution_count": 2,
   "metadata": {},
   "outputs": [],
   "source": [
    "# magic Function, damit die matplotlib Visualisierungen im Jupyter Notebook angezeigt werden (und nicht in Extra Fenster)\n",
    "%matplotlib inline\n",
    "\n",
    "import numpy as np\n",
    "import matplotlib.pyplot as plt\n",
    "from matplotlib import pylab\n",
    "import math\n",
    "import random"
   ]
  },
  {
   "cell_type": "markdown",
   "metadata": {},
   "source": [
    "Jetzt definieren wir eine einfache Funktion und generieren damit ein paar Datenpunkte.\n",
    "\n",
    "Die lambda Schreibweise ist in Python eine anonyme Funktion - man hätte auch def f(x): return 1.5*x+5 schreiben können.\n",
    "\n",
    "Die Notation mit [x for x in something] ist ein sogenannte Python List Comprehension. Dies werden wir häufig verwenden und sehen. So können wir in einer kompakten Schreibweise Listen, Arrays und Dictionaries erzeugen."
   ]
  },
  {
   "cell_type": "markdown",
   "metadata": {},
   "source": [
    "In diesem einfachen Beispiel soll das das Modell sein, was wir lernen wollen:\n",
    "\n",
    "$$f(x)=1.5x^2 + 5 $$\n",
    "\n",
    "Also eine Funktion mit quadratischen Eigenschaften. "
   ]
  },
  {
   "cell_type": "code",
   "execution_count": 3,
   "metadata": {},
   "outputs": [
    {
     "name": "stdout",
     "output_type": "stream",
     "text": [
      "[[ 0.   5. ]\n",
      " [ 1.   6.5]\n",
      " [ 2.  11. ]]\n"
     ]
    }
   ],
   "source": [
    "# zunächst definieren wir eine Funktion, die wir annähern wollen\n",
    "f = lambda x: 1.5*x*x + 5\n",
    "num_datenpunkte = 8\n",
    "\n",
    "daten = np.array( [(x, f(x)) for x in range(num_datenpunkte)] )\n",
    "\n",
    "# jetzt geben wir die ersten beiden Tupel aus. Die Notation [:3] könnte man auch als [0:3] schreiben und bedeutet hier: \n",
    "# Elemente von 0 bis nicht einschliesslich 3\n",
    "print(daten[:3])"
   ]
  },
  {
   "cell_type": "markdown",
   "metadata": {},
   "source": [
    "Jetzt visualisieren wir die Daten mit Matplotlib.\n",
    "\n",
    "Wir setzen die Parameter xlim und ylim um den Ursrpung des Koordinatensystems bei 0,0 beginnen zu lassen."
   ]
  },
  {
   "cell_type": "code",
   "execution_count": 4,
   "metadata": {},
   "outputs": [
    {
     "data": {
      "image/png": "[encoded data removed]",
      "text/plain": [
       "<Figure size 432x288 with 1 Axes>"
      ]
     },
     "metadata": {
      "needs_background": "light"
     },
     "output_type": "display_data"
    }
   ],
   "source": [
    "plt.plot(daten[:, 0], daten[:, 1])\n",
    "plt.ylim(bottom=0)\n",
    "plt.xlim(left=0)\n",
    "plt.show()"
   ]
  },
  {
   "cell_type": "code",
   "execution_count": 5,
   "metadata": {},
   "outputs": [],
   "source": [
    "# jetzt generieren wir nocheinmal ähnliche Daten aber mit einer leichten Abweichung\n",
    "# die Function random.randint(-2,2) liefert Zufallszahlen zwischen -2 und 2\n",
    "noisy_daten = np.array( [(x, f(x) + random.randint(-2,2)*x) for x in range(num_datenpunkte)] )"
   ]
  },
  {
   "cell_type": "code",
   "execution_count": 6,
   "metadata": {},
   "outputs": [
    {
     "data": {
      "text/plain": [
       "[<matplotlib.lines.Line2D at 0x7f0770bce780>]"
      ]
     },
     "execution_count": 6,
     "metadata": {},
     "output_type": "execute_result"
    },
    {
     "data": {
      "image/png": "[encoded data removed]",
      "text/plain": [
       "<Figure size 432x288 with 1 Axes>"
      ]
     },
     "metadata": {
      "needs_background": "light"
     },
     "output_type": "display_data"
    }
   ],
   "source": [
    "# und nun zeigen wir beides in einem Bild an\n",
    "plt.plot(daten[:, 1])\n",
    "plt.plot(noisy_daten[:, 1])"
   ]
  },
  {
   "cell_type": "markdown",
   "metadata": {},
   "source": [
    "# Kosten Funktionen / Abweichung zwischen Modell und Daten messen\n",
    "\n",
    "Jetzt übertragen wir dieses einfache Beispiel auf ein Problem, dass wir mit Machine Learning lösen wollen.\n",
    "Die \"noisy_daten\" sind dabei die Daten, die wir beobachtet haben (also unsere Labels). Im Alltag gibt es keine exakten Modelle - sondern Daten haben immer gewisse Abweichungen.\n",
    "\n",
    "Die Funktion f(x) ist dabei das Modell, das wir lernen wollen. Also das Prinzip hinter diesen Daten.\n",
    "\n",
    "Ein einfacher Ansatz wäre nun, dass man einfach ein paar Modelle ausprobiert und versucht zu messen, wie gut dieses Modell zu unseren Labels passt. Um dies messen zu können, verwenden wir Kosten Funktionen."
   ]
  },
  {
   "cell_type": "code",
   "execution_count": 7,
   "metadata": {},
   "outputs": [
    {
     "name": "stdout",
     "output_type": "stream",
     "text": [
      "Abweichung bei x=0 ist: 0.0\n",
      "Abweichung bei x=1 ist: 1.0\n",
      "Abweichung bei x=2 ist: 4.0\n",
      "Abweichung bei x=3 ist: 6.0\n",
      "Abweichung bei x=4 ist: 4.0\n",
      "Abweichung bei x=5 ist: 10.0\n",
      "Abweichung bei x=6 ist: 6.0\n",
      "Abweichung bei x=7 ist: 14.0\n",
      "Fehler insgesamt: 45.0\n"
     ]
    }
   ],
   "source": [
    "# einfache Fehler Funktion\n",
    "fehler = lambda x, y: abs(x - y)\n",
    "\n",
    "gesamt_fehler = 0\n",
    "\n",
    "# für jeden Datenpunkt berechne die Abweichung zwischen Modell und noisy_daten\n",
    "for i in range(num_datenpunkte):\n",
    "    e = fehler(daten[i, 1], noisy_daten[i, 1])\n",
    "    print(\"Abweichung bei x={0} ist: {1}\".format(i, e))\n",
    "    gesamt_fehler += e\n",
    "    \n",
    "print(\"Fehler insgesamt: {}\".format(gesamt_fehler))"
   ]
  },
  {
   "cell_type": "markdown",
   "metadata": {},
   "source": [
    "### Das gleiche mit numpy\n",
    "\n",
    "Das ganze geht auch einfacher.\n",
    "\n",
    "for loops können bei großen Datasets sehr langsam sein. Deshalb verwenden wir numpy:"
   ]
  },
  {
   "cell_type": "code",
   "execution_count": 8,
   "metadata": {},
   "outputs": [],
   "source": [
    "gesamt_fehler_numpy = np.sum(abs( daten[:, 1] - noisy_daten[:, 1]))"
   ]
  },
  {
   "cell_type": "code",
   "execution_count": 9,
   "metadata": {},
   "outputs": [
    {
     "name": "stdout",
     "output_type": "stream",
     "text": [
      "45.0\n"
     ]
    }
   ],
   "source": [
    "print(gesamt_fehler_numpy)"
   ]
  },
  {
   "cell_type": "markdown",
   "metadata": {},
   "source": [
    "### Zum Vergleich ein anderes Modell"
   ]
  },
  {
   "cell_type": "code",
   "execution_count": 10,
   "metadata": {},
   "outputs": [
    {
     "name": "stdout",
     "output_type": "stream",
     "text": [
      "147.0\n"
     ]
    }
   ],
   "source": [
    "lineares_modell = lambda x: 2*x + 3\n",
    "\n",
    "andere_daten = np.array( [(x, lineares_modell(x)) for x in range(num_datenpunkte)] )\n",
    "\n",
    "gesamt_fehler_numpy_andere = np.sum(abs( andere_daten[:, 1] - noisy_daten[:, 1]))\n",
    "print(gesamt_fehler_numpy_andere)"
   ]
  },
  {
   "cell_type": "code",
   "execution_count": 11,
   "metadata": {},
   "outputs": [
    {
     "data": {
      "text/plain": [
       "[<matplotlib.lines.Line2D at 0x7f0770bc6198>]"
      ]
     },
     "execution_count": 11,
     "metadata": {},
     "output_type": "execute_result"
    },
    {
     "data": {
      "image/png": "[encoded data removed]",
      "text/plain": [
       "<Figure size 432x288 with 1 Axes>"
      ]
     },
     "metadata": {
      "needs_background": "light"
     },
     "output_type": "display_data"
    }
   ],
   "source": [
    "# hier noch eine Visualisierung mit dem linearen Modell\n",
    "plt.plot(andere_daten[:, 1])\n",
    "plt.plot(noisy_daten[:, 1])"
   ]
  },
  {
   "cell_type": "markdown",
   "metadata": {},
   "source": [
    "### Fazit:\n",
    "\n",
    "- Durch die Ermittlung des \"Gesamten Fehlers\" können wir die beiden Modelle einfach miteinander vergleichen.\n",
    "- Wir sehen, dass der Fehler beim ersten Modell geringer ist als beim zweiten.\n",
    "- In der Visualisierung können wir vermuten, dass unser lineares Modell hier \"zu einfach\" ist und nicht unsere Daten repräsentieren kann. Wobei man bei diesem Ausschnitt noch nicht genau sieht, dass die Daten nicht linear sind."
   ]
  },
  {
   "cell_type": "markdown",
   "metadata": {},
   "source": [
    "Aber wir wollen ja beim Machine Learning nicht manuell verschiedene Modelle und Parameter ausprobieren.\n",
    "Bei diesem einfachen Beispiel ist das zwar noch möglich - in der Praxis sind Modelle aber viel komplexer und lassen sich nicht mehr intuitiv bestimmen. Dennoch sind die Prinzipien die gleichen - es geht darum Parameter \"auszuprobieren\" und den Fehler zu messen. Mit Hilfe von Kosten-Funktionen lassen sich effiziente Algorithmen implementieren, die die Parameter eines Modells iterativ annähern. Wir haben in diesem Beispiel die Summe der Absoluten Fehler zwischen dem Modell und den Labels verwendet. Diese wird natürlich immer größer, je mehr Datenpunkte wir \"testen\". Daher kann man diesen noch durch die Anzahl der Datenpunkte teilen und erhält so eine einfache Kostenfunktion: den **\"Mean Absolute Error\"**\n",
    "\n"
   ]
  },
  {
   "cell_type": "code",
   "execution_count": 12,
   "metadata": {},
   "outputs": [
    {
     "name": "stdout",
     "output_type": "stream",
     "text": [
      "5.625 18.375\n"
     ]
    }
   ],
   "source": [
    "MAE_modell_1 = gesamt_fehler_numpy / num_datenpunkte\n",
    "MAE_modell_2 = gesamt_fehler_numpy_andere / num_datenpunkte\n",
    "print(MAE_modell_1, MAE_modell_2)"
   ]
  },
  {
   "cell_type": "markdown",
   "metadata": {},
   "source": [
    "Die Formel dafür lautet:\n",
    "\n",
    "$$MAE(X, f)=\\frac1m \\sum_{i=1}^m|f(x_i) - y_i|$$\n",
    "\n",
    "- m ist dabei die Anzahl der Datenpunkte\n",
    "- X sind die bekannten Features und Labels (in diesem vereinfachten Fall sind die Features einfach x=1,2,3... etc.)\n",
    "- f ist unser Modell bzw. die Vorhersage-Funktion\n",
    "- y sind die Labels"
   ]
  },
  {
   "cell_type": "markdown",
   "metadata": {},
   "source": [
    "# Generalisieren vs. Over- / Underfitting\n",
    "\n",
    "Jetzt versuchen wir absichtlich ein overfitted Modell zu erstellen.\n",
    "Wir ermitteln eine Funktion, die möglichst durch alle unsere Trainingspunkte läuft. Dazu berechnen wir ein Polynom 7. Grades mit Hilfe von numpy.polyfit:"
   ]
  },
  {
   "cell_type": "code",
   "execution_count": 13,
   "metadata": {},
   "outputs": [],
   "source": [
    "x = noisy_daten[:, 0]\n",
    "y = noisy_daten[:, 1]\n",
    "\n",
    "p = np.polyfit(x, y, 7)\n",
    "f_poly = np.poly1d(p)"
   ]
  },
  {
   "cell_type": "markdown",
   "metadata": {},
   "source": [
    "Die Funktion, die dabei heraus kommt sieht so aus:"
   ]
  },
  {
   "cell_type": "code",
   "execution_count": 14,
   "metadata": {},
   "outputs": [
    {
     "name": "stdout",
     "output_type": "stream",
     "text": [
      "          7         6        5         4         3         2\n",
      "-0.08194 x + 1.971 x - 18.8 x + 90.23 x - 226.6 x + 276.8 x - 121 x + 5\n"
     ]
    }
   ],
   "source": [
    "print(f_poly)"
   ]
  },
  {
   "cell_type": "markdown",
   "metadata": {},
   "source": [
    "Jetzt berechnen wir mit dieser Funktion einige Datenpunkte, um diese dann zu visualisieren:"
   ]
  },
  {
   "cell_type": "code",
   "execution_count": 15,
   "metadata": {},
   "outputs": [],
   "source": [
    "# np.linspace erzeugt hier 100 Datenpunkte zwischen dem ersten und dem letzten x Wert\n",
    "x_poly = np.linspace(x[0], x[-1], 100)\n",
    "# mit diesen x Werten berechnen wir den Verlauf der Funktion\n",
    "y_poly = f_poly(x_poly)"
   ]
  },
  {
   "cell_type": "code",
   "execution_count": 16,
   "metadata": {},
   "outputs": [
    {
     "data": {
      "text/plain": [
       "[<matplotlib.lines.Line2D at 0x7f0770b23a20>,\n",
       " <matplotlib.lines.Line2D at 0x7f0770b23c50>]"
      ]
     },
     "execution_count": 16,
     "metadata": {},
     "output_type": "execute_result"
    },
    {
     "data": {
      "image/png": "[encoded data removed]",
      "text/plain": [
       "<Figure size 432x288 with 1 Axes>"
      ]
     },
     "metadata": {
      "needs_background": "light"
     },
     "output_type": "display_data"
    }
   ],
   "source": [
    "# und jetzt visualisieren wir den Verlauf und markieren die eigentlichen Labels mit einem \"x\"\n",
    "plt.plot(x, y, 'x', x_poly, y_poly)"
   ]
  },
  {
   "cell_type": "markdown",
   "metadata": {},
   "source": [
    "Wir sehen schon, dass die Funktion genau durch die x Punkte läuft - d.h. es ist zu erwarten, dass unser Fehler sehr klein ist. Zur Kontrolle berechnen wir den Fehler:"
   ]
  },
  {
   "cell_type": "code",
   "execution_count": 17,
   "metadata": {},
   "outputs": [],
   "source": [
    "overfitted_daten = np.array( [(x, f_poly(x)) for x in range(num_datenpunkte)] )"
   ]
  },
  {
   "cell_type": "code",
   "execution_count": 18,
   "metadata": {},
   "outputs": [
    {
     "name": "stdout",
     "output_type": "stream",
     "text": [
      "Mean Absolute Error 0.000000000078\n"
     ]
    }
   ],
   "source": [
    "gesamt_fehler_overfitted = np.sum(abs( overfitted_daten[:, 1] - noisy_daten[:, 1]))\n",
    "print(\"Mean Absolute Error {0:.12f}\".format(gesamt_fehler_overfitted/num_datenpunkte))"
   ]
  },
  {
   "cell_type": "markdown",
   "metadata": {},
   "source": [
    "Der Fehler des overfitting Modells ist geringer (nahe 0) als der von unserem idealen Modell - **aber nur im Bereich von unseren Trainingsdaten (den Datenpunkten)**. Das Modell hat qausi die Datenpunkte auswendig gelernt und nicht das Konzept hinter den Daten."
   ]
  },
  {
   "cell_type": "code",
   "execution_count": 20,
   "metadata": {},
   "outputs": [
    {
     "data": {
      "text/plain": [
       "<matplotlib.legend.Legend at 0x7f0770a0c5f8>"
      ]
     },
     "execution_count": 20,
     "metadata": {},
     "output_type": "execute_result"
    },
    {
     "data": {
      "image/png": "[encoded data removed]",
      "text/plain": [
       "<Figure size 432x288 with 1 Axes>"
      ]
     },
     "metadata": {
      "needs_background": "light"
     },
     "output_type": "display_data"
    }
   ],
   "source": [
    "plt.plot(x, y, 'x', x_poly, y_poly)\n",
    "plt.plot(daten[:, 1])\n",
    "plt.legend([\"Labels\", \"overfitted Modell\", \"generalisierendes Modell\"])"
   ]
  },
  {
   "cell_type": "markdown",
   "metadata": {},
   "source": [
    "Betrachten wir nun einen Punkt der nicht in den Trainingsdaten liegt, sehen wir, wie schlecht das Modell trotz des geringen Fehlers ist:"
   ]
  },
  {
   "cell_type": "code",
   "execution_count": 21,
   "metadata": {},
   "outputs": [
    {
     "data": {
      "text/plain": [
       "<matplotlib.legend.Legend at 0x7f07709fbf28>"
      ]
     },
     "execution_count": 21,
     "metadata": {},
     "output_type": "execute_result"
    },
    {
     "data": {
      "image/png": "[encoded data removed]",
      "text/plain": [
       "<Figure size 432x288 with 1 Axes>"
      ]
     },
     "metadata": {
      "needs_background": "light"
     },
     "output_type": "display_data"
    }
   ],
   "source": [
    "# wir erzeugen nochmal Daten, gehen aber über die Trainingsdaten hinaus (+1)\n",
    "x_poly = np.linspace(x[0], x[-1] + 1, 100)\n",
    "y_poly = f_poly(x_poly)\n",
    "plt.plot(x, y, 'x', x_poly, y_poly)\n",
    "plt.plot(daten[:, 1])\n",
    "plt.legend([\"Labels\", \"overfitted Modell\", \"generalisierendes Modell\"])"
   ]
  },
  {
   "cell_type": "markdown",
   "metadata": {},
   "source": [
    "### Fazit:\n",
    "\n",
    "- Overfitting kann bedeuten,dass mein Fehler zwar sehr klein wird, aber mein Modell trotzdem nicht gut ist \n",
    "- es funktioniert nur auf den Trainingsdaten\n",
    "- es generalisiert nicht\n"
   ]
  },
  {
   "cell_type": "markdown",
   "metadata": {},
   "source": [
    "Im Vergleich dazu nocheinmal \"Underfitting\", was wiederum bedeutet, dass mein Modell zu einfach ist. Dazu erstellen wir eine lineare Funktion, wo wir wissen, dass diese niemals die quadratischen Eigenschaften unserer Daten abbilden kann:"
   ]
  },
  {
   "cell_type": "code",
   "execution_count": 22,
   "metadata": {},
   "outputs": [
    {
     "name": "stdout",
     "output_type": "stream",
     "text": [
      "0.0 5.0 7.0 64.5\n"
     ]
    }
   ],
   "source": [
    "# unsere Funktion soll ungefähr durch diese Punkte laufen:\n",
    "(x1, y1), (x2, y2) = noisy_daten[0], noisy_daten[-1]\n",
    "print(x1, y1, x2, y2)\n",
    "\n",
    "# daraus folgt ein Modell: \n",
    "f_underfitting = lambda x: ( (y2-y1)/x2 ) * x + y1"
   ]
  },
  {
   "cell_type": "code",
   "execution_count": 23,
   "metadata": {},
   "outputs": [],
   "source": [
    "underfitted_daten = np.array( [(x, f_underfitting(x)) for x in range(num_datenpunkte)] )"
   ]
  },
  {
   "cell_type": "code",
   "execution_count": 26,
   "metadata": {},
   "outputs": [
    {
     "data": {
      "text/plain": [
       "<matplotlib.legend.Legend at 0x7f0770860e80>"
      ]
     },
     "execution_count": 26,
     "metadata": {},
     "output_type": "execute_result"
    },
    {
     "data": {
      "image/png": "[encoded data removed]",
      "text/plain": [
       "<Figure size 432x288 with 1 Axes>"
      ]
     },
     "metadata": {
      "needs_background": "light"
     },
     "output_type": "display_data"
    }
   ],
   "source": [
    "plt.plot(x, y, 'x', underfitted_daten[:, 1])\n",
    "plt.plot(daten[:, 1])\n",
    "plt.legend([\"Labels\", \"underfitted Modell\", \"generalisierendes Modell\"])"
   ]
  },
  {
   "cell_type": "markdown",
   "metadata": {},
   "source": [
    "### Fazit: \n",
    "\n",
    "Auch hier sehen wir, dass der Fehler im Bereich der Trainingsdaten nicht sehr groß sein wird. Aber man kann sich aber leicht vorstellen, dass die Abweichungen für größere Werte von x sehr groß werden. Das zu einfache Modell wird niemals in der Lage sein, unsere fiktiven Daten mit quadratischen Eigenschaften über einen großen Wertebereich gut vorherzusagen."
   ]
  },
  {
   "cell_type": "markdown",
   "metadata": {},
   "source": [
    "# Daten splitten und Modelle messen\n",
    "\n",
    "Also was macht man nun gegen Overfitting und Underfitting - und vor allem wie merkt man, wie es um sein aktuelles Modell bestellt ist? Bei unserem einfachen Beispiel lässt sich das noch ganz gut visualisieren und intuitiv bewerten - in der Praxis sind dafür die Modelle aber meist zu komplex.\n",
    "\n",
    "Im Prinzip geht man in der Praxis wie folgt vor:\n",
    "\n",
    "- Teile die Daten auf (Traininsset, Validationset, Testset)\n",
    "- Trainiere dein Modell nur mit den Trainingsdaten\n",
    "- Messe den Fehler auf den Trainingsdaten -> fehler(train)\n",
    "- nach einigen Durchläufen: Messe den Fehler auf dem Validationset (also auf Daten, die das Modell nicht \"kennt\")\n",
    "\n",
    "Durch Vergleich der Werte fehler(train) und fehler(val) kann man darauf zurückschließen wie gut oder schlecht ein Modell generalisiert. \n",
    "\n",
    "Das Testset ist noch ein Spezialfall um ganz am Ende eine ungeschönte Qualitätsaussage über das Modell zu machen. Im Prinzip darf man es nur 1 mal verwenden, um sein Modell zu messen und danach nicht mehr optimieren. Man könnte natürlich weiter für das Testset optimieren und damit auch seine Werte verbessern - aber das ist ein bisschen wie schummeln und daher nicht aussagekräftig.\n",
    "\n"
   ]
  },
  {
   "cell_type": "code",
   "execution_count": 27,
   "metadata": {},
   "outputs": [
    {
     "data": {
      "text/plain": [
       "[<matplotlib.lines.Line2D at 0x7f07707db710>]"
      ]
     },
     "execution_count": 27,
     "metadata": {},
     "output_type": "execute_result"
    },
    {
     "data": {
      "image/png": "[encoded data removed]",
      "text/plain": [
       "<Figure size 432x288 with 1 Axes>"
      ]
     },
     "metadata": {
      "needs_background": "light"
     },
     "output_type": "display_data"
    }
   ],
   "source": [
    "# jetzt brauchen wir etwas mehr Daten als vorher, damit wir was zum aufteilen haben\n",
    "# wir generieren zunächst 200 x-werte zwischen 0 und 10\n",
    "num_x = num_x = 200\n",
    "x_werte = np.linspace(0, 10, num_x)\n",
    "\n",
    "# nun erzeugen wir die daten wieder mit einer leichten Abweichung zu unserem Modell\n",
    "mehr_daten = np.array( [(x, f(x) + random.randint(-2,2)*x) for x in x_werte] )\n",
    "\n",
    "plt.plot(mehr_daten[:,0], mehr_daten[:,1], \"x\")"
   ]
  },
  {
   "cell_type": "code",
   "execution_count": 28,
   "metadata": {},
   "outputs": [],
   "source": [
    "# wir mischen die Daten durch, damit die Daten zufällig verteilt sind\n",
    "np.random.shuffle(mehr_daten)\n",
    "\n",
    "# wir definieren einen Split bei 90 % (also 90 % Training, 10 % Validation). Üblich sind Werte zwischen 80-90% je nach Daten.\n",
    "split = int(num_x * (0.9))\n",
    "\n",
    "# jetzt splitten wir die Daten auf - mit numpy slicing ganz einfach:\n",
    "train, val = mehr_daten[:split,:], mehr_daten[split:,:]"
   ]
  },
  {
   "cell_type": "code",
   "execution_count": 29,
   "metadata": {},
   "outputs": [
    {
     "data": {
      "text/plain": [
       "[<matplotlib.lines.Line2D at 0x7f077079add8>]"
      ]
     },
     "execution_count": 29,
     "metadata": {},
     "output_type": "execute_result"
    },
    {
     "data": {
      "image/png": "[encoded data removed]",
      "text/plain": [
       "<Figure size 432x288 with 1 Axes>"
      ]
     },
     "metadata": {
      "needs_background": "light"
     },
     "output_type": "display_data"
    }
   ],
   "source": [
    "# Anzeige der Trainingsdaten kleinere Punkte\n",
    "plt.plot(train[:, 0], train[:, 1], \".\")\n",
    "# Anzeige der Evaldaten als größere Punkte\n",
    "plt.plot(val[:, 0], val[:, 1], \"o\")"
   ]
  },
  {
   "cell_type": "markdown",
   "metadata": {},
   "source": [
    "Mit einem Modell und einer Fehler Funktion kann man nun den Fehler für die Trainingsdaten und für die Eval Daten berechnen und miteinander vergleichen. Hier kommt es vor allem auch auf den Trend der Werte in mehreren Trainingsrunden an.\n",
    "\n",
    "Am Anfang ist zu erwarten, dass sowohl fehler(train) als auch fehler(val) mehr oder weniger gleichmäßig kleiner werden. Dies bedeutet das Modell wird besser bzw. \"lernt\" etwas. Erreicht man dann einen Punkt, wo fehler(train) weiterhin kleiner wird aber fehler(val) gleich bleibt oder sogar größer wird beginnt das Modell zu overfitten. An dieser Stelle lernt das Modell nicht mehr das Konzept der Trainingsdaten sondern die Traingsdaten selbst.\n",
    "\n",
    "Schauen wir uns einen fiktiven Trainingsverlauf an:\n",
    "\n",
    "| Trainingsrunde | fehler(train) | fehler(val)    |\n",
    "|----------------|---------------|----------------|\n",
    "|   1            | 17,4          | 20,3           |\n",
    "|   2            | 14,4          | 17,2           |\n",
    "|   3            | 8,4           | 10,5           |\n",
    "|   4            | 2,4           |  4,1           |\n",
    "|   5            | 1,4           |  6,1           | \n",
    "|   6            | 0,4           |  8,2           |\n",
    "\n",
    "Hier sehen wir, dass ab Runde 5 ein Overfitting beginnt. fehler(train) fällt weiter deutlich während fehler(val) wieder steigt. Das Modell kann also auf unbekannten Daten verhältnismäßig schlechter vorhersagen als auf bekannten Daten. Was wiederum bedeutet, dass es nicht mehr so gut generalisiert. Das ist in der Regel ein guter Zeitpunkt, um mit dem Training aufzuhören. Wenn man diesen Punkt nie erreicht, dann bedeutet das wahrscheinlich, dass das Modell zu einfach ist.\n",
    "\n",
    "An dieser Stelle führt uns unser vereinfachtes Beispiel nicht mehr weiter (wir müssten zu viel selbst implementieren). Ab hier werden wir uns mit \"richtigen\" Datesets und mit Machine Learning Frameworks auseinander setzen. Aber diese Konzepte werden uns bald wieder begegnen."
   ]
  },
  {
   "cell_type": "markdown",
   "metadata": {},
   "source": [
    "# Klassifikation \n",
    "\n",
    "Jetzt starten wir gleich richtig durch. Wir laden ein Dataset und klassifizieren Bilder. Wir verwenden dazu Keras, TensorFlow und Neuronale Netze. Was das genau bedeutet sei an dieser Stelle unwichtig - wir werden aber die einfachen Konzepte von vorher wieder finden.\n",
    "\n",
    "Wichtig hier ist zu sehen, dass die Prinzipien von unserem stark vereinfachten Beispiel auch direkt auf komplexes Deep Learning mit neuronalen Netzen übertragen können. Es funktioniert ganz ähnlich - nur die mathematischen Funktionen sind komplexer und es gibt viel mehr Parameter. Diese Komplexität wird für den User aber durch einfach anzuwendende Frameworks abstrahiert ...\n",
    "\n",
    "Ich zeige euch jetzt einfach den Code und wie man Bilder mit neuronalen Netzen klassifiziert. Was das genau bedeutet schauen wir uns in einem späteren Kapitel genauer an."
   ]
  },
  {
   "cell_type": "code",
   "execution_count": 30,
   "metadata": {},
   "outputs": [
    {
     "name": "stderr",
     "output_type": "stream",
     "text": [
      "Using TensorFlow backend.\n"
     ]
    }
   ],
   "source": [
    "from keras import *\n",
    "from keras.preprocessing.image import ImageDataGenerator\n",
    "from keras.models import Sequential\n",
    "from keras.layers import Dense, Dropout, Activation, Flatten, Conv2D, MaxPooling2D, ZeroPadding2D\n",
    "from keras.optimizers import RMSprop\n",
    "from keras.layers.normalization import BatchNormalization\n",
    "from keras.layers.advanced_activations import LeakyReLU"
   ]
  },
  {
   "cell_type": "code",
   "execution_count": 33,
   "metadata": {},
   "outputs": [],
   "source": [
    "fruit_list = [\"Kiwi\", \"Banana\", \"Plum\", \"Apricot\", \"Avocado\", \"Cocos\", \"Clementine\", \"Mandarine\", \"Orange\",\n",
    "                \"Limes\", \"Lemon\", \"Peach\", \"Plum\", \"Raspberry\", \"Strawberry\", \"Pineapple\", \"Pomegranate\"]\n",
    "output_n = len(fruit_list)\n",
    "size = 20\n",
    "img_width = 20\n",
    "img_height = 20\n",
    "channels = 3\n",
    "train_image_files_path = \"/data/fruits-360/Training/\"\n",
    "valid_image_files_path = \"/data/fruits-360/Test/\""
   ]
  },
  {
   "cell_type": "code",
   "execution_count": 34,
   "metadata": {},
   "outputs": [
    {
     "name": "stdout",
     "output_type": "stream",
     "text": [
      "Found 8156 images belonging to 17 classes.\n",
      "Found 2743 images belonging to 17 classes.\n"
     ]
    }
   ],
   "source": [
    "train_data_gen = ImageDataGenerator(\n",
    "    rescale = 1 / 255 #,\n",
    ")\n",
    "\n",
    "valid_data_gen = ImageDataGenerator(\n",
    "    rescale = 1 / 255\n",
    ")\n",
    "\n",
    "train_image_array_gen = train_data_gen.flow_from_directory(\n",
    "        train_image_files_path,\n",
    "        target_size = (img_width, img_height),\n",
    "        class_mode = 'categorical',\n",
    "        classes = fruit_list,\n",
    "        seed = 42)\n",
    "\n",
    "valid_image_array_gen = valid_data_gen.flow_from_directory(\n",
    "        valid_image_files_path,\n",
    "        target_size = (img_width, img_height),\n",
    "        class_mode = 'categorical',\n",
    "        classes = fruit_list,\n",
    "        seed = 42)"
   ]
  },
  {
   "cell_type": "code",
   "execution_count": 35,
   "metadata": {},
   "outputs": [
    {
     "name": "stdout",
     "output_type": "stream",
     "text": [
      "8156 2743\n"
     ]
    }
   ],
   "source": [
    "train_samples = train_image_array_gen.n\n",
    "valid_samples = valid_image_array_gen.n\n",
    "print(train_samples, valid_samples)\n",
    "\n",
    "batch_size = 32\n",
    "epochs = 10"
   ]
  },
  {
   "cell_type": "code",
   "execution_count": 36,
   "metadata": {},
   "outputs": [],
   "source": [
    "model = Sequential()\n",
    "\n",
    "# first hidden layer\n",
    "model.add(Conv2D(32, (3, 3), padding = \"same\", input_shape = (img_width, img_height, channels)))\n",
    "model.add(Activation('relu'))\n",
    "\n",
    "# second hidden layer\n",
    "model.add(Conv2D(16, (3, 3), padding = \"same\"))\n",
    "model.add(LeakyReLU(alpha = 0.5))\n",
    "model.add(BatchNormalization())\n",
    "\n",
    "# max pooling\n",
    "model.add(MaxPooling2D(pool_size = (2,2)))\n",
    "model.add(Dropout(0.25))\n",
    "\n",
    "# Flatten max filtered output into feature vector \n",
    "# and feed into dense layer\n",
    "model.add(Flatten())\n",
    "model.add(Dense(512))\n",
    "model.add(Activation('relu'))\n",
    "model.add(Dropout(0.5))\n",
    "\n",
    "# Outputs from dense layer are projected onto output layer\n",
    "model.add(Dense(output_n))\n",
    "model.add(Activation('softmax'))"
   ]
  },
  {
   "cell_type": "code",
   "execution_count": 37,
   "metadata": {},
   "outputs": [],
   "source": [
    "model.compile(loss = 'categorical_crossentropy', \n",
    "              optimizer = RMSprop(lr = 0.0001, decay = 1e-6),\n",
    "              metrics = ['accuracy'])"
   ]
  },
  {
   "cell_type": "code",
   "execution_count": 38,
   "metadata": {},
   "outputs": [
    {
     "name": "stdout",
     "output_type": "stream",
     "text": [
      "Epoch 1/10\n",
      "254/254 [==============================] - 100s 395ms/step - loss: 0.9504 - acc: 0.7061 - val_loss: 0.2080 - val_acc: 0.9434\n",
      "Epoch 2/10\n",
      "254/254 [==============================] - 67s 263ms/step - loss: 0.1280 - acc: 0.9628 - val_loss: 0.0479 - val_acc: 0.9812\n",
      "Epoch 3/10\n",
      "254/254 [==============================] - 67s 265ms/step - loss: 0.0431 - acc: 0.9873 - val_loss: 0.0424 - val_acc: 0.9790\n",
      "Epoch 4/10\n",
      "254/254 [==============================] - 66s 262ms/step - loss: 0.0189 - acc: 0.9950 - val_loss: 0.0154 - val_acc: 0.9923\n",
      "Epoch 5/10\n",
      "254/254 [==============================] - 66s 260ms/step - loss: 0.0106 - acc: 0.9978 - val_loss: 0.0043 - val_acc: 0.9993\n",
      "Epoch 6/10\n",
      "254/254 [==============================] - 68s 270ms/step - loss: 0.0060 - acc: 0.9984 - val_loss: 0.0172 - val_acc: 0.9915\n",
      "Epoch 7/10\n",
      "254/254 [==============================] - 66s 260ms/step - loss: 0.0048 - acc: 0.9992 - val_loss: 0.0207 - val_acc: 0.9889\n",
      "Epoch 8/10\n",
      "254/254 [==============================] - 66s 259ms/step - loss: 0.0021 - acc: 0.9994 - val_loss: 0.0069 - val_acc: 0.9963\n",
      "Epoch 9/10\n",
      "254/254 [==============================] - 63s 246ms/step - loss: 0.0032 - acc: 0.9991 - val_loss: 0.0209 - val_acc: 0.9900\n",
      "Epoch 10/10\n",
      "254/254 [==============================] - 67s 265ms/step - loss: 0.0015 - acc: 0.9996 - val_loss: 0.0137 - val_acc: 0.9926\n"
     ]
    }
   ],
   "source": [
    "history = model.fit_generator(\n",
    "    train_image_array_gen,\n",
    "    steps_per_epoch = int(train_samples / batch_size), \n",
    "    epochs = epochs, \n",
    "    validation_data = valid_image_array_gen,\n",
    "    validation_steps = int(valid_samples / batch_size),\n",
    "    verbose = 1\n",
    ")"
   ]
  },
  {
   "cell_type": "code",
   "execution_count": 39,
   "metadata": {},
   "outputs": [
    {
     "name": "stdout",
     "output_type": "stream",
     "text": [
      "dict_keys(['val_loss', 'val_acc', 'loss', 'acc'])\n"
     ]
    }
   ],
   "source": [
    "print(history.history.keys())"
   ]
  },
  {
   "cell_type": "markdown",
   "metadata": {},
   "source": [
    "## Accuracy messen"
   ]
  },
  {
   "cell_type": "code",
   "execution_count": 41,
   "metadata": {},
   "outputs": [
    {
     "data": {
      "text/plain": [
       "<matplotlib.legend.Legend at 0x7f074847e2e8>"
      ]
     },
     "execution_count": 41,
     "metadata": {},
     "output_type": "execute_result"
    },
    {
     "data": {
      "image/png": "[encoded data removed]",
      "text/plain": [
       "<Figure size 432x288 with 1 Axes>"
      ]
     },
     "metadata": {
      "needs_background": "light"
     },
     "output_type": "display_data"
    }
   ],
   "source": [
    "plt.plot(history.history['acc'])\n",
    "plt.plot(history.history['val_acc'])\n",
    "plt.title('model accuracy')\n",
    "plt.ylabel('accuracy')\n",
    "plt.xlabel('epoch')\n",
    "plt.legend(['train', 'validation'], loc = 'lower right')"
   ]
  },
  {
   "cell_type": "code",
   "execution_count": 42,
   "metadata": {},
   "outputs": [
    {
     "data": {
      "text/plain": [
       "<matplotlib.legend.Legend at 0x7f074a595b00>"
      ]
     },
     "execution_count": 42,
     "metadata": {},
     "output_type": "execute_result"
    },
    {
     "data": {
      "image/png": "[encoded data removed]",
      "text/plain": [
       "<Figure size 432x288 with 1 Axes>"
      ]
     },
     "metadata": {
      "needs_background": "light"
     },
     "output_type": "display_data"
    }
   ],
   "source": [
    "plt.plot(history.history['loss'])\n",
    "plt.plot(history.history['val_loss'])\n",
    "plt.title('model loss')\n",
    "plt.ylabel('loss')\n",
    "plt.xlabel('epoch')\n",
    "plt.legend(['train', 'validation'], loc = 'upper right')\n",
    "#plt.show()"
   ]
  },
  {
   "cell_type": "markdown",
   "metadata": {},
   "source": [
    "## Precision vs. Recall"
   ]
  },
  {
   "cell_type": "code",
   "execution_count": null,
   "metadata": {},
   "outputs": [],
   "source": []
  }
 ],
 "metadata": {
  "kernelspec": {
   "display_name": "Python 3",
   "language": "python",
   "name": "python3"
  },
  "language_info": {
   "codemirror_mode": {
    "name": "ipython",
    "version": 3
   },
   "file_extension": ".py",
   "mimetype": "text/x-python",
   "name": "python",
   "nbconvert_exporter": "python",
   "pygments_lexer": "ipython3",
   "version": "3.6.6"
  }
 },
 "nbformat": 4,
 "nbformat_minor": 2
}
