{
 "cells": [
  {
   "cell_type": "markdown",
   "metadata": {},
   "source": [
    "# codecentric.AI Bootcamp\n",
    "## Praxis: Machine Learning Basics\n",
    "\n",
    "Willkommen bei der Lektion zu Machine Learning Basics.\n",
    "\n",
    "Um das Erklärvideo zu diesem Notebook zu laden, führe folgende Zelle aus:\n"
   ]
  },
  {
   "cell_type": "code",
   "execution_count": 1,
   "metadata": {},
   "outputs": [
    {
     "data": {
      "text/html": [
       "\n",
       "        <iframe\n",
       "            width=\"850\"\n",
       "            height=\"650\"\n",
       "            src=\"https://www.youtube.com/embed/xxx\"\n",
       "            frameborder=\"0\"\n",
       "            allowfullscreen\n",
       "        ></iframe>\n",
       "        "
      ],
      "text/plain": [
       "<IPython.lib.display.IFrame at 0x7f090c567518>"
      ]
     },
     "execution_count": 1,
     "metadata": {},
     "output_type": "execute_result"
    }
   ],
   "source": [
    "# lade Video\n",
    "from IPython.display import IFrame    \n",
    "IFrame('https://www.youtube.com/embed/xxx', width=850, height=650)"
   ]
  },
  {
   "cell_type": "markdown",
   "metadata": {},
   "source": [
    "# Setup\n",
    "\n",
    "Wir beginnen sehr einfach, um auch die Leute abzuholen, die nicht viel Python Erfahrung haben. \n",
    "Wenn Dir das Kapitel zu einfach erscheint - keine Sorge, im folgenden Kurs wird der Code noch anspruchsvoller ;)\n",
    "\n",
    "Zunächst importieren wir wieder die benötigten Libraries.\n",
    "\n",
    "- numpy für effiziente Verarbeitung von multidimensionalen Arrays\n",
    "- matplotlib um Daten zu Visualisieren"
   ]
  },
  {
   "cell_type": "code",
   "execution_count": 50,
   "metadata": {},
   "outputs": [],
   "source": [
    "# magic Function, damit die matplotlib Visualisierungen im Jupyter Notebook angezeigt werden (und nicht in Extra Fenster)\n",
    "%matplotlib inline\n",
    "\n",
    "import numpy as np\n",
    "import matplotlib.pyplot as plt\n",
    "import random"
   ]
  },
  {
   "cell_type": "markdown",
   "metadata": {},
   "source": [
    "Jetzt definieren wir eine einfache Funktion und generieren damit ein paar Datenpunkte.\n",
    "\n",
    "Die lambda Schreibweise ist in Python eine anonyme Funktion - man hätte auch def f(x): return 1.5*x+5 schreiben können.\n",
    "\n",
    "Die Notation mit [x for x in something] ist ein sogenannte Python List Comprehension. Dies werden wir häufig verwenden und sehen. So können wir in einer kompakten Schreibweise Listen, Arrays und Dictionaries erzeugen."
   ]
  },
  {
   "cell_type": "code",
   "execution_count": 67,
   "metadata": {},
   "outputs": [
    {
     "name": "stdout",
     "output_type": "stream",
     "text": [
      "[[ 0.   5. ]\n",
      " [ 1.   6.5]\n",
      " [ 2.  11. ]]\n"
     ]
    }
   ],
   "source": [
    "# zunächst definieren wir eine Funktion, die wir annähern wollen\n",
    "f = lambda x: 1.5*x*x + 5\n",
    "num_datenpunkte = 8\n",
    "\n",
    "daten = np.array( [(x, f(x)) for x in range(num_datenpunkte)] )\n",
    "\n",
    "# jetzt geben wir die ersten beiden Tupel aus. Die Notation [:3] könnte man auch als [0:3] schreiben und bedeutet hier: \n",
    "# Elemente von 0 bis nicht einschliesslich 3\n",
    "print(daten[:3])"
   ]
  },
  {
   "cell_type": "markdown",
   "metadata": {},
   "source": [
    "Jetzt visualisieren wir die Daten mit Matplotlib.\n",
    "\n",
    "Wir setzen die Parameter xlim und ylim um den Ursrpung des Koordinatensystems bei 0,0 beginnen zu lassen."
   ]
  },
  {
   "cell_type": "code",
   "execution_count": 68,
   "metadata": {},
   "outputs": [
    {
     "data": {
      "image/png": "[encoded data removed]",
      "text/plain": [
       "<Figure size 432x288 with 1 Axes>"
      ]
     },
     "metadata": {
      "needs_background": "light"
     },
     "output_type": "display_data"
    }
   ],
   "source": [
    "plt.plot(daten[:, 0], daten[:, 1])\n",
    "plt.ylim(bottom=0)\n",
    "plt.xlim(left=0)\n",
    "plt.show()"
   ]
  },
  {
   "cell_type": "code",
   "execution_count": 79,
   "metadata": {},
   "outputs": [],
   "source": [
    "# jetzt generieren wir nocheinmal ähnliche Daten aber mit einer leichten Abweichung\n",
    "# die Function random.randint(-2,2) liefert Zufallszahlen zwischen -2 und 2\n",
    "noisy_daten = np.array( [(x, f(x) + random.randint(-2,2)*x) for x in range(num_datenpunkte)] )"
   ]
  },
  {
   "cell_type": "code",
   "execution_count": 80,
   "metadata": {},
   "outputs": [
    {
     "data": {
      "text/plain": [
       "[<matplotlib.lines.Line2D at 0x7fe19d1ebba8>]"
      ]
     },
     "execution_count": 80,
     "metadata": {},
     "output_type": "execute_result"
    },
    {
     "data": {
      "image/png": "[encoded data removed]",
      "text/plain": [
       "<Figure size 432x288 with 1 Axes>"
      ]
     },
     "metadata": {
      "needs_background": "light"
     },
     "output_type": "display_data"
    }
   ],
   "source": [
    "# und nun zeigen wir beides in einem Bild an\n",
    "plt.plot(daten[:, 1])\n",
    "plt.plot(noisy_daten[:, 1])"
   ]
  },
  {
   "cell_type": "markdown",
   "metadata": {},
   "source": [
    "# Kosten Funktionen / Abweichung zwischen Modell und Daten messen\n",
    "\n",
    "Jetzt übertragen wir dieses einfache Beispiel auf ein Problem, dass wir mit Machine Learning lösen wollen.\n",
    "Die \"noisy_daten\" sind dabei die Daten, die wir beobachtet haben (also unsere Labels). Im Alltag gibt es keine exakten Modelle - sondern Daten haben immer gewisse Abweichungen.\n",
    "\n",
    "Die Funktion f(x) ist dabei das Modell, das wir lernen wollen. Also das Prinzip hinter diesen Daten.\n",
    "\n",
    "Ein einfacher Ansatz wäre nun, dass man einfach ein paar Modelle ausprobiert und versucht zu messen, wie gut dieses Modell zu unseren Labels passt. Um dies messen zu können, verwenden wir Kosten Funktionen."
   ]
  },
  {
   "cell_type": "code",
   "execution_count": 110,
   "metadata": {},
   "outputs": [
    {
     "name": "stdout",
     "output_type": "stream",
     "text": [
      "Abweichung bei x=0 ist: 0.0\n",
      "Abweichung bei x=1 ist: 0.0\n",
      "Abweichung bei x=2 ist: 4.0\n",
      "Abweichung bei x=3 ist: 6.0\n",
      "Abweichung bei x=4 ist: 8.0\n",
      "Abweichung bei x=5 ist: 0.0\n",
      "Abweichung bei x=6 ist: 6.0\n",
      "Abweichung bei x=7 ist: 7.0\n",
      "Fehler insgesamt: 31.0\n"
     ]
    }
   ],
   "source": [
    "# einfache Fehler Funktion\n",
    "fehler = lambda x, y: abs(x - y)\n",
    "\n",
    "gesamt_fehler = 0\n",
    "\n",
    "# für jeden Datenpunkt berechne die Abweichung zwischen Modell und noisy_daten\n",
    "for i in range(num_datenpunkte):\n",
    "    e = fehler(daten[i, 1], noisy_daten[i, 1])\n",
    "    print(\"Abweichung bei x={0} ist: {1}\".format(i, e))\n",
    "    gesamt_fehler += e\n",
    "    \n",
    "print(\"Fehler insgesamt: {}\".format(gesamt_fehler))"
   ]
  },
  {
   "cell_type": "markdown",
   "metadata": {},
   "source": [
    "### Das gleiche mit numpy\n",
    "\n",
    "Das ganze geht auch einfacher.\n",
    "\n",
    "for loops können bei großen Datasets sehr langsam sein. Deshalb verwenden wir numpy:"
   ]
  },
  {
   "cell_type": "code",
   "execution_count": 114,
   "metadata": {},
   "outputs": [],
   "source": [
    "gesamt_fehler_numpy = np.sum(abs( daten[:, 1] - noisy_daten[:, 1]))"
   ]
  },
  {
   "cell_type": "code",
   "execution_count": 112,
   "metadata": {},
   "outputs": [
    {
     "name": "stdout",
     "output_type": "stream",
     "text": [
      "31.0\n"
     ]
    }
   ],
   "source": [
    "print(gesamt_fehler_numpy)"
   ]
  },
  {
   "cell_type": "markdown",
   "metadata": {},
   "source": [
    "### Zum Vergleich ein anderes Modell"
   ]
  },
  {
   "cell_type": "code",
   "execution_count": 117,
   "metadata": {},
   "outputs": [
    {
     "name": "stdout",
     "output_type": "stream",
     "text": [
      "155.0\n"
     ]
    }
   ],
   "source": [
    "lineares_modell = lambda x: 2*x + 3\n",
    "\n",
    "andere_daten = np.array( [(x, lineares_modell(x)) for x in range(num_datenpunkte)] )\n",
    "\n",
    "gesamt_fehler_numpy_andere = np.sum(abs( andere_daten[:, 1] - noisy_daten[:, 1]))\n",
    "print(gesamt_fehler_numpy_andere)"
   ]
  },
  {
   "cell_type": "code",
   "execution_count": 118,
   "metadata": {},
   "outputs": [
    {
     "data": {
      "text/plain": [
       "[<matplotlib.lines.Line2D at 0x7fe1cc62ad30>]"
      ]
     },
     "execution_count": 118,
     "metadata": {},
     "output_type": "execute_result"
    },
    {
     "data": {
      "image/png": "[encoded data removed]",
      "text/plain": [
       "<Figure size 432x288 with 1 Axes>"
      ]
     },
     "metadata": {
      "needs_background": "light"
     },
     "output_type": "display_data"
    }
   ],
   "source": [
    "# hier noch eine Visualisierung mit dem linearen Modell\n",
    "plt.plot(andere_daten[:, 1])\n",
    "plt.plot(noisy_daten[:, 1])"
   ]
  },
  {
   "cell_type": "markdown",
   "metadata": {},
   "source": [
    "### Fazit:\n",
    "\n",
    "- Durch die Ermittlung des \"Gesamten Fehlers\" können wir die beiden Modelle einfach miteinander vergleichen.\n",
    "- Wir sehen, dass der Fehler beim ersten Modell geringer ist als beim zweiten.\n",
    "- In der Visualisierung können wir vermuten, dass unser lineares Modell hier \"zu einfach\" ist und nicht unsere Daten repräsentieren kann. Wobei man bei diesem Ausschnitt noch nicht genau sieht, dass die Daten nicht linear sind."
   ]
  },
  {
   "cell_type": "markdown",
   "metadata": {},
   "source": [
    "Aber wir wollen ja beim Machine Learning nicht manuell verschiedene Modelle und Parameter ausprobieren.\n",
    "Bei diesem einfachen Beispiel ist das zwar noch möglich - in der Praxis sind Modelle aber viel komplexer und lassen sich nicht mehr intuitiv bestimmen. Dennoch sind die Prinzipien die gleichen - es geht darum Parameter \"auszuprobieren\" und den Fehler zu messen. Mit Hilfe von Kosten-Funktionen lassen sich effiziente Algorithmen implementieren, die die Parameter eines Modells iterativ annähern. Wir haben in diesem Beispiel die Summe der Absoluten Fehler zwischen dem Modell und den Labels verwendet. Diese wird natürlich immer größer, je mehr Datenpunkte wir \"testen\". Daher kann man diesen noch durch die Anzahl der Datenpunkte teilen und erhält so eine einfache Kostenfunktion: den **\"Mean Absolute Error\"**\n",
    "\n"
   ]
  },
  {
   "cell_type": "code",
   "execution_count": 122,
   "metadata": {},
   "outputs": [
    {
     "name": "stdout",
     "output_type": "stream",
     "text": [
      "3.875 19.375\n"
     ]
    }
   ],
   "source": [
    "MAE_modell_1 = gesamt_fehler_numpy / num_datenpunkte\n",
    "MAE_modell_2 = gesamt_fehler_numpy_andere / num_datenpunkte\n",
    "print(MAE_modell_1, MAE_modell_2)"
   ]
  },
  {
   "cell_type": "markdown",
   "metadata": {},
   "source": []
  },
  {
   "cell_type": "markdown",
   "metadata": {},
   "source": [
    "# Generalisieren vs. Over- / Underfitting"
   ]
  },
  {
   "cell_type": "code",
   "execution_count": null,
   "metadata": {},
   "outputs": [],
   "source": []
  },
  {
   "cell_type": "markdown",
   "metadata": {},
   "source": [
    "## Daten splitten"
   ]
  },
  {
   "cell_type": "code",
   "execution_count": null,
   "metadata": {},
   "outputs": [],
   "source": [
    "# warum machen wir das?"
   ]
  },
  {
   "cell_type": "markdown",
   "metadata": {},
   "source": [
    "## Klassifikation vs. Regression"
   ]
  },
  {
   "cell_type": "code",
   "execution_count": null,
   "metadata": {},
   "outputs": [],
   "source": []
  },
  {
   "cell_type": "markdown",
   "metadata": {},
   "source": [
    "## Accuracy messen"
   ]
  },
  {
   "cell_type": "code",
   "execution_count": null,
   "metadata": {},
   "outputs": [],
   "source": []
  },
  {
   "cell_type": "markdown",
   "metadata": {},
   "source": [
    "## Precision vs. Recall"
   ]
  },
  {
   "cell_type": "code",
   "execution_count": null,
   "metadata": {},
   "outputs": [],
   "source": []
  }
 ],
 "metadata": {
  "kernelspec": {
   "display_name": "Python 3",
   "language": "python",
   "name": "python3"
  },
  "language_info": {
   "codemirror_mode": {
    "name": "ipython",
    "version": 3
   },
   "file_extension": ".py",
   "mimetype": "text/x-python",
   "name": "python",
   "nbconvert_exporter": "python",
   "pygments_lexer": "ipython3",
   "version": "3.6.6"
  }
 },
 "nbformat": 4,
 "nbformat_minor": 2
}
