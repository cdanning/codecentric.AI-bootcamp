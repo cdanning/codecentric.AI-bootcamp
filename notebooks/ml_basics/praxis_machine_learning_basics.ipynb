{
 "cells": [
  {
   "cell_type": "markdown",
   "metadata": {},
   "source": [
    "# codecentric.AI Bootcamp\n",
    "## Praxis: Machine Learning Basics\n",
    "\n",
    "Willkommen bei der Lektion zu Machine Learning Basics.\n",
    "\n",
    "Um das Erklärvideo zu diesem Notebook zu laden, führe folgende Zelle aus:\n"
   ]
  },
  {
   "cell_type": "code",
   "execution_count": null,
   "metadata": {},
   "outputs": [],
   "source": [
    "# lade Video\n",
    "from IPython.display import IFrame    \n",
    "IFrame('https://www.youtube.com/embed/xxx', width=850, height=650)"
   ]
  },
  {
   "cell_type": "markdown",
   "metadata": {},
   "source": [
    "# Setup\n",
    "\n",
    "Wir beginnen sehr einfach, um auch die Leute abzuholen, die nicht viel Python Erfahrung haben. \n",
    "Wenn Dir das Kapitel zu einfach erscheint - keine Sorge, im folgenden Kurs wird der Code noch anspruchsvoller ;)\n",
    "\n",
    "Zunächst importieren wir wieder die benötigten Libraries.\n",
    "\n",
    "- numpy für effiziente Verarbeitung von multidimensionalen Arrays\n",
    "- matplotlib um Daten zu Visualisieren"
   ]
  },
  {
   "cell_type": "code",
   "execution_count": 107,
   "metadata": {},
   "outputs": [],
   "source": [
    "# magic Function, damit die matplotlib Visualisierungen im Jupyter Notebook angezeigt werden (und nicht in Extra Fenster)\n",
    "%matplotlib inline\n",
    "\n",
    "import numpy as np\n",
    "import matplotlib.pyplot as plt\n",
    "from matplotlib import pylab\n",
    "import math\n",
    "import random"
   ]
  },
  {
   "cell_type": "markdown",
   "metadata": {},
   "source": [
    "Jetzt definieren wir eine einfache Funktion und generieren damit ein paar Datenpunkte.\n",
    "\n",
    "Die lambda Schreibweise ist in Python eine anonyme Funktion - man hätte auch def f(x): return 1.5*x+5 schreiben können.\n",
    "\n",
    "Die Notation mit [x for x in something] ist ein sogenannte Python List Comprehension. Dies werden wir häufig verwenden und sehen. So können wir in einer kompakten Schreibweise Listen, Arrays und Dictionaries erzeugen."
   ]
  },
  {
   "cell_type": "markdown",
   "metadata": {},
   "source": [
    "In diesem einfachen Beispiel soll das das Modell sein, was wir lernen wollen:\n",
    "\n",
    "$$f(x)=1.5x^2 + 5 $$\n",
    "\n",
    "Also eine Funktion mit quadratischen Eigenschaften. "
   ]
  },
  {
   "cell_type": "code",
   "execution_count": 191,
   "metadata": {},
   "outputs": [
    {
     "name": "stdout",
     "output_type": "stream",
     "text": [
      "[[ 0.   5. ]\n",
      " [ 1.   6.5]\n",
      " [ 2.  11. ]]\n"
     ]
    }
   ],
   "source": [
    "# zunächst definieren wir eine Funktion, die wir annähern wollen\n",
    "f = lambda x: 1.5*x*x + 5\n",
    "num_datenpunkte = 8\n",
    "\n",
    "daten = np.array( [(x, f(x)) for x in range(num_datenpunkte)] )\n",
    "\n",
    "# jetzt geben wir die ersten beiden Tupel aus. Die Notation [:3] könnte man auch als [0:3] schreiben und bedeutet hier: \n",
    "# Elemente von 0 bis nicht einschliesslich 3\n",
    "print(daten[:3])"
   ]
  },
  {
   "cell_type": "markdown",
   "metadata": {},
   "source": [
    "Jetzt visualisieren wir die Daten mit Matplotlib.\n",
    "\n",
    "Wir setzen die Parameter xlim und ylim um den Ursrpung des Koordinatensystems bei 0,0 beginnen zu lassen."
   ]
  },
  {
   "cell_type": "code",
   "execution_count": 3,
   "metadata": {},
   "outputs": [
    {
     "data": {
      "image/png": "[encoded data removed]",
      "text/plain": [
       "<Figure size 432x288 with 1 Axes>"
      ]
     },
     "metadata": {
      "needs_background": "light"
     },
     "output_type": "display_data"
    }
   ],
   "source": [
    "plt.plot(daten[:, 0], daten[:, 1])\n",
    "plt.ylim(bottom=0)\n",
    "plt.xlim(left=0)\n",
    "plt.show()"
   ]
  },
  {
   "cell_type": "code",
   "execution_count": 4,
   "metadata": {},
   "outputs": [],
   "source": [
    "# jetzt generieren wir nocheinmal ähnliche Daten aber mit einer leichten Abweichung\n",
    "# die Function random.randint(-2,2) liefert Zufallszahlen zwischen -2 und 2\n",
    "noisy_daten = np.array( [(x, f(x) + random.randint(-2,2)*x) for x in range(num_datenpunkte)] )"
   ]
  },
  {
   "cell_type": "code",
   "execution_count": 5,
   "metadata": {},
   "outputs": [
    {
     "data": {
      "text/plain": [
       "[<matplotlib.lines.Line2D at 0x7ffab6852400>]"
      ]
     },
     "execution_count": 5,
     "metadata": {},
     "output_type": "execute_result"
    },
    {
     "data": {
      "image/png": "[encoded data removed]",
      "text/plain": [
       "<Figure size 432x288 with 1 Axes>"
      ]
     },
     "metadata": {
      "needs_background": "light"
     },
     "output_type": "display_data"
    }
   ],
   "source": [
    "# und nun zeigen wir beides in einem Bild an\n",
    "plt.plot(daten[:, 1])\n",
    "plt.plot(noisy_daten[:, 1])"
   ]
  },
  {
   "cell_type": "markdown",
   "metadata": {},
   "source": [
    "# Kosten Funktionen / Abweichung zwischen Modell und Daten messen\n",
    "\n",
    "Jetzt übertragen wir dieses einfache Beispiel auf ein Problem, dass wir mit Machine Learning lösen wollen.\n",
    "Die \"noisy_daten\" sind dabei die Daten, die wir beobachtet haben (also unsere Labels). Im Alltag gibt es keine exakten Modelle - sondern Daten haben immer gewisse Abweichungen.\n",
    "\n",
    "Die Funktion f(x) ist dabei das Modell, das wir lernen wollen. Also das Prinzip hinter diesen Daten.\n",
    "\n",
    "Ein einfacher Ansatz wäre nun, dass man einfach ein paar Modelle ausprobiert und versucht zu messen, wie gut dieses Modell zu unseren Labels passt. Um dies messen zu können, verwenden wir Kosten Funktionen."
   ]
  },
  {
   "cell_type": "code",
   "execution_count": 6,
   "metadata": {},
   "outputs": [
    {
     "name": "stdout",
     "output_type": "stream",
     "text": [
      "Abweichung bei x=0 ist: 0.0\n",
      "Abweichung bei x=1 ist: 2.0\n",
      "Abweichung bei x=2 ist: 2.0\n",
      "Abweichung bei x=3 ist: 3.0\n",
      "Abweichung bei x=4 ist: 8.0\n",
      "Abweichung bei x=5 ist: 5.0\n",
      "Abweichung bei x=6 ist: 6.0\n",
      "Abweichung bei x=7 ist: 7.0\n",
      "Fehler insgesamt: 33.0\n"
     ]
    }
   ],
   "source": [
    "# einfache Fehler Funktion\n",
    "fehler = lambda x, y: abs(x - y)\n",
    "\n",
    "gesamt_fehler = 0\n",
    "\n",
    "# für jeden Datenpunkt berechne die Abweichung zwischen Modell und noisy_daten\n",
    "for i in range(num_datenpunkte):\n",
    "    e = fehler(daten[i, 1], noisy_daten[i, 1])\n",
    "    print(\"Abweichung bei x={0} ist: {1}\".format(i, e))\n",
    "    gesamt_fehler += e\n",
    "    \n",
    "print(\"Fehler insgesamt: {}\".format(gesamt_fehler))"
   ]
  },
  {
   "cell_type": "markdown",
   "metadata": {},
   "source": [
    "### Das gleiche mit numpy\n",
    "\n",
    "Das ganze geht auch einfacher.\n",
    "\n",
    "for loops können bei großen Datasets sehr langsam sein. Deshalb verwenden wir numpy:"
   ]
  },
  {
   "cell_type": "code",
   "execution_count": 7,
   "metadata": {},
   "outputs": [],
   "source": [
    "gesamt_fehler_numpy = np.sum(abs( daten[:, 1] - noisy_daten[:, 1]))"
   ]
  },
  {
   "cell_type": "code",
   "execution_count": 8,
   "metadata": {},
   "outputs": [
    {
     "name": "stdout",
     "output_type": "stream",
     "text": [
      "33.0\n"
     ]
    }
   ],
   "source": [
    "print(gesamt_fehler_numpy)"
   ]
  },
  {
   "cell_type": "markdown",
   "metadata": {},
   "source": [
    "### Zum Vergleich ein anderes Modell"
   ]
  },
  {
   "cell_type": "code",
   "execution_count": 9,
   "metadata": {},
   "outputs": [
    {
     "name": "stdout",
     "output_type": "stream",
     "text": [
      "171.0\n"
     ]
    }
   ],
   "source": [
    "lineares_modell = lambda x: 2*x + 3\n",
    "\n",
    "andere_daten = np.array( [(x, lineares_modell(x)) for x in range(num_datenpunkte)] )\n",
    "\n",
    "gesamt_fehler_numpy_andere = np.sum(abs( andere_daten[:, 1] - noisy_daten[:, 1]))\n",
    "print(gesamt_fehler_numpy_andere)"
   ]
  },
  {
   "cell_type": "code",
   "execution_count": 10,
   "metadata": {},
   "outputs": [
    {
     "data": {
      "text/plain": [
       "[<matplotlib.lines.Line2D at 0x7ffab683fdd8>]"
      ]
     },
     "execution_count": 10,
     "metadata": {},
     "output_type": "execute_result"
    },
    {
     "data": {
      "image/png": "[encoded data removed]",
      "text/plain": [
       "<Figure size 432x288 with 1 Axes>"
      ]
     },
     "metadata": {
      "needs_background": "light"
     },
     "output_type": "display_data"
    }
   ],
   "source": [
    "# hier noch eine Visualisierung mit dem linearen Modell\n",
    "plt.plot(andere_daten[:, 1])\n",
    "plt.plot(noisy_daten[:, 1])"
   ]
  },
  {
   "cell_type": "markdown",
   "metadata": {},
   "source": [
    "### Fazit:\n",
    "\n",
    "- Durch die Ermittlung des \"Gesamten Fehlers\" können wir die beiden Modelle einfach miteinander vergleichen.\n",
    "- Wir sehen, dass der Fehler beim ersten Modell geringer ist als beim zweiten.\n",
    "- In der Visualisierung können wir vermuten, dass unser lineares Modell hier \"zu einfach\" ist und nicht unsere Daten repräsentieren kann. Wobei man bei diesem Ausschnitt noch nicht genau sieht, dass die Daten nicht linear sind."
   ]
  },
  {
   "cell_type": "markdown",
   "metadata": {},
   "source": [
    "Aber wir wollen ja beim Machine Learning nicht manuell verschiedene Modelle und Parameter ausprobieren.\n",
    "Bei diesem einfachen Beispiel ist das zwar noch möglich - in der Praxis sind Modelle aber viel komplexer und lassen sich nicht mehr intuitiv bestimmen. Dennoch sind die Prinzipien die gleichen - es geht darum Parameter \"auszuprobieren\" und den Fehler zu messen. Mit Hilfe von Kosten-Funktionen lassen sich effiziente Algorithmen implementieren, die die Parameter eines Modells iterativ annähern. Wir haben in diesem Beispiel die Summe der Absoluten Fehler zwischen dem Modell und den Labels verwendet. Diese wird natürlich immer größer, je mehr Datenpunkte wir \"testen\". Daher kann man diesen noch durch die Anzahl der Datenpunkte teilen und erhält so eine einfache Kostenfunktion: den **\"Mean Absolute Error\"**\n",
    "\n"
   ]
  },
  {
   "cell_type": "code",
   "execution_count": 11,
   "metadata": {},
   "outputs": [
    {
     "name": "stdout",
     "output_type": "stream",
     "text": [
      "4.125 21.375\n"
     ]
    }
   ],
   "source": [
    "MAE_modell_1 = gesamt_fehler_numpy / num_datenpunkte\n",
    "MAE_modell_2 = gesamt_fehler_numpy_andere / num_datenpunkte\n",
    "print(MAE_modell_1, MAE_modell_2)"
   ]
  },
  {
   "cell_type": "markdown",
   "metadata": {},
   "source": [
    "Die Formel dafür lautet:\n",
    "\n",
    "$$MAE(X, f)=\\frac1m \\sum_{i=1}^m|f(x_i) - y_i|$$\n",
    "\n",
    "- m ist dabei die Anzahl der Datenpunkte\n",
    "- X sind die bekannten Features und Labels (in diesem vereinfachten Fall sind die Features einfach x=1,2,3... etc.)\n",
    "- f ist unser Modell bzw. die Vorhersage-Funktion\n",
    "- y sind die Labels"
   ]
  },
  {
   "cell_type": "markdown",
   "metadata": {},
   "source": [
    "# Generalisieren vs. Over- / Underfitting\n",
    "\n",
    "Jetzt versuchen wir absichtlich ein overfitted Modell zu erstellen.\n",
    "Wir ermitteln eine Funktion, die möglichst durch alle unsere Trainingspunkte läuft. Dazu berechnen wir ein Polynom 7. Grades mit Hilfe von numpy.polyfit:"
   ]
  },
  {
   "cell_type": "code",
   "execution_count": 109,
   "metadata": {},
   "outputs": [],
   "source": [
    "x = noisy_daten[:, 0]\n",
    "y = noisy_daten[:, 1]\n",
    "\n",
    "p = np.polyfit(x, y, 7)\n",
    "f_poly = np.poly1d(p)"
   ]
  },
  {
   "cell_type": "markdown",
   "metadata": {},
   "source": [
    "Die Funktion, die dabei heraus kommt sieht so aus:"
   ]
  },
  {
   "cell_type": "code",
   "execution_count": 112,
   "metadata": {},
   "outputs": [
    {
     "name": "stdout",
     "output_type": "stream",
     "text": [
      "          7         6         5         4       3         2\n",
      "-0.05417 x + 1.362 x - 13.48 x + 66.19 x - 167 x + 201.4 x - 85 x + 5\n"
     ]
    }
   ],
   "source": [
    "print(f_poly)"
   ]
  },
  {
   "cell_type": "markdown",
   "metadata": {},
   "source": [
    "Jetzt berechnen wir mit dieser Funktion einige Datenpunkte, um diese dann zu visualisieren:"
   ]
  },
  {
   "cell_type": "code",
   "execution_count": 124,
   "metadata": {},
   "outputs": [],
   "source": [
    "# np.linspace erzeugt hier 100 Datenpunkte zwischen dem ersten und dem letzten x Wert\n",
    "x_poly = np.linspace(x[0], x[-1], 100)\n",
    "# mit diesen x Werten berechnen wir den Verlauf der Funktion\n",
    "y_poly = f_poly(x_poly)"
   ]
  },
  {
   "cell_type": "code",
   "execution_count": 125,
   "metadata": {},
   "outputs": [
    {
     "data": {
      "text/plain": [
       "[<matplotlib.lines.Line2D at 0x7ffab59db0b8>,\n",
       " <matplotlib.lines.Line2D at 0x7ffab5a065c0>]"
      ]
     },
     "execution_count": 125,
     "metadata": {},
     "output_type": "execute_result"
    },
    {
     "data": {
      "image/png": "[encoded data removed]",
      "text/plain": [
       "<Figure size 432x288 with 1 Axes>"
      ]
     },
     "metadata": {
      "needs_background": "light"
     },
     "output_type": "display_data"
    }
   ],
   "source": [
    "# und jetzt visualisieren wir den Verlauf und markieren die eigentlichen Labels mit einem \"x\"\n",
    "plt.plot(x, y, 'x', x_poly, y_poly)"
   ]
  },
  {
   "cell_type": "markdown",
   "metadata": {},
   "source": [
    "Wir sehen schon, dass die Funktion genau durch die x Punkte läuft - d.h. es ist zu erwarten, dass unser Fehler sehr klein ist. Zur Kontrolle berechnen wir den Fehler:"
   ]
  },
  {
   "cell_type": "code",
   "execution_count": 126,
   "metadata": {},
   "outputs": [],
   "source": [
    "overfitted_daten = np.array( [(x, f_poly(x)) for x in range(num_datenpunkte)] )"
   ]
  },
  {
   "cell_type": "code",
   "execution_count": 127,
   "metadata": {},
   "outputs": [
    {
     "name": "stdout",
     "output_type": "stream",
     "text": [
      "Mean Absolute Error 0.000000000021\n"
     ]
    }
   ],
   "source": [
    "gesamt_fehler_overfitted = np.sum(abs( overfitted_daten[:, 1] - noisy_daten[:, 1]))\n",
    "print(\"Mean Absolute Error {0:.12f}\".format(gesamt_fehler_overfitted/num_datenpunkte))"
   ]
  },
  {
   "cell_type": "markdown",
   "metadata": {},
   "source": [
    "Der Fehler des overfitting Modells ist geringer (nahe 0) als der von unserem idealen Modell - **aber nur im Bereich von unseren Trainingsdaten (den Datenpunkten)**. Das Modell hat qausi die Datenpunkte auswendig gelernt und nicht das Konzept hinter den Daten."
   ]
  },
  {
   "cell_type": "code",
   "execution_count": 128,
   "metadata": {},
   "outputs": [
    {
     "data": {
      "text/plain": [
       "<matplotlib.legend.Legend at 0x7ffab6385128>"
      ]
     },
     "execution_count": 128,
     "metadata": {},
     "output_type": "execute_result"
    },
    {
     "data": {
      "image/png": "[encoded data removed]",
      "text/plain": [
       "<Figure size 432x288 with 1 Axes>"
      ]
     },
     "metadata": {
      "needs_background": "light"
     },
     "output_type": "display_data"
    }
   ],
   "source": [
    "plt.plot(x, y, 'x', x_new, y_new)\n",
    "plt.plot(daten[:, 1])\n",
    "plt.legend([\"Labels\", \"overfitted Modell\", \"generalisierendes Modell\"])"
   ]
  },
  {
   "cell_type": "markdown",
   "metadata": {},
   "source": [
    "Betrachten wir nun einen Punkt der nicht in den Trainingsdaten liegt, sehen wir, wie schlecht das Modell trotz des geringen Fehlers ist:"
   ]
  },
  {
   "cell_type": "code",
   "execution_count": 133,
   "metadata": {},
   "outputs": [
    {
     "data": {
      "text/plain": [
       "<matplotlib.legend.Legend at 0x7ffab5791a20>"
      ]
     },
     "execution_count": 133,
     "metadata": {},
     "output_type": "execute_result"
    },
    {
     "data": {
      "image/png": "[encoded data removed]",
      "text/plain": [
       "<Figure size 432x288 with 1 Axes>"
      ]
     },
     "metadata": {
      "needs_background": "light"
     },
     "output_type": "display_data"
    }
   ],
   "source": [
    "# wir erzeugen nochmal Daten, gehen aber über die Trainingsdaten hinaus (+1)\n",
    "x_poly = np.linspace(x[0], x[-1] + 1, 100)\n",
    "y_poly = f_poly(x_poly)\n",
    "plt.plot(x, y, 'x', x_poly, y_poly)\n",
    "plt.plot(daten[:, 1])\n",
    "plt.legend([\"Labels\", \"overfitted Modell\", \"generalisierendes Modell\"])"
   ]
  },
  {
   "cell_type": "markdown",
   "metadata": {},
   "source": [
    "### Fazit:\n",
    "\n",
    "- Overfitting kann bedeuten,dass mein Fehler zwar sehr klein wird, aber mein Modell trotzdem nicht gut ist \n",
    "- es funktioniert nur auf den Trainingsdaten\n",
    "- es generalisiert nicht\n"
   ]
  },
  {
   "cell_type": "markdown",
   "metadata": {},
   "source": [
    "Im Vergleich dazu nocheinmal \"Underfitting\", was wiederum bedeutet, dass mein Modell zu einfach ist. Dazu erstellen wir eine lineare Funktion, wo wir wissen, dass diese niemals die quadratischen Eigenschaften unserer Daten abbilden kann:"
   ]
  },
  {
   "cell_type": "code",
   "execution_count": 188,
   "metadata": {},
   "outputs": [
    {
     "name": "stdout",
     "output_type": "stream",
     "text": [
      "0.0 5.0 7.0 71.5\n"
     ]
    }
   ],
   "source": [
    "# unsere Funktion soll ungefähr durch diese Punkte laufen:\n",
    "(x1, y1), (x2, y2) = noisy_daten[0], noisy_daten[-1]\n",
    "print(x1, y1, x2, y2)\n",
    "\n",
    "# daraus folgt ein Modell: \n",
    "f_underfitting = lambda x: ( (y2-y1)/x2 ) * x + y1"
   ]
  },
  {
   "cell_type": "code",
   "execution_count": 189,
   "metadata": {},
   "outputs": [],
   "source": [
    "underfitted_daten = np.array( [(x, f_underfitting(x)) for x in range(num_datenpunkte)] )"
   ]
  },
  {
   "cell_type": "code",
   "execution_count": 190,
   "metadata": {},
   "outputs": [
    {
     "data": {
      "text/plain": [
       "<matplotlib.legend.Legend at 0x7ffab5029240>"
      ]
     },
     "execution_count": 190,
     "metadata": {},
     "output_type": "execute_result"
    },
    {
     "data": {
      "image/png": "[encoded data removed]",
      "text/plain": [
       "<Figure size 432x288 with 1 Axes>"
      ]
     },
     "metadata": {
      "needs_background": "light"
     },
     "output_type": "display_data"
    }
   ],
   "source": [
    "plt.plot(x, y, 'x', underfitted_daten[:, 1])\n",
    "plt.plot(daten[:, 1])\n",
    "plt.legend([\"Labels\", \"underfitted Modell\", \"generalisierendes Modell\"])"
   ]
  },
  {
   "cell_type": "markdown",
   "metadata": {},
   "source": [
    "### Fazit: \n",
    "\n",
    "Auch hier sehen wir, dass der Fehler im Bereich der Trainingsdaten nicht sehr groß sein wird. Aber man kann sich aber leicht vorstellen, dass die Abweichungen für größere Werte von x sehr groß werden. Das zu einfache Modell wird niemals in der Lage sein, unsere fiktiven Daten mit quadratischen Eigenschaften über einen großen Wertebereich gut vorherzusagen."
   ]
  },
  {
   "cell_type": "markdown",
   "metadata": {},
   "source": [
    "# Daten splitten und Modelle messen\n",
    "\n",
    "Also was macht man nun gegen Overfitting und Underfitting - und vor allem wie merkt man, wie es um sein aktuelles Modell bestellt ist? Bei unserem einfachen Beispiel lässt sich das noch ganz gut visualisieren und intuitiv bewerten - in der Praxis sind dafür die Modelle aber meist zu komplex.\n",
    "\n",
    "Im Prinzip geht man in der Praxis wie folgt vor:\n",
    "\n",
    "- Teile die Daten auf (Traininsset, Validationset, Testset)\n",
    "- Trainiere dein Modell nur mit den Trainingsdaten\n",
    "- Messe den Fehler auf den Trainingsdaten -> fehler(train)\n",
    "- nach einigen Durchläufen: Messe den Fehler auf dem Validationset (also auf Daten, die das Modell nicht \"kennt\")\n",
    "\n",
    "Durch Vergleich der Werte fehler(train) und fehler(val) kann man darauf zurückschließen wie gut oder schlecht ein Modell generalisiert. \n",
    "\n",
    "Das Testset ist noch ein Spezialfall um ganz am Ende eine ungeschönte Qualitätsaussage über das Modell zu machen. Im Prinzip darf man es nur 1 mal verwenden, um sein Modell zu messen und danach nicht mehr optimieren. Man könnte natürlich weiter für das Testset optimieren und damit auch seine Werte verbessern - aber das ist ein bisschen wie schummeln und daher nicht aussagekräftig.\n",
    "\n"
   ]
  },
  {
   "cell_type": "code",
   "execution_count": 233,
   "metadata": {},
   "outputs": [
    {
     "data": {
      "text/plain": [
       "[<matplotlib.lines.Line2D at 0x7ffab4bfeb00>]"
      ]
     },
     "execution_count": 233,
     "metadata": {},
     "output_type": "execute_result"
    },
    {
     "data": {
      "image/png": "[encoded data removed]",
      "text/plain": [
       "<Figure size 432x288 with 1 Axes>"
      ]
     },
     "metadata": {
      "needs_background": "light"
     },
     "output_type": "display_data"
    }
   ],
   "source": [
    "# jetzt brauchen wir etwas mehr Daten als vorher, damit wir was zum aufteilen haben\n",
    "# wir generieren zunächst 200 x-werte zwischen 0 und 10\n",
    "num_x = num_x = 200\n",
    "x_werte = np.linspace(0, 10, num_x)\n",
    "\n",
    "# nun erzeugen wir die daten wieder mit einer leichten Abweichung zu unserem Modell\n",
    "mehr_daten = np.array( [(x, f(x) + random.randint(-2,2)*x) for x in x_werte] )\n",
    "\n",
    "plt.plot(mehr_daten[:,0], mehr_daten[:,1], \"x\")"
   ]
  },
  {
   "cell_type": "code",
   "execution_count": 234,
   "metadata": {},
   "outputs": [],
   "source": [
    "# wir mischen die Daten durch, damit die Daten zufällig verteilt sind\n",
    "np.random.shuffle(mehr_daten)\n",
    "\n",
    "# wir definieren einen Split bei 90 % (also 90 % Training, 10 % Validation). Üblich sind Werte zwischen 80-90% je nach Daten.\n",
    "split = int(num_x * (0.9))\n",
    "\n",
    "# jetzt splitten wir die Daten auf - mit numpy slicing ganz einfach:\n",
    "train, val = mehr_daten[:split,:], mehr_daten[split:,:]"
   ]
  },
  {
   "cell_type": "code",
   "execution_count": 235,
   "metadata": {},
   "outputs": [
    {
     "data": {
      "text/plain": [
       "[<matplotlib.lines.Line2D at 0x7ffab4c352e8>]"
      ]
     },
     "execution_count": 235,
     "metadata": {},
     "output_type": "execute_result"
    },
    {
     "data": {
      "image/png": "[encoded data removed]",
      "text/plain": [
       "<Figure size 432x288 with 1 Axes>"
      ]
     },
     "metadata": {
      "needs_background": "light"
     },
     "output_type": "display_data"
    }
   ],
   "source": [
    "# Anzeige der Trainingsdaten kleinere Punkte\n",
    "plt.plot(train[:, 0], train[:, 1], \".\")\n",
    "# Anzeige der Evaldaten als größere Punkte\n",
    "plt.plot(val[:, 0], val[:, 1], \"o\")"
   ]
  },
  {
   "cell_type": "markdown",
   "metadata": {},
   "source": [
    "Mit einem Modell und einer Fehler Funktion kann man nun den Fehler für die Trainingsdaten und für die Eval Daten berechnen und miteinander vergleichen. Hier kommt es vor allem auch auf den Trend der Werte in mehreren Trainingsrunden an.\n",
    "\n",
    "Am Anfang ist zu erwarten, dass sowohl fehler(train) als auch fehler(val) mehr oder weniger gleichmäßig kleiner werden. Dies bedeutet das Modell wird besser bzw. \"lernt\" etwas. Erreicht man dann einen Punkt, wo fehler(train) weiterhin kleiner wird aber fehler(val) gleich bleibt oder sogar größer wird beginnt das Modell zu overfitten. An dieser Stelle lernt das Modell nicht mehr das Konzept der Trainingsdaten sondern die Traingsdaten selbst.\n",
    "\n",
    "Schauen wir uns einen fiktiven Trainingsverlauf an:\n",
    "\n",
    "| Trainingsrunde | fehler(train) | fehler(val)    |\n",
    "|----------------|---------------|----------------|\n",
    "|   1            | 17,4          | 20,3           |\n",
    "|   2            | 14,4          | 17,2           |\n",
    "|   3            | 8,4           | 10,5           |\n",
    "|   4            | 2,4           |  4,1           |\n",
    "|   5            | 1,4           |  6,1           | \n",
    "|   6            | 0,4           |  8,2           |\n",
    "\n",
    "Hier sehen wir, dass ab Runde 5 ein Overfitting beginnt. fehler(train) fällt weiter deutlich während fehler(val) wieder steigt. Das Modell kann also auf unbekannten Daten verhältnismäßig schlechter vorhersagen als auf bekannten Daten. Was wiederum bedeutet, dass es nicht mehr so gut generalisiert. Das ist in der Regel ein guter Zeitpunkt, um mit dem Training aufzuhören. Wenn man diesen Punkt nie erreicht, dann bedeutet das wahrscheinlich, dass das Modell zu einfach ist.\n",
    "\n",
    "An dieser Stelle führt uns unser vereinfachtes Beispiel nicht mehr weiter (wir müssten zu viel selbst implementieren). Ab hier werden wir uns mit \"richtigen\" Datesets und mit Machine Learning Frameworks auseinander setzen. Aber diese Konzepte werden uns bald wieder begegnen."
   ]
  },
  {
   "cell_type": "markdown",
   "metadata": {},
   "source": [
    "# Klassifikation \n",
    "\n",
    "Jetzt starten wir gleich richtig durch. Wir laden ein Dataset und klassifizieren Bilder. Wir verwenden dazu Keras, TensorFlow und Neuronale Netze. Was das genau bedeutet sei an dieser Stelle unwichtig - wir werden aber die einfachen Konzepte von vorher wieder finden."
   ]
  },
  {
   "cell_type": "code",
   "execution_count": 236,
   "metadata": {},
   "outputs": [
    {
     "ename": "ModuleNotFoundError",
     "evalue": "No module named 'keras'",
     "output_type": "error",
     "traceback": [
      "\u001b[0;31m---------------------------------------------------------------------------\u001b[0m",
      "\u001b[0;31mModuleNotFoundError\u001b[0m                       Traceback (most recent call last)",
      "\u001b[0;32m<ipython-input-236-6bd926dd6f28>\u001b[0m in \u001b[0;36m<module>\u001b[0;34m\u001b[0m\n\u001b[0;32m----> 1\u001b[0;31m \u001b[0;32mfrom\u001b[0m \u001b[0mkeras\u001b[0m \u001b[0;32mimport\u001b[0m \u001b[0;34m*\u001b[0m\u001b[0;34m\u001b[0m\u001b[0m\n\u001b[0m\u001b[1;32m      2\u001b[0m \u001b[0;32mfrom\u001b[0m \u001b[0mkeras\u001b[0m\u001b[0;34m.\u001b[0m\u001b[0mpreprocessing\u001b[0m\u001b[0;34m.\u001b[0m\u001b[0mimage\u001b[0m \u001b[0;32mimport\u001b[0m \u001b[0mImageDataGenerator\u001b[0m\u001b[0;34m\u001b[0m\u001b[0m\n\u001b[1;32m      3\u001b[0m \u001b[0;32mfrom\u001b[0m \u001b[0mkeras\u001b[0m\u001b[0;34m.\u001b[0m\u001b[0mmodels\u001b[0m \u001b[0;32mimport\u001b[0m \u001b[0mSequential\u001b[0m\u001b[0;34m\u001b[0m\u001b[0m\n\u001b[1;32m      4\u001b[0m \u001b[0;32mfrom\u001b[0m \u001b[0mkeras\u001b[0m\u001b[0;34m.\u001b[0m\u001b[0mlayers\u001b[0m \u001b[0;32mimport\u001b[0m \u001b[0mDense\u001b[0m\u001b[0;34m,\u001b[0m \u001b[0mDropout\u001b[0m\u001b[0;34m,\u001b[0m \u001b[0mActivation\u001b[0m\u001b[0;34m,\u001b[0m \u001b[0mFlatten\u001b[0m\u001b[0;34m,\u001b[0m \u001b[0mConv2D\u001b[0m\u001b[0;34m,\u001b[0m \u001b[0mMaxPooling2D\u001b[0m\u001b[0;34m,\u001b[0m \u001b[0mZeroPadding2D\u001b[0m\u001b[0;34m\u001b[0m\u001b[0m\n\u001b[1;32m      5\u001b[0m \u001b[0;32mfrom\u001b[0m \u001b[0mkeras\u001b[0m\u001b[0;34m.\u001b[0m\u001b[0moptimizers\u001b[0m \u001b[0;32mimport\u001b[0m \u001b[0mRMSprop\u001b[0m\u001b[0;34m\u001b[0m\u001b[0m\n",
      "\u001b[0;31mModuleNotFoundError\u001b[0m: No module named 'keras'"
     ]
    }
   ],
   "source": [
    "from keras import *\n",
    "from keras.preprocessing.image import ImageDataGenerator\n",
    "from keras.models import Sequential\n",
    "from keras.layers import Dense, Dropout, Activation, Flatten, Conv2D, MaxPooling2D, ZeroPadding2D\n",
    "from keras.optimizers import RMSprop\n",
    "from keras.layers.normalization import BatchNormalization\n",
    "from keras.layers.advanced_activations import LeakyReLU"
   ]
  },
  {
   "cell_type": "markdown",
   "metadata": {},
   "source": [
    "## Accuracy messen"
   ]
  },
  {
   "cell_type": "code",
   "execution_count": null,
   "metadata": {},
   "outputs": [],
   "source": []
  },
  {
   "cell_type": "markdown",
   "metadata": {},
   "source": [
    "## Precision vs. Recall"
   ]
  },
  {
   "cell_type": "code",
   "execution_count": null,
   "metadata": {},
   "outputs": [],
   "source": []
  }
 ],
 "metadata": {
  "kernelspec": {
   "display_name": "Python 3",
   "language": "python",
   "name": "python3"
  },
  "language_info": {
   "codemirror_mode": {
    "name": "ipython",
    "version": 3
   },
   "file_extension": ".py",
   "mimetype": "text/x-python",
   "name": "python",
   "nbconvert_exporter": "python",
   "pygments_lexer": "ipython3",
   "version": "3.6.6"
  }
 },
 "nbformat": 4,
 "nbformat_minor": 2
}
