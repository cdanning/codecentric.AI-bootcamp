{
 "cells": [
  {
   "cell_type": "markdown",
   "metadata": {},
   "source": [
    "# codecentric.AI Bootcamp\n",
    "## Aufgaben: Machine Learning Basics"
   ]
  },
  {
   "cell_type": "markdown",
   "metadata": {},
   "source": [
    "## Aufgabe 1"
   ]
  },
  {
   "cell_type": "markdown",
   "metadata": {},
   "source": [
    "Definiere die folgenden linearen Funktionen:\n",
    "\n",
    "- f(x) = 2x + 5\n",
    "- g(x) = -1.5x + 4\n",
    "\n",
    "Nun definiere zwei numpy Arrays und fülle diese mit Datenpunkten.\n",
    "\n",
    "- Verwende dafür einmal eine List comprehension\n",
    "- und einmal die Funktion numpy.linspace\n",
    "\n",
    "Abschließend visualisiere die beiden numpy Arrays mit matplotlib in einem Diagramm."
   ]
  },
  {
   "cell_type": "code",
   "execution_count": null,
   "metadata": {},
   "outputs": [],
   "source": [
    "# Imports\n",
    "\n",
    "\n",
    "f = lambda x: 2*x+5\n",
    "\n",
    "# Dein Code\n",
    "\n"
   ]
  },
  {
   "cell_type": "markdown",
   "metadata": {},
   "source": [
    "## Aufgabe 2\n",
    "\n",
    "Im vorigen Notebook haben wir ein Beispiel, wie wir den **Mean Absolute Error** als Kostenfunktion verwenden.\n",
    "\n",
    "- Implementiere stattdessen den **Root Mean Squared Error** (RMSE), um Vorhersagen mit tatsächlichen Werten zu vergleichen und die Leistung eines Modells zu bewerten.\n",
    "- Die Formel dafür findest du hier: https://codecentric.slides.com/omoser/was-ist-maschine-learning#/9 (oder via google ;-))\n",
    "- Verwende entweder eine Schleife oder `numpy`\n",
    "\n"
   ]
  },
  {
   "cell_type": "code",
   "execution_count": null,
   "metadata": {},
   "outputs": [],
   "source": [
    "import numpy as np \n",
    "import random\n",
    "\n",
    "f = lambda x: 1.5*x**2 + 5\n",
    "num_datenpunkte = 10\n",
    "\n",
    "predictions = np.array( [(x, f(x)) for x in range(num_datenpunkte)] )\n",
    "labels = np.array( [(x, f(x) + random.randint(-2,2)*x) for x in range(num_datenpunkte)] )"
   ]
  },
  {
   "cell_type": "code",
   "execution_count": null,
   "metadata": {},
   "outputs": [],
   "source": [
    "# Dein Code\n",
    "\n",
    "\n",
    "\n"
   ]
  },
  {
   "cell_type": "markdown",
   "metadata": {},
   "source": [
    "## Aufgabe 3\n",
    "\n",
    "Kaggle ist eine bekannte Plattform für Data Science Wettbewerbe. Es gibt dort Datensätze aus verschiedensten Domänen. Man kann Modelle miteinander vergleichen, welche Genauigkeiten sie auf Datensätzen erreichen. Somit ist es eine tolle Platform, um zu Lernen und sein Wissen auszutauschen. Und man bleibt zum State of the Art auf dem Laufenden - also welche Modelle und Vorgehensweisen zu den besten Ergebnissen führen.\n",
    "\n",
    "- Melde Dich bei https://www.kaggle.com/ an. \n",
    "- Finde einen (kleinen) Datensatz für eine Bildklassifikation (z.B. Flower Color Images)\n",
    "- Lade die Daten herunter\n",
    "- Zeige ein paar der Bilder in deinem Jupyter Notebook an"
   ]
  },
  {
   "cell_type": "code",
   "execution_count": null,
   "metadata": {},
   "outputs": [],
   "source": [
    "# Dein Code\n",
    "\n",
    "\n",
    "\n"
   ]
  }
 ],
 "metadata": {
  "kernelspec": {
   "display_name": "Python 3",
   "language": "python",
   "name": "python3"
  },
  "language_info": {
   "codemirror_mode": {
    "name": "ipython",
    "version": 3
   },
   "file_extension": ".py",
   "mimetype": "text/x-python",
   "name": "python",
   "nbconvert_exporter": "python",
   "pygments_lexer": "ipython3",
   "version": "3.6.7"
  }
 },
 "nbformat": 4,
 "nbformat_minor": 2
}
