{
 "cells": [
  {
   "cell_type": "markdown",
   "metadata": {},
   "source": [
    "# codecentric.AI Bootcamp\n",
    "## Machine Learning Basics Aufgaben\n",
    "\n"
   ]
  },
  {
   "cell_type": "markdown",
   "metadata": {},
   "source": [
    "## Aufgabe 1"
   ]
  },
  {
   "cell_type": "markdown",
   "metadata": {},
   "source": [
    "Definiere 2 einfache lineare Funktionen \n",
    "\n",
    "- f(x) = 2x + 5\n",
    "- g(x) = -1.5x + 4\n",
    "\n",
    "Definiere 2 numpy Arrays und fülle diese mit Datenpunkten\n",
    "\n",
    "- verwende dafür einmal eine List comprehension\n",
    "- und einmal die Funktion numpy.linspace\n",
    "\n",
    "Visualisiere die beiden numpy Arrays mit matplotlib in einem Diagramm"
   ]
  },
  {
   "cell_type": "code",
   "execution_count": 3,
   "metadata": {},
   "outputs": [
    {
     "data": {
      "text/plain": [
       "Ellipsis"
      ]
     },
     "execution_count": 3,
     "metadata": {},
     "output_type": "execute_result"
    }
   ],
   "source": [
    "# imports\n",
    "\n",
    "f = lambda x: 2*x+5\n",
    "\n",
    "...\n",
    "\n",
    "# your code "
   ]
  },
  {
   "cell_type": "markdown",
   "metadata": {},
   "source": [
    "## Aufgabe 2\n",
    "\n",
    "Im vorigen Notebook haben wir ein Beispiel, wie wir den **Mean Absolute Error** als Kostenfunktion verwenden.\n",
    "\n",
    "- implementiere stattdessen den **Root Mean Squared Error** (RMSE) um predictions mit labels zu vergleichen\n",
    "- Formel findest du hier: https://codecentric.slides.com/omoser/was-ist-maschine-learning#/9 (oder bei google ;) )\n",
    "- entweder als for loop oder mit Hilfe von numpy\n",
    "\n"
   ]
  },
  {
   "cell_type": "code",
   "execution_count": 14,
   "metadata": {},
   "outputs": [],
   "source": [
    "import numpy as np \n",
    "import random\n",
    "\n",
    "f = lambda x: 1.5*x**2 + 5\n",
    "num_datenpunkte = 10\n",
    "\n",
    "predictions = np.array( [(x, f(x)) for x in range(num_datenpunkte)] )\n",
    "labels = np.array( [(x, f(x) + random.randint(-2,2)*x) for x in range(num_datenpunkte)] )"
   ]
  },
  {
   "cell_type": "code",
   "execution_count": 17,
   "metadata": {},
   "outputs": [],
   "source": [
    "# your code here"
   ]
  },
  {
   "cell_type": "markdown",
   "metadata": {},
   "source": [
    "# Aufgabe 3\n",
    "\n",
    "Kaggle ist eine bekannte Plattform für Data Science Wettbewerbe. Hier findet man verschiedenste Datensätze und man kann sich mit anderen vergleichen, wer das beste Modell bauen kann. Eine tolle Platform zum Lernen und zum Wissensaustausch. Und man sieht hier was gerade State of the Art ist - also welche Modelle und Vorgehensweisen zu den besten Ergebnissen führen.\n",
    "\n",
    "- Melde Dich bei https://www.kaggle.com/ an. \n",
    "- finde einen (kleinen) Datensatz für eine Bildklassifikation (z.B. Flower Color Images)\n",
    "- Lade die Daten herunter\n",
    "- Zeige ein paar der Bilder in deinem Jupyter Notebook an"
   ]
  }
 ],
 "metadata": {
  "kernelspec": {
   "display_name": "Python 3",
   "language": "python",
   "name": "python3"
  },
  "language_info": {
   "codemirror_mode": {
    "name": "ipython",
    "version": 3
   },
   "file_extension": ".py",
   "mimetype": "text/x-python",
   "name": "python",
   "nbconvert_exporter": "python",
   "pygments_lexer": "ipython3",
   "version": "3.6.6"
  }
 },
 "nbformat": 4,
 "nbformat_minor": 2
}
