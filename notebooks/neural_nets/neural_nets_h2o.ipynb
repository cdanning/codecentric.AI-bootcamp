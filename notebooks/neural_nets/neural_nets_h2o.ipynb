{
 "cells": [
  {
   "cell_type": "markdown",
   "metadata": {},
   "source": [
    "# codecentric.AI Bootcamp - Neuronale Netze und Deep Learning\n",
    "\n",
    "Hallo und herzlich Willkommen beim codecentric.AI Bootcamp.\n",
    "\n",
    "Dieses Notebook enthält Beispiele und Übungsaufgaben zu Neuronalen Netzen und Deep Learning.\n",
    "Eine theoretische Einführung gibt es in diesem [YouTube video](https://youtu.be/Y6Bf3noDTL8)."
   ]
  },
  {
   "cell_type": "code",
   "execution_count": 1,
   "metadata": {},
   "outputs": [
    {
     "data": {
      "text/html": [
       "\n",
       "        <iframe\n",
       "            width=\"850\"\n",
       "            height=\"650\"\n",
       "            src=\"https://www.youtube.com/embed/Z42fE0MGoDQ\"\n",
       "            frameborder=\"0\"\n",
       "            allowfullscreen\n",
       "        ></iframe>\n",
       "        "
      ],
      "text/plain": [
       "<IPython.lib.display.IFrame at 0x7f257037b240>"
      ]
     },
     "execution_count": 1,
     "metadata": {},
     "output_type": "execute_result"
    }
   ],
   "source": [
    "# lade Video\n",
    "from IPython.display import IFrame    \n",
    "IFrame('https://www.youtube.com/embed/Y6Bf3noDTL8', width=850, height=650)"
   ]
  },
  {
   "cell_type": "markdown",
   "metadata": {},
   "source": [
    "Zu diesem Notebook gibt es ebenfalls ein [Video](https://www.youtube.com/embed/BkWwAF-ezXs), indem ich euch durch diese Beispiele durchführe."
   ]
  },
  {
   "cell_type": "code",
   "execution_count": 2,
   "metadata": {},
   "outputs": [
    {
     "data": {
      "text/html": [
       "\n",
       "        <iframe\n",
       "            width=\"850\"\n",
       "            height=\"650\"\n",
       "            src=\"https://www.youtube.com/embed/BkWwAF-ezXs\"\n",
       "            frameborder=\"0\"\n",
       "            allowfullscreen\n",
       "        ></iframe>\n",
       "        "
      ],
      "text/plain": [
       "<IPython.lib.display.IFrame at 0x7f2570381fd0>"
      ]
     },
     "execution_count": 2,
     "metadata": {},
     "output_type": "execute_result"
    }
   ],
   "source": [
    "# lade Video\n",
    "from IPython.display import IFrame    \n",
    "IFrame('https://www.youtube.com/embed/BkWwAF-ezXs', width=850, height=650)"
   ]
  },
  {
   "cell_type": "markdown",
   "metadata": {},
   "source": [
    "## Neuronale Netze und Deep Learning\n",
    "\n",
    "In dieser Lektion geht es darum, zu erfahren, was neuronale Netze eigentlich sind, wie sie lernen und was das Ganze mit Deep Learning zu tun hat.\n",
    "\n",
    "Neuronale Netze sind wie [Random Forests](https://www.youtube.com/embed/ieF_QjVUNEQ) eine Methode aus dem maschinellen Lernen und können dabei für überwachtes, nicht-überwachtes und Reinforcement Lernen genutzt werden.\n",
    "\n",
    "Die Idee hinter neuronalen Netzen gibt es bereits seit den 1940er Jahren; entwickelt wurden sie in Anlehung an das menschliche Gehirn, um die Funktionsweise von Nervenzellen mathematisch zu nutzen. Darum nennen wir neuronale Netze auch **ANNs** (Artificial Neural Networks), also künstliche neuronale Netze.\n",
    "\n",
    "Als Deep Learning bezeichnen wir komplexe und große neuronale Netze, die in der Lage sind, komplexe Aufaben wie Bild- oder Spracherkennung, lösen können. Vor allem durch die stark gestiegene Rechenkraft, durch die Entwicklung von GPUs und TPUs (Tensor Processing Units), große Datenmengen und Frameworks, wie Keras, TensorFlow und PyTorch ist Deep Learning in den letzten Jahren so erfolgreich und beliebt geworden. Deep Learning begegnet uns zum Beispiel in der Spracherkennung und -verarbeitung, im Computer Vision-Bereich, in Recommender- und selbstlernenden Systemen und in vielem mehr.\n",
    "\n",
    "Die einfachste Art eines ANNs hat nur einen Knoten (auch Neuron genannt), das wird dann als **Perzeptron** bezeichnet. In diesem Neuron werden eingehende Daten verarbeitet und ein Ergebnis daraus berechnet. Diese eingehenden Daten sind dabei jeweils mit einem sogenannten **Gewicht** multipliziert worden; die Gewichte können dabei im Prinzip beliebige Werte annehmen und dienen dazu, das Ergebnis zu modifizieren. Optional kann auch ein sogenannter Bias zu den Daten * Gewichten addiert werden, um eine weitere Ebene der Modifikation zu nutzen.\n",
    "\n",
    "Aber wie lernen die neuronalen Netze nun eigentlich? Die gelernten Techniken und Prinzipien wollen wir hier an einem Beispiel anwenden."
   ]
  },
  {
   "cell_type": "markdown",
   "metadata": {},
   "source": [
    "## Bibliotheken\n",
    "\n",
    "Zunächst laden wir die grundlegenden Pakete, die wir für die Vorbereitung der Daten benötigten. Dazu gehören\n",
    "\n",
    "- numpy: NumPy ist das wichtigste Paket für maschinelles Lernen in Python, denn es bietet die nötigen Funktionen für die Arbeit mit Matrizen und n-dimensionalen Arrays, linearer Algebra, und mehr.\n",
    "- pandas: pandas erleichtert das Arbeiten mit Daten in Python.\n",
    "- matplotlib: Zum Erstellen von Graphiken und Abbildungen aus unseren Daten nutzen wir matplotlib. Den zusätzlichen Befehl `matplotlib inline` geben wir in unserem Juypter Notebook mit, damit wir die generierten Plots unterhalb des Code-Chunks sehen können.\n",
    "- h2o: H2O ist eine Machine Learning Bibliothek für verteiltes Lernen auf Clustern; deshalb müssen wir die H2O Instanz zunächst starten, bevor wir mit ihr arbeiten können."
   ]
  },
  {
   "cell_type": "code",
   "execution_count": 3,
   "metadata": {},
   "outputs": [
    {
     "name": "stdout",
     "output_type": "stream",
     "text": [
      "Checking whether there is an H2O instance running at http://localhost:54321..... not found.\n",
      "Attempting to start a local H2O server...\n",
      "  Java Version: openjdk version \"1.8.0_181\"; OpenJDK Runtime Environment (build 1.8.0_181-8u181-b13-2~deb9u1-b13); OpenJDK 64-Bit Server VM (build 25.181-b13, mixed mode)\n",
      "  Starting server from /usr/local/lib/python3.6/site-packages/h2o/backend/bin/h2o.jar\n",
      "  Ice root: /tmp/tmpbmrx_8t2\n",
      "  JVM stdout: /tmp/tmpbmrx_8t2/h2o_unknownUser_started_from_python.out\n",
      "  JVM stderr: /tmp/tmpbmrx_8t2/h2o_unknownUser_started_from_python.err\n",
      "  Server is running at http://127.0.0.1:54321\n",
      "Connecting to H2O server at http://127.0.0.1:54321... successful.\n"
     ]
    },
    {
     "data": {
      "text/html": [
       "<div style=\"overflow:auto\"><table style=\"width:50%\"><tr><td>H2O cluster uptime:</td>\n",
       "<td>01 secs</td></tr>\n",
       "<tr><td>H2O cluster timezone:</td>\n",
       "<td>Etc/UTC</td></tr>\n",
       "<tr><td>H2O data parsing timezone:</td>\n",
       "<td>UTC</td></tr>\n",
       "<tr><td>H2O cluster version:</td>\n",
       "<td>3.22.0.2</td></tr>\n",
       "<tr><td>H2O cluster version age:</td>\n",
       "<td>1 month and 25 days </td></tr>\n",
       "<tr><td>H2O cluster name:</td>\n",
       "<td>H2O_from_python_unknownUser_kyszq1</td></tr>\n",
       "<tr><td>H2O cluster total nodes:</td>\n",
       "<td>1</td></tr>\n",
       "<tr><td>H2O cluster free memory:</td>\n",
       "<td>444.5 Mb</td></tr>\n",
       "<tr><td>H2O cluster total cores:</td>\n",
       "<td>4</td></tr>\n",
       "<tr><td>H2O cluster allowed cores:</td>\n",
       "<td>4</td></tr>\n",
       "<tr><td>H2O cluster status:</td>\n",
       "<td>accepting new members, healthy</td></tr>\n",
       "<tr><td>H2O connection url:</td>\n",
       "<td>http://127.0.0.1:54321</td></tr>\n",
       "<tr><td>H2O connection proxy:</td>\n",
       "<td>None</td></tr>\n",
       "<tr><td>H2O internal security:</td>\n",
       "<td>False</td></tr>\n",
       "<tr><td>H2O API Extensions:</td>\n",
       "<td>XGBoost, Algos, AutoML, Core V3, Core V4</td></tr>\n",
       "<tr><td>Python version:</td>\n",
       "<td>3.6.7 final</td></tr></table></div>"
      ],
      "text/plain": [
       "--------------------------  ----------------------------------------\n",
       "H2O cluster uptime:         01 secs\n",
       "H2O cluster timezone:       Etc/UTC\n",
       "H2O data parsing timezone:  UTC\n",
       "H2O cluster version:        3.22.0.2\n",
       "H2O cluster version age:    1 month and 25 days\n",
       "H2O cluster name:           H2O_from_python_unknownUser_kyszq1\n",
       "H2O cluster total nodes:    1\n",
       "H2O cluster free memory:    444.5 Mb\n",
       "H2O cluster total cores:    4\n",
       "H2O cluster allowed cores:  4\n",
       "H2O cluster status:         accepting new members, healthy\n",
       "H2O connection url:         http://127.0.0.1:54321\n",
       "H2O connection proxy:\n",
       "H2O internal security:      False\n",
       "H2O API Extensions:         XGBoost, Algos, AutoML, Core V3, Core V4\n",
       "Python version:             3.6.7 final\n",
       "--------------------------  ----------------------------------------"
      ]
     },
     "metadata": {},
     "output_type": "display_data"
    }
   ],
   "source": [
    "import numpy as np\n",
    "import pandas as pd\n",
    "import matplotlib.pyplot as plt\n",
    "%matplotlib inline\n",
    "import h2o\n",
    "h2o.init(nthreads = -1)"
   ]
  },
  {
   "cell_type": "markdown",
   "metadata": {},
   "source": [
    "## Daten\n",
    "\n",
    "Der Datensatz in diesem Beispiel kommt von [Kaggle](https://www.kaggle.com/blastchar/telco-customer-churn) und als *csv* Datei im Ordner *data* gespeichert worden.\n",
    "\n",
    "In dieser Tabelle, die wir mit der pandas Funktion `read_csv` einlesen können, finden wir Informationen über Kundenabwanderung (englisch Customer Churn) in der Telekommunikationsbranche. Je der 7043 Reihen stellt einen Kunden dar; für jeden Kunden haben wir 20 Feature, die ihn beschreiben, plus unsere Antwortvariable \"Churn\", die aussagt, ob der Kunde abgewandert ist, oder nicht."
   ]
  },
  {
   "cell_type": "code",
   "execution_count": 6,
   "metadata": {},
   "outputs": [
    {
     "data": {
      "text/html": [
       "<div>\n",
       "<style scoped>\n",
       "    .dataframe tbody tr th:only-of-type {\n",
       "        vertical-align: middle;\n",
       "    }\n",
       "\n",
       "    .dataframe tbody tr th {\n",
       "        vertical-align: top;\n",
       "    }\n",
       "\n",
       "    .dataframe thead th {\n",
       "        text-align: right;\n",
       "    }\n",
       "</style>\n",
       "<table border=\"1\" class=\"dataframe\">\n",
       "  <thead>\n",
       "    <tr style=\"text-align: right;\">\n",
       "      <th></th>\n",
       "      <th>customerID</th>\n",
       "      <th>gender</th>\n",
       "      <th>SeniorCitizen</th>\n",
       "      <th>Partner</th>\n",
       "      <th>Dependents</th>\n",
       "      <th>tenure</th>\n",
       "      <th>PhoneService</th>\n",
       "      <th>MultipleLines</th>\n",
       "      <th>InternetService</th>\n",
       "      <th>OnlineSecurity</th>\n",
       "      <th>...</th>\n",
       "      <th>DeviceProtection</th>\n",
       "      <th>TechSupport</th>\n",
       "      <th>StreamingTV</th>\n",
       "      <th>StreamingMovies</th>\n",
       "      <th>Contract</th>\n",
       "      <th>PaperlessBilling</th>\n",
       "      <th>PaymentMethod</th>\n",
       "      <th>MonthlyCharges</th>\n",
       "      <th>TotalCharges</th>\n",
       "      <th>Churn</th>\n",
       "    </tr>\n",
       "  </thead>\n",
       "  <tbody>\n",
       "    <tr>\n",
       "      <th>0</th>\n",
       "      <td>7590-VHVEG</td>\n",
       "      <td>Female</td>\n",
       "      <td>0</td>\n",
       "      <td>Yes</td>\n",
       "      <td>No</td>\n",
       "      <td>1</td>\n",
       "      <td>No</td>\n",
       "      <td>No phone service</td>\n",
       "      <td>DSL</td>\n",
       "      <td>No</td>\n",
       "      <td>...</td>\n",
       "      <td>No</td>\n",
       "      <td>No</td>\n",
       "      <td>No</td>\n",
       "      <td>No</td>\n",
       "      <td>Month-to-month</td>\n",
       "      <td>Yes</td>\n",
       "      <td>Electronic check</td>\n",
       "      <td>29.85</td>\n",
       "      <td>29.85</td>\n",
       "      <td>No</td>\n",
       "    </tr>\n",
       "    <tr>\n",
       "      <th>1</th>\n",
       "      <td>5575-GNVDE</td>\n",
       "      <td>Male</td>\n",
       "      <td>0</td>\n",
       "      <td>No</td>\n",
       "      <td>No</td>\n",
       "      <td>34</td>\n",
       "      <td>Yes</td>\n",
       "      <td>No</td>\n",
       "      <td>DSL</td>\n",
       "      <td>Yes</td>\n",
       "      <td>...</td>\n",
       "      <td>Yes</td>\n",
       "      <td>No</td>\n",
       "      <td>No</td>\n",
       "      <td>No</td>\n",
       "      <td>One year</td>\n",
       "      <td>No</td>\n",
       "      <td>Mailed check</td>\n",
       "      <td>56.95</td>\n",
       "      <td>1889.5</td>\n",
       "      <td>No</td>\n",
       "    </tr>\n",
       "    <tr>\n",
       "      <th>2</th>\n",
       "      <td>3668-QPYBK</td>\n",
       "      <td>Male</td>\n",
       "      <td>0</td>\n",
       "      <td>No</td>\n",
       "      <td>No</td>\n",
       "      <td>2</td>\n",
       "      <td>Yes</td>\n",
       "      <td>No</td>\n",
       "      <td>DSL</td>\n",
       "      <td>Yes</td>\n",
       "      <td>...</td>\n",
       "      <td>No</td>\n",
       "      <td>No</td>\n",
       "      <td>No</td>\n",
       "      <td>No</td>\n",
       "      <td>Month-to-month</td>\n",
       "      <td>Yes</td>\n",
       "      <td>Mailed check</td>\n",
       "      <td>53.85</td>\n",
       "      <td>108.15</td>\n",
       "      <td>Yes</td>\n",
       "    </tr>\n",
       "    <tr>\n",
       "      <th>3</th>\n",
       "      <td>7795-CFOCW</td>\n",
       "      <td>Male</td>\n",
       "      <td>0</td>\n",
       "      <td>No</td>\n",
       "      <td>No</td>\n",
       "      <td>45</td>\n",
       "      <td>No</td>\n",
       "      <td>No phone service</td>\n",
       "      <td>DSL</td>\n",
       "      <td>Yes</td>\n",
       "      <td>...</td>\n",
       "      <td>Yes</td>\n",
       "      <td>Yes</td>\n",
       "      <td>No</td>\n",
       "      <td>No</td>\n",
       "      <td>One year</td>\n",
       "      <td>No</td>\n",
       "      <td>Bank transfer (automatic)</td>\n",
       "      <td>42.30</td>\n",
       "      <td>1840.75</td>\n",
       "      <td>No</td>\n",
       "    </tr>\n",
       "    <tr>\n",
       "      <th>4</th>\n",
       "      <td>9237-HQITU</td>\n",
       "      <td>Female</td>\n",
       "      <td>0</td>\n",
       "      <td>No</td>\n",
       "      <td>No</td>\n",
       "      <td>2</td>\n",
       "      <td>Yes</td>\n",
       "      <td>No</td>\n",
       "      <td>Fiber optic</td>\n",
       "      <td>No</td>\n",
       "      <td>...</td>\n",
       "      <td>No</td>\n",
       "      <td>No</td>\n",
       "      <td>No</td>\n",
       "      <td>No</td>\n",
       "      <td>Month-to-month</td>\n",
       "      <td>Yes</td>\n",
       "      <td>Electronic check</td>\n",
       "      <td>70.70</td>\n",
       "      <td>151.65</td>\n",
       "      <td>Yes</td>\n",
       "    </tr>\n",
       "  </tbody>\n",
       "</table>\n",
       "<p>5 rows × 21 columns</p>\n",
       "</div>"
      ],
      "text/plain": [
       "   customerID  gender  SeniorCitizen Partner Dependents  tenure PhoneService  \\\n",
       "0  7590-VHVEG  Female              0     Yes         No       1           No   \n",
       "1  5575-GNVDE    Male              0      No         No      34          Yes   \n",
       "2  3668-QPYBK    Male              0      No         No       2          Yes   \n",
       "3  7795-CFOCW    Male              0      No         No      45           No   \n",
       "4  9237-HQITU  Female              0      No         No       2          Yes   \n",
       "\n",
       "      MultipleLines InternetService OnlineSecurity  ...  DeviceProtection  \\\n",
       "0  No phone service             DSL             No  ...                No   \n",
       "1                No             DSL            Yes  ...               Yes   \n",
       "2                No             DSL            Yes  ...                No   \n",
       "3  No phone service             DSL            Yes  ...               Yes   \n",
       "4                No     Fiber optic             No  ...                No   \n",
       "\n",
       "  TechSupport StreamingTV StreamingMovies        Contract PaperlessBilling  \\\n",
       "0          No          No              No  Month-to-month              Yes   \n",
       "1          No          No              No        One year               No   \n",
       "2          No          No              No  Month-to-month              Yes   \n",
       "3         Yes          No              No        One year               No   \n",
       "4          No          No              No  Month-to-month              Yes   \n",
       "\n",
       "               PaymentMethod MonthlyCharges  TotalCharges Churn  \n",
       "0           Electronic check          29.85         29.85    No  \n",
       "1               Mailed check          56.95        1889.5    No  \n",
       "2               Mailed check          53.85        108.15   Yes  \n",
       "3  Bank transfer (automatic)          42.30       1840.75    No  \n",
       "4           Electronic check          70.70        151.65   Yes  \n",
       "\n",
       "[5 rows x 21 columns]"
      ]
     },
     "execution_count": 6,
     "metadata": {},
     "output_type": "execute_result"
    }
   ],
   "source": [
    "telco_data = pd.read_csv(\"/data/WA_Fn-UseC_-Telco-Customer-Churn.csv\")\n",
    "telco_data.head()"
   ]
  },
  {
   "cell_type": "markdown",
   "metadata": {},
   "source": [
    "Zunächst wandeln wir dieses pandas `DataFrame` in ein h2o Frame um:"
   ]
  },
  {
   "cell_type": "code",
   "execution_count": 5,
   "metadata": {},
   "outputs": [
    {
     "name": "stdout",
     "output_type": "stream",
     "text": [
      "Parse progress: |█████████████████████████████████████████████████████████| 100%\n"
     ]
    }
   ],
   "source": [
    "hf = h2o.H2OFrame(telco_data)"
   ]
  },
  {
   "cell_type": "markdown",
   "metadata": {},
   "source": [
    "Und wir definieren die Feature mit ihren jeweiligen Spaltennamen in der Tabelle. Das erste Feature `customerID` lasse ich hier weg, denn es liefert uns keine Information, die wir für die Vorhersage nutzen können."
   ]
  },
  {
   "cell_type": "code",
   "execution_count": 6,
   "metadata": {},
   "outputs": [
    {
     "data": {
      "text/plain": [
       "['gender',\n",
       " 'SeniorCitizen',\n",
       " 'Partner',\n",
       " 'Dependents',\n",
       " 'tenure',\n",
       " 'PhoneService',\n",
       " 'MultipleLines',\n",
       " 'InternetService',\n",
       " 'OnlineSecurity',\n",
       " 'OnlineBackup',\n",
       " 'DeviceProtection',\n",
       " 'TechSupport',\n",
       " 'StreamingTV',\n",
       " 'StreamingMovies',\n",
       " 'Contract',\n",
       " 'PaperlessBilling',\n",
       " 'PaymentMethod',\n",
       " 'MonthlyCharges',\n",
       " 'TotalCharges']"
      ]
     },
     "execution_count": 6,
     "metadata": {},
     "output_type": "execute_result"
    }
   ],
   "source": [
    "hf_X = hf.col_names[1:len(hf.col_names)-1]\n",
    "hf_X"
   ]
  },
  {
   "cell_type": "markdown",
   "metadata": {},
   "source": [
    "Entsprechend der Feature wird auch die Antwortvariable definiert."
   ]
  },
  {
   "cell_type": "code",
   "execution_count": 7,
   "metadata": {},
   "outputs": [
    {
     "data": {
      "text/plain": [
       "'Churn'"
      ]
     },
     "execution_count": 7,
     "metadata": {},
     "output_type": "execute_result"
    }
   ],
   "source": [
    "hf_y = hf.col_names[20]\n",
    "hf_y"
   ]
  },
  {
   "cell_type": "markdown",
   "metadata": {},
   "source": [
    "Da wir die Kunden in unseren Daten in Klassen einteilen wollen, müssen wir die Antwortvariable in einen Faktor umwandeln."
   ]
  },
  {
   "cell_type": "code",
   "execution_count": 8,
   "metadata": {},
   "outputs": [
    {
     "data": {
      "text/plain": [
       "[True]"
      ]
     },
     "execution_count": 8,
     "metadata": {},
     "output_type": "execute_result"
    }
   ],
   "source": [
    "hf[hf_y] = hf[hf_y].asfactor()  \n",
    "hf[hf_y].isfactor()"
   ]
  },
  {
   "cell_type": "markdown",
   "metadata": {},
   "source": [
    "Nun fehlt nur noch die h2o Funktion für neuronale Netze, der `H2ODeepLearningEstimator`, den wir importieren. Mit dieser Funktion definieren wir das neuronale Netz bevor wir es trainieren. Ein paar der wichtigsten Argumente und was sie bedeuten erkläre ich anhand dieser Funktion.\n",
    "\n",
    "Die Beschreibung aller Argumente der Funktion ist [in der H2O Dokumentation](http://docs.h2o.ai/h2o/latest-stable/h2o-py/docs/modeling.html#h2odeeplearningestimator) zu finden."
   ]
  },
  {
   "cell_type": "code",
   "execution_count": 9,
   "metadata": {},
   "outputs": [],
   "source": [
    "from h2o.estimators.deeplearning import H2ODeepLearningEstimator"
   ]
  },
  {
   "cell_type": "markdown",
   "metadata": {},
   "source": [
    "### Aktivierungsfunktionen\n",
    "\n",
    "Was passiert nun während der \"Verarbeitung\" der eingehenden Daten in einem Neuron eines ANNs? Die einfachste Variante ist, dass alle eingehenden Daten * Gewichten (evtl. + Bias) aufsummiert werden. Diesen Wert könnten wir bereits als Ergebnis betrachten. Diese Art der Berechnung limitiert allerdings die Art der gelernten Zusammenhänge in unseren Daten auf **lineare** Kombinationen der Daten. Da wir neuronale Netze in der Regel für das Lernen von komplexen Zusammenhängen nutzen wollen, brauchen wir eine Möglichkeit, um diese Linearität zu brechen: hier kommen Aktivierungsfunktionen ins Spiel.\n",
    "\n",
    "Aktivierungsfunktionen normalisieren die die summierten Werte in einem Neuron. Häufig verwendete Aktivierungsfunktionen sind **Tanh** (liefert normierte Ergebnisse zwischen -1 und 1), **Sigmoid** (liefert normierte Ergebnisse zwischen 0 und 1), **ReLU** (Rectified Linear Units, setzen negative Erte auf 0) und viele mehr. Die Aktivierungsfunktion ermöglicht es so, dass wir jedes Problem, dass wir mathematisch abbilden können, approximieren können.\n",
    "\n",
    "In H2O's `H2ODeepLearningEstimator` können wir aus folgenden Aktivierungsfunktionen wählen: Tanh, Tanh mit Dropout, Rectifier (Defaulteinstellung), Rectifier mit Dropout, Maxout und Maxout mit Dropout. Hier wähle ich Rectifier mit Dropout. Mit **Dropout** kann die Generalisierbarkeit der gelernten Funktion verbessert werden, indem eine spezifierte Anzahl von Neuronen im neuronalen Netz auf Null gesetzt wird. Diesen Wert definieren wir mit dem `hidden_dropout_ratios` Argument, der standardmäßig auf 50% gesetzt ist. Hier will ich die Rate auf 20% verringern. Bevor wir dieses Argument setzen, gehen wir aber erst einen Schritt weiter: zu den **versteckten Schichten**. Zusätzlich kann ein Dropout für die eingehenden Daten gesetzt werden; das `input_dropout_ratio` Argument ist allerdings standardmäßig ausgeschaltet und so wollen wir es hier auch belassen."
   ]
  },
  {
   "cell_type": "code",
   "execution_count": 10,
   "metadata": {},
   "outputs": [],
   "source": [
    "dl_model = H2ODeepLearningEstimator(\n",
    "    activation = \"rectifier_with_dropout\"\n",
    ")"
   ]
  },
  {
   "cell_type": "markdown",
   "metadata": {},
   "source": [
    "## Versteckte Schichten\n",
    "\n",
    "Die neuronalen Netze, die wir in diesem Beispiel trainieren wollen, sind natürlich komplexer und haben mehrere Neuronen als das Perzeptron vom Anfang. Neuronen sind in ANNs in Schichten angeordnet, durch die Daten und daraus berechnete Ergbenisse von links nach rechts durchfließen. Die erste Schicht ist immer die Eingangsschicht, in der die eingehenden Daten in das Netz fließen. Dann folgende sogenannte versteckte Schichten und schließlichlich gibt es eine Ausgabeschicht, die bei Klassifikationsaufgaben die möglichen Klassen darstellt. Es gibt verschiedene Architekturen von neuronalen Netzen, die beschreiben, wie viele versteckte Schichten und wie viele Neuronen es in jeder der Schichten gibt und wie diese miteinander verbunden sind. Eine einfache Netzarchitektur ist das **Multi-Layer-Perceptron** (MLP), in dem jeder Knoten mit jedem Knoten der vorhergehenden und nachfolgenden Schicht verbunden ist.\n",
    "\n",
    "So ein MLP können wir mit H2O trainieren, indem wir die Anzahl der versteckten Schichten und die Anzahl der Knoten pro versteckter Schicht mit dem `hidden` Argument definieren. Hier wollen wir 3 versteckte Schichten haben, mit 100, 80 und 100 Knoten. Jetzt können wir die `hidden_dropout_ratios` für jede versteckte Schicht definieren: hier 3x 20% Dropout."
   ]
  },
  {
   "cell_type": "code",
   "execution_count": 11,
   "metadata": {},
   "outputs": [],
   "source": [
    "dl_model = H2ODeepLearningEstimator(\n",
    "    activation = \"rectifier_with_dropout\",\n",
    "    hidden = [100, 80, 100],\n",
    "    hidden_dropout_ratios = [0.2, 0.2, 0.2]\n",
    ")"
   ]
  },
  {
   "cell_type": "markdown",
   "metadata": {},
   "source": [
    "## Lernen durch Optimierung\n",
    "\n",
    "Jede Kante in unserem neuronalen Netz stellt jetzt fließende Daten oder Information dar und wie oben bei dem einfachen Perzeptron beschrieben, wird auch in einem komplexeren MLP jeder Kante ein **Gewicht** zugeordnet. Dieses Gewicht soll jetzt so gewählt werden, dass das von unserem Netz berechnete Ergebnis möglichst nah an der Wirklichkeit ist.\n",
    "\n",
    "Wie das genau funktioniert, hat mit **mathematischer Optimierung** zu tun und zwar mit einigen wichtigen Konzepten:\n",
    "\n",
    "- Differenzen zwischen Vorhersage und Wirklichkeit\n",
    "- Loss-Funktionen\n",
    "- Backpropagation\n",
    "- Optimierungsmethoden, wie z.B. Gradient Descent\n",
    "\n",
    "### Differenzen zwischen Vorhersage und Wirklichkeit\n",
    "\n",
    "Um die Differenz zwischen Vorhersage und Wirklichkeit in einem Klassifikationsproblem zu berechnen, brauchen wir zunächst die **Softmax**-Funktion. Für jeden Datenpunkt, der das neuronale Netz von links nach rechts durchläuft, kommt am Ende ein Ergebnis in Form eines numerischen Wertes heraus; diesen nennen wir Score. Der Score ist allerdings nicht normiert, dafür nutzen wir die Softmax Funktion, denn sie transformiert die Scores in Wahrscheinlichkeitsverteilungen, das bedeutet in Werte zwischen 0 und 1, die in Summe über alle möglichen Klassen 1 ergeben.\n",
    "\n",
    "### One-Hot-Encoding\n",
    "\n",
    "Um diese Wahrscheinlichkeitsverteilungen mit der Wirklichkeit abgleichen zu können, nutzen wir ein bestimmtes Format für unsere Antwortvariable \"Churn\": den **One-Hot-Encoded Vektor**. Dieser Vektor enthält für jeden Datenpunkt und jede mögliche Klassen entweder den Wert 1 (wenn der Datenpunkt zu der entsprechenden Klasse gehört) oder 0 (wenn der Datenpunkt nicht zu der entsprechenden Klasse gehört).\n",
    "\n",
    "Aus dem Wahrscheinlichkeitsvektor und dem One-Hot-Encoded Vektor können wir nun die Differenz bilden. Je kleiner die Differenz, desto näher ist unsere Vorhersage an der Wirklichkeit dran. Ziel des Lernprozesses ist es nun, die Gewichte so zu wählen, dass diese Differenz so klein wie möglich wird.\n",
    "\n",
    "One-Hot-Encoding können wir auch für Feature-Variablen anwenden, denn ein neuronales benötigt numerische Werte, um zu Lernen - mit Kategorien und Strings kann es erstmal nichts anfangen. In H2O passiert das One-Hot-Encoding automatisch, wir könnten aber mit dem `categorical_encoding` auch eine der folgenden Vorgehensweisen spezifizieren: \"enum\", \"one_hot_internal\", \"one_hot_explicit\", \"binary\", \"eigen\", \"label_encoder\", \"sort_by_response\" und \"enum_limited\". Hier belassen wir es bei der Defaulteinstellung \"auto\".\n",
    "\n",
    "### Loss-Funktionen\n",
    "\n",
    "Die durchschnittliche Differenz zwischen Vorhersage und Wirklichkeit, die wir nun minimieren wollen, wir **Loss** genannt. Wir können unterschiedliche Loss-Funktionen nutzen, meist wird für Klassifikationsprobleme die **Kreuzentropie** verwendet. In H2O können wir mit dem `loss`-Argument zwischen den folgenden Funktionen wählen: \"cross_entropy\", \"quadratic\", \"huber\", \"absolute\" und \"quantile\". Hier wollen wir mit der Kreuzentropie arbeiten."
   ]
  },
  {
   "cell_type": "code",
   "execution_count": 12,
   "metadata": {},
   "outputs": [],
   "source": [
    "dl_model = H2ODeepLearningEstimator(\n",
    "    categorical_encoding = \"auto\",\n",
    "    activation = \"rectifier_with_dropout\",\n",
    "    hidden = [100, 80, 100],\n",
    "    hidden_dropout_ratios = [0.2, 0.2, 0.2],\n",
    "    loss = \"cross_entropy\"\n",
    ")"
   ]
  },
  {
   "cell_type": "markdown",
   "metadata": {},
   "source": [
    "### Backpropagation\n",
    "\n",
    "Mittels Backpropagation wird nun der berechnete Fehler aus der Differenz zwischen Vorhersage und Wirklichkeit rückwärts von rechts nach links durch unser neuronales Netz zurück gerechnet. So wir der anteilige Fehler für jedes Neuron bestimmt. Daraus ergibt sich ein Fehler-**Gradient**, den wir uns wie eine Hügellandschaft vorstellen können. Verschiedene Punkte in der Landschaft stellen analog verschiedene Gewichte dar, die Höhen und Tiefen an den jeweiligen Punkten stellen den Fehler dar. Wären wir nun ein Bergsteiger, der mit verbundenen Augen irgendwo in dieser Landschaft abgesetzt wird, ist seine Aufgabe, den tiefsten Punkt in der Landschaft mit dem geringsten Fehler zu finden.\n",
    "\n",
    "### Gradientenoptimierung\n",
    "\n",
    "Diesen tiefsten Punkt in der Fehlerlandschaft sucht nun auch unser neuronales Netz. Und zwar tut es das, indem es - ähnlich wie der Bergsteiger - sich in mehreren Schritten diesem **Minimum** nähert. Jeder Schritt entspricht einer **Trainingsepoche**. In jeder Epoche wird der Gradient bestimmt und die Richtung mit dem stärksten Abstieg gefunden; dort wird der nächste Schritt hingesetzt und die Gewichte werden entsprechend geändert, so dass der Fehler in der nächsten Runde geringer ist als vorher. Das passiert solange, bis kein Abstieg mehr möglich ist und (idealerweise) die Gewichte mit dem niedrigsten Fehler gefunden wurden. In H2O definieren wir die Anzahl der Epochen mit dem `epochs`-Argument. Hier wählen wir 200 Epochen."
   ]
  },
  {
   "cell_type": "code",
   "execution_count": 13,
   "metadata": {},
   "outputs": [],
   "source": [
    "dl_model = H2ODeepLearningEstimator(\n",
    "    categorical_encoding = \"auto\",\n",
    "    activation = \"rectifier_with_dropout\",\n",
    "    hidden = [100, 80, 100],\n",
    "    hidden_dropout_ratios = [0.2, 0.2, 0.2],\n",
    "    loss = \"cross_entropy\",\n",
    "    epochs = 200\n",
    ")"
   ]
  },
  {
   "cell_type": "markdown",
   "metadata": {},
   "source": [
    "### Adaptive Lernrate und Momentum\n",
    "\n",
    "Nun kann es leicht passieren, dass wir mit dieser Technik in einem lokalen Minimum versacken: es gibt keinen **Gradientenabstieg** mehr aber das globale Minimum liegt vielleicht hinter dem nächsten Berg - über den wir nun nicht hinweg kommen. Um dieses Problem zu umgehen, gibt es mehrere Tricks, einer davon ist eine **adaptive Lernrate** zu wählen. Die **Lernrate** können wir uns wie die Schrittgröße des Bergsteigers vorstellen. Wir können die Lernrate in H2O einstellen, indem wir das `rate` Argument setzen. Per Default ist sie auf 0.005 gesetzt, höhere Werte machen das Modell weniger stabil, niedrigere Werte führen zu langsamerer Konvergenz. Darum lassen wir hier den Standardwert stehen. Bei einer adaptiven Lernrate können wir zum Beispiel mit größeren Schritten starten und die Schritte verkleinern, wenn wir uns dem Minimum nähern. In H2O ist das Argument `adaptive_rate` per Default angeschaltet. Da wir aber Momentum nutzen wollen, darf `adaptive_rate` nicht aktiviert sein und wir setzen es auf `False`. Weitere Argumente, mit denene sich die Lernrate anpassen lässt, sind `rho` (Decay-Rate) und `epsilon` (Smoothing-Faktor). \n",
    "\n",
    "Eine andere Weiterentwicklung des einfachen Gradientenabstiegs ist **Momentum**. Momentum können wir uns vorstellen, wie einen Ball, der die Hügellandschaft hinab rollt: der Ball wird eine ungefähre Richtung beibehalten und keine zu extremen Sprünge zu den Seiten machen. In H2O können wir die Argumente `momentum_start` (Momentum zu Beginn des Trainings), `momentum_ramp` (Anzahl Trainingsinstanzen, für die Momentum ansteigen soll) und `momentum_stable` (Finales Momentum nach momentum_ramp)\n",
    "\n",
    "Aus dem Momentum hat sich der sogenannte **Nesterov-beschleunigte Gradient** entwickelt; bei dieser Methode wird der nächste Schritt geschätzt, bevor er gegangen wird, so dass vorherige Fehler in die Richtungsentscheidung bei jedem Schritt beitragen. Auch das Argument `nesterov_accelerated_gradient` ist standardmäßig aktiviert."
   ]
  },
  {
   "cell_type": "code",
   "execution_count": 14,
   "metadata": {},
   "outputs": [],
   "source": [
    "dl_model = H2ODeepLearningEstimator(\n",
    "    categorical_encoding = \"auto\",\n",
    "    activation = \"rectifier_with_dropout\",\n",
    "    hidden = [100, 80, 100],\n",
    "    hidden_dropout_ratios = [0.2, 0.2, 0.2],\n",
    "    loss = \"cross_entropy\",\n",
    "    epochs = 200,\n",
    "    rate = 0.005,\n",
    "    adaptive_rate = False,\n",
    "    momentum_start = 0.5,\n",
    "    momentum_ramp = 100,\n",
    "    momentum_stable = 0.99,\n",
    "    nesterov_accelerated_gradient = True\n",
    ")"
   ]
  },
  {
   "cell_type": "markdown",
   "metadata": {},
   "source": [
    "### L1 und L2 Regularisierung\n",
    "\n",
    "Eine weitere Technik, um die Generalisierbarkeit eines neuronalen Netzes zu verbessern ist **Regularisierung** (andere waren Kreuzvalidierung und Dropout). In H2O können wir `l1` und `l2` Regularisierung einstellen. In der L1-Regularisierung werden ähnlich wie beim Dropout einige Knoten 0-Werte erhalten, bei L2-Regularisierung werden viele Gewichte niedrig gesetzt. Hier lassen wir allerdings den Defaultwert von 0 für beide Hyperparameter stehen."
   ]
  },
  {
   "cell_type": "code",
   "execution_count": 15,
   "metadata": {},
   "outputs": [],
   "source": [
    "dl_model = H2ODeepLearningEstimator(\n",
    "    categorical_encoding = \"auto\",\n",
    "    activation = \"rectifier_with_dropout\",\n",
    "    hidden = [100, 80, 100],\n",
    "    hidden_dropout_ratios = [0.2, 0.2, 0.2],\n",
    "    loss = \"cross_entropy\",\n",
    "    epochs = 200,\n",
    "    rate = 0.005,\n",
    "    adaptive_rate = False,\n",
    "    momentum_start = 0.5,\n",
    "    momentum_ramp = 100,\n",
    "    momentum_stable = 0.99,\n",
    "    nesterov_accelerated_gradient = True,\n",
    "    l1 = 0,\n",
    "    l2 = 0\n",
    ")"
   ]
  },
  {
   "cell_type": "markdown",
   "metadata": {},
   "source": [
    "### Kreuzvalidierung\n",
    "\n",
    "In der [Dokumentation](http://docs.h2o.ai/h2o/latest-stable/h2o-py/docs/modeling.html#h2odeeplearningestimator) können wir sehen, dass es eine Reihe weitere Argumente für Hyperparameter gibt. Die wollen wir nicht alle im Einzelnen durchgehen; was wir für unseren Trainingslauf aber noch brauchen sind **Validierungsdaten**. Wir könnten entweder ein explizites **Validierungsset** mit `validation_frame` angeben oder wir nutzen **Kreuzvalidierung**. Um letzteres zu definieren, nutzen wir `nfolds` (die Anzahl an Folds auf denen validiert werden soll) und `fold_assignment`. Mit `stratified` legen wir fest, dass die Verhältnisse der Klassen zueinander in den Folds beibehalten werden sollen, im Gegensatz zu komplett zufälliger Aufteilung der Instanzen in die Folds. Mit `keep_cross_validation_predictions = True`können wir die Ergebnisse der Kreuzvalidierung speichern und später zum Beispiel plotten."
   ]
  },
  {
   "cell_type": "code",
   "execution_count": 16,
   "metadata": {},
   "outputs": [],
   "source": [
    "dl_model = H2ODeepLearningEstimator(\n",
    "    categorical_encoding = \"auto\",\n",
    "    activation = \"rectifier_with_dropout\",\n",
    "    hidden = [100, 80, 100],\n",
    "    hidden_dropout_ratios = [0.2, 0.2, 0.2],\n",
    "    loss = \"cross_entropy\",\n",
    "    epochs = 200,\n",
    "    rate = 0.005,\n",
    "    adaptive_rate = False,\n",
    "    momentum_start = 0.5,\n",
    "    momentum_ramp = 100,\n",
    "    momentum_stable = 0.99,\n",
    "    nesterov_accelerated_gradient = True,\n",
    "    l1 = 0,\n",
    "    l2 = 0,\n",
    "    nfolds = 3,\n",
    "    fold_assignment = \"stratified\",\n",
    "    keep_cross_validation_predictions = True,\n",
    "    seed = 42\n",
    ")"
   ]
  },
  {
   "cell_type": "markdown",
   "metadata": {},
   "source": [
    "Als letztes setzen wir noch einen Seed für die Pseudozufallszahlengenerierung."
   ]
  },
  {
   "cell_type": "markdown",
   "metadata": {},
   "source": [
    "## Modelltraining\n",
    "\n",
    "Nun können wir das so definierte neuronale Netz trainieren. Dafür verwenden wir die `train` Funktion und geben ihr die Vektoren mit Antwortvariable (`y`) und Features (`x`), sowie den Trainingsdatensatz (`training_frame`) mit."
   ]
  },
  {
   "cell_type": "code",
   "execution_count": 17,
   "metadata": {},
   "outputs": [
    {
     "name": "stdout",
     "output_type": "stream",
     "text": [
      "deeplearning Model Build progress: |██████████████████████████████████████| 100%\n"
     ]
    }
   ],
   "source": [
    "dl_model.train(x = hf_X, \n",
    "               y = hf_y, \n",
    "               training_frame = hf)"
   ]
  },
  {
   "cell_type": "markdown",
   "metadata": {},
   "source": [
    "Dieses Modell können wir nun auf verschiedene Weisen weiter nutzen: Wir können verschiedene Performance-Metriken auf neuen (Test-) Daten berechnen lassen, das Modell speichern oder die Trainingsergebnisse in verschiedenen Abbildungen darstellen. Die Trainingsmetriken können wir zum Beispiel in einem Plot darstellen:"
   ]
  },
  {
   "cell_type": "code",
   "execution_count": 18,
   "metadata": {},
   "outputs": [
    {
     "data": {
      "image/png": "[encoded data removed]",
      "text/plain": [
       "<Figure size 432x288 with 1 Axes>"
      ]
     },
     "metadata": {
      "needs_background": "light"
     },
     "output_type": "display_data"
    }
   ],
   "source": [
    "dl_model.plot()"
   ]
  },
  {
   "cell_type": "markdown",
   "metadata": {},
   "source": [
    "Die Kreuzvalidierungsergebnisse können wir mit den Funktionen `cross_validation_predictions` (eine Tabelle pro Fold) und `cross_validation_holdout_predictions` (alle Ergebnisse kombiniert)."
   ]
  },
  {
   "cell_type": "code",
   "execution_count": 19,
   "metadata": {},
   "outputs": [
    {
     "data": {
      "text/html": [
       "<table>\n",
       "<thead>\n",
       "<tr><th>predict  </th><th style=\"text-align: right;\">      No</th><th style=\"text-align: right;\">      Yes</th></tr>\n",
       "</thead>\n",
       "<tbody>\n",
       "<tr><td>No       </td><td style=\"text-align: right;\">0       </td><td style=\"text-align: right;\">0        </td></tr>\n",
       "<tr><td>No       </td><td style=\"text-align: right;\">0.913982</td><td style=\"text-align: right;\">0.0860181</td></tr>\n",
       "<tr><td>No       </td><td style=\"text-align: right;\">0       </td><td style=\"text-align: right;\">0        </td></tr>\n",
       "<tr><td>No       </td><td style=\"text-align: right;\">0.931805</td><td style=\"text-align: right;\">0.0681954</td></tr>\n",
       "<tr><td>Yes      </td><td style=\"text-align: right;\">0.228222</td><td style=\"text-align: right;\">0.771778 </td></tr>\n",
       "<tr><td>Yes      </td><td style=\"text-align: right;\">0.224294</td><td style=\"text-align: right;\">0.775706 </td></tr>\n",
       "<tr><td>Yes      </td><td style=\"text-align: right;\">0.492414</td><td style=\"text-align: right;\">0.507586 </td></tr>\n",
       "<tr><td>No       </td><td style=\"text-align: right;\">0.674481</td><td style=\"text-align: right;\">0.325519 </td></tr>\n",
       "<tr><td>Yes      </td><td style=\"text-align: right;\">0.574148</td><td style=\"text-align: right;\">0.425852 </td></tr>\n",
       "<tr><td>No       </td><td style=\"text-align: right;\">0.947142</td><td style=\"text-align: right;\">0.0528578</td></tr>\n",
       "</tbody>\n",
       "</table>"
      ]
     },
     "metadata": {},
     "output_type": "display_data"
    },
    {
     "data": {
      "text/html": [
       "<table>\n",
       "<thead>\n",
       "<tr><th>predict  </th><th style=\"text-align: right;\">      No</th><th style=\"text-align: right;\">     Yes</th></tr>\n",
       "</thead>\n",
       "<tbody>\n",
       "<tr><td>Yes      </td><td style=\"text-align: right;\">0.432905</td><td style=\"text-align: right;\">0.567095</td></tr>\n",
       "<tr><td>No       </td><td style=\"text-align: right;\">0       </td><td style=\"text-align: right;\">0       </td></tr>\n",
       "<tr><td>Yes      </td><td style=\"text-align: right;\">0.662877</td><td style=\"text-align: right;\">0.337123</td></tr>\n",
       "<tr><td>No       </td><td style=\"text-align: right;\">0       </td><td style=\"text-align: right;\">0       </td></tr>\n",
       "<tr><td>No       </td><td style=\"text-align: right;\">0       </td><td style=\"text-align: right;\">0       </td></tr>\n",
       "<tr><td>No       </td><td style=\"text-align: right;\">0       </td><td style=\"text-align: right;\">0       </td></tr>\n",
       "<tr><td>No       </td><td style=\"text-align: right;\">0       </td><td style=\"text-align: right;\">0       </td></tr>\n",
       "<tr><td>No       </td><td style=\"text-align: right;\">0       </td><td style=\"text-align: right;\">0       </td></tr>\n",
       "<tr><td>No       </td><td style=\"text-align: right;\">0       </td><td style=\"text-align: right;\">0       </td></tr>\n",
       "<tr><td>No       </td><td style=\"text-align: right;\">0       </td><td style=\"text-align: right;\">0       </td></tr>\n",
       "</tbody>\n",
       "</table>"
      ]
     },
     "metadata": {},
     "output_type": "display_data"
    },
    {
     "data": {
      "text/html": [
       "<table>\n",
       "<thead>\n",
       "<tr><th>predict  </th><th style=\"text-align: right;\">  No</th><th style=\"text-align: right;\">  Yes</th></tr>\n",
       "</thead>\n",
       "<tbody>\n",
       "<tr><td>No       </td><td style=\"text-align: right;\">   0</td><td style=\"text-align: right;\">    0</td></tr>\n",
       "<tr><td>No       </td><td style=\"text-align: right;\">   0</td><td style=\"text-align: right;\">    0</td></tr>\n",
       "<tr><td>No       </td><td style=\"text-align: right;\">   0</td><td style=\"text-align: right;\">    0</td></tr>\n",
       "<tr><td>No       </td><td style=\"text-align: right;\">   0</td><td style=\"text-align: right;\">    0</td></tr>\n",
       "<tr><td>No       </td><td style=\"text-align: right;\">   0</td><td style=\"text-align: right;\">    0</td></tr>\n",
       "<tr><td>No       </td><td style=\"text-align: right;\">   0</td><td style=\"text-align: right;\">    0</td></tr>\n",
       "<tr><td>No       </td><td style=\"text-align: right;\">   0</td><td style=\"text-align: right;\">    0</td></tr>\n",
       "<tr><td>No       </td><td style=\"text-align: right;\">   0</td><td style=\"text-align: right;\">    0</td></tr>\n",
       "<tr><td>No       </td><td style=\"text-align: right;\">   0</td><td style=\"text-align: right;\">    0</td></tr>\n",
       "<tr><td>No       </td><td style=\"text-align: right;\">   0</td><td style=\"text-align: right;\">    0</td></tr>\n",
       "</tbody>\n",
       "</table>"
      ]
     },
     "metadata": {},
     "output_type": "display_data"
    },
    {
     "data": {
      "text/plain": [
       "[, , ]"
      ]
     },
     "execution_count": 19,
     "metadata": {},
     "output_type": "execute_result"
    }
   ],
   "source": [
    "cv_preds = dl_model.cross_validation_predictions()\n",
    "cv_preds"
   ]
  },
  {
   "cell_type": "code",
   "execution_count": 20,
   "metadata": {},
   "outputs": [
    {
     "data": {
      "text/html": [
       "<table>\n",
       "<thead>\n",
       "<tr><th>predict  </th><th style=\"text-align: right;\">      No</th><th style=\"text-align: right;\">      Yes</th></tr>\n",
       "</thead>\n",
       "<tbody>\n",
       "<tr><td>Yes      </td><td style=\"text-align: right;\">0.432905</td><td style=\"text-align: right;\">0.567095 </td></tr>\n",
       "<tr><td>No       </td><td style=\"text-align: right;\">0.913982</td><td style=\"text-align: right;\">0.0860181</td></tr>\n",
       "<tr><td>Yes      </td><td style=\"text-align: right;\">0.662877</td><td style=\"text-align: right;\">0.337123 </td></tr>\n",
       "<tr><td>No       </td><td style=\"text-align: right;\">0.931805</td><td style=\"text-align: right;\">0.0681954</td></tr>\n",
       "<tr><td>Yes      </td><td style=\"text-align: right;\">0.228222</td><td style=\"text-align: right;\">0.771778 </td></tr>\n",
       "<tr><td>Yes      </td><td style=\"text-align: right;\">0.224294</td><td style=\"text-align: right;\">0.775706 </td></tr>\n",
       "<tr><td>Yes      </td><td style=\"text-align: right;\">0.492414</td><td style=\"text-align: right;\">0.507586 </td></tr>\n",
       "<tr><td>No       </td><td style=\"text-align: right;\">0.674481</td><td style=\"text-align: right;\">0.325519 </td></tr>\n",
       "<tr><td>Yes      </td><td style=\"text-align: right;\">0.574148</td><td style=\"text-align: right;\">0.425852 </td></tr>\n",
       "<tr><td>No       </td><td style=\"text-align: right;\">0.947142</td><td style=\"text-align: right;\">0.0528578</td></tr>\n",
       "</tbody>\n",
       "</table>"
      ]
     },
     "metadata": {},
     "output_type": "display_data"
    },
    {
     "data": {
      "text/plain": []
     },
     "execution_count": 20,
     "metadata": {},
     "output_type": "execute_result"
    }
   ],
   "source": [
    "cv_preds_comb = dl_model.cross_validation_holdout_predictions()\n",
    "cv_preds_comb.head()"
   ]
  },
  {
   "cell_type": "code",
   "execution_count": 21,
   "metadata": {},
   "outputs": [
    {
     "name": "stdout",
     "output_type": "stream",
     "text": [
      "[WARNING] in <ipython-input-21-02ff3806b010> line 1:\n",
      "    >>> h2o.shutdown(prompt=False)\n",
      "        ^^^^ Deprecated, use ``h2o.cluster().shutdown()``.\n",
      "H2O session _sid_8587 closed.\n"
     ]
    }
   ],
   "source": [
    "h2o.shutdown(prompt=False)"
   ]
  }
 ],
 "metadata": {
  "kernelspec": {
   "display_name": "Python 3",
   "language": "python",
   "name": "python3"
  },
  "language_info": {
   "codemirror_mode": {
    "name": "ipython",
    "version": 3
   },
   "file_extension": ".py",
   "mimetype": "text/x-python",
   "name": "python",
   "nbconvert_exporter": "python",
   "pygments_lexer": "ipython3",
   "version": "3.6.7"
  }
 },
 "nbformat": 4,
 "nbformat_minor": 2
}
