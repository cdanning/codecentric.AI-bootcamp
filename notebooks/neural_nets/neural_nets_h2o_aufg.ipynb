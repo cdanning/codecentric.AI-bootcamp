{
 "cells": [
  {
   "cell_type": "markdown",
   "metadata": {},
   "source": [
    "# codecentric.AI Bootcamp - Neuronale Netze\n",
    "\n",
    "## Aufgaben\n",
    "\n",
    "Hier findet ihr eine Reihe von Übungsaufgaben zu Neuronalen Netzen.\n",
    "\n",
    "Folge den Aufgaben und ergänze die ___ in den Code-Abschnitten.\n",
    "\n",
    "Die folgenden Pakete werden geladen:"
   ]
  },
  {
   "cell_type": "code",
   "execution_count": null,
   "metadata": {},
   "outputs": [],
   "source": [
    "import numpy as np\n",
    "import pandas as pd\n",
    "import matplotlib.pyplot as plt\n",
    "%matplotlib inline"
   ]
  },
  {
   "cell_type": "markdown",
   "metadata": {},
   "source": [
    "### Aufgabe 1: H2O\n",
    "\n",
    "- Lade die H2O Bibliothek und initialisiere das Cluster.\n",
    "- Importiere den Deep Learning Estimator"
   ]
  },
  {
   "cell_type": "code",
   "execution_count": null,
   "metadata": {},
   "outputs": [],
   "source": [
    "import h2o\n",
    "___(nthreads = -1)\n",
    "\n",
    "from h2o.estimators.deeplearning import ___"
   ]
  },
  {
   "cell_type": "markdown",
   "metadata": {},
   "source": [
    "### Aufgabe 2: Daten\n",
    "\n",
    "- Gehe zu [dieser Kaggle Seite](https://www.kaggle.com/nisargpatel/automobiles) und lade die .csv Datei herunter.\n",
    "- Lese die .csv Datei mit pandas ein."
   ]
  },
  {
   "cell_type": "code",
   "execution_count": null,
   "metadata": {},
   "outputs": [],
   "source": [
    "auto_data = ___(\"Automobile.csv\")\n",
    "auto_data.head()"
   ]
  },
  {
   "cell_type": "markdown",
   "metadata": {},
   "source": [
    "Um hier ein Klassifikationsbeispiel zu zeigen, wandeln wir die Variable `price` in 3 Kategorien um:"
   ]
  },
  {
   "cell_type": "code",
   "execution_count": null,
   "metadata": {},
   "outputs": [],
   "source": [
    "auto_data.price.plot()"
   ]
  },
  {
   "cell_type": "code",
   "execution_count": null,
   "metadata": {},
   "outputs": [],
   "source": [
    "auto_data.price = pd.cut(auto_data.price, 3, labels=[\"low\", \"medium\", \"high\"])"
   ]
  },
  {
   "cell_type": "markdown",
   "metadata": {},
   "source": [
    "- Wandle das pandas DataFrame in ein H2O Frame um."
   ]
  },
  {
   "cell_type": "code",
   "execution_count": null,
   "metadata": {},
   "outputs": [],
   "source": [
    "hf = ___(___)"
   ]
  },
  {
   "cell_type": "markdown",
   "metadata": {},
   "source": [
    "### Aufgabe 3: Vorbereitung des Modells\n",
    "\n",
    "- Definiere die Antwortvariable für Regression: `price`."
   ]
  },
  {
   "cell_type": "code",
   "execution_count": null,
   "metadata": {},
   "outputs": [],
   "source": [
    "hf_y = ___\n",
    "hf_y"
   ]
  },
  {
   "cell_type": "markdown",
   "metadata": {},
   "source": [
    "- Definiere die verbleibenden Variablen als Feature."
   ]
  },
  {
   "cell_type": "code",
   "execution_count": null,
   "metadata": {},
   "outputs": [],
   "source": [
    "hf_X = ___\n",
    "hf_X"
   ]
  },
  {
   "cell_type": "markdown",
   "metadata": {},
   "source": [
    "### Aufgabe 4: H2ODeepLearningEstimator\n",
    "\n",
    "Nutze, die [H2O Deep Learning Estimator Dokumentation](http://docs.h2o.ai/h2o/latest-stable/h2o-py/docs/modeling.html#h2odeeplearningestimator), um den H2ODeepLearningEstimator mit folgenden Argumenten und Hyperparametern zu definieren:\n",
    "\n",
    "- Aktivierungsfunktion: Maxout mit Dropout\n",
    "- 2 Versteckte Schichten mit 20 und 10 Knoten\n",
    "- Dropout in versteckten Schichten: 30%\n",
    "- Kreuzentropie Loss\n",
    "- 300 Epochen\n",
    "- Lernrate: 0.01\n",
    "- Adaptive Lernrate\n",
    "- L1- & L2-Regularisierung: 0.001\n",
    "- 5x Kreuzvalidierung"
   ]
  },
  {
   "cell_type": "code",
   "execution_count": null,
   "metadata": {},
   "outputs": [],
   "source": [
    "dl_model = H2ODeepLearningEstimator(\n",
    "    ___ = ___, # Aktivierungsfunktion\n",
    "    ___ = ___, # Versteckte Schichten\n",
    "    ___ = ___, # Dropout in versteckten Schichten\n",
    "    ___ = ___, # Loss\n",
    "    ___ = ___, # Epochen\n",
    "    ___ = ___, # Lernrate\n",
    "    ___ = ___, # Adaptive Lernrate\n",
    "    ___ = ___, # L1\n",
    "    ___ = ___, # L2\n",
    "    ___ = ___, # Kreuzvalidierung\n",
    "    keep_cross_validation_predictions = True,\n",
    "    balance_classes = True,\n",
    "    seed = 42\n",
    ")"
   ]
  },
  {
   "cell_type": "markdown",
   "metadata": {},
   "source": [
    "- Trainiere das Modell."
   ]
  },
  {
   "cell_type": "code",
   "execution_count": null,
   "metadata": {},
   "outputs": [],
   "source": [
    "dl_model.train(x = ___, \n",
    "               y = ___, \n",
    "               ___ = ___)"
   ]
  },
  {
   "cell_type": "code",
   "execution_count": null,
   "metadata": {},
   "outputs": [],
   "source": [
    "dl_model"
   ]
  },
  {
   "cell_type": "code",
   "execution_count": null,
   "metadata": {},
   "outputs": [],
   "source": [
    "dl_model.plot()"
   ]
  },
  {
   "cell_type": "code",
   "execution_count": null,
   "metadata": {},
   "outputs": [],
   "source": [
    "h2o.shutdown(prompt=False)"
   ]
  }
 ],
 "metadata": {
  "kernelspec": {
   "display_name": "Python 3",
   "language": "python",
   "name": "python3"
  },
  "language_info": {
   "codemirror_mode": {
    "name": "ipython",
    "version": 3
   },
   "file_extension": ".py",
   "mimetype": "text/x-python",
   "name": "python",
   "nbconvert_exporter": "python",
   "pygments_lexer": "ipython3",
   "version": "3.6.7"
  }
 },
 "nbformat": 4,
 "nbformat_minor": 2
}
