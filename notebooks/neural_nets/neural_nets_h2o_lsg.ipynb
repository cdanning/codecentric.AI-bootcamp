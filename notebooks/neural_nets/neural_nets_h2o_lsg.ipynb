{
 "cells": [
  {
   "cell_type": "markdown",
   "metadata": {},
   "source": [
    "# codecentric.AI Bootcamp - Neuronale Netze\n",
    "\n",
    "## Aufgaben + Lösungen\n",
    "\n",
    "Hier findet ihr die Lösungen zu den Neuronale Netze Aufgaben.\n",
    "\n",
    "Die folgenden Pakete werden geladen:"
   ]
  },
  {
   "cell_type": "code",
   "execution_count": 21,
   "metadata": {},
   "outputs": [],
   "source": [
    "import numpy as np\n",
    "import pandas as pd\n",
    "import matplotlib.pyplot as plt\n",
    "%matplotlib inline"
   ]
  },
  {
   "cell_type": "markdown",
   "metadata": {},
   "source": [
    "### Aufgabe 1: H2O\n",
    "\n",
    "- Lade die H2O Bibliothek und initialisiere das Cluster."
   ]
  },
  {
   "cell_type": "code",
   "execution_count": 22,
   "metadata": {},
   "outputs": [
    {
     "name": "stdout",
     "output_type": "stream",
     "text": [
      "Checking whether there is an H2O instance running at http://localhost:54321. connected.\n"
     ]
    },
    {
     "data": {
      "text/html": [
       "<div style=\"overflow:auto\"><table style=\"width:50%\"><tr><td>H2O cluster uptime:</td>\n",
       "<td>1 min 10 secs</td></tr>\n",
       "<tr><td>H2O cluster timezone:</td>\n",
       "<td>Etc/UTC</td></tr>\n",
       "<tr><td>H2O data parsing timezone:</td>\n",
       "<td>UTC</td></tr>\n",
       "<tr><td>H2O cluster version:</td>\n",
       "<td>3.20.0.8</td></tr>\n",
       "<tr><td>H2O cluster version age:</td>\n",
       "<td>1 month and 21 days </td></tr>\n",
       "<tr><td>H2O cluster name:</td>\n",
       "<td>H2O_from_python_unknownUser_b85pxn</td></tr>\n",
       "<tr><td>H2O cluster total nodes:</td>\n",
       "<td>1</td></tr>\n",
       "<tr><td>H2O cluster free memory:</td>\n",
       "<td>430.8 Mb</td></tr>\n",
       "<tr><td>H2O cluster total cores:</td>\n",
       "<td>4</td></tr>\n",
       "<tr><td>H2O cluster allowed cores:</td>\n",
       "<td>4</td></tr>\n",
       "<tr><td>H2O cluster status:</td>\n",
       "<td>locked, healthy</td></tr>\n",
       "<tr><td>H2O connection url:</td>\n",
       "<td>http://localhost:54321</td></tr>\n",
       "<tr><td>H2O connection proxy:</td>\n",
       "<td>None</td></tr>\n",
       "<tr><td>H2O internal security:</td>\n",
       "<td>False</td></tr>\n",
       "<tr><td>H2O API Extensions:</td>\n",
       "<td>XGBoost, Algos, AutoML, Core V3, Core V4</td></tr>\n",
       "<tr><td>Python version:</td>\n",
       "<td>3.6.6 final</td></tr></table></div>"
      ],
      "text/plain": [
       "--------------------------  ----------------------------------------\n",
       "H2O cluster uptime:         1 min 10 secs\n",
       "H2O cluster timezone:       Etc/UTC\n",
       "H2O data parsing timezone:  UTC\n",
       "H2O cluster version:        3.20.0.8\n",
       "H2O cluster version age:    1 month and 21 days\n",
       "H2O cluster name:           H2O_from_python_unknownUser_b85pxn\n",
       "H2O cluster total nodes:    1\n",
       "H2O cluster free memory:    430.8 Mb\n",
       "H2O cluster total cores:    4\n",
       "H2O cluster allowed cores:  4\n",
       "H2O cluster status:         locked, healthy\n",
       "H2O connection url:         http://localhost:54321\n",
       "H2O connection proxy:\n",
       "H2O internal security:      False\n",
       "H2O API Extensions:         XGBoost, Algos, AutoML, Core V3, Core V4\n",
       "Python version:             3.6.6 final\n",
       "--------------------------  ----------------------------------------"
      ]
     },
     "metadata": {},
     "output_type": "display_data"
    }
   ],
   "source": [
    "import h2o\n",
    "h2o.init(nthreads = -1)\n",
    "\n",
    "from h2o.estimators.deeplearning import H2ODeepLearningEstimator"
   ]
  },
  {
   "cell_type": "markdown",
   "metadata": {},
   "source": [
    "### Aufgabe 2: Daten\n",
    "\n",
    "- Gehe zu [dieser Kaggle Seite](https://www.kaggle.com/nisargpatel/automobiles) und lade die .csv Datei herunter.\n",
    "- Lese die .csv Datei mit pandas ein."
   ]
  },
  {
   "cell_type": "code",
   "execution_count": 23,
   "metadata": {},
   "outputs": [
    {
     "data": {
      "text/html": [
       "<div>\n",
       "<style scoped>\n",
       "    .dataframe tbody tr th:only-of-type {\n",
       "        vertical-align: middle;\n",
       "    }\n",
       "\n",
       "    .dataframe tbody tr th {\n",
       "        vertical-align: top;\n",
       "    }\n",
       "\n",
       "    .dataframe thead th {\n",
       "        text-align: right;\n",
       "    }\n",
       "</style>\n",
       "<table border=\"1\" class=\"dataframe\">\n",
       "  <thead>\n",
       "    <tr style=\"text-align: right;\">\n",
       "      <th></th>\n",
       "      <th>symboling</th>\n",
       "      <th>normalized_losses</th>\n",
       "      <th>make</th>\n",
       "      <th>fuel_type</th>\n",
       "      <th>aspiration</th>\n",
       "      <th>number_of_doors</th>\n",
       "      <th>body_style</th>\n",
       "      <th>drive_wheels</th>\n",
       "      <th>engine_location</th>\n",
       "      <th>wheel_base</th>\n",
       "      <th>...</th>\n",
       "      <th>engine_size</th>\n",
       "      <th>fuel_system</th>\n",
       "      <th>bore</th>\n",
       "      <th>stroke</th>\n",
       "      <th>compression_ratio</th>\n",
       "      <th>horsepower</th>\n",
       "      <th>peak_rpm</th>\n",
       "      <th>city_mpg</th>\n",
       "      <th>highway_mpg</th>\n",
       "      <th>price</th>\n",
       "    </tr>\n",
       "  </thead>\n",
       "  <tbody>\n",
       "    <tr>\n",
       "      <th>0</th>\n",
       "      <td>3</td>\n",
       "      <td>168</td>\n",
       "      <td>alfa-romero</td>\n",
       "      <td>gas</td>\n",
       "      <td>std</td>\n",
       "      <td>two</td>\n",
       "      <td>convertible</td>\n",
       "      <td>rwd</td>\n",
       "      <td>front</td>\n",
       "      <td>88.6</td>\n",
       "      <td>...</td>\n",
       "      <td>130</td>\n",
       "      <td>mpfi</td>\n",
       "      <td>3.47</td>\n",
       "      <td>2.68</td>\n",
       "      <td>9.0</td>\n",
       "      <td>111</td>\n",
       "      <td>5000</td>\n",
       "      <td>21</td>\n",
       "      <td>27</td>\n",
       "      <td>13495</td>\n",
       "    </tr>\n",
       "    <tr>\n",
       "      <th>1</th>\n",
       "      <td>3</td>\n",
       "      <td>168</td>\n",
       "      <td>alfa-romero</td>\n",
       "      <td>gas</td>\n",
       "      <td>std</td>\n",
       "      <td>two</td>\n",
       "      <td>convertible</td>\n",
       "      <td>rwd</td>\n",
       "      <td>front</td>\n",
       "      <td>88.6</td>\n",
       "      <td>...</td>\n",
       "      <td>130</td>\n",
       "      <td>mpfi</td>\n",
       "      <td>3.47</td>\n",
       "      <td>2.68</td>\n",
       "      <td>9.0</td>\n",
       "      <td>111</td>\n",
       "      <td>5000</td>\n",
       "      <td>21</td>\n",
       "      <td>27</td>\n",
       "      <td>16500</td>\n",
       "    </tr>\n",
       "    <tr>\n",
       "      <th>2</th>\n",
       "      <td>1</td>\n",
       "      <td>168</td>\n",
       "      <td>alfa-romero</td>\n",
       "      <td>gas</td>\n",
       "      <td>std</td>\n",
       "      <td>two</td>\n",
       "      <td>hatchback</td>\n",
       "      <td>rwd</td>\n",
       "      <td>front</td>\n",
       "      <td>94.5</td>\n",
       "      <td>...</td>\n",
       "      <td>152</td>\n",
       "      <td>mpfi</td>\n",
       "      <td>2.68</td>\n",
       "      <td>3.47</td>\n",
       "      <td>9.0</td>\n",
       "      <td>154</td>\n",
       "      <td>5000</td>\n",
       "      <td>19</td>\n",
       "      <td>26</td>\n",
       "      <td>16500</td>\n",
       "    </tr>\n",
       "    <tr>\n",
       "      <th>3</th>\n",
       "      <td>2</td>\n",
       "      <td>164</td>\n",
       "      <td>audi</td>\n",
       "      <td>gas</td>\n",
       "      <td>std</td>\n",
       "      <td>four</td>\n",
       "      <td>sedan</td>\n",
       "      <td>fwd</td>\n",
       "      <td>front</td>\n",
       "      <td>99.8</td>\n",
       "      <td>...</td>\n",
       "      <td>109</td>\n",
       "      <td>mpfi</td>\n",
       "      <td>3.19</td>\n",
       "      <td>3.40</td>\n",
       "      <td>10.0</td>\n",
       "      <td>102</td>\n",
       "      <td>5500</td>\n",
       "      <td>24</td>\n",
       "      <td>30</td>\n",
       "      <td>13950</td>\n",
       "    </tr>\n",
       "    <tr>\n",
       "      <th>4</th>\n",
       "      <td>2</td>\n",
       "      <td>164</td>\n",
       "      <td>audi</td>\n",
       "      <td>gas</td>\n",
       "      <td>std</td>\n",
       "      <td>four</td>\n",
       "      <td>sedan</td>\n",
       "      <td>4wd</td>\n",
       "      <td>front</td>\n",
       "      <td>99.4</td>\n",
       "      <td>...</td>\n",
       "      <td>136</td>\n",
       "      <td>mpfi</td>\n",
       "      <td>3.19</td>\n",
       "      <td>3.40</td>\n",
       "      <td>8.0</td>\n",
       "      <td>115</td>\n",
       "      <td>5500</td>\n",
       "      <td>18</td>\n",
       "      <td>22</td>\n",
       "      <td>17450</td>\n",
       "    </tr>\n",
       "  </tbody>\n",
       "</table>\n",
       "<p>5 rows × 26 columns</p>\n",
       "</div>"
      ],
      "text/plain": [
       "   symboling  normalized_losses         make fuel_type aspiration  \\\n",
       "0          3                168  alfa-romero       gas        std   \n",
       "1          3                168  alfa-romero       gas        std   \n",
       "2          1                168  alfa-romero       gas        std   \n",
       "3          2                164         audi       gas        std   \n",
       "4          2                164         audi       gas        std   \n",
       "\n",
       "  number_of_doors   body_style drive_wheels engine_location  wheel_base  \\\n",
       "0             two  convertible          rwd           front        88.6   \n",
       "1             two  convertible          rwd           front        88.6   \n",
       "2             two    hatchback          rwd           front        94.5   \n",
       "3            four        sedan          fwd           front        99.8   \n",
       "4            four        sedan          4wd           front        99.4   \n",
       "\n",
       "   ...    engine_size  fuel_system  bore  stroke compression_ratio horsepower  \\\n",
       "0  ...            130         mpfi  3.47    2.68               9.0        111   \n",
       "1  ...            130         mpfi  3.47    2.68               9.0        111   \n",
       "2  ...            152         mpfi  2.68    3.47               9.0        154   \n",
       "3  ...            109         mpfi  3.19    3.40              10.0        102   \n",
       "4  ...            136         mpfi  3.19    3.40               8.0        115   \n",
       "\n",
       "   peak_rpm city_mpg  highway_mpg  price  \n",
       "0      5000       21           27  13495  \n",
       "1      5000       21           27  16500  \n",
       "2      5000       19           26  16500  \n",
       "3      5500       24           30  13950  \n",
       "4      5500       18           22  17450  \n",
       "\n",
       "[5 rows x 26 columns]"
      ]
     },
     "execution_count": 23,
     "metadata": {},
     "output_type": "execute_result"
    }
   ],
   "source": [
    "auto_data = pd.read_csv(\"/data/Automobile.csv\")\n",
    "auto_data.head()"
   ]
  },
  {
   "cell_type": "markdown",
   "metadata": {},
   "source": [
    "Um hier ein Klassifikationsbeispiel zu zeigen, wandeln wir die Variable `price` in 3 Kategorien um:"
   ]
  },
  {
   "cell_type": "code",
   "execution_count": 24,
   "metadata": {},
   "outputs": [
    {
     "data": {
      "text/plain": [
       "<matplotlib.axes._subplots.AxesSubplot at 0x7f585e6afef0>"
      ]
     },
     "execution_count": 24,
     "metadata": {},
     "output_type": "execute_result"
    },
    {
     "data": {
      "image/png": "[encoded data removed]",
      "text/plain": [
       "<Figure size 432x288 with 1 Axes>"
      ]
     },
     "metadata": {
      "needs_background": "light"
     },
     "output_type": "display_data"
    }
   ],
   "source": [
    "auto_data.price.plot()"
   ]
  },
  {
   "cell_type": "code",
   "execution_count": 25,
   "metadata": {},
   "outputs": [],
   "source": [
    "auto_data.price = pd.cut(auto_data.price, 3, labels=[\"low\", \"medium\", \"high\"])"
   ]
  },
  {
   "cell_type": "markdown",
   "metadata": {},
   "source": [
    "- Wandle das pandas DataFrame in ein H2O Frame um."
   ]
  },
  {
   "cell_type": "code",
   "execution_count": 26,
   "metadata": {},
   "outputs": [
    {
     "name": "stdout",
     "output_type": "stream",
     "text": [
      "Parse progress: |█████████████████████████████████████████████████████████| 100%\n"
     ]
    }
   ],
   "source": [
    "hf = h2o.H2OFrame(auto_data)"
   ]
  },
  {
   "cell_type": "markdown",
   "metadata": {},
   "source": [
    "### Aufgabe 3: Vorbereitung des Modells\n",
    "\n",
    "- Definiere die Antwortvariable für Regression: `price`."
   ]
  },
  {
   "cell_type": "code",
   "execution_count": 27,
   "metadata": {},
   "outputs": [
    {
     "data": {
      "text/plain": [
       "'price'"
      ]
     },
     "execution_count": 27,
     "metadata": {},
     "output_type": "execute_result"
    }
   ],
   "source": [
    "hf_y = hf.col_names[25]\n",
    "hf_y"
   ]
  },
  {
   "cell_type": "markdown",
   "metadata": {},
   "source": [
    "- Definiere die verbleibenden Variablen als Feature."
   ]
  },
  {
   "cell_type": "code",
   "execution_count": 28,
   "metadata": {},
   "outputs": [
    {
     "data": {
      "text/plain": [
       "['normalized_losses',\n",
       " 'make',\n",
       " 'fuel_type',\n",
       " 'aspiration',\n",
       " 'number_of_doors',\n",
       " 'body_style',\n",
       " 'drive_wheels',\n",
       " 'engine_location',\n",
       " 'wheel_base',\n",
       " 'length',\n",
       " 'width',\n",
       " 'height',\n",
       " 'curb_weight',\n",
       " 'engine_type',\n",
       " 'number_of_cylinders',\n",
       " 'engine_size',\n",
       " 'fuel_system',\n",
       " 'bore',\n",
       " 'stroke',\n",
       " 'compression_ratio',\n",
       " 'horsepower',\n",
       " 'peak_rpm',\n",
       " 'city_mpg',\n",
       " 'highway_mpg']"
      ]
     },
     "execution_count": 28,
     "metadata": {},
     "output_type": "execute_result"
    }
   ],
   "source": [
    "hf_X = hf.col_names[1:len(hf.col_names)-1]\n",
    "hf_X"
   ]
  },
  {
   "cell_type": "markdown",
   "metadata": {},
   "source": [
    "### Aufgabe 4: H2ODeepLearningEstimator\n",
    "\n",
    "Nutze, die [H2O Deep Learning Estimator Dokumentation](http://docs.h2o.ai/h2o/latest-stable/h2o-py/docs/modeling.html#h2odeeplearningestimator), um den H2ODeepLearningEstimator mit folgenden Argumenten und Hyperparametern zu definieren:\n",
    "\n",
    "- Aktivierungsfunktion: Maxout mit Dropout\n",
    "- 2 Versteckte Schichten mit 20 und 10 Knoten\n",
    "- Dropout in versteckten Schichten: 30%\n",
    "- Kreuzentropie Loss\n",
    "- 300 Epochen\n",
    "- Lernrate: 0.01\n",
    "- Adaptive Lernrate\n",
    "- L1- & L2-Regularisierung: 0.001\n",
    "- 5x Kreuzvalidierung"
   ]
  },
  {
   "cell_type": "code",
   "execution_count": 29,
   "metadata": {},
   "outputs": [],
   "source": [
    "dl_model = H2ODeepLearningEstimator(\n",
    "    activation = \"MaxoutWithDropout\",\n",
    "    hidden = [20, 10, 5],\n",
    "    hidden_dropout_ratios = [0.3, 0.3, 0.3],\n",
    "    loss = \"CrossEntropy\",\n",
    "    epochs = 300,\n",
    "    rate = 0.01,\n",
    "    adaptive_rate = True,\n",
    "    l1 = 0.001,\n",
    "    l2 = 0.001,\n",
    "    nfolds = 5,\n",
    "    keep_cross_validation_predictions = True,\n",
    "    balance_classes = True,\n",
    "    seed = 42\n",
    ")"
   ]
  },
  {
   "cell_type": "markdown",
   "metadata": {},
   "source": [
    "- Trainiere das Modell."
   ]
  },
  {
   "cell_type": "code",
   "execution_count": 30,
   "metadata": {},
   "outputs": [
    {
     "name": "stdout",
     "output_type": "stream",
     "text": [
      "deeplearning Model Build progress: |██████████████████████████████████████| 100%\n"
     ]
    }
   ],
   "source": [
    "dl_model.train(x = hf_X, \n",
    "               y = hf_y, \n",
    "               training_frame = hf)"
   ]
  },
  {
   "cell_type": "code",
   "execution_count": 31,
   "metadata": {},
   "outputs": [
    {
     "name": "stdout",
     "output_type": "stream",
     "text": [
      "Model Details\n",
      "=============\n",
      "H2ODeepLearningEstimator :  Deep Learning\n",
      "Model Key:  DeepLearning_model_python_1542018376338_3\n",
      "\n",
      "\n",
      "ModelMetricsMultinomial: deeplearning\n",
      "** Reported on train data. **\n",
      "\n",
      "MSE: 0.04493859891795724\n",
      "RMSE: 0.2119872612162279\n",
      "LogLoss: 0.14927203831157743\n",
      "Mean Per-Class Error: 0.0745123822046899\n",
      "Confusion Matrix: Row labels: Actual class; Column labels: Predicted class\n",
      "\n"
     ]
    },
    {
     "data": {
      "text/html": [
       "<div style=\"overflow:auto\"><table style=\"width:50%\"><tr><td><b>high</b></td>\n",
       "<td><b>low</b></td>\n",
       "<td><b>medium</b></td>\n",
       "<td><b>Error</b></td>\n",
       "<td><b>Rate</b></td></tr>\n",
       "<tr><td>169.0</td>\n",
       "<td>0.0</td>\n",
       "<td>0.0</td>\n",
       "<td>0.0</td>\n",
       "<td>0 / 169</td></tr>\n",
       "<tr><td>0.0</td>\n",
       "<td>152.0</td>\n",
       "<td>19.0</td>\n",
       "<td>0.1111111</td>\n",
       "<td>19 / 171</td></tr>\n",
       "<tr><td>0.0</td>\n",
       "<td>19.0</td>\n",
       "<td>150.0</td>\n",
       "<td>0.1124260</td>\n",
       "<td>19 / 169</td></tr>\n",
       "<tr><td>169.0</td>\n",
       "<td>171.0</td>\n",
       "<td>169.0</td>\n",
       "<td>0.0746562</td>\n",
       "<td>38 / 509</td></tr></table></div>"
      ],
      "text/plain": [
       "high    low    medium    Error      Rate\n",
       "------  -----  --------  ---------  --------\n",
       "169     0      0         0          0 / 169\n",
       "0       152    19        0.111111   19 / 171\n",
       "0       19     150       0.112426   19 / 169\n",
       "169     171    169       0.0746562  38 / 509"
      ]
     },
     "metadata": {},
     "output_type": "display_data"
    },
    {
     "name": "stdout",
     "output_type": "stream",
     "text": [
      "Top-3 Hit Ratios: \n"
     ]
    },
    {
     "data": {
      "text/html": [
       "<div style=\"overflow:auto\"><table style=\"width:50%\"><tr><td><b>k</b></td>\n",
       "<td><b>hit_ratio</b></td></tr>\n",
       "<tr><td>1</td>\n",
       "<td>0.9253438</td></tr>\n",
       "<tr><td>2</td>\n",
       "<td>1.0</td></tr>\n",
       "<tr><td>3</td>\n",
       "<td>1.0</td></tr></table></div>"
      ],
      "text/plain": [
       "k    hit_ratio\n",
       "---  -----------\n",
       "1    0.925344\n",
       "2    1\n",
       "3    1"
      ]
     },
     "metadata": {},
     "output_type": "display_data"
    },
    {
     "name": "stdout",
     "output_type": "stream",
     "text": [
      "\n",
      "ModelMetricsMultinomial: deeplearning\n",
      "** Reported on cross-validation data. **\n",
      "\n",
      "MSE: 0.10781335117415376\n",
      "RMSE: 0.32834943455738397\n",
      "LogLoss: 0.4538477479504027\n",
      "Mean Per-Class Error: 0.1871345029239766\n",
      "Confusion Matrix: Row labels: Actual class; Column labels: Predicted class\n",
      "\n"
     ]
    },
    {
     "data": {
      "text/html": [
       "<div style=\"overflow:auto\"><table style=\"width:50%\"><tr><td><b>high</b></td>\n",
       "<td><b>low</b></td>\n",
       "<td><b>medium</b></td>\n",
       "<td><b>Error</b></td>\n",
       "<td><b>Rate</b></td></tr>\n",
       "<tr><td>10.0</td>\n",
       "<td>0.0</td>\n",
       "<td>2.0</td>\n",
       "<td>0.1666667</td>\n",
       "<td>2 / 12</td></tr>\n",
       "<tr><td>1.0</td>\n",
       "<td>151.0</td>\n",
       "<td>19.0</td>\n",
       "<td>0.1169591</td>\n",
       "<td>20 / 171</td></tr>\n",
       "<tr><td>1.0</td>\n",
       "<td>4.0</td>\n",
       "<td>13.0</td>\n",
       "<td>0.2777778</td>\n",
       "<td>5 / 18</td></tr>\n",
       "<tr><td>12.0</td>\n",
       "<td>155.0</td>\n",
       "<td>34.0</td>\n",
       "<td>0.1343284</td>\n",
       "<td>27 / 201</td></tr></table></div>"
      ],
      "text/plain": [
       "high    low    medium    Error     Rate\n",
       "------  -----  --------  --------  --------\n",
       "10      0      2         0.166667  2 / 12\n",
       "1       151    19        0.116959  20 / 171\n",
       "1       4      13        0.277778  5 / 18\n",
       "12      155    34        0.134328  27 / 201"
      ]
     },
     "metadata": {},
     "output_type": "display_data"
    },
    {
     "name": "stdout",
     "output_type": "stream",
     "text": [
      "Top-3 Hit Ratios: \n"
     ]
    },
    {
     "data": {
      "text/html": [
       "<div style=\"overflow:auto\"><table style=\"width:50%\"><tr><td><b>k</b></td>\n",
       "<td><b>hit_ratio</b></td></tr>\n",
       "<tr><td>1</td>\n",
       "<td>0.8656716</td></tr>\n",
       "<tr><td>2</td>\n",
       "<td>0.9950249</td></tr>\n",
       "<tr><td>3</td>\n",
       "<td>1.0</td></tr></table></div>"
      ],
      "text/plain": [
       "k    hit_ratio\n",
       "---  -----------\n",
       "1    0.865672\n",
       "2    0.995025\n",
       "3    1"
      ]
     },
     "metadata": {},
     "output_type": "display_data"
    },
    {
     "name": "stdout",
     "output_type": "stream",
     "text": [
      "Cross-Validation Metrics Summary: \n"
     ]
    },
    {
     "data": {
      "text/html": [
       "<div style=\"overflow:auto\"><table style=\"width:50%\"><tr><td><b></b></td>\n",
       "<td><b>mean</b></td>\n",
       "<td><b>sd</b></td>\n",
       "<td><b>cv_1_valid</b></td>\n",
       "<td><b>cv_2_valid</b></td>\n",
       "<td><b>cv_3_valid</b></td>\n",
       "<td><b>cv_4_valid</b></td>\n",
       "<td><b>cv_5_valid</b></td></tr>\n",
       "<tr><td>accuracy</td>\n",
       "<td>0.8619087</td>\n",
       "<td>0.0510619</td>\n",
       "<td>0.8055556</td>\n",
       "<td>0.8363636</td>\n",
       "<td>0.8055556</td>\n",
       "<td>1.0</td>\n",
       "<td>0.8620689</td></tr>\n",
       "<tr><td>err</td>\n",
       "<td>0.1380912</td>\n",
       "<td>0.0510619</td>\n",
       "<td>0.1944444</td>\n",
       "<td>0.1636364</td>\n",
       "<td>0.1944444</td>\n",
       "<td>0.0</td>\n",
       "<td>0.1379310</td></tr>\n",
       "<tr><td>err_count</td>\n",
       "<td>5.4</td>\n",
       "<td>2.2181072</td>\n",
       "<td>7.0</td>\n",
       "<td>9.0</td>\n",
       "<td>7.0</td>\n",
       "<td>0.0</td>\n",
       "<td>4.0</td></tr>\n",
       "<tr><td>logloss</td>\n",
       "<td>0.5050508</td>\n",
       "<td>0.2283552</td>\n",
       "<td>0.4577030</td>\n",
       "<td>0.3438173</td>\n",
       "<td>0.8069472</td>\n",
       "<td>0.0124518</td>\n",
       "<td>0.9043348</td></tr>\n",
       "<tr><td>max_per_class_error</td>\n",
       "<td>0.4</td>\n",
       "<td>0.1598611</td>\n",
       "<td>0.6666667</td>\n",
       "<td>0.3333333</td>\n",
       "<td>0.5</td>\n",
       "<td>0.0</td>\n",
       "<td>0.5</td></tr>\n",
       "<tr><td>mean_per_class_accuracy</td>\n",
       "<td>0.8030681</td>\n",
       "<td>0.0709342</td>\n",
       "<td>0.7222222</td>\n",
       "<td>0.7725768</td>\n",
       "<td>0.7745098</td>\n",
       "<td>1.0</td>\n",
       "<td>0.7460318</td></tr>\n",
       "<tr><td>mean_per_class_error</td>\n",
       "<td>0.1969319</td>\n",
       "<td>0.0709342</td>\n",
       "<td>0.2777778</td>\n",
       "<td>0.2274232</td>\n",
       "<td>0.2254902</td>\n",
       "<td>0.0</td>\n",
       "<td>0.2539683</td></tr>\n",
       "<tr><td>mse</td>\n",
       "<td>0.1143399</td>\n",
       "<td>0.0424513</td>\n",
       "<td>0.1442499</td>\n",
       "<td>0.1089821</td>\n",
       "<td>0.1744841</td>\n",
       "<td>0.0016578</td>\n",
       "<td>0.1423257</td></tr>\n",
       "<tr><td>r2</td>\n",
       "<td>-0.1027710</td>\n",
       "<td>0.8127872</td>\n",
       "<td>0.1345009</td>\n",
       "<td>0.2438741</td>\n",
       "<td>-2.3254616</td>\n",
       "<td>0.9873795</td>\n",
       "<td>0.4458524</td></tr>\n",
       "<tr><td>rmse</td>\n",
       "<td>0.3091233</td>\n",
       "<td>0.0969090</td>\n",
       "<td>0.3798024</td>\n",
       "<td>0.3301244</td>\n",
       "<td>0.4177130</td>\n",
       "<td>0.0407160</td>\n",
       "<td>0.3772607</td></tr></table></div>"
      ],
      "text/plain": [
       "                         mean       sd         cv_1_valid    cv_2_valid    cv_3_valid    cv_4_valid    cv_5_valid\n",
       "-----------------------  ---------  ---------  ------------  ------------  ------------  ------------  ------------\n",
       "accuracy                 0.861909   0.0510619  0.805556      0.836364      0.805556      1             0.862069\n",
       "err                      0.138091   0.0510619  0.194444      0.163636      0.194444      0             0.137931\n",
       "err_count                5.4        2.21811    7             9             7             0             4\n",
       "logloss                  0.505051   0.228355   0.457703      0.343817      0.806947      0.0124518     0.904335\n",
       "max_per_class_error      0.4        0.159861   0.666667      0.333333      0.5           0             0.5\n",
       "mean_per_class_accuracy  0.803068   0.0709342  0.722222      0.772577      0.77451       1             0.746032\n",
       "mean_per_class_error     0.196932   0.0709342  0.277778      0.227423      0.22549       0             0.253968\n",
       "mse                      0.11434    0.0424513  0.14425       0.108982      0.174484      0.0016578     0.142326\n",
       "r2                       -0.102771  0.812787   0.134501      0.243874      -2.32546      0.98738       0.445852\n",
       "rmse                     0.309123   0.096909   0.379802      0.330124      0.417713      0.040716      0.377261"
      ]
     },
     "metadata": {},
     "output_type": "display_data"
    },
    {
     "name": "stdout",
     "output_type": "stream",
     "text": [
      "Scoring History: \n"
     ]
    },
    {
     "data": {
      "text/html": [
       "<div style=\"overflow:auto\"><table style=\"width:50%\"><tr><td><b></b></td>\n",
       "<td><b>timestamp</b></td>\n",
       "<td><b>duration</b></td>\n",
       "<td><b>training_speed</b></td>\n",
       "<td><b>epochs</b></td>\n",
       "<td><b>iterations</b></td>\n",
       "<td><b>samples</b></td>\n",
       "<td><b>training_rmse</b></td>\n",
       "<td><b>training_logloss</b></td>\n",
       "<td><b>training_r2</b></td>\n",
       "<td><b>training_classification_error</b></td></tr>\n",
       "<tr><td></td>\n",
       "<td>2018-11-12 10:27:34</td>\n",
       "<td> 0.000 sec</td>\n",
       "<td>None</td>\n",
       "<td>0.0</td>\n",
       "<td>0</td>\n",
       "<td>0.0</td>\n",
       "<td>nan</td>\n",
       "<td>nan</td>\n",
       "<td>nan</td>\n",
       "<td>nan</td></tr>\n",
       "<tr><td></td>\n",
       "<td>2018-11-12 10:27:34</td>\n",
       "<td> 6.746 sec</td>\n",
       "<td>55934 obs/sec</td>\n",
       "<td>10.0</td>\n",
       "<td>1</td>\n",
       "<td>5090.0</td>\n",
       "<td>0.3529866</td>\n",
       "<td>1.9283549</td>\n",
       "<td>0.8123634</td>\n",
       "<td>0.1277014</td></tr>\n",
       "<tr><td></td>\n",
       "<td>2018-11-12 10:27:35</td>\n",
       "<td> 8.251 sec</td>\n",
       "<td>99993 obs/sec</td>\n",
       "<td>310.0</td>\n",
       "<td>31</td>\n",
       "<td>157790.0</td>\n",
       "<td>0.2119873</td>\n",
       "<td>0.1492720</td>\n",
       "<td>0.9323262</td>\n",
       "<td>0.0746562</td></tr></table></div>"
      ],
      "text/plain": [
       "    timestamp            duration    training_speed    epochs    iterations    samples    training_rmse    training_logloss    training_r2    training_classification_error\n",
       "--  -------------------  ----------  ----------------  --------  ------------  ---------  ---------------  ------------------  -------------  -------------------------------\n",
       "    2018-11-12 10:27:34  0.000 sec                     0         0             0          nan              nan                 nan            nan\n",
       "    2018-11-12 10:27:34  6.746 sec   55934 obs/sec     10        1             5090       0.352987         1.92835             0.812363       0.127701\n",
       "    2018-11-12 10:27:35  8.251 sec   99993 obs/sec     310       31            157790     0.211987         0.149272            0.932326       0.0746562"
      ]
     },
     "metadata": {},
     "output_type": "display_data"
    },
    {
     "name": "stdout",
     "output_type": "stream",
     "text": [
      "Variable Importances: \n"
     ]
    },
    {
     "data": {
      "text/html": [
       "<div style=\"overflow:auto\"><table style=\"width:50%\"><tr><td><b>variable</b></td>\n",
       "<td><b>relative_importance</b></td>\n",
       "<td><b>scaled_importance</b></td>\n",
       "<td><b>percentage</b></td></tr>\n",
       "<tr><td>number_of_cylinders.two</td>\n",
       "<td>0.7232397</td>\n",
       "<td>1.0</td>\n",
       "<td>0.0300086</td></tr>\n",
       "<tr><td>normalized_losses</td>\n",
       "<td>0.7181569</td>\n",
       "<td>0.9929723</td>\n",
       "<td>0.0297977</td></tr>\n",
       "<tr><td>body_style.hatchback</td>\n",
       "<td>0.6653745</td>\n",
       "<td>0.9199917</td>\n",
       "<td>0.0276076</td></tr>\n",
       "<tr><td>fuel_system.4bbl</td>\n",
       "<td>0.6404521</td>\n",
       "<td>0.8855324</td>\n",
       "<td>0.0265735</td></tr>\n",
       "<tr><td>number_of_cylinders.eight</td>\n",
       "<td>0.6251929</td>\n",
       "<td>0.8644339</td>\n",
       "<td>0.0259404</td></tr>\n",
       "<tr><td>---</td>\n",
       "<td>---</td>\n",
       "<td>---</td>\n",
       "<td>---</td></tr>\n",
       "<tr><td>drive_wheels.missing(NA)</td>\n",
       "<td>0.0</td>\n",
       "<td>0.0</td>\n",
       "<td>0.0</td></tr>\n",
       "<tr><td>engine_location.missing(NA)</td>\n",
       "<td>0.0</td>\n",
       "<td>0.0</td>\n",
       "<td>0.0</td></tr>\n",
       "<tr><td>number_of_doors.missing(NA)</td>\n",
       "<td>0.0</td>\n",
       "<td>0.0</td>\n",
       "<td>0.0</td></tr>\n",
       "<tr><td>fuel_type.missing(NA)</td>\n",
       "<td>0.0</td>\n",
       "<td>0.0</td>\n",
       "<td>0.0</td></tr>\n",
       "<tr><td>aspiration.missing(NA)</td>\n",
       "<td>0.0</td>\n",
       "<td>0.0</td>\n",
       "<td>0.0</td></tr></table></div>"
      ],
      "text/plain": [
       "variable                     relative_importance    scaled_importance    percentage\n",
       "---------------------------  ---------------------  -------------------  --------------------\n",
       "number_of_cylinders.two      0.7232396602630615     1.0                  0.030008555254053174\n",
       "normalized_losses            0.7181569337844849     0.9929722790966303   0.02979766350301434\n",
       "body_style.hatchback         0.6653745174407959     0.9199917454731139   0.027607623127302763\n",
       "fuel_system.4bbl             0.6404521465301514     0.8855323922601284   0.02657354772239195\n",
       "number_of_cylinders.eight    0.6251928806304932     0.8644339006562415   0.02594041247131953\n",
       "---                          ---                    ---                  ---\n",
       "drive_wheels.missing(NA)     0.0                    0.0                  0.0\n",
       "engine_location.missing(NA)  0.0                    0.0                  0.0\n",
       "number_of_doors.missing(NA)  0.0                    0.0                  0.0\n",
       "fuel_type.missing(NA)        0.0                    0.0                  0.0\n",
       "aspiration.missing(NA)       0.0                    0.0                  0.0"
      ]
     },
     "metadata": {},
     "output_type": "display_data"
    },
    {
     "name": "stdout",
     "output_type": "stream",
     "text": [
      "\n",
      "See the whole table with table.as_data_frame()\n"
     ]
    },
    {
     "data": {
      "text/plain": []
     },
     "execution_count": 31,
     "metadata": {},
     "output_type": "execute_result"
    }
   ],
   "source": [
    "dl_model"
   ]
  },
  {
   "cell_type": "code",
   "execution_count": 32,
   "metadata": {},
   "outputs": [
    {
     "data": {
      "image/png": "[encoded data removed]",
      "text/plain": [
       "<Figure size 432x288 with 1 Axes>"
      ]
     },
     "metadata": {
      "needs_background": "light"
     },
     "output_type": "display_data"
    }
   ],
   "source": [
    "dl_model.plot()"
   ]
  },
  {
   "cell_type": "code",
   "execution_count": 33,
   "metadata": {},
   "outputs": [
    {
     "name": "stdout",
     "output_type": "stream",
     "text": [
      "[WARNING] in <ipython-input-33-02ff3806b010> line 1:\n",
      "    >>> h2o.shutdown(prompt=False)\n",
      "        ^^^^ Deprecated, use ``h2o.cluster().shutdown()``.\n",
      "H2O session _sid_b218 closed.\n"
     ]
    }
   ],
   "source": [
    "h2o.shutdown(prompt=False)"
   ]
  }
 ],
 "metadata": {
  "kernelspec": {
   "display_name": "Python 3",
   "language": "python",
   "name": "python3"
  },
  "language_info": {
   "codemirror_mode": {
    "name": "ipython",
    "version": 3
   },
   "file_extension": ".py",
   "mimetype": "text/x-python",
   "name": "python",
   "nbconvert_exporter": "python",
   "pygments_lexer": "ipython3",
   "version": "3.6.7"
  }
 },
 "nbformat": 4,
 "nbformat_minor": 2
}
